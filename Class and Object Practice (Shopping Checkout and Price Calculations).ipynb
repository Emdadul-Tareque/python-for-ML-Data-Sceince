{
 "cells": [
  {
   "cell_type": "code",
   "execution_count": 95,
   "metadata": {},
   "outputs": [],
   "source": [
    "class Shopping:\n",
    "    def __init__(self, name):\n",
    "        self.name = name\n",
    "        self.cart = []\n",
    "        self.total_expense = 0\n",
    "        \n",
    "    def add_to_cart(self, item, price, quantity):\n",
    "        product = {\"item\": item, \"price\": price, \"quantity\": quantity}\n",
    "        self.cart.append(product)\n",
    "        \n",
    "    def remove_from_cart(self, item_name):\n",
    "        \n",
    "#         #one way\n",
    "#         counter = -1 #counter using as a flag \n",
    "#         if len(self.cart) > 0:\n",
    "#             for item in self.cart:\n",
    "#                 counter += 1\n",
    "#                 if item[\"item\"] == item_name:\n",
    "#                     del self.cart[counter]\n",
    "#                     print(f\"{item_name} Successfully remove from cart\")\n",
    "#                 else:\n",
    "#                     print(f\"{item_name} not in cart\")\n",
    "#         else:\n",
    "#             print(\"Your cart is empty\")\n",
    "\n",
    "        #another way\n",
    "         if len(self.cart) > 0:\n",
    "                for item in self.cart:\n",
    "                    if item[\"item\"] == item_name:\n",
    "                        self.cart.remove(item)\n",
    "                        print(f\"{item_name} Successfully remove from cart\")\n",
    "                    else:\n",
    "                        print(f\"{item_name} not in cart\")\n",
    "         else:\n",
    "             print(\"Your cart is empty\")\n",
    "            \n",
    "        \n",
    "        \n",
    "    def product_details(self):\n",
    "        return self.cart\n",
    "    \n",
    "    def checkout(self):\n",
    "        \n",
    "        for item in self.cart:\n",
    "            self.total_expense += item[\"price\"] * item[\"quantity\"]\n",
    "        \n",
    "        return f\"Your total bill is: {self.total_expense}\"\n"
   ]
  },
  {
   "cell_type": "code",
   "execution_count": 96,
   "metadata": {},
   "outputs": [],
   "source": [
    "emdadul = Shopping(\"Emdadul Tareque\")\n",
    "emdadul.add_to_cart(\"T-shirt\", 1200, 2)\n",
    "emdadul.add_to_cart(\"shirt\", 2000, 1)\n",
    "emdadul.add_to_cart(\"Pant\", 2500, 2)"
   ]
  },
  {
   "cell_type": "code",
   "execution_count": 97,
   "metadata": {},
   "outputs": [
    {
     "data": {
      "text/plain": [
       "[{'item': 'T-shirt', 'price': 1200, 'quantity': 2},\n",
       " {'item': 'shirt', 'price': 2000, 'quantity': 1},\n",
       " {'item': 'Pant', 'price': 2500, 'quantity': 2}]"
      ]
     },
     "execution_count": 97,
     "metadata": {},
     "output_type": "execute_result"
    }
   ],
   "source": [
    "emdadul.product_details()"
   ]
  },
  {
   "cell_type": "code",
   "execution_count": 98,
   "metadata": {},
   "outputs": [
    {
     "data": {
      "text/plain": [
       "'Your total bill is: 9400'"
      ]
     },
     "execution_count": 98,
     "metadata": {},
     "output_type": "execute_result"
    }
   ],
   "source": [
    "emdadul.checkout()"
   ]
  },
  {
   "cell_type": "code",
   "execution_count": 99,
   "metadata": {},
   "outputs": [
    {
     "name": "stdout",
     "output_type": "stream",
     "text": [
      "shirt not in cart\n",
      "shirt Successfully remove from cart\n"
     ]
    }
   ],
   "source": [
    "emdadul.remove_from_cart(\"shirt\")"
   ]
  },
  {
   "cell_type": "code",
   "execution_count": 100,
   "metadata": {},
   "outputs": [
    {
     "data": {
      "text/plain": [
       "[{'item': 'T-shirt', 'price': 1200, 'quantity': 2},\n",
       " {'item': 'Pant', 'price': 2500, 'quantity': 2}]"
      ]
     },
     "execution_count": 100,
     "metadata": {},
     "output_type": "execute_result"
    }
   ],
   "source": [
    "emdadul.product_details()"
   ]
  },
  {
   "cell_type": "code",
   "execution_count": 101,
   "metadata": {},
   "outputs": [
    {
     "name": "stdout",
     "output_type": "stream",
     "text": [
      "T-shirt Successfully remove from cart\n"
     ]
    }
   ],
   "source": [
    "emdadul.remove_from_cart(\"T-shirt\")"
   ]
  },
  {
   "cell_type": "code",
   "execution_count": 102,
   "metadata": {},
   "outputs": [
    {
     "data": {
      "text/plain": [
       "[{'item': 'Pant', 'price': 2500, 'quantity': 2}]"
      ]
     },
     "execution_count": 102,
     "metadata": {},
     "output_type": "execute_result"
    }
   ],
   "source": [
    "emdadul.product_details()"
   ]
  },
  {
   "cell_type": "code",
   "execution_count": 103,
   "metadata": {},
   "outputs": [
    {
     "name": "stdout",
     "output_type": "stream",
     "text": [
      "shirt not in cart\n"
     ]
    }
   ],
   "source": [
    "emdadul.remove_from_cart(\"shirt\")"
   ]
  },
  {
   "cell_type": "code",
   "execution_count": 104,
   "metadata": {},
   "outputs": [
    {
     "name": "stdout",
     "output_type": "stream",
     "text": [
      "Pant Successfully remove from cart\n"
     ]
    }
   ],
   "source": [
    "emdadul.remove_from_cart(\"Pant\")"
   ]
  },
  {
   "cell_type": "code",
   "execution_count": 105,
   "metadata": {},
   "outputs": [
    {
     "name": "stdout",
     "output_type": "stream",
     "text": [
      "Your cart is empty\n"
     ]
    }
   ],
   "source": [
    "emdadul.remove_from_cart(\"shirt\")"
   ]
  },
  {
   "cell_type": "code",
   "execution_count": 76,
   "metadata": {},
   "outputs": [],
   "source": [
    "lst = [{'item': 'T-shirt', 'price': 1200, 'quantity': 2},\n",
    "       "
   ]
  },
  {
   "cell_type": "code",
   "execution_count": null,
   "metadata": {},
   "outputs": [],
   "source": []
  }
 ],
 "metadata": {
  "kernelspec": {
   "display_name": "Python 3",
   "language": "python",
   "name": "python3"
  },
  "language_info": {
   "codemirror_mode": {
    "name": "ipython",
    "version": 3
   },
   "file_extension": ".py",
   "mimetype": "text/x-python",
   "name": "python",
   "nbconvert_exporter": "python",
   "pygments_lexer": "ipython3",
   "version": "3.7.3"
  }
 },
 "nbformat": 4,
 "nbformat_minor": 2
}
