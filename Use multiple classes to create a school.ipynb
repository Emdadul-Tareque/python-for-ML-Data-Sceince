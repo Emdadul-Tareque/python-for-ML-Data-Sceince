{
 "cells": [
  {
   "cell_type": "code",
   "execution_count": 1,
   "metadata": {},
   "outputs": [],
   "source": [
    "class Student:\n",
    "    \n",
    "    def __init__(self, name, current_class, id):\n",
    "        self.name = name\n",
    "        self.current_class = current_class\n",
    "        self.id = id\n",
    "        "
   ]
  },
  {
   "cell_type": "code",
   "execution_count": 3,
   "metadata": {},
   "outputs": [],
   "source": [
    "student1 = Student(\"Tareque\", 12, \"abc\")"
   ]
  },
  {
   "cell_type": "code",
   "execution_count": 5,
   "metadata": {},
   "outputs": [
    {
     "data": {
      "text/plain": [
       "<__main__.Student at 0x7f6b00f136a0>"
      ]
     },
     "execution_count": 5,
     "metadata": {},
     "output_type": "execute_result"
    }
   ],
   "source": [
    "student1 # এখানে আমরা দেখতে পারছি যদি student1 অবজেক্টে যদি আমরা প্রিন্ট করি তাহলে ঐ অবজেক্টের এট্রিবিউট দেখতে পাই না। "
   ]
  },
  {
   "cell_type": "code",
   "execution_count": 12,
   "metadata": {},
   "outputs": [],
   "source": [
    "class Student:\n",
    "    \n",
    "    def __init__(self, name, current_class, id):\n",
    "        self.name = name\n",
    "        self.current_class = current_class\n",
    "        self.id = id\n",
    "    \n",
    "    def __repr__(self):\n",
    "        return f\"student name: {self.name}, class: {self.current_class}, student_id: {self.id} \""
   ]
  },
  {
   "cell_type": "code",
   "execution_count": 13,
   "metadata": {},
   "outputs": [],
   "source": [
    "student1 = Student(\"Tareque\", 12, \"abc\")"
   ]
  },
  {
   "cell_type": "code",
   "execution_count": 14,
   "metadata": {},
   "outputs": [
    {
     "data": {
      "text/plain": [
       "student name: Tareque, class: 12, student_id: abc "
      ]
     },
     "execution_count": 14,
     "metadata": {},
     "output_type": "execute_result"
    }
   ],
   "source": [
    "student1"
   ]
  },
  {
   "cell_type": "code",
   "execution_count": 16,
   "metadata": {},
   "outputs": [],
   "source": [
    "class Teacher:\n",
    "    def __init__(self, name, subject, id):\n",
    "        self.name = name\n",
    "        self.subject = subject\n",
    "        self.id = id\n",
    "        \n",
    "    def __repr__(self):\n",
    "        return f\"teacher name: {self.name}, subject: {self.subject}, id: {self.id}\"\n",
    "        "
   ]
  },
  {
   "cell_type": "code",
   "execution_count": 17,
   "metadata": {},
   "outputs": [],
   "source": [
    "teacher1 = Teacher(\"emdadul\", \"Python\", 93134)"
   ]
  },
  {
   "cell_type": "code",
   "execution_count": 18,
   "metadata": {},
   "outputs": [
    {
     "data": {
      "text/plain": [
       "teacher name: emdadul, subject: Python, id: 93134"
      ]
     },
     "execution_count": 18,
     "metadata": {},
     "output_type": "execute_result"
    }
   ],
   "source": [
    "teacher1"
   ]
  },
  {
   "cell_type": "code",
   "execution_count": 34,
   "metadata": {},
   "outputs": [],
   "source": [
    "class Student:\n",
    "    \n",
    "    def __init__(self, name, current_class, id):\n",
    "        self.name = name\n",
    "        self.current_class = current_class\n",
    "        self.id = id\n",
    "    \n",
    "    def __repr__(self):\n",
    "        return f\"student name: {self.name}, class: {self.current_class}, student_id: {self.id} \"\n",
    "    \n",
    "class Teacher:\n",
    "    def __init__(self, name, subject, id):\n",
    "        self.name = name\n",
    "        self.subject = subject\n",
    "        self.id = id\n",
    "        \n",
    "    def __repr__(self):\n",
    "        return f\"teacher name: {self.name}, subject: {self.subject}, id: {self.id}\"\n",
    "    \n",
    "class School:\n",
    "    def __init__(self, name):\n",
    "        self.name = name\n",
    "        self.teachers = []\n",
    "        self.students = []\n",
    "\n",
    "    \n",
    "    def add_teacher(self, name, subject):\n",
    "        id = len(self.teachers) + 101\n",
    "        teacher = Teacher(name, subject, id)\n",
    "        self.teachers.append(teacher)\n",
    "        \n",
    "    def enroll(self, name, subject):\n",
    "        id = len(self.students) + 1\n",
    "        student = Student(name, subject, id )\n",
    "        self.students.append(student)\n",
    "        \n",
    "        \n",
    "    def __repr__(self):\n",
    "        print(f\"Welcome to {self.name}\")\n",
    "        print(\"-----Our Teachers-------\")\n",
    "        for teacher in self.teachers:\n",
    "            print(teacher)\n",
    "        print(\"-----Our Students-------\")\n",
    "        for student in self.students:\n",
    "            print(student)\n",
    "            \n",
    "        return \"all done\""
   ]
  },
  {
   "cell_type": "code",
   "execution_count": 35,
   "metadata": {},
   "outputs": [],
   "source": [
    "phitron = School(\"Phitron\")"
   ]
  },
  {
   "cell_type": "code",
   "execution_count": 36,
   "metadata": {},
   "outputs": [],
   "source": [
    "phitron.enroll(\"emdadul\", \"C\")\n",
    "phitron.enroll(\"tareque\", \"C\")\n",
    "phitron.enroll(\"hoque\", \"C\")"
   ]
  },
  {
   "cell_type": "code",
   "execution_count": 37,
   "metadata": {},
   "outputs": [],
   "source": [
    "phitron.add_teacher(\"Taru\", \"C\")\n",
    "phitron.add_teacher(\"XYZ\", \"C\")"
   ]
  },
  {
   "cell_type": "code",
   "execution_count": 38,
   "metadata": {},
   "outputs": [
    {
     "name": "stdout",
     "output_type": "stream",
     "text": [
      "Welcome to Phitron\n",
      "-----Our Teachers-------\n",
      "teacher name: Taru, subject: C, id: 101\n",
      "teacher name: XYZ, subject: C, id: 102\n",
      "-----Our Students-------\n",
      "student name: emdadul, class: C, student_id: 1 \n",
      "student name: tareque, class: C, student_id: 2 \n",
      "student name: hoque, class: C, student_id: 3 \n"
     ]
    },
    {
     "data": {
      "text/plain": [
       "all done"
      ]
     },
     "execution_count": 38,
     "metadata": {},
     "output_type": "execute_result"
    }
   ],
   "source": [
    "phitron"
   ]
  },
  {
   "cell_type": "code",
   "execution_count": null,
   "metadata": {},
   "outputs": [],
   "source": []
  }
 ],
 "metadata": {
  "kernelspec": {
   "display_name": "Python 3",
   "language": "python",
   "name": "python3"
  },
  "language_info": {
   "codemirror_mode": {
    "name": "ipython",
    "version": 3
   },
   "file_extension": ".py",
   "mimetype": "text/x-python",
   "name": "python",
   "nbconvert_exporter": "python",
   "pygments_lexer": "ipython3",
   "version": "3.7.3"
  }
 },
 "nbformat": 4,
 "nbformat_minor": 2
}
