{
 "cells": [
  {
   "cell_type": "markdown",
   "id": "9835686d",
   "metadata": {},
   "source": [
    "## Creating Dictionaries in four different ways"
   ]
  },
  {
   "cell_type": "code",
   "execution_count": 1,
   "id": "feec79da",
   "metadata": {},
   "outputs": [],
   "source": [
    "# Way 01:\n",
    "d1 = {\"name\": \"Emdadul\", \"Age\": 27}"
   ]
  },
  {
   "cell_type": "code",
   "execution_count": 2,
   "id": "4bfa5d38",
   "metadata": {},
   "outputs": [
    {
     "data": {
      "text/plain": [
       "{'name': 'Emdadul', 'Age': 27}"
      ]
     },
     "execution_count": 2,
     "metadata": {},
     "output_type": "execute_result"
    }
   ],
   "source": [
    "d1"
   ]
  },
  {
   "cell_type": "code",
   "execution_count": 3,
   "id": "fac025e2",
   "metadata": {},
   "outputs": [],
   "source": [
    "#way 2:\n",
    "\n",
    "d2 = {}\n",
    "d2[\"name\"] = \"Emdadul\"\n",
    "d2[\"age\"] = 27"
   ]
  },
  {
   "cell_type": "code",
   "execution_count": 4,
   "id": "41b01d32",
   "metadata": {},
   "outputs": [
    {
     "data": {
      "text/plain": [
       "{'name': 'Emdadul', 'age': 27}"
      ]
     },
     "execution_count": 4,
     "metadata": {},
     "output_type": "execute_result"
    }
   ],
   "source": [
    "d2"
   ]
  },
  {
   "cell_type": "code",
   "execution_count": 8,
   "id": "98246ff0",
   "metadata": {},
   "outputs": [],
   "source": [
    "#Way 03:\n",
    "\n",
    "d3 = dict(name= \"Emdadul\", age= 27)"
   ]
  },
  {
   "cell_type": "code",
   "execution_count": 9,
   "id": "d0e51c31",
   "metadata": {},
   "outputs": [
    {
     "data": {
      "text/plain": [
       "{'name': 'Emdadul', 'age': 27}"
      ]
     },
     "execution_count": 9,
     "metadata": {},
     "output_type": "execute_result"
    }
   ],
   "source": [
    "d3"
   ]
  },
  {
   "cell_type": "code",
   "execution_count": 10,
   "id": "f22b0215",
   "metadata": {},
   "outputs": [],
   "source": [
    "#Way 04:\n",
    "d4 = dict([('name', 'Emdadul'), (\"age\", 27)])"
   ]
  },
  {
   "cell_type": "code",
   "execution_count": 63,
   "id": "061ab9c6",
   "metadata": {},
   "outputs": [
    {
     "data": {
      "text/plain": [
       "{'name': 'Emdadul', 'age': 27}"
      ]
     },
     "execution_count": 63,
     "metadata": {},
     "output_type": "execute_result"
    }
   ],
   "source": [
    "d4"
   ]
  },
  {
   "cell_type": "markdown",
   "id": "d87b2e91",
   "metadata": {},
   "source": [
    "## Access value from a dictionary"
   ]
  },
  {
   "cell_type": "code",
   "execution_count": 64,
   "id": "321ab1ae",
   "metadata": {},
   "outputs": [],
   "source": [
    "info = dict(name=\"tareque\", age=27, hobby=\"Cricket\") "
   ]
  },
  {
   "cell_type": "code",
   "execution_count": 65,
   "id": "a220598b",
   "metadata": {},
   "outputs": [
    {
     "data": {
      "text/plain": [
       "{'name': 'tareque', 'age': 27, 'hobby': 'Cricket'}"
      ]
     },
     "execution_count": 65,
     "metadata": {},
     "output_type": "execute_result"
    }
   ],
   "source": [
    "info"
   ]
  },
  {
   "cell_type": "code",
   "execution_count": 67,
   "id": "93491fa2",
   "metadata": {},
   "outputs": [
    {
     "data": {
      "text/plain": [
       "'tareque'"
      ]
     },
     "execution_count": 67,
     "metadata": {},
     "output_type": "execute_result"
    }
   ],
   "source": [
    "#access value using key \n",
    "info[\"name\"]"
   ]
  },
  {
   "cell_type": "code",
   "execution_count": 68,
   "id": "84235a87",
   "metadata": {},
   "outputs": [
    {
     "data": {
      "text/plain": [
       "'tareque'"
      ]
     },
     "execution_count": 68,
     "metadata": {},
     "output_type": "execute_result"
    }
   ],
   "source": [
    "#access value using get() methods\n",
    "info.get(\"name\")"
   ]
  },
  {
   "cell_type": "markdown",
   "id": "7daef900",
   "metadata": {},
   "source": [
    "## Adding, Replacing, delete Values"
   ]
  },
  {
   "cell_type": "code",
   "execution_count": 12,
   "id": "bfa02918",
   "metadata": {},
   "outputs": [],
   "source": [
    "info = {\"name\": \"Tareque\", \"age\": 27}"
   ]
  },
  {
   "cell_type": "code",
   "execution_count": 13,
   "id": "08bc5c35",
   "metadata": {},
   "outputs": [],
   "source": [
    "info[\"Hobby\"] = \"Cricket\""
   ]
  },
  {
   "cell_type": "code",
   "execution_count": 14,
   "id": "41aba0bb",
   "metadata": {},
   "outputs": [
    {
     "data": {
      "text/plain": [
       "{'name': 'Tareque', 'age': 27, 'Hobby': 'Cricket'}"
      ]
     },
     "execution_count": 14,
     "metadata": {},
     "output_type": "execute_result"
    }
   ],
   "source": [
    "info"
   ]
  },
  {
   "cell_type": "code",
   "execution_count": 15,
   "id": "89de3251",
   "metadata": {},
   "outputs": [],
   "source": [
    "#replace old value\n",
    "\n",
    "info[\"name\"] = \"Emdadul\""
   ]
  },
  {
   "cell_type": "code",
   "execution_count": 16,
   "id": "9ea3a480",
   "metadata": {},
   "outputs": [
    {
     "data": {
      "text/plain": [
       "{'name': 'Emdadul', 'age': 27, 'Hobby': 'Cricket'}"
      ]
     },
     "execution_count": 16,
     "metadata": {},
     "output_type": "execute_result"
    }
   ],
   "source": [
    "info"
   ]
  },
  {
   "cell_type": "code",
   "execution_count": 19,
   "id": "09706c9e",
   "metadata": {},
   "outputs": [
    {
     "name": "stdout",
     "output_type": "stream",
     "text": [
      "Cricket\n"
     ]
    }
   ],
   "source": [
    "#Retrieving Values\n",
    "\n",
    "print(info[\"Hobby\"])"
   ]
  },
  {
   "cell_type": "code",
   "execution_count": 25,
   "id": "53e51748",
   "metadata": {},
   "outputs": [],
   "source": [
    "#formating dictionaries\n",
    "\n",
    "text = \"My name is %(name)s. I am %(age)d years old\"%info\n",
    "#here d use for integer, s use for string and %info use for intigate dictonary"
   ]
  },
  {
   "cell_type": "code",
   "execution_count": 23,
   "id": "082dd38e",
   "metadata": {},
   "outputs": [
    {
     "data": {
      "text/plain": [
       "'My name is Emdadul. I am 27 years old'"
      ]
     },
     "execution_count": 23,
     "metadata": {},
     "output_type": "execute_result"
    }
   ],
   "source": [
    "text"
   ]
  },
  {
   "cell_type": "code",
   "execution_count": 72,
   "id": "f6303454",
   "metadata": {},
   "outputs": [],
   "source": [
    "#deleting items using del operator\n",
    "info = {\"name\": \"Tareque\", \"age\": 27, \"Hobby\": \"Cricket\"}\n",
    "\n",
    "del info[\"age\"]"
   ]
  },
  {
   "cell_type": "code",
   "execution_count": 73,
   "id": "0587fcdf",
   "metadata": {},
   "outputs": [
    {
     "data": {
      "text/plain": [
       "{'name': 'Tareque', 'Hobby': 'Cricket'}"
      ]
     },
     "execution_count": 73,
     "metadata": {},
     "output_type": "execute_result"
    }
   ],
   "source": [
    "info"
   ]
  },
  {
   "cell_type": "code",
   "execution_count": 74,
   "id": "adcb0bf9",
   "metadata": {},
   "outputs": [
    {
     "data": {
      "text/plain": [
       "'Tareque'"
      ]
     },
     "execution_count": 74,
     "metadata": {},
     "output_type": "execute_result"
    }
   ],
   "source": [
    "#deleting items using pop method\n",
    "info.pop(\"name\")"
   ]
  },
  {
   "cell_type": "code",
   "execution_count": 75,
   "id": "0f96d97e",
   "metadata": {},
   "outputs": [
    {
     "data": {
      "text/plain": [
       "{'Hobby': 'Cricket'}"
      ]
     },
     "execution_count": 75,
     "metadata": {},
     "output_type": "execute_result"
    }
   ],
   "source": [
    "info"
   ]
  },
  {
   "cell_type": "code",
   "execution_count": 29,
   "id": "55a46a90",
   "metadata": {},
   "outputs": [],
   "source": [
    "#comparing dictionary \n",
    "info = {\"name\": \"Tareque\", \"age\": 27}\n",
    "info1 = {\"name\": \"Tareque\", \"age\": 27}"
   ]
  },
  {
   "cell_type": "code",
   "execution_count": 30,
   "id": "ae0e34f1",
   "metadata": {},
   "outputs": [
    {
     "data": {
      "text/plain": [
       "True"
      ]
     },
     "execution_count": 30,
     "metadata": {},
     "output_type": "execute_result"
    }
   ],
   "source": [
    "info == info1"
   ]
  },
  {
   "cell_type": "code",
   "execution_count": 31,
   "id": "99071706",
   "metadata": {},
   "outputs": [
    {
     "data": {
      "text/plain": [
       "False"
      ]
     },
     "execution_count": 31,
     "metadata": {},
     "output_type": "execute_result"
    }
   ],
   "source": [
    "info != info1"
   ]
  },
  {
   "cell_type": "markdown",
   "id": "346f72e9",
   "metadata": {},
   "source": [
    "## dictionary methods"
   ]
  },
  {
   "cell_type": "code",
   "execution_count": 33,
   "id": "86d3f6b5",
   "metadata": {},
   "outputs": [],
   "source": [
    "#keys() --> Returns a sequemce of keys\n",
    "\n",
    "info = {\"name\": \"Tareque\", \"age\": 27, \"hobby\": \"Cricket\"}"
   ]
  },
  {
   "cell_type": "code",
   "execution_count": 34,
   "id": "3be8344e",
   "metadata": {},
   "outputs": [
    {
     "data": {
      "text/plain": [
       "dict_keys(['name', 'age', 'hobby'])"
      ]
     },
     "execution_count": 34,
     "metadata": {},
     "output_type": "execute_result"
    }
   ],
   "source": [
    "info.keys()"
   ]
  },
  {
   "cell_type": "code",
   "execution_count": 35,
   "id": "0638840a",
   "metadata": {},
   "outputs": [
    {
     "data": {
      "text/plain": [
       "dict_values(['Tareque', 27, 'Cricket'])"
      ]
     },
     "execution_count": 35,
     "metadata": {},
     "output_type": "execute_result"
    }
   ],
   "source": [
    "#values() --> return a sequence of value\n",
    "\n",
    "info.values()"
   ]
  },
  {
   "cell_type": "code",
   "execution_count": 40,
   "id": "e539a7bc",
   "metadata": {},
   "outputs": [
    {
     "data": {
      "text/plain": [
       "dict_items([('name', 'Tareque'), ('age', 27), ('hobby', 'Cricket')])"
      ]
     },
     "execution_count": 40,
     "metadata": {},
     "output_type": "execute_result"
    }
   ],
   "source": [
    "#items --> Returns a sequence of tuples\n",
    "info.items()"
   ]
  },
  {
   "cell_type": "code",
   "execution_count": 42,
   "id": "8f89796e",
   "metadata": {},
   "outputs": [
    {
     "name": "stdout",
     "output_type": "stream",
     "text": [
      "dict_items([('name', 'Tareque'), ('age', 27), ('hobby', 'Cricket')])\n"
     ]
    }
   ],
   "source": [
    "print(info.items())"
   ]
  },
  {
   "cell_type": "code",
   "execution_count": 43,
   "id": "2e208ba2",
   "metadata": {},
   "outputs": [],
   "source": [
    "item = info.items()"
   ]
  },
  {
   "cell_type": "code",
   "execution_count": 52,
   "id": "e10004bb",
   "metadata": {},
   "outputs": [
    {
     "name": "stdout",
     "output_type": "stream",
     "text": [
      "<class 'dict_items'>\n",
      "('name', 'Tareque')\n",
      "<class 'tuple'>\n",
      "('age', 27)\n",
      "<class 'tuple'>\n",
      "('hobby', 'Cricket')\n",
      "<class 'tuple'>\n"
     ]
    }
   ],
   "source": [
    "print(type(item))\n",
    "for i in item:\n",
    "    print(i)\n",
    "    print(type(i))"
   ]
  },
  {
   "cell_type": "code",
   "execution_count": 54,
   "id": "15b0ccb2",
   "metadata": {},
   "outputs": [],
   "source": [
    "#clear()\n",
    "\n",
    "info.clear()"
   ]
  },
  {
   "cell_type": "code",
   "execution_count": 55,
   "id": "1fc90ee8",
   "metadata": {},
   "outputs": [
    {
     "data": {
      "text/plain": [
       "{}"
      ]
     },
     "execution_count": 55,
     "metadata": {},
     "output_type": "execute_result"
    }
   ],
   "source": [
    "info"
   ]
  },
  {
   "cell_type": "code",
   "execution_count": 60,
   "id": "aa64e690",
   "metadata": {},
   "outputs": [
    {
     "data": {
      "text/plain": [
       "'Tareque'"
      ]
     },
     "execution_count": 60,
     "metadata": {},
     "output_type": "execute_result"
    }
   ],
   "source": [
    "#get(key) --> return a value for a key\n",
    "\n",
    "info = info = {\"name\": \"Tareque\", \"age\": 27, \"hobby\": \"Cricket\"}\n",
    "info.get(\"name\")"
   ]
  },
  {
   "cell_type": "code",
   "execution_count": 61,
   "id": "4569e23c",
   "metadata": {},
   "outputs": [
    {
     "data": {
      "text/plain": [
       "'Tareque'"
      ]
     },
     "execution_count": 61,
     "metadata": {},
     "output_type": "execute_result"
    }
   ],
   "source": [
    "#pop(key) --> Remove a key and returns the value if the key exists\n",
    "\n",
    "info.pop(\"name\")"
   ]
  },
  {
   "cell_type": "code",
   "execution_count": 62,
   "id": "9da55703",
   "metadata": {},
   "outputs": [
    {
     "data": {
      "text/plain": [
       "{'age': 27, 'hobby': 'Cricket'}"
      ]
     },
     "execution_count": 62,
     "metadata": {},
     "output_type": "execute_result"
    }
   ],
   "source": [
    "info"
   ]
  },
  {
   "cell_type": "code",
   "execution_count": 48,
   "id": "d23c5045",
   "metadata": {},
   "outputs": [],
   "source": [
    "#make a dictionary from tuple using zip method \n",
    "tple = (\"name\", \"age\", \"hobby\")\n",
    "tple1 = (\"tareque\", 27, \"Cricket\")\n",
    "\n",
    "dic = dict(zip(tple, tple1))"
   ]
  },
  {
   "cell_type": "code",
   "execution_count": 49,
   "id": "ddbf0e45",
   "metadata": {},
   "outputs": [
    {
     "data": {
      "text/plain": [
       "{'name': 'tareque', 'age': 27, 'hobby': 'Cricket'}"
      ]
     },
     "execution_count": 49,
     "metadata": {},
     "output_type": "execute_result"
    }
   ],
   "source": [
    "dic"
   ]
  },
  {
   "cell_type": "code",
   "execution_count": 50,
   "id": "ec7f412b",
   "metadata": {},
   "outputs": [],
   "source": [
    "lst = [\"name\", \"age\", \"hobby\"]\n",
    "lst1 = [\"Tareque\", 27, \"Cricket\"]\n",
    "\n",
    "dic = dict(zip(lst, lst1))"
   ]
  },
  {
   "cell_type": "code",
   "execution_count": 51,
   "id": "5251e114",
   "metadata": {},
   "outputs": [
    {
     "data": {
      "text/plain": [
       "{'name': 'Tareque', 'age': 27, 'hobby': 'Cricket'}"
      ]
     },
     "execution_count": 51,
     "metadata": {},
     "output_type": "execute_result"
    }
   ],
   "source": [
    "dic"
   ]
  },
  {
   "cell_type": "markdown",
   "id": "11807040",
   "metadata": {},
   "source": [
    "## Traversing Dictionaries"
   ]
  },
  {
   "cell_type": "code",
   "execution_count": 82,
   "id": "99d19f38",
   "metadata": {},
   "outputs": [],
   "source": [
    "info = {\"name\": \"Tareque\", \"age\": 27, \"hobby\": \"Cricket\"}"
   ]
  },
  {
   "cell_type": "code",
   "execution_count": 83,
   "id": "61565e00",
   "metadata": {},
   "outputs": [
    {
     "name": "stdout",
     "output_type": "stream",
     "text": [
      "name :  Tareque\n",
      "age :  27\n",
      "hobby :  Cricket\n"
     ]
    }
   ],
   "source": [
    "# Way 01\n",
    "items = info.items()\n",
    "for key, value in items:\n",
    "#     key, value = item\n",
    "    print(key,\": \", value)"
   ]
  },
  {
   "cell_type": "code",
   "execution_count": 84,
   "id": "bcc61716",
   "metadata": {},
   "outputs": [
    {
     "name": "stdout",
     "output_type": "stream",
     "text": [
      "name :  Tareque\n",
      "age :  27\n",
      "hobby :  Cricket\n"
     ]
    }
   ],
   "source": [
    "# Way 02\n",
    "\n",
    "for key in info:\n",
    "    print(key, \": \", info[key])"
   ]
  },
  {
   "cell_type": "markdown",
   "id": "44f2f222",
   "metadata": {},
   "source": [
    "## Traversing nested dictionary"
   ]
  },
  {
   "cell_type": "code",
   "execution_count": 89,
   "id": "22773969",
   "metadata": {},
   "outputs": [],
   "source": [
    "players = {\"virat Kohli\": {\"ODI\": 7212, \"Test\": 3245}, \n",
    "           \"Sachin\": {\"ODI\": 18426, \"Test\": 15921}}"
   ]
  },
  {
   "cell_type": "code",
   "execution_count": 91,
   "id": "842e71f6",
   "metadata": {},
   "outputs": [
    {
     "name": "stdout",
     "output_type": "stream",
     "text": [
      "player:  virat Kohli\n",
      " Run Scored in ODI:  7212\n",
      " Run Scored in Test: 3245\n",
      "player:  Sachin\n",
      " Run Scored in ODI:  18426\n",
      " Run Scored in Test: 15921\n"
     ]
    }
   ],
   "source": [
    "for player_name, player_details in players.items():\n",
    "    print(\"player: \", player_name)\n",
    "    print(\" Run Scored in ODI: \", player_details[\"ODI\"])\n",
    "    print(\" Run Scored in Test:\", player_details[\"Test\"])"
   ]
  },
  {
   "cell_type": "markdown",
   "id": "209fc6e7",
   "metadata": {},
   "source": [
    "## Simple programs on Dictionary"
   ]
  },
  {
   "cell_type": "markdown",
   "id": "3ea437fe",
   "metadata": {},
   "source": [
    "Program 01: Write a function histogram that takes string as parameter and generates a frequency of\n",
    "characters contained in it. \n",
    "\n",
    "s = \"AAPPLE\"\n",
    "\n",
    "the porgam should create a dictionary \n",
    "\n",
    "D = {‘A’: 2, ‘E’: 1, ‘P’: 2, ‘L’: 1}"
   ]
  },
  {
   "cell_type": "code",
   "execution_count": 97,
   "id": "966aff54",
   "metadata": {},
   "outputs": [
    {
     "name": "stdout",
     "output_type": "stream",
     "text": [
      "{'A': 2, 'P': 2, 'L': 1, 'E': 1}\n"
     ]
    }
   ],
   "source": [
    "def histogram(string):\n",
    "    D = dict()\n",
    "    \n",
    "    for char in string:\n",
    "        if char not in D:\n",
    "            D[char] = 1\n",
    "        else:\n",
    "            D[char] = D[char]+1\n",
    "    return D\n",
    "\n",
    "s = \"AAPPLE\"\n",
    "print(histogram(s))"
   ]
  },
  {
   "cell_type": "markdown",
   "id": "648df003",
   "metadata": {},
   "source": [
    "Program 02: Write a program to count the frequency of charcters using the get() method"
   ]
  },
  {
   "cell_type": "code",
   "execution_count": 100,
   "id": "b4603c69",
   "metadata": {},
   "outputs": [
    {
     "name": "stdout",
     "output_type": "stream",
     "text": [
      "{'A': 2, 'P': 2, 'L': 1, 'E': 1}\n"
     ]
    }
   ],
   "source": [
    "def histogram(string):\n",
    "    D = dict()\n",
    "    \n",
    "    for char in string:\n",
    "        if char not in D:\n",
    "            D[char] = 1\n",
    "        else:\n",
    "            D[char] = D.get(char)+1\n",
    "    return D\n",
    "\n",
    "s = \"AAPPLE\"\n",
    "print(histogram(s))"
   ]
  },
  {
   "cell_type": "markdown",
   "id": "554652bf",
   "metadata": {},
   "source": [
    "Program 03: Write a program to print and store squares of numbers into a dictionary."
   ]
  },
  {
   "cell_type": "code",
   "execution_count": 101,
   "id": "6605b0ea",
   "metadata": {},
   "outputs": [
    {
     "name": "stdout",
     "output_type": "stream",
     "text": [
      "Square of Number: \n",
      "{1: 1, 2: 4, 3: 9, 4: 16, 5: 25}\n"
     ]
    }
   ],
   "source": [
    "def sq_of_numbers(n):\n",
    "    d = dict()\n",
    "    for i in range(1, n+1):\n",
    "        if i not in d:\n",
    "            d[i] = i * i\n",
    "    return d\n",
    "print(\"Square of Number: \")\n",
    "\n",
    "z = sq_of_numbers(5)\n",
    "print(z)"
   ]
  },
  {
   "cell_type": "markdown",
   "id": "defa55cc",
   "metadata": {},
   "source": [
    "Program 04: Write a program to pass a list to a function. Calculate the total number of positive and negative numbers from the list and then display the count in terms of dictionary.\n",
    "\n",
    "input: L = [1,-2, -3, 4]\n",
    "output: {\"Neg\": 2, \"Pos\":2}"
   ]
  },
  {
   "cell_type": "code",
   "execution_count": 104,
   "id": "16905788",
   "metadata": {},
   "outputs": [
    {
     "name": "stdout",
     "output_type": "stream",
     "text": [
      "{'Neg': 2, 'Pos': 2}\n"
     ]
    }
   ],
   "source": [
    "def pos_neg_number(lst):\n",
    "    dic = dict()\n",
    "    dic[\"Neg\"] = 0\n",
    "    dic[\"Pos\"] = 0\n",
    "    for i in lst:\n",
    "        if i > 0:\n",
    "            dic[\"Pos\"] += 1\n",
    "        else:\n",
    "            dic[\"Neg\"] += 1\n",
    "    return dic\n",
    "\n",
    "print(pos_neg_number([1,-2, -3, 4]))\n",
    "            "
   ]
  },
  {
   "cell_type": "code",
   "execution_count": null,
   "id": "664524fe",
   "metadata": {},
   "outputs": [],
   "source": []
  }
 ],
 "metadata": {
  "kernelspec": {
   "display_name": "Python 3 (ipykernel)",
   "language": "python",
   "name": "python3"
  },
  "language_info": {
   "codemirror_mode": {
    "name": "ipython",
    "version": 3
   },
   "file_extension": ".py",
   "mimetype": "text/x-python",
   "name": "python",
   "nbconvert_exporter": "python",
   "pygments_lexer": "ipython3",
   "version": "3.10.6"
  }
 },
 "nbformat": 4,
 "nbformat_minor": 5
}
