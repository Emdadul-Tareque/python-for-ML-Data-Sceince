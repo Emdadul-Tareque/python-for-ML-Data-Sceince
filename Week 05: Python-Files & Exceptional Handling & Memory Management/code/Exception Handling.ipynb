{
 "cells": [
  {
   "cell_type": "code",
   "execution_count": 2,
   "metadata": {},
   "outputs": [
    {
     "ename": "FileNotFoundError",
     "evalue": "[Errno 2] No such file or directory: 'exception.txt'",
     "output_type": "error",
     "traceback": [
      "\u001b[0;31m---------------------------------------------------------------------------\u001b[0m",
      "\u001b[0;31mFileNotFoundError\u001b[0m                         Traceback (most recent call last)",
      "\u001b[0;32m<ipython-input-2-afa33f97eb40>\u001b[0m in \u001b[0;36m<module>\u001b[0;34m\u001b[0m\n\u001b[0;32m----> 1\u001b[0;31m \u001b[0mf\u001b[0m \u001b[0;34m=\u001b[0m \u001b[0mopen\u001b[0m\u001b[0;34m(\u001b[0m\u001b[0;34m\"exception.txt\"\u001b[0m\u001b[0;34m,\u001b[0m \u001b[0;34m\"r\"\u001b[0m\u001b[0;34m)\u001b[0m\u001b[0;34m\u001b[0m\u001b[0;34m\u001b[0m\u001b[0m\n\u001b[0m\u001b[1;32m      2\u001b[0m \u001b[0mprint\u001b[0m\u001b[0;34m(\u001b[0m\u001b[0;34m\"After error\"\u001b[0m\u001b[0;34m)\u001b[0m\u001b[0;34m\u001b[0m\u001b[0;34m\u001b[0m\u001b[0m\n",
      "\u001b[0;31mFileNotFoundError\u001b[0m: [Errno 2] No such file or directory: 'exception.txt'"
     ]
    }
   ],
   "source": [
    "f = open(\"exception.txt\", \"r\")\n",
    "print(\"After error\")"
   ]
  },
  {
   "cell_type": "code",
   "execution_count": 10,
   "metadata": {},
   "outputs": [
    {
     "name": "stdout",
     "output_type": "stream",
     "text": [
      "[Errno 2] No such file or directory: 'exception2.txt'\n",
      "After Error\n"
     ]
    }
   ],
   "source": [
    "try:\n",
    "   f = open(\"exception2.txt\", \"r\")\n",
    "except Exception as e:\n",
    "    print(e)\n",
    "print(\"After Error\")"
   ]
  },
  {
   "cell_type": "code",
   "execution_count": 19,
   "metadata": {},
   "outputs": [],
   "source": [
    "try:\n",
    "   f = open(\"exception.txt\", \"w\")\n",
    "   f.write(\"Hey i am learning Exception Handling\")\n",
    "except Exception as e: # try ব্লকে যদি কোন এরর না আসে তাহলে except ব্লক কাজ করবে না। \n",
    "    print(e)\n",
    "else:\n",
    "    f.close() #ট্রাই ব্লকে কোন এরর না আসলে বাকি কোড এক্সিকিউ করার জন্য else ব্যবহার করা হয়। "
   ]
  },
  {
   "cell_type": "code",
   "execution_count": 23,
   "metadata": {},
   "outputs": [
    {
     "name": "stdout",
     "output_type": "stream",
     "text": [
      "[Errno 2] No such file or directory: 'test3.txt'\n",
      "Finally will execute itself in any situation\n"
     ]
    }
   ],
   "source": [
    "try:\n",
    "    f = open(\"test3.txt\", \"r\")\n",
    "    f.write(\"Write Something\")\n",
    "    \n",
    "except Exception as e:\n",
    "    print(e)\n",
    "else:\n",
    "   print(\"Else block execute\")\n",
    "finally: # ট্রাই ব্লকে এরর আসুক বা না আসুক কিন্তু পরের কোডগুলো এক্সিকিউট করাই লাগবে তখন finally ব্যবহার করতে হয়। \n",
    "    print(\"Finally will execute itself in any situation\")\n",
    "    \n",
    "    "
   ]
  },
  {
   "cell_type": "code",
   "execution_count": null,
   "metadata": {},
   "outputs": [],
   "source": []
  }
 ],
 "metadata": {
  "kernelspec": {
   "display_name": "Python 3",
   "language": "python",
   "name": "python3"
  },
  "language_info": {
   "codemirror_mode": {
    "name": "ipython",
    "version": 3
   },
   "file_extension": ".py",
   "mimetype": "text/x-python",
   "name": "python",
   "nbconvert_exporter": "python",
   "pygments_lexer": "ipython3",
   "version": "3.7.3"
  }
 },
 "nbformat": 4,
 "nbformat_minor": 2
}
