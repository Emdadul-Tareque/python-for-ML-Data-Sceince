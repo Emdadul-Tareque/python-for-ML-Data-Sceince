{
 "cells": [
  {
   "cell_type": "code",
   "execution_count": 3,
   "metadata": {},
   "outputs": [],
   "source": [
    "import abc\n",
    "\n",
    "class Course:\n",
    "    \n",
    "    @abc.abstractclassmethod\n",
    "    def course_details(self):\n",
    "        pass\n",
    "    \n",
    "    @abc.abstractclassmethod\n",
    "    def course_assignment(self):\n",
    "        pass\n",
    "    \n",
    "    @abc.abstractclassmethod\n",
    "    def course_marks(self):\n",
    "        pass\n"
   ]
  },
  {
   "cell_type": "code",
   "execution_count": 12,
   "metadata": {},
   "outputs": [],
   "source": [
    "class Python(Course):\n",
    "\n",
    "    def course_details(self):\n",
    "        return \"This is python course\"\n",
    "    \n",
    "\n",
    "    def course_assignment(self):\n",
    "        return \"This assignment for python course\""
   ]
  },
  {
   "cell_type": "code",
   "execution_count": 13,
   "metadata": {},
   "outputs": [],
   "source": [
    "class Java(Course):\n",
    "\n",
    "    def course_details(self):\n",
    "        return \"This is Java course\"\n",
    "    \n",
    "\n",
    "    def course_marks(self):\n",
    "        return \"This is Java course marks\""
   ]
  },
  {
   "cell_type": "code",
   "execution_count": 17,
   "metadata": {},
   "outputs": [],
   "source": [
    "python = Python()\n",
    "java = Java()"
   ]
  },
  {
   "cell_type": "code",
   "execution_count": 18,
   "metadata": {},
   "outputs": [
    {
     "data": {
      "text/plain": [
       "'This is python course'"
      ]
     },
     "execution_count": 18,
     "metadata": {},
     "output_type": "execute_result"
    }
   ],
   "source": [
    "python.course_details()"
   ]
  },
  {
   "cell_type": "code",
   "execution_count": 19,
   "metadata": {},
   "outputs": [
    {
     "data": {
      "text/plain": [
       "'This is Java course marks'"
      ]
     },
     "execution_count": 19,
     "metadata": {},
     "output_type": "execute_result"
    }
   ],
   "source": [
    "java.course_marks()"
   ]
  },
  {
   "cell_type": "code",
   "execution_count": null,
   "metadata": {},
   "outputs": [],
   "source": []
  }
 ],
 "metadata": {
  "kernelspec": {
   "display_name": "Python 3",
   "language": "python",
   "name": "python3"
  },
  "language_info": {
   "codemirror_mode": {
    "name": "ipython",
    "version": 3
   },
   "file_extension": ".py",
   "mimetype": "text/x-python",
   "name": "python",
   "nbconvert_exporter": "python",
   "pygments_lexer": "ipython3",
   "version": "3.7.3"
  }
 },
 "nbformat": 4,
 "nbformat_minor": 2
}
