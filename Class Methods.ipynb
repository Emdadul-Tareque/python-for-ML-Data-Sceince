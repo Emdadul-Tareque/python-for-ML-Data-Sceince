{
 "cells": [
  {
   "cell_type": "raw",
   "metadata": {},
   "source": [
    "ক্লাস মেথডের মাধ্যমে আমরা অবজেক্ট তৈরি না করেও ডেটা ক্লাসে পাস করা যায় এবং ক্লাসের অন্যান্য মেথড এক্সেস করতে পারব। "
   ]
  },
  {
   "cell_type": "code",
   "execution_count": 1,
   "metadata": {},
   "outputs": [],
   "source": [
    "class Person:\n",
    "    \n",
    "    def __init__(self, name, email):\n",
    "        \n",
    "        self.name = name\n",
    "        self.email = email\n",
    "        \n",
    "    def student_details(self):\n",
    "        print(self.name, self.email)"
   ]
  },
  {
   "cell_type": "code",
   "execution_count": 2,
   "metadata": {},
   "outputs": [],
   "source": [
    "person1 = Person(\"emdadul\", \"emdadul@gmail.com\")"
   ]
  },
  {
   "cell_type": "code",
   "execution_count": 3,
   "metadata": {},
   "outputs": [
    {
     "data": {
      "text/plain": [
       "'emdadul'"
      ]
     },
     "execution_count": 3,
     "metadata": {},
     "output_type": "execute_result"
    }
   ],
   "source": [
    "person1.name"
   ]
  },
  {
   "cell_type": "code",
   "execution_count": 4,
   "metadata": {},
   "outputs": [
    {
     "name": "stdout",
     "output_type": "stream",
     "text": [
      "emdadul emdadul@gmail.com\n"
     ]
    }
   ],
   "source": [
    "person1.student_details()"
   ]
  },
  {
   "cell_type": "code",
   "execution_count": 5,
   "metadata": {},
   "outputs": [],
   "source": [
    "#create a class with class method"
   ]
  },
  {
   "cell_type": "code",
   "execution_count": 11,
   "metadata": {},
   "outputs": [],
   "source": [
    "class Person:\n",
    "    \n",
    "    def __init__(self, name, email):\n",
    "        \n",
    "        self.name = name\n",
    "        self.email = email\n",
    "    \n",
    "    @classmethod\n",
    "    def details(cls, name, email):\n",
    "        return cls(name, email)\n",
    "        \n",
    "    def student_details(self):\n",
    "        print(self.name, self.email)"
   ]
  },
  {
   "cell_type": "code",
   "execution_count": 12,
   "metadata": {},
   "outputs": [],
   "source": [
    "person1 = Person.details(\"emdadul\", \"emdadul@gamil.com\")"
   ]
  },
  {
   "cell_type": "code",
   "execution_count": 13,
   "metadata": {},
   "outputs": [
    {
     "name": "stdout",
     "output_type": "stream",
     "text": [
      "emdadul emdadul@gamil.com\n"
     ]
    }
   ],
   "source": [
    "person1.student_details()"
   ]
  },
  {
   "cell_type": "raw",
   "metadata": {},
   "source": [
    "ক্লাস মেথডের মাধ্যেমে ক্লাস ভ্যারিয়েবলকে এডিট/চেঞ্জ করা যায় "
   ]
  },
  {
   "cell_type": "code",
   "execution_count": 20,
   "metadata": {},
   "outputs": [],
   "source": [
    "class Person:\n",
    "    \n",
    "    person_id = \"221xha9012\" #class variable \n",
    "    \n",
    "    def __init__(self, name, email):\n",
    "        \n",
    "        self.name = name\n",
    "        self.email = email\n",
    "    \n",
    "    @classmethod\n",
    "    def details(cls, name, email):\n",
    "        return cls(name, email)\n",
    "    \n",
    "    @classmethod\n",
    "    def change_id(cls, person_id):\n",
    "        Person.person_id = person_id\n",
    "        \n",
    "    def student_details(self):\n",
    "        print(self.name, self.email, Person.person_id)"
   ]
  },
  {
   "cell_type": "code",
   "execution_count": 21,
   "metadata": {},
   "outputs": [],
   "source": [
    "person1 = Person(\"emdadul\", \"emdadul@gmail.com\")"
   ]
  },
  {
   "cell_type": "code",
   "execution_count": 23,
   "metadata": {},
   "outputs": [
    {
     "name": "stdout",
     "output_type": "stream",
     "text": [
      "emdadul emdadul@gmail.com 221xha9012\n"
     ]
    }
   ],
   "source": [
    "person1.student_details()"
   ]
  },
  {
   "cell_type": "code",
   "execution_count": 24,
   "metadata": {},
   "outputs": [],
   "source": [
    "person1.change_id(\"12ae239vr34\")"
   ]
  },
  {
   "cell_type": "code",
   "execution_count": 25,
   "metadata": {},
   "outputs": [
    {
     "name": "stdout",
     "output_type": "stream",
     "text": [
      "emdadul emdadul@gmail.com 12ae239vr34\n"
     ]
    }
   ],
   "source": [
    "person1.student_details()"
   ]
  },
  {
   "cell_type": "raw",
   "metadata": {},
   "source": [
    "External function কে ক্লাসের মেথড হিসেবে যেভাবে যুক্ত করা যায় "
   ]
  },
  {
   "cell_type": "code",
   "execution_count": 38,
   "metadata": {},
   "outputs": [],
   "source": [
    "class Person:\n",
    "    \n",
    "    person_id = \"221xha9012\" #class variable \n",
    "    \n",
    "    def __init__(self, name, email):\n",
    "        \n",
    "        self.name = name\n",
    "        self.email = email\n",
    "    \n",
    "    @classmethod\n",
    "    def details(cls, name, email):\n",
    "        return cls(name, email)\n",
    "    \n",
    "    @classmethod\n",
    "    def change_id(cls, person_id):\n",
    "        Person.person_id = person_id\n",
    "        \n",
    "    def student_details(self):\n",
    "        print(self.name, self.email, Person.person_id)"
   ]
  },
  {
   "cell_type": "code",
   "execution_count": 39,
   "metadata": {},
   "outputs": [],
   "source": [
    "#this function is not part of the Person class\n",
    "def person_details(cls, person_name):\n",
    "    print(\"Person name is \", person_name)"
   ]
  },
  {
   "cell_type": "code",
   "execution_count": 40,
   "metadata": {},
   "outputs": [],
   "source": [
    "Person.person_details = classmethod(person_details)\n",
    "#now person_details function is part of Person class"
   ]
  },
  {
   "cell_type": "code",
   "execution_count": 41,
   "metadata": {},
   "outputs": [
    {
     "name": "stdout",
     "output_type": "stream",
     "text": [
      "Person name is  Tareque\n"
     ]
    }
   ],
   "source": [
    "Person.person_details(\"Tareque\")"
   ]
  },
  {
   "cell_type": "code",
   "execution_count": 42,
   "metadata": {},
   "outputs": [],
   "source": [
    "#delete a function from a class\n",
    "del Person.change_id"
   ]
  },
  {
   "cell_type": "code",
   "execution_count": 43,
   "metadata": {},
   "outputs": [],
   "source": [
    "#another way \n",
    "delattr(Person,\"details\" )"
   ]
  },
  {
   "cell_type": "code",
   "execution_count": 50,
   "metadata": {},
   "outputs": [],
   "source": [
    "class Person:\n",
    "    \n",
    "    person_id = \"221xha9012\" #class variable \n",
    "    \n",
    "    def __init__(self, name, email):\n",
    "        \n",
    "        self.name = name\n",
    "        self.email = email\n",
    "    \n",
    "    @classmethod\n",
    "    def details(xyz, name, email): #you can use any variable name instead of cls \n",
    "        return xyz(name, email)\n",
    "    \n",
    "    @classmethod\n",
    "    def change_id(cls, person_id):\n",
    "        Person.person_id = person_id\n",
    "        \n",
    "    def student_details(self):\n",
    "        print(self.name, self.email, Person.person_id)"
   ]
  },
  {
   "cell_type": "code",
   "execution_count": 57,
   "metadata": {},
   "outputs": [],
   "source": [
    "a = Person.details(\"emdadul\", \"dadqsa\")"
   ]
  },
  {
   "cell_type": "code",
   "execution_count": null,
   "metadata": {},
   "outputs": [],
   "source": []
  },
  {
   "cell_type": "code",
   "execution_count": 54,
   "metadata": {},
   "outputs": [
    {
     "name": "stdout",
     "output_type": "stream",
     "text": [
      "emdadul dadqsa 221xha9012\n"
     ]
    }
   ],
   "source": [
    "a.student_details()"
   ]
  },
  {
   "cell_type": "code",
   "execution_count": 56,
   "metadata": {},
   "outputs": [
    {
     "ename": "NameError",
     "evalue": "name 'a' is not defined",
     "output_type": "error",
     "traceback": [
      "\u001b[0;31m---------------------------------------------------------------------------\u001b[0m",
      "\u001b[0;31mNameError\u001b[0m                                 Traceback (most recent call last)",
      "\u001b[0;32m<ipython-input-56-84acad089b3e>\u001b[0m in \u001b[0;36m<module>\u001b[0;34m\u001b[0m\n\u001b[0;32m----> 1\u001b[0;31m \u001b[0;32mdel\u001b[0m \u001b[0ma\u001b[0m\u001b[0;34m\u001b[0m\u001b[0;34m\u001b[0m\u001b[0m\n\u001b[0m",
      "\u001b[0;31mNameError\u001b[0m: name 'a' is not defined"
     ]
    }
   ],
   "source": [
    "del a"
   ]
  },
  {
   "cell_type": "code",
   "execution_count": null,
   "metadata": {},
   "outputs": [],
   "source": []
  },
  {
   "cell_type": "raw",
   "metadata": {},
   "source": [
    "এই লেকচার থেকে থেকে কি কি শিখলাম \n",
    "১। ক্লাস মেথড ব্যবহার করে আমরা চাইলে অবজেক্ট তৈরি না করেও ক্লাসে ডেটা পাস করতে পারি। \n",
    "২। ক্লাসের সকল মেথডের এক্সেস করতে পারি \n",
    "৩। এক্সটারনাল ফাংশনকে ক্লাসের মেথড হিসেবে যুক্ত করতে পারি। \n",
    "৪। আমরা চাইলে del, delattr() ব্যবহার করে ক্লাসের মেথড এবং ভ্যারিয়েবল ডিলেট করতে পারি। "
   ]
  },
  {
   "cell_type": "raw",
   "metadata": {},
   "source": []
  }
 ],
 "metadata": {
  "kernelspec": {
   "display_name": "Python 3",
   "language": "python",
   "name": "python3"
  },
  "language_info": {
   "codemirror_mode": {
    "name": "ipython",
    "version": 3
   },
   "file_extension": ".py",
   "mimetype": "text/x-python",
   "name": "python",
   "nbconvert_exporter": "python",
   "pygments_lexer": "ipython3",
   "version": "3.7.3"
  }
 },
 "nbformat": 4,
 "nbformat_minor": 2
}
