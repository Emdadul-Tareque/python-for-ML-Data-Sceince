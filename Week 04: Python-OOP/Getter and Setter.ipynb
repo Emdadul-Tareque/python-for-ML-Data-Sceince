{
 "cells": [
  {
   "cell_type": "code",
   "execution_count": 16,
   "metadata": {},
   "outputs": [],
   "source": [
    "class User:\n",
    "    \n",
    "    def __init__(self, name, age, money):\n",
    "        self._name = name\n",
    "        self._age = age\n",
    "        self.__money = money\n",
    "        \n",
    "    @property\n",
    "    def age(self):\n",
    "        return self._age\n",
    "    \n",
    "    @property\n",
    "    def money(self):\n",
    "        return self.__money\n",
    "    \n",
    "    @money.setter \n",
    "    def money(self, money):\n",
    "        self.__money = money\n",
    "        "
   ]
  },
  {
   "cell_type": "code",
   "execution_count": 9,
   "metadata": {},
   "outputs": [],
   "source": [
    "emdadul = User(\"Emdadul\", 27, 1000000)"
   ]
  },
  {
   "cell_type": "code",
   "execution_count": 10,
   "metadata": {},
   "outputs": [
    {
     "data": {
      "text/plain": [
       "27"
      ]
     },
     "execution_count": 10,
     "metadata": {},
     "output_type": "execute_result"
    }
   ],
   "source": [
    "emdadul.age"
   ]
  },
  {
   "cell_type": "code",
   "execution_count": 11,
   "metadata": {},
   "outputs": [
    {
     "data": {
      "text/plain": [
       "1000000"
      ]
     },
     "execution_count": 11,
     "metadata": {},
     "output_type": "execute_result"
    }
   ],
   "source": [
    "emdadul.money"
   ]
  },
  {
   "cell_type": "code",
   "execution_count": 12,
   "metadata": {},
   "outputs": [],
   "source": [
    "emdadul.money = 234002"
   ]
  },
  {
   "cell_type": "code",
   "execution_count": 13,
   "metadata": {},
   "outputs": [
    {
     "data": {
      "text/plain": [
       "234002"
      ]
     },
     "execution_count": 13,
     "metadata": {},
     "output_type": "execute_result"
    }
   ],
   "source": [
    "emdadul.money"
   ]
  },
  {
   "cell_type": "raw",
   "metadata": {},
   "source": [
    "১। property ডেকোরেট্র ব্যবহার করলে এট্রিবিউটের ডেটা চেঞ্জ করা যাবে না, তখন সেটা read only হয়ে যাবে।  এখনে property ডেকোরেটর গেঁটার হিসেবে কাজ করে, \n",
    "\n",
    "২। যদি ডেটা চেঞ্জ করতে হয় তাহলে সেটার ব্যবহার করতে হবে। সেক্ষেত্রে ফাংশনের নাম একই থাকতে হবে এবং ডেকেরেটের সেটার ব্যবহার করতে হবে। \n",
    "\n",
    "৩। getter অর্থাৎ property ডেকোরেটর ছাড়া setter ব্যবহার করা যাবে না \n",
    "\n",
    "৪। এই জিনিসগুলো সাধারণত প্রাইভেট প্রোপার্টির জন্য ব্যবহার করা হয়। "
   ]
  },
  {
   "cell_type": "code",
   "execution_count": null,
   "metadata": {},
   "outputs": [],
   "source": []
  },
  {
   "cell_type": "code",
   "execution_count": null,
   "metadata": {},
   "outputs": [],
   "source": []
  },
  {
   "cell_type": "code",
   "execution_count": null,
   "metadata": {},
   "outputs": [],
   "source": [
    "|"
   ]
  }
 ],
 "metadata": {
  "kernelspec": {
   "display_name": "Python 3",
   "language": "python",
   "name": "python3"
  },
  "language_info": {
   "codemirror_mode": {
    "name": "ipython",
    "version": 3
   },
   "file_extension": ".py",
   "mimetype": "text/x-python",
   "name": "python",
   "nbconvert_exporter": "python",
   "pygments_lexer": "ipython3",
   "version": "3.7.3"
  }
 },
 "nbformat": 4,
 "nbformat_minor": 2
}
