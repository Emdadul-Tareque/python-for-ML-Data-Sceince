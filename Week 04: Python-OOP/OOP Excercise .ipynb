{
 "cells": [
  {
   "cell_type": "raw",
   "metadata": {},
   "source": [
    "Excercise 01. Write a program that uses class to store the name and marks of students. Use list to store the marks in three subjects"
   ]
  },
  {
   "cell_type": "code",
   "execution_count": 1,
   "metadata": {},
   "outputs": [],
   "source": [
    "class Student:\n",
    "    \n",
    "    def __init__(self, name):\n",
    "        self.name = name \n",
    "        self.marks = []\n",
    "        \n",
    "    def enterMarks(self):\n",
    "        for i in range(3):\n",
    "            mark = input(f\"Enter the marks of {self.name} in subject {i+1} \")\n",
    "            self.marks.append(mark)\n",
    "            \n",
    "    @property\n",
    "    def display(self):\n",
    "        print(f\"{self.name} got {self.marks}\")\n",
    "            "
   ]
  },
  {
   "cell_type": "code",
   "execution_count": 2,
   "metadata": {},
   "outputs": [],
   "source": [
    "student1 = Student(\"Emdadul\")"
   ]
  },
  {
   "cell_type": "code",
   "execution_count": 3,
   "metadata": {},
   "outputs": [
    {
     "name": "stdout",
     "output_type": "stream",
     "text": [
      "Enter the marks of Emdadul in subject 1 99\n",
      "Enter the marks of Emdadul in subject 2 93\n",
      "Enter the marks of Emdadul in subject 3 94\n"
     ]
    }
   ],
   "source": [
    "student1.enterMarks()"
   ]
  },
  {
   "cell_type": "code",
   "execution_count": 5,
   "metadata": {},
   "outputs": [
    {
     "name": "stdout",
     "output_type": "stream",
     "text": [
      "Emdadul got ['99', '93', '94']\n"
     ]
    }
   ],
   "source": [
    "student1.display"
   ]
  },
  {
   "cell_type": "code",
   "execution_count": 6,
   "metadata": {},
   "outputs": [],
   "source": [
    "student2 = Student(\"Tareque\")"
   ]
  },
  {
   "cell_type": "code",
   "execution_count": 7,
   "metadata": {},
   "outputs": [
    {
     "name": "stdout",
     "output_type": "stream",
     "text": [
      "Enter the marks of Tareque in subject 1 94\n",
      "Enter the marks of Tareque in subject 2 93\n",
      "Enter the marks of Tareque in subject 3 98\n"
     ]
    }
   ],
   "source": [
    "student2.enterMarks()"
   ]
  },
  {
   "cell_type": "code",
   "execution_count": 8,
   "metadata": {},
   "outputs": [
    {
     "name": "stdout",
     "output_type": "stream",
     "text": [
      "Tareque got ['94', '93', '98']\n"
     ]
    }
   ],
   "source": [
    "student2.display"
   ]
  },
  {
   "cell_type": "raw",
   "metadata": {},
   "source": [
    "Excercise 02: Write a program with class employee that keeps a track of employees in an organization and also stores their name, designation, and salary details"
   ]
  },
  {
   "cell_type": "code",
   "execution_count": 11,
   "metadata": {},
   "outputs": [],
   "source": [
    "class Employee:\n",
    "    counter = 0\n",
    "    \n",
    "    def __init__(self, name, designation, salary):\n",
    "        self.name = name\n",
    "        self.designation = designation\n",
    "        self.salary = salary\n",
    "        Employee.counter += 1\n",
    "        \n",
    "    def display(self):\n",
    "        print(f\"Thare are {Employee.counter} Employes\")\n",
    "        \n",
    "    def display_details(self):\n",
    "        print(f\"Employee name: {self.name}, Designation: {self.designation}, Salary: {self.salary}\")"
   ]
  },
  {
   "cell_type": "code",
   "execution_count": 12,
   "metadata": {},
   "outputs": [],
   "source": [
    "employe1 = Employee(\"Emdadul\", \"manager\", 1000000)\n",
    "employe2 = Employee(\"Tareque\", \"Developer\", 200000)"
   ]
  },
  {
   "cell_type": "code",
   "execution_count": 13,
   "metadata": {},
   "outputs": [
    {
     "name": "stdout",
     "output_type": "stream",
     "text": [
      "Employee name: Emdadul, Designation: manager, Salary: 1000000\n"
     ]
    }
   ],
   "source": [
    "employe1.display_details()"
   ]
  },
  {
   "cell_type": "code",
   "execution_count": 14,
   "metadata": {},
   "outputs": [
    {
     "name": "stdout",
     "output_type": "stream",
     "text": [
      "Employee name: Tareque, Designation: Developer, Salary: 200000\n"
     ]
    }
   ],
   "source": [
    "employe2.display_details()"
   ]
  },
  {
   "cell_type": "code",
   "execution_count": 15,
   "metadata": {},
   "outputs": [
    {
     "name": "stdout",
     "output_type": "stream",
     "text": [
      "Thare are 2 Employes\n"
     ]
    }
   ],
   "source": [
    "employe1.display()"
   ]
  },
  {
   "cell_type": "raw",
   "metadata": {},
   "source": [
    "Excercise 03: Write a program that has a class Person storing name and date of birth of a person. The program should subtract the DOB from today's date to find out whether a person is eligible to vote or not"
   ]
  },
  {
   "cell_type": "code",
   "execution_count": 27,
   "metadata": {},
   "outputs": [],
   "source": [
    "import datetime \n",
    "\n",
    "class Person:\n",
    "    \n",
    "    def __init__(self, name, dob):\n",
    "        self.name = name\n",
    "        self.dob = dob\n",
    "        \n",
    "    def check(self):\n",
    "        \n",
    "        today = datetime.date.today()\n",
    "        age = today.year - self.dob.year\n",
    "        \n",
    "        if today < datetime.date(today.year, self.dob.month, self.dob.day):\n",
    "            age -= 1\n",
    "        \n",
    "        if age >= 18:\n",
    "            print(f\"{self.name} Congratulations you are Eligibe to Vote\")\n",
    "        else:\n",
    "            print(f\"{self.name} Sorry you should be at least 18 years of age to cast your vote\"\n",
    "        )"
   ]
  },
  {
   "cell_type": "code",
   "execution_count": 28,
   "metadata": {},
   "outputs": [],
   "source": [
    "p = Person(\"Emdadul\", datetime.date(1995, 12, 11))"
   ]
  },
  {
   "cell_type": "code",
   "execution_count": 29,
   "metadata": {},
   "outputs": [
    {
     "name": "stdout",
     "output_type": "stream",
     "text": [
      "Emdadul Congratulations you are Eligibe to Vote\n"
     ]
    }
   ],
   "source": [
    "p.check()"
   ]
  },
  {
   "cell_type": "code",
   "execution_count": null,
   "metadata": {},
   "outputs": [],
   "source": []
  }
 ],
 "metadata": {
  "kernelspec": {
   "display_name": "Python 3",
   "language": "python",
   "name": "python3"
  },
  "language_info": {
   "codemirror_mode": {
    "name": "ipython",
    "version": 3
   },
   "file_extension": ".py",
   "mimetype": "text/x-python",
   "name": "python",
   "nbconvert_exporter": "python",
   "pygments_lexer": "ipython3",
   "version": "3.7.3"
  }
 },
 "nbformat": 4,
 "nbformat_minor": 2
}
