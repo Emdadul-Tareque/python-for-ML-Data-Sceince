{
 "cells": [
  {
   "cell_type": "code",
   "execution_count": 4,
   "metadata": {},
   "outputs": [],
   "source": [
    "class Gadget:\n",
    "    def __init__(self, brand, price, color, origin):\n",
    "        self.brand = brand\n",
    "        self.price = price\n",
    "        self.color = color\n",
    "        self. origin = origin\n",
    "        \n",
    "    def run(self):\n",
    "        return f\"Running Device: {self.brand}\""
   ]
  },
  {
   "cell_type": "code",
   "execution_count": 5,
   "metadata": {},
   "outputs": [],
   "source": [
    "class Phone(Gadget):\n",
    "    def __init__(self, brand, price, color, origin, dual_sim):\n",
    "        self.dual_sim = dual_sim\n",
    "        super().__init__(brand, price, color, origin)\n",
    "        \n",
    "    def __repr__(self):\n",
    "        return f\"phone: brand: {self.brand}, price: {self.price}, color: {self.color}, Dual_sim_support: {self.dual_sim}\"\n",
    "    \n",
    "    def call(self, number, text):\n",
    "        return f\"Sending Sms to: {self.number} with {self.text}\""
   ]
  },
  {
   "cell_type": "code",
   "execution_count": 6,
   "metadata": {},
   "outputs": [],
   "source": [
    "my_phone = Phone(\"IPhone\", 120000, \"black\", \"chine\", False)"
   ]
  },
  {
   "cell_type": "code",
   "execution_count": 7,
   "metadata": {},
   "outputs": [
    {
     "data": {
      "text/plain": [
       "phone: brand: IPhone, price: 120000, color: black, Dual_sim_support: False"
      ]
     },
     "execution_count": 7,
     "metadata": {},
     "output_type": "execute_result"
    }
   ],
   "source": [
    "my_phone"
   ]
  },
  {
   "cell_type": "code",
   "execution_count": 8,
   "metadata": {},
   "outputs": [
    {
     "data": {
      "text/plain": [
       "'Running Device: IPhone'"
      ]
     },
     "execution_count": 8,
     "metadata": {},
     "output_type": "execute_result"
    }
   ],
   "source": [
    "my_phone.run()"
   ]
  },
  {
   "cell_type": "code",
   "execution_count": 9,
   "metadata": {},
   "outputs": [],
   "source": [
    "#Multi-level inheritance: Vehicle --> Bus --> AC Bus, Vehicel --> Truck --> PickUp Truck "
   ]
  },
  {
   "cell_type": "code",
   "execution_count": 10,
   "metadata": {},
   "outputs": [],
   "source": [
    "class Vehicle:\n",
    "    def __init__(self, name, price):\n",
    "        self.name = name\n",
    "        self.price = price \n",
    "        \n",
    "    def move():\n",
    "        return f\"Running Vehicle: {self.name}\""
   ]
  },
  {
   "cell_type": "code",
   "execution_count": 11,
   "metadata": {},
   "outputs": [],
   "source": [
    "class Bus(Vehicle):\n",
    "    def __init__(self, name, price, seat):\n",
    "        self.seat = seat\n",
    "        super().__init__(name, price)"
   ]
  },
  {
   "cell_type": "code",
   "execution_count": 12,
   "metadata": {},
   "outputs": [],
   "source": [
    "class Truck(Vehicle):\n",
    "    def __init__(self, name, price, load):\n",
    "        self.load = load\n",
    "        super().__init__(name, price)\n",
    "    "
   ]
  },
  {
   "cell_type": "code",
   "execution_count": 13,
   "metadata": {},
   "outputs": [],
   "source": [
    "class PickUpTruck(Truck):\n",
    "    def __init__(self, name, price, load):\n",
    "        super().__init__(name, price, load)"
   ]
  },
  {
   "cell_type": "code",
   "execution_count": 17,
   "metadata": {},
   "outputs": [],
   "source": [
    "class ACBus(Bus):\n",
    "    def __init__(self, name, price, seat, temperature):\n",
    "        self.temperature = temperature\n",
    "        super().__init__(name, price, seat)\n",
    "        \n",
    "    def __repr__(self):\n",
    "        return f\"Bus name: {self.name}, seat: {self.seat} \""
   ]
  },
  {
   "cell_type": "code",
   "execution_count": 18,
   "metadata": {},
   "outputs": [],
   "source": [
    "greenLine = ACBus(\"green line\", 5000000, 27, 18)"
   ]
  },
  {
   "cell_type": "code",
   "execution_count": 19,
   "metadata": {},
   "outputs": [
    {
     "data": {
      "text/plain": [
       "Bus name: green line, seat: 27 "
      ]
     },
     "execution_count": 19,
     "metadata": {},
     "output_type": "execute_result"
    }
   ],
   "source": [
    "greenLine"
   ]
  },
  {
   "cell_type": "code",
   "execution_count": 20,
   "metadata": {},
   "outputs": [],
   "source": [
    "#Multiple Inheritance: Student (Family, School, Sports)"
   ]
  },
  {
   "cell_type": "code",
   "execution_count": null,
   "metadata": {},
   "outputs": [],
   "source": [
    "#Hybird: Grandpa --> Father, Uncle, Aunty --> Child(Father, Uncle)"
   ]
  }
 ],
 "metadata": {
  "kernelspec": {
   "display_name": "Python 3",
   "language": "python",
   "name": "python3"
  },
  "language_info": {
   "codemirror_mode": {
    "name": "ipython",
    "version": 3
   },
   "file_extension": ".py",
   "mimetype": "text/x-python",
   "name": "python",
   "nbconvert_exporter": "python",
   "pygments_lexer": "ipython3",
   "version": "3.7.3"
  }
 },
 "nbformat": 4,
 "nbformat_minor": 2
}
