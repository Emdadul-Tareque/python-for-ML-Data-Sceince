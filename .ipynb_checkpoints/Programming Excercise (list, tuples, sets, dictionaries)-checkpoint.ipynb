{
 "cells": [
  {
   "cell_type": "markdown",
   "id": "15c7d338",
   "metadata": {},
   "source": [
    "Excercise 01: Make a list of first ten letters of the alphabet, then\n",
    "using the slice operation do the following operations.\n",
    "\n",
    "(a) Print the first three letters from the list\n",
    "\n",
    "(b) Print any three letters from the middle i\n",
    "\n",
    "(c) Print the letters from any particular index to the\n",
    "end of the list"
   ]
  },
  {
   "cell_type": "code",
   "execution_count": 2,
   "id": "07108d6b",
   "metadata": {},
   "outputs": [],
   "source": [
    "# create a list of first ten letters\n",
    "alph_lst = [\"a\", \"b\", \"c\", \"d\", \"e\", \"f\", \"g\", \"h\", \"i\", \"j\" ] "
   ]
  },
  {
   "cell_type": "code",
   "execution_count": 6,
   "id": "f8b08452",
   "metadata": {},
   "outputs": [
    {
     "name": "stdout",
     "output_type": "stream",
     "text": [
      "['a', 'b', 'c']\n"
     ]
    }
   ],
   "source": [
    "# Print the first three letters from the list\n",
    "\n",
    "print(alph_lst[0:3]) #Way 01"
   ]
  },
  {
   "cell_type": "code",
   "execution_count": 11,
   "id": "5a85310d",
   "metadata": {},
   "outputs": [
    {
     "name": "stdout",
     "output_type": "stream",
     "text": [
      "a, b, c, "
     ]
    }
   ],
   "source": [
    "for i in range(0,3):\n",
    "    print(alph_lst[i], end=\", \")\n",
    "    "
   ]
  },
  {
   "cell_type": "code",
   "execution_count": 12,
   "id": "8c48f367",
   "metadata": {},
   "outputs": [
    {
     "data": {
      "text/plain": [
       "['e', 'f', 'g']"
      ]
     },
     "execution_count": 12,
     "metadata": {},
     "output_type": "execute_result"
    }
   ],
   "source": [
    "#  Print any three letters from the middle i\n",
    "alph_lst[4:7]"
   ]
  },
  {
   "cell_type": "code",
   "execution_count": 13,
   "id": "d71e6e43",
   "metadata": {},
   "outputs": [
    {
     "data": {
      "text/plain": [
       "['e', 'f', 'g', 'h', 'i', 'j']"
      ]
     },
     "execution_count": 13,
     "metadata": {},
     "output_type": "execute_result"
    }
   ],
   "source": [
    "#  Print the letters from any particular index to the end of the list\n",
    "alph_lst[4: ]"
   ]
  },
  {
   "cell_type": "markdown",
   "id": "520ad811",
   "metadata": {},
   "source": [
    "Excercise 02: Write a program using reduce () function to calculate the sum of first 10 natural numbers"
   ]
  },
  {
   "cell_type": "code",
   "execution_count": 1,
   "id": "71e3c942",
   "metadata": {},
   "outputs": [
    {
     "name": "stdout",
     "output_type": "stream",
     "text": [
      "Sum of the values in list: \n",
      "55\n"
     ]
    }
   ],
   "source": [
    "from functools import reduce\n",
    "def add(num1, num2):\n",
    "    return num1 + num2\n",
    "\n",
    "num_lst = [1, 2, 3, 4, 5, 6, 7, 8, 9, 10]\n",
    "\n",
    "print(\"Sum of the values in list: \")\n",
    "print(reduce(add, num_lst))"
   ]
  },
  {
   "cell_type": "markdown",
   "id": "32d193f8",
   "metadata": {},
   "source": [
    "Excercise 03: Write a program that creates a list [\"a\", \"b\", \"c\"], then create a tuple from that list. Now do the opposite. That is, create the tuple(\"a\", \"b\", \"c\") and then create a list from it"
   ]
  },
  {
   "cell_type": "code",
   "execution_count": 2,
   "id": "f231d7d2",
   "metadata": {},
   "outputs": [],
   "source": [
    "lst = [\"a\", \"b\", \"c\"]\n",
    "\n",
    "#create a tuple from that list \n",
    "tple = tuple(lst)\n",
    "\n",
    "#create a list from that tuple \n",
    "lst = list(tple)"
   ]
  },
  {
   "cell_type": "code",
   "execution_count": 4,
   "id": "f8833ffe",
   "metadata": {},
   "outputs": [
    {
     "data": {
      "text/plain": [
       "('a', 'b', 'c')"
      ]
     },
     "execution_count": 4,
     "metadata": {},
     "output_type": "execute_result"
    }
   ],
   "source": [
    "tple"
   ]
  },
  {
   "cell_type": "code",
   "execution_count": null,
   "id": "1f452d83",
   "metadata": {},
   "outputs": [],
   "source": [
    "t"
   ]
  }
 ],
 "metadata": {
  "kernelspec": {
   "display_name": "Python 3 (ipykernel)",
   "language": "python",
   "name": "python3"
  },
  "language_info": {
   "codemirror_mode": {
    "name": "ipython",
    "version": 3
   },
   "file_extension": ".py",
   "mimetype": "text/x-python",
   "name": "python",
   "nbconvert_exporter": "python",
   "pygments_lexer": "ipython3",
   "version": "3.10.6"
  }
 },
 "nbformat": 4,
 "nbformat_minor": 5
}
