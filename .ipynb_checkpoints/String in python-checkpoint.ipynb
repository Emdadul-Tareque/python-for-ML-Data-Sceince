{
 "cells": [
  {
   "cell_type": "markdown",
   "id": "6ab1a2fd",
   "metadata": {},
   "source": [
    "## String Declaration"
   ]
  },
  {
   "cell_type": "code",
   "execution_count": 1,
   "id": "2e3e5db6",
   "metadata": {},
   "outputs": [],
   "source": [
    "#declare & create a  string using constructor of a str class\n",
    "s1 = str() #create a empty string object \n",
    "s2 = str(\"string declararion\")"
   ]
  },
  {
   "cell_type": "code",
   "execution_count": 2,
   "id": "eb965081",
   "metadata": {},
   "outputs": [
    {
     "data": {
      "text/plain": [
       "'string declararion'"
      ]
     },
     "execution_count": 2,
     "metadata": {},
     "output_type": "execute_result"
    }
   ],
   "source": [
    "s2"
   ]
  },
  {
   "cell_type": "code",
   "execution_count": 3,
   "id": "df4003ea",
   "metadata": {},
   "outputs": [],
   "source": [
    "#create a string with using double cotation\n",
    "s1 = \" \" #create a empty string\n",
    "s2 = \"Hello\""
   ]
  },
  {
   "cell_type": "code",
   "execution_count": 6,
   "id": "7a178e53",
   "metadata": {},
   "outputs": [
    {
     "data": {
      "text/plain": [
       "'Hello'"
      ]
     },
     "execution_count": 6,
     "metadata": {},
     "output_type": "execute_result"
    }
   ],
   "source": [
    "s2"
   ]
  },
  {
   "cell_type": "markdown",
   "id": "92008c3a",
   "metadata": {},
   "source": [
    "## InBuid python functions for strings"
   ]
  },
  {
   "cell_type": "code",
   "execution_count": 7,
   "id": "6f36a40d",
   "metadata": {},
   "outputs": [],
   "source": [
    "string = \" I love my country\""
   ]
  },
  {
   "cell_type": "code",
   "execution_count": 9,
   "id": "f7bce341",
   "metadata": {},
   "outputs": [
    {
     "data": {
      "text/plain": [
       "18"
      ]
     },
     "execution_count": 9,
     "metadata": {},
     "output_type": "execute_result"
    }
   ],
   "source": [
    "len(string) # number of charaters in string"
   ]
  },
  {
   "cell_type": "code",
   "execution_count": 10,
   "id": "4337cfb3",
   "metadata": {},
   "outputs": [
    {
     "data": {
      "text/plain": [
       "' '"
      ]
     },
     "execution_count": 10,
     "metadata": {},
     "output_type": "execute_result"
    }
   ],
   "source": [
    "min(string) #samllest character in a string"
   ]
  },
  {
   "cell_type": "code",
   "execution_count": 11,
   "id": "57809475",
   "metadata": {},
   "outputs": [
    {
     "data": {
      "text/plain": [
       "'y'"
      ]
     },
     "execution_count": 11,
     "metadata": {},
     "output_type": "execute_result"
    }
   ],
   "source": [
    "max(string) #largest character in a string"
   ]
  },
  {
   "cell_type": "markdown",
   "id": "f1d12a37",
   "metadata": {},
   "source": [
    "## Access value in a string"
   ]
  },
  {
   "cell_type": "code",
   "execution_count": 12,
   "id": "37c89a39",
   "metadata": {},
   "outputs": [],
   "source": [
    "name = \"Emdadul\""
   ]
  },
  {
   "cell_type": "code",
   "execution_count": 13,
   "id": "ee901245",
   "metadata": {},
   "outputs": [
    {
     "data": {
      "text/plain": [
       "'E'"
      ]
     },
     "execution_count": 13,
     "metadata": {},
     "output_type": "execute_result"
    }
   ],
   "source": [
    "name[0]"
   ]
  },
  {
   "cell_type": "code",
   "execution_count": 18,
   "id": "75d598e6",
   "metadata": {},
   "outputs": [
    {
     "data": {
      "text/plain": [
       "'d'"
      ]
     },
     "execution_count": 18,
     "metadata": {},
     "output_type": "execute_result"
    }
   ],
   "source": [
    "name[4]"
   ]
  },
  {
   "cell_type": "code",
   "execution_count": 19,
   "id": "9779905b",
   "metadata": {},
   "outputs": [],
   "source": [
    "length = len(name)"
   ]
  },
  {
   "cell_type": "markdown",
   "id": "48c3f335",
   "metadata": {},
   "source": [
    "### Accesing Characters vi negative index"
   ]
  },
  {
   "cell_type": "code",
   "execution_count": 25,
   "id": "4c6eb13a",
   "metadata": {},
   "outputs": [],
   "source": [
    "name = \"Emdadul\""
   ]
  },
  {
   "cell_type": "code",
   "execution_count": 26,
   "id": "3445ff13",
   "metadata": {},
   "outputs": [
    {
     "data": {
      "text/plain": [
       "'l'"
      ]
     },
     "execution_count": 26,
     "metadata": {},
     "output_type": "execute_result"
    }
   ],
   "source": [
    "name[-1]"
   ]
  },
  {
   "cell_type": "code",
   "execution_count": 28,
   "id": "bdc0af96",
   "metadata": {},
   "outputs": [
    {
     "data": {
      "text/plain": [
       "'d'"
      ]
     },
     "execution_count": 28,
     "metadata": {},
     "output_type": "execute_result"
    }
   ],
   "source": [
    "name[-3]"
   ]
  },
  {
   "cell_type": "markdown",
   "id": "366fc615",
   "metadata": {},
   "source": [
    "## Traversing string"
   ]
  },
  {
   "cell_type": "code",
   "execution_count": 29,
   "id": "74febdaf",
   "metadata": {},
   "outputs": [],
   "source": [
    "name = \"Emdadul\""
   ]
  },
  {
   "cell_type": "code",
   "execution_count": 30,
   "id": "8d143dfb",
   "metadata": {},
   "outputs": [
    {
     "name": "stdout",
     "output_type": "stream",
     "text": [
      "Emdadul"
     ]
    }
   ],
   "source": [
    "for char in name:\n",
    "    print(char, end=\"\")"
   ]
  },
  {
   "cell_type": "code",
   "execution_count": 32,
   "id": "2171d295",
   "metadata": {},
   "outputs": [
    {
     "name": "stdout",
     "output_type": "stream",
     "text": [
      "Emdadul"
     ]
    }
   ],
   "source": [
    "#another way \n",
    "str_len = len(name)\n",
    "\n",
    "for i in range(str_len):\n",
    "    print(name[i], end=\"\")"
   ]
  },
  {
   "cell_type": "raw",
   "id": "05a2b6d9",
   "metadata": {},
   "source": [
    "Problem 01: Write a program to traverse every second character of a string"
   ]
  },
  {
   "cell_type": "code",
   "execution_count": 37,
   "id": "af46554e",
   "metadata": {},
   "outputs": [
    {
     "name": "stdout",
     "output_type": "stream",
     "text": [
      "I l v   y h n p o r m i g "
     ]
    }
   ],
   "source": [
    "sentence = \"I love python programming\"\n",
    "for ch in range(0, len(sentence), 2):\n",
    "    print(sentence[ch], end=\" \")"
   ]
  },
  {
   "cell_type": "code",
   "execution_count": 38,
   "id": "c980bcf3",
   "metadata": {},
   "outputs": [],
   "source": [
    "#sting immutable that means you cann't change string value in same memory location\n",
    "\n",
    "str1 = \"I love python\""
   ]
  },
  {
   "cell_type": "code",
   "execution_count": 39,
   "id": "a4402fea",
   "metadata": {},
   "outputs": [
    {
     "data": {
      "text/plain": [
       "'I'"
      ]
     },
     "execution_count": 39,
     "metadata": {},
     "output_type": "execute_result"
    }
   ],
   "source": [
    "str1[0]"
   ]
  },
  {
   "cell_type": "code",
   "execution_count": 41,
   "id": "3c989f89",
   "metadata": {},
   "outputs": [
    {
     "ename": "TypeError",
     "evalue": "'str' object does not support item assignment",
     "output_type": "error",
     "traceback": [
      "\u001b[0;31m---------------------------------------------------------------------------\u001b[0m",
      "\u001b[0;31mTypeError\u001b[0m                                 Traceback (most recent call last)",
      "Cell \u001b[0;32mIn[41], line 1\u001b[0m\n\u001b[0;32m----> 1\u001b[0m \u001b[43mstr1\u001b[49m\u001b[43m[\u001b[49m\u001b[38;5;241;43m0\u001b[39;49m\u001b[43m]\u001b[49m \u001b[38;5;241m=\u001b[39m \u001b[38;5;124m\"\u001b[39m\u001b[38;5;124mE\u001b[39m\u001b[38;5;124m\"\u001b[39m\n",
      "\u001b[0;31mTypeError\u001b[0m: 'str' object does not support item assignment"
     ]
    }
   ],
   "source": [
    "str1[0] = \"E\""
   ]
  },
  {
   "cell_type": "markdown",
   "id": "1892a486",
   "metadata": {},
   "source": [
    "## String Slicing Operator [start: end]"
   ]
  },
  {
   "cell_type": "code",
   "execution_count": 42,
   "id": "c6dff35c",
   "metadata": {},
   "outputs": [],
   "source": [
    "s = \"Emdadul\""
   ]
  },
  {
   "cell_type": "code",
   "execution_count": 43,
   "id": "6b8836d6",
   "metadata": {},
   "outputs": [
    {
     "data": {
      "text/plain": [
       "'Emdadu'"
      ]
     },
     "execution_count": 43,
     "metadata": {},
     "output_type": "execute_result"
    }
   ],
   "source": [
    "#string_name[start index: End index+1]\n",
    "s[0:6]"
   ]
  },
  {
   "cell_type": "code",
   "execution_count": 44,
   "id": "7facc539",
   "metadata": {},
   "outputs": [
    {
     "data": {
      "text/plain": [
       "'Emdadul'"
      ]
     },
     "execution_count": 44,
     "metadata": {},
     "output_type": "execute_result"
    }
   ],
   "source": [
    "s[0:7]"
   ]
  },
  {
   "cell_type": "code",
   "execution_count": 46,
   "id": "2acd9e79",
   "metadata": {},
   "outputs": [
    {
     "data": {
      "text/plain": [
       "'Eddl'"
      ]
     },
     "execution_count": 46,
     "metadata": {},
     "output_type": "execute_result"
    }
   ],
   "source": [
    "#string slicing with step size \n",
    "s[0:7:2] #string_name[start index: end index+1:number of step]"
   ]
  },
  {
   "cell_type": "code",
   "execution_count": 47,
   "id": "c2aa07bc",
   "metadata": {},
   "outputs": [
    {
     "data": {
      "text/plain": [
       "'Emdadul'"
      ]
     },
     "execution_count": 47,
     "metadata": {},
     "output_type": "execute_result"
    }
   ],
   "source": [
    "s[::]"
   ]
  },
  {
   "cell_type": "code",
   "execution_count": 48,
   "id": "a5cd0a8c",
   "metadata": {},
   "outputs": [
    {
     "data": {
      "text/plain": [
       "'ludadmE'"
      ]
     },
     "execution_count": 48,
     "metadata": {},
     "output_type": "execute_result"
    }
   ],
   "source": [
    "s[::-1] #print string in reverse"
   ]
  },
  {
   "cell_type": "code",
   "execution_count": 49,
   "id": "9b322298",
   "metadata": {},
   "outputs": [
    {
     "data": {
      "text/plain": [
       "'ludadm'"
      ]
     },
     "execution_count": 49,
     "metadata": {},
     "output_type": "execute_result"
    }
   ],
   "source": [
    "s[-1:0:-1]"
   ]
  },
  {
   "cell_type": "markdown",
   "id": "5fdc96dc",
   "metadata": {},
   "source": [
    "## The string +, * and in operators"
   ]
  },
  {
   "cell_type": "code",
   "execution_count": 54,
   "id": "045fbaf2",
   "metadata": {},
   "outputs": [],
   "source": [
    "# \"+\" operator\n",
    "first_name = \"Emdadul \"\n",
    "last_name = \"Tareque\""
   ]
  },
  {
   "cell_type": "code",
   "execution_count": 55,
   "id": "17ffbd5f",
   "metadata": {},
   "outputs": [
    {
     "data": {
      "text/plain": [
       "'Emdadul Tareque'"
      ]
     },
     "execution_count": 55,
     "metadata": {},
     "output_type": "execute_result"
    }
   ],
   "source": [
    "first_name + last_name"
   ]
  },
  {
   "cell_type": "code",
   "execution_count": 58,
   "id": "8e05e3b4",
   "metadata": {},
   "outputs": [],
   "source": [
    "# \"*\" operator \n",
    "s1 = \"tareque \"\n",
    "s2 = s1 * 3"
   ]
  },
  {
   "cell_type": "code",
   "execution_count": 59,
   "id": "ea3af453",
   "metadata": {},
   "outputs": [
    {
     "data": {
      "text/plain": [
       "'tareque tareque tareque '"
      ]
     },
     "execution_count": 59,
     "metadata": {},
     "output_type": "execute_result"
    }
   ],
   "source": [
    "s2"
   ]
  },
  {
   "cell_type": "code",
   "execution_count": 60,
   "id": "d0a6b6ce",
   "metadata": {},
   "outputs": [],
   "source": [
    "# \"in operator\"\n",
    "s1 = \"Emdadul Tareque\""
   ]
  },
  {
   "cell_type": "code",
   "execution_count": 61,
   "id": "c274627e",
   "metadata": {},
   "outputs": [
    {
     "data": {
      "text/plain": [
       "False"
      ]
     },
     "execution_count": 61,
     "metadata": {},
     "output_type": "execute_result"
    }
   ],
   "source": [
    "\"tareque\" in s1"
   ]
  },
  {
   "cell_type": "code",
   "execution_count": 62,
   "id": "3aceb188",
   "metadata": {},
   "outputs": [
    {
     "data": {
      "text/plain": [
       "False"
      ]
     },
     "execution_count": 62,
     "metadata": {},
     "output_type": "execute_result"
    }
   ],
   "source": [
    "\"xyz\" in s1"
   ]
  },
  {
   "cell_type": "raw",
   "id": "6b17d9bc",
   "metadata": {},
   "source": [
    "Problem 01: Write a program to print all the letters from word1 that also appear in word2.\n",
    "\n",
    "Example: \n",
    "word1 = Dhaka North City Corporation\n",
    "word2 = Dhaka South City Corporation\n",
    "\n",
    "#print the letter that appear in word1 and also word2 \n",
    "\n",
    "output:\n",
    "Dhaka outh City Corporation"
   ]
  },
  {
   "cell_type": "code",
   "execution_count": 67,
   "id": "9f4dfaa3",
   "metadata": {},
   "outputs": [
    {
     "name": "stdout",
     "output_type": "stream",
     "text": [
      "Dhaka orth City Corporation"
     ]
    }
   ],
   "source": [
    "word1 = \"Dhaka North City Corporation\"\n",
    "word2 = \"Dhaka South City Corporation\"\n",
    "\n",
    "# for i in range(len(word1)):\n",
    "#     if word2[i] == word1[i]:\n",
    "#         print(word2[i], end=\"\")\n",
    "\n",
    "for letter in word1:\n",
    "\n",
    "    if letter in word2:\n",
    "        print(letter, end=\"\")"
   ]
  },
  {
   "cell_type": "markdown",
   "id": "09a17c65",
   "metadata": {},
   "source": [
    "## String Operations"
   ]
  },
  {
   "cell_type": "markdown",
   "id": "ad9de12b",
   "metadata": {},
   "source": [
    "The str class provides different basic methods to perform various operations on a string. It helps to calculate the length of a string, to retrieve the individua characters from the giveb string and to compare and concatenate the two different strings."
   ]
  },
  {
   "cell_type": "markdown",
   "id": "f7d3a4a1",
   "metadata": {},
   "source": [
    "### String comparison"
   ]
  },
  {
   "cell_type": "code",
   "execution_count": 76,
   "id": "81cc9a3a",
   "metadata": {},
   "outputs": [],
   "source": [
    "s1 = \"xyz\"\n",
    "s2 = \"XYZ\""
   ]
  },
  {
   "cell_type": "code",
   "execution_count": 77,
   "id": "a3d905da",
   "metadata": {},
   "outputs": [
    {
     "data": {
      "text/plain": [
       "False"
      ]
     },
     "execution_count": 77,
     "metadata": {},
     "output_type": "execute_result"
    }
   ],
   "source": [
    "s1==s2"
   ]
  },
  {
   "cell_type": "code",
   "execution_count": 79,
   "id": "d4728138",
   "metadata": {},
   "outputs": [
    {
     "data": {
      "text/plain": [
       "'XYZ'"
      ]
     },
     "execution_count": 79,
     "metadata": {},
     "output_type": "execute_result"
    }
   ],
   "source": [
    "s1.upper()"
   ]
  },
  {
   "cell_type": "code",
   "execution_count": null,
   "id": "37baf241",
   "metadata": {},
   "outputs": [],
   "source": []
  }
 ],
 "metadata": {
  "kernelspec": {
   "display_name": "Python 3 (ipykernel)",
   "language": "python",
   "name": "python3"
  },
  "language_info": {
   "codemirror_mode": {
    "name": "ipython",
    "version": 3
   },
   "file_extension": ".py",
   "mimetype": "text/x-python",
   "name": "python",
   "nbconvert_exporter": "python",
   "pygments_lexer": "ipython3",
   "version": "3.10.6"
  }
 },
 "nbformat": 4,
 "nbformat_minor": 5
}
