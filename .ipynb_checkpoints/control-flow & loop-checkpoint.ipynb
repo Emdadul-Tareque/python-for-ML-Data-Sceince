{
 "cells": [
  {
   "cell_type": "code",
   "execution_count": 1,
   "id": "34fae163",
   "metadata": {},
   "outputs": [
    {
     "name": "stdout",
     "output_type": "stream",
     "text": [
      "You got A+\n"
     ]
    }
   ],
   "source": [
    "marks = 80\n",
    "\n",
    "if marks >= 80:\n",
    "    print(\"You got A+\")\n",
    "elif marks >= 70 and marks < 80:\n",
    "    print(\"You got A\")\n",
    "elif marks >=60 and marks < 70:\n",
    "    print(\"You got A-\")\n",
    "else:\n",
    "    print(\"You got B\")\n",
    "    "
   ]
  },
  {
   "cell_type": "code",
   "execution_count": 2,
   "id": "d4ba188f",
   "metadata": {},
   "outputs": [
    {
     "name": "stdout",
     "output_type": "stream",
     "text": [
      "Input your marks: 75\n",
      "You got A\n"
     ]
    }
   ],
   "source": [
    "marks = int(input(\"Input your marks: \"))\n",
    "\n",
    "if marks >= 80:\n",
    "    print(\"You got A+\")\n",
    "elif marks >= 70 and marks < 80:\n",
    "    print(\"You got A\")\n",
    "elif marks >=60 and marks < 70:\n",
    "    print(\"You got A-\")\n",
    "else:\n",
    "    print(\"You got B\")\n",
    "    "
   ]
  },
  {
   "cell_type": "code",
   "execution_count": 3,
   "id": "0948dffa",
   "metadata": {},
   "outputs": [],
   "source": [
    "lst = [1,2,3,4, 5, 6, 7, 8]"
   ]
  },
  {
   "cell_type": "code",
   "execution_count": 9,
   "id": "043f5bc1",
   "metadata": {},
   "outputs": [],
   "source": [
    "lst1 = []"
   ]
  },
  {
   "cell_type": "code",
   "execution_count": 10,
   "id": "a41382ae",
   "metadata": {},
   "outputs": [],
   "source": [
    "for item in lst:\n",
    "    value = item+2\n",
    "    lst1.append(value)"
   ]
  },
  {
   "cell_type": "code",
   "execution_count": 11,
   "id": "113756a6",
   "metadata": {},
   "outputs": [
    {
     "data": {
      "text/plain": [
       "[3, 4, 5, 6, 7, 8, 9, 10]"
      ]
     },
     "execution_count": 11,
     "metadata": {},
     "output_type": "execute_result"
    }
   ],
   "source": [
    "lst1"
   ]
  },
  {
   "cell_type": "code",
   "execution_count": 13,
   "id": "5f68f776",
   "metadata": {},
   "outputs": [],
   "source": [
    "name_lst = [\"emdadul\", \"hoque\", \"tareque\"]\n",
    "upper_name_lst = []"
   ]
  },
  {
   "cell_type": "code",
   "execution_count": 14,
   "id": "5eeafe0e",
   "metadata": {},
   "outputs": [],
   "source": [
    "for name in name_lst:\n",
    "    upper_name_lst.append(name.upper())"
   ]
  },
  {
   "cell_type": "code",
   "execution_count": 15,
   "id": "8e466856",
   "metadata": {},
   "outputs": [
    {
     "data": {
      "text/plain": [
       "['EMDADUL', 'HOQUE', 'TAREQUE']"
      ]
     },
     "execution_count": 15,
     "metadata": {},
     "output_type": "execute_result"
    }
   ],
   "source": [
    "upper_name_lst"
   ]
  },
  {
   "cell_type": "code",
   "execution_count": 16,
   "id": "2fb6b848",
   "metadata": {},
   "outputs": [],
   "source": [
    "lst = [1,2,3,4, \"emdadul\", \"hoque\", 12, 33, \"Tareque\"]"
   ]
  },
  {
   "cell_type": "code",
   "execution_count": 23,
   "id": "47e315ab",
   "metadata": {},
   "outputs": [],
   "source": [
    "numerical_lst = []\n",
    "string_lst = []"
   ]
  },
  {
   "cell_type": "code",
   "execution_count": 31,
   "id": "f3906c9f",
   "metadata": {},
   "outputs": [],
   "source": [
    "for value in lst:\n",
    "    if type(value) == int:\n",
    "        numerical_lst.append(value)\n",
    "    elif type(value) == str:\n",
    "        string_lst.append(value)"
   ]
  },
  {
   "cell_type": "code",
   "execution_count": 32,
   "id": "c6a120ff",
   "metadata": {},
   "outputs": [
    {
     "data": {
      "text/plain": [
       "[1, 2, 3, 4, 12, 33, 1, 2, 3, 4, 12, 33]"
      ]
     },
     "execution_count": 32,
     "metadata": {},
     "output_type": "execute_result"
    }
   ],
   "source": [
    "numerical_lst"
   ]
  },
  {
   "cell_type": "code",
   "execution_count": 33,
   "id": "b01bebfa",
   "metadata": {},
   "outputs": [
    {
     "data": {
      "text/plain": [
       "['emdadul', 'hoque', 'Tareque']"
      ]
     },
     "execution_count": 33,
     "metadata": {},
     "output_type": "execute_result"
    }
   ],
   "source": [
    "string_lst"
   ]
  },
  {
   "cell_type": "markdown",
   "id": "1f178286",
   "metadata": {},
   "source": [
    "# Leap year"
   ]
  },
  {
   "cell_type": "markdown",
   "id": "71b3f91f",
   "metadata": {},
   "source": []
  }
 ],
 "metadata": {
  "kernelspec": {
   "display_name": "Python 3 (ipykernel)",
   "language": "python",
   "name": "python3"
  },
  "language_info": {
   "codemirror_mode": {
    "name": "ipython",
    "version": 3
   },
   "file_extension": ".py",
   "mimetype": "text/x-python",
   "name": "python",
   "nbconvert_exporter": "python",
   "pygments_lexer": "ipython3",
   "version": "3.10.6"
  }
 },
 "nbformat": 4,
 "nbformat_minor": 5
}
