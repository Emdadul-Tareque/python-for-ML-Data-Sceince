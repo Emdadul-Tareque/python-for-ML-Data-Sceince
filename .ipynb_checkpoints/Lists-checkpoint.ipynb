{
 "cells": [
  {
   "cell_type": "markdown",
   "id": "9bf188fc",
   "metadata": {},
   "source": [
    "## Creating lists"
   ]
  },
  {
   "cell_type": "markdown",
   "id": "addae941",
   "metadata": {},
   "source": [
    "### creating list using constructor of the list class"
   ]
  },
  {
   "cell_type": "code",
   "execution_count": 1,
   "id": "497dbc9e",
   "metadata": {},
   "outputs": [
    {
     "data": {
      "text/plain": [
       "[]"
      ]
     },
     "execution_count": 1,
     "metadata": {},
     "output_type": "execute_result"
    }
   ],
   "source": [
    "#create an empty list\n",
    "l1 = list()\n",
    "l1"
   ]
  },
  {
   "cell_type": "code",
   "execution_count": 3,
   "id": "d7cff0d1",
   "metadata": {},
   "outputs": [
    {
     "data": {
      "text/plain": [
       "[10, 20, 30, 40]"
      ]
     },
     "execution_count": 3,
     "metadata": {},
     "output_type": "execute_result"
    }
   ],
   "source": [
    "#create a list with integer elements\n",
    "l2 = list([10, 20, 30, 40])\n",
    "l2"
   ]
  },
  {
   "cell_type": "code",
   "execution_count": 4,
   "id": "9ecfb544",
   "metadata": {},
   "outputs": [
    {
     "data": {
      "text/plain": [
       "['Banana', 'Apple', 'Grapes']"
      ]
     },
     "execution_count": 4,
     "metadata": {},
     "output_type": "execute_result"
    }
   ],
   "source": [
    "#create a list with string elements\n",
    "l3 = list([\"Banana\", \"Apple\", \"Grapes\"])\n",
    "l3"
   ]
  },
  {
   "cell_type": "code",
   "execution_count": 9,
   "id": "d5f8375d",
   "metadata": {},
   "outputs": [
    {
     "data": {
      "text/plain": [
       "[1, 2, 3, 4, 5, 6, 7, 8, 9, 10]"
      ]
     },
     "execution_count": 9,
     "metadata": {},
     "output_type": "execute_result"
    }
   ],
   "source": [
    "#create a list with inbuilt range() function\n",
    "l4 = list(range(1, 11))\n",
    "l4"
   ]
  },
  {
   "cell_type": "code",
   "execution_count": 10,
   "id": "8c2c5db1",
   "metadata": {},
   "outputs": [
    {
     "data": {
      "text/plain": [
       "['x', 'y', 'z']"
      ]
     },
     "execution_count": 10,
     "metadata": {},
     "output_type": "execute_result"
    }
   ],
   "source": [
    "l5 = list(\"xyz\")\n",
    "l5"
   ]
  },
  {
   "cell_type": "markdown",
   "id": "2b678a90",
   "metadata": {},
   "source": [
    "### Creat a list with out using constructor"
   ]
  },
  {
   "cell_type": "code",
   "execution_count": 11,
   "id": "7306c5c2",
   "metadata": {},
   "outputs": [
    {
     "data": {
      "text/plain": [
       "[10, 20, 30, 40, 50]"
      ]
     },
     "execution_count": 11,
     "metadata": {},
     "output_type": "execute_result"
    }
   ],
   "source": [
    "#create a list with any integer elements\n",
    "\n",
    "l1 = [10, 20, 30, 40, 50]\n",
    "l1"
   ]
  },
  {
   "cell_type": "code",
   "execution_count": 12,
   "id": "1c088134",
   "metadata": {},
   "outputs": [
    {
     "data": {
      "text/plain": [
       "['Apple', 'Banana', 'Mangoes']"
      ]
     },
     "execution_count": 12,
     "metadata": {},
     "output_type": "execute_result"
    }
   ],
   "source": [
    "#create a list with three string elements\n",
    "l2 = [\"Apple\", \"Banana\", \"Mangoes\"]\n",
    "l2"
   ]
  },
  {
   "cell_type": "code",
   "execution_count": 13,
   "id": "aa954bda",
   "metadata": {},
   "outputs": [
    {
     "data": {
      "text/plain": [
       "['Apple', 'Banana', 'Mangoes', 10, 20, 30, 40, 3.58, ['Emdadul', 'Tareque']]"
      ]
     },
     "execution_count": 13,
     "metadata": {},
     "output_type": "execute_result"
    }
   ],
   "source": [
    "#create a list with different kinds of data types\n",
    "\n",
    "l3 = [\"Apple\", \"Banana\", \"Mangoes\", 10, 20, 30, 40, 3.58, [\"Emdadul\", \"Tareque\"]]\n",
    "l3"
   ]
  },
  {
   "cell_type": "markdown",
   "id": "ac8ebabe",
   "metadata": {},
   "source": [
    "## Accessing the elements of a list "
   ]
  },
  {
   "cell_type": "code",
   "execution_count": 14,
   "id": "e99938e5",
   "metadata": {},
   "outputs": [],
   "source": [
    "l1 = [10, 20 , 30, 40, 50]"
   ]
  },
  {
   "cell_type": "code",
   "execution_count": 16,
   "id": "fe76fa90",
   "metadata": {},
   "outputs": [
    {
     "data": {
      "text/plain": [
       "10"
      ]
     },
     "execution_count": 16,
     "metadata": {},
     "output_type": "execute_result"
    }
   ],
   "source": [
    "l1[0]"
   ]
  },
  {
   "cell_type": "code",
   "execution_count": 17,
   "id": "e02e07b8",
   "metadata": {},
   "outputs": [
    {
     "data": {
      "text/plain": [
       "40"
      ]
     },
     "execution_count": 17,
     "metadata": {},
     "output_type": "execute_result"
    }
   ],
   "source": [
    "l1[3]"
   ]
  },
  {
   "cell_type": "code",
   "execution_count": 23,
   "id": "130363b7",
   "metadata": {},
   "outputs": [
    {
     "name": "stdout",
     "output_type": "stream",
     "text": [
      "[10, 20, 30, 40, 50]\n",
      "50 40 30\n"
     ]
    }
   ],
   "source": [
    "# Access element of a list using negative indexing\n",
    "\n",
    "print(l1)\n",
    "print(l1[-1], l1[-2], l1[-3])"
   ]
  },
  {
   "cell_type": "code",
   "execution_count": 24,
   "id": "ae8ef62c",
   "metadata": {},
   "outputs": [
    {
     "name": "stdout",
     "output_type": "stream",
     "text": [
      "1 2 3 4 5 6 7 8 "
     ]
    }
   ],
   "source": [
    "# Access elemnt of list using loop\n",
    "\n",
    "lst = [1, 2, 3, 4, 5, 6, 7, 8]\n",
    "\n",
    "for item in lst:\n",
    "    print(item, end=\" \")"
   ]
  },
  {
   "cell_type": "markdown",
   "id": "59e93741",
   "metadata": {},
   "source": [
    "#### Problem 01: Find even number from a list"
   ]
  },
  {
   "cell_type": "code",
   "execution_count": 27,
   "id": "49e41666",
   "metadata": {},
   "outputs": [
    {
     "name": "stdout",
     "output_type": "stream",
     "text": [
      "Given list:  [1, 2, 3, 4, 5, 6, 7, 8]\n",
      "Even numbers: 2 4 6 8 "
     ]
    }
   ],
   "source": [
    "lst = [1, 2, 3, 4, 5, 6, 7, 8]\n",
    "print(\"Given list: \", lst)\n",
    "print(\"Even numbers:\", end=\" \")\n",
    "for item in lst:\n",
    "    if item % 2 == 0:\n",
    "        print(item, end=\" \")"
   ]
  },
  {
   "cell_type": "markdown",
   "id": "6c3b2460",
   "metadata": {},
   "source": [
    "## List Slicing"
   ]
  },
  {
   "cell_type": "code",
   "execution_count": 28,
   "id": "91f05f47",
   "metadata": {},
   "outputs": [
    {
     "data": {
      "text/plain": [
       "[20, 30, 40]"
      ]
     },
     "execution_count": 28,
     "metadata": {},
     "output_type": "execute_result"
    }
   ],
   "source": [
    "l1 = [10, 20, 30, 40, 50]\n",
    "l1[1: 4]"
   ]
  },
  {
   "cell_type": "code",
   "execution_count": 29,
   "id": "e78b0e54",
   "metadata": {},
   "outputs": [
    {
     "data": {
      "text/plain": [
       "[20, 40]"
      ]
     },
     "execution_count": 29,
     "metadata": {},
     "output_type": "execute_result"
    }
   ],
   "source": [
    "l1[1::2]"
   ]
  },
  {
   "cell_type": "code",
   "execution_count": 30,
   "id": "90717b5d",
   "metadata": {},
   "outputs": [
    {
     "data": {
      "text/plain": [
       "[50, 40, 30, 20, 10]"
      ]
     },
     "execution_count": 30,
     "metadata": {},
     "output_type": "execute_result"
    }
   ],
   "source": [
    "# reverse printing \n",
    "l1[::-1]"
   ]
  },
  {
   "cell_type": "code",
   "execution_count": 31,
   "id": "66a0b824",
   "metadata": {},
   "outputs": [
    {
     "data": {
      "text/plain": [
       "[40, 30, 20, 10]"
      ]
     },
     "execution_count": 31,
     "metadata": {},
     "output_type": "execute_result"
    }
   ],
   "source": [
    "l1[-2::-1]"
   ]
  },
  {
   "cell_type": "markdown",
   "id": "d112bcd2",
   "metadata": {},
   "source": [
    "## Python inbuild functions for lists"
   ]
  },
  {
   "cell_type": "raw",
   "id": "418772e4",
   "metadata": {},
   "source": [
    "len() --> Returns the number of elements in a list\n",
    "max() --> Returns the elements with the greatest value\n",
    "min() --> Returns the elements with the lowest value\n",
    "sum() --> Returns the sum of all the elements\n",
    "random.shuffle() --> Shuffles the elements randomly"
   ]
  },
  {
   "cell_type": "code",
   "execution_count": 32,
   "id": "f28f7f4d",
   "metadata": {},
   "outputs": [
    {
     "data": {
      "text/plain": [
       "5"
      ]
     },
     "execution_count": 32,
     "metadata": {},
     "output_type": "execute_result"
    }
   ],
   "source": [
    "l1 = [10, 20, 30, 40, 50]\n",
    "len(l1)"
   ]
  },
  {
   "cell_type": "code",
   "execution_count": 33,
   "id": "8c1867ca",
   "metadata": {},
   "outputs": [
    {
     "data": {
      "text/plain": [
       "50"
      ]
     },
     "execution_count": 33,
     "metadata": {},
     "output_type": "execute_result"
    }
   ],
   "source": [
    "max(l1)"
   ]
  },
  {
   "cell_type": "code",
   "execution_count": 34,
   "id": "cf591466",
   "metadata": {},
   "outputs": [
    {
     "data": {
      "text/plain": [
       "10"
      ]
     },
     "execution_count": 34,
     "metadata": {},
     "output_type": "execute_result"
    }
   ],
   "source": [
    "min(l1)"
   ]
  },
  {
   "cell_type": "code",
   "execution_count": 35,
   "id": "f42ec568",
   "metadata": {},
   "outputs": [
    {
     "data": {
      "text/plain": [
       "150"
      ]
     },
     "execution_count": 35,
     "metadata": {},
     "output_type": "execute_result"
    }
   ],
   "source": [
    "sum(l1)"
   ]
  },
  {
   "cell_type": "code",
   "execution_count": 38,
   "id": "c042df6d",
   "metadata": {},
   "outputs": [],
   "source": [
    "import random\n",
    "random.shuffle(l1)"
   ]
  },
  {
   "cell_type": "code",
   "execution_count": 39,
   "id": "88dc2e19",
   "metadata": {},
   "outputs": [
    {
     "data": {
      "text/plain": [
       "[40, 30, 10, 20, 50]"
      ]
     },
     "execution_count": 39,
     "metadata": {},
     "output_type": "execute_result"
    }
   ],
   "source": [
    "l1"
   ]
  },
  {
   "cell_type": "markdown",
   "id": "d35c6c38",
   "metadata": {},
   "source": [
    "## The List Operator"
   ]
  },
  {
   "cell_type": "code",
   "execution_count": 40,
   "id": "d8f3e2f2",
   "metadata": {},
   "outputs": [
    {
     "name": "stdout",
     "output_type": "stream",
     "text": [
      "[1, 2, 3, 4, 5, 6]\n"
     ]
    }
   ],
   "source": [
    "# the + operator: The concatenation operator is used to join two lists\n",
    "\n",
    "a = [1, 2, 3]\n",
    "b = [4, 5, 6]\n",
    "\n",
    "print(a+b)"
   ]
  },
  {
   "cell_type": "code",
   "execution_count": 43,
   "id": "f1702821",
   "metadata": {},
   "outputs": [],
   "source": [
    "# the * operator: the multiplication operator is used to replicate the elements of a list\n",
    "\n",
    "list1 = [10, 20, 30]\n",
    "list2 = [20, 30, 40]"
   ]
  },
  {
   "cell_type": "code",
   "execution_count": 45,
   "id": "5c49fc96",
   "metadata": {},
   "outputs": [
    {
     "data": {
      "text/plain": [
       "[20, 30, 40, 20, 30, 40]"
      ]
     },
     "execution_count": 45,
     "metadata": {},
     "output_type": "execute_result"
    }
   ],
   "source": [
    "list2*2"
   ]
  },
  {
   "cell_type": "code",
   "execution_count": 46,
   "id": "d5d2774c",
   "metadata": {},
   "outputs": [
    {
     "data": {
      "text/plain": [
       "True"
      ]
     },
     "execution_count": 46,
     "metadata": {},
     "output_type": "execute_result"
    }
   ],
   "source": [
    "# The in operator: The in operator used to determine whether an element is in a list. it returns True if the elements is present and False return if the element is absent in the list.\n",
    "\n",
    "list1 = [10, 20 , 30]\n",
    "\n",
    "30 in list1"
   ]
  },
  {
   "cell_type": "code",
   "execution_count": 48,
   "id": "8dee6f27",
   "metadata": {},
   "outputs": [
    {
     "data": {
      "text/plain": [
       "False"
      ]
     },
     "execution_count": 48,
     "metadata": {},
     "output_type": "execute_result"
    }
   ],
   "source": [
    "40 in list1"
   ]
  },
  {
   "cell_type": "code",
   "execution_count": 49,
   "id": "5247bc86",
   "metadata": {},
   "outputs": [
    {
     "data": {
      "text/plain": [
       "True"
      ]
     },
     "execution_count": 49,
     "metadata": {},
     "output_type": "execute_result"
    }
   ],
   "source": [
    "# The is operator: is operator used for checking is two variable indocate samne object or not \n",
    "\n",
    "A = \"Emdadul\"\n",
    "B = \"Emdadul\"\n",
    "\n",
    "A is B"
   ]
  },
  {
   "cell_type": "code",
   "execution_count": 50,
   "id": "b33523ce",
   "metadata": {},
   "outputs": [
    {
     "data": {
      "text/plain": [
       "False"
      ]
     },
     "execution_count": 50,
     "metadata": {},
     "output_type": "execute_result"
    }
   ],
   "source": [
    "A = [10, 20 , 30]\n",
    "B = [10, 20, 30]\n",
    "\n",
    "A is B"
   ]
  },
  {
   "cell_type": "raw",
   "id": "1b3299fb",
   "metadata": {},
   "source": [
    "The del Operator: The del operator stands for Delete. The del operator is used to remove the elements from a list. To delete the element of a list, the elements of the list are accessed using their index position and the del operator is placed before them."
   ]
  },
  {
   "cell_type": "code",
   "execution_count": 51,
   "id": "5896b9cc",
   "metadata": {},
   "outputs": [],
   "source": [
    "lst = [10, 20, 30, 40, 50]"
   ]
  },
  {
   "cell_type": "code",
   "execution_count": 52,
   "id": "6635d345",
   "metadata": {},
   "outputs": [],
   "source": [
    "del lst[3] #Remove 3rd element from the list"
   ]
  },
  {
   "cell_type": "code",
   "execution_count": 53,
   "id": "f3593e10",
   "metadata": {},
   "outputs": [
    {
     "data": {
      "text/plain": [
       "[10, 20, 30, 50]"
      ]
     },
     "execution_count": 53,
     "metadata": {},
     "output_type": "execute_result"
    }
   ],
   "source": [
    "lst"
   ]
  },
  {
   "cell_type": "code",
   "execution_count": 54,
   "id": "2793f275",
   "metadata": {},
   "outputs": [],
   "source": [
    "del lst[-1] # Remove lst element from the list"
   ]
  },
  {
   "cell_type": "code",
   "execution_count": 55,
   "id": "c70cccdb",
   "metadata": {},
   "outputs": [
    {
     "data": {
      "text/plain": [
       "[10, 20, 30]"
      ]
     },
     "execution_count": 55,
     "metadata": {},
     "output_type": "execute_result"
    }
   ],
   "source": [
    "lst"
   ]
  },
  {
   "cell_type": "code",
   "execution_count": 56,
   "id": "62328527",
   "metadata": {},
   "outputs": [],
   "source": [
    "del lst[1:3]"
   ]
  },
  {
   "cell_type": "code",
   "execution_count": 57,
   "id": "b0ae685d",
   "metadata": {},
   "outputs": [
    {
     "data": {
      "text/plain": [
       "[10]"
      ]
     },
     "execution_count": 57,
     "metadata": {},
     "output_type": "execute_result"
    }
   ],
   "source": [
    "lst"
   ]
  },
  {
   "cell_type": "markdown",
   "id": "37830829",
   "metadata": {},
   "source": [
    "## List comprehensions"
   ]
  },
  {
   "cell_type": "code",
   "execution_count": 61,
   "id": "55b118a6",
   "metadata": {},
   "outputs": [],
   "source": [
    "#with out list comprehension\n",
    "lst = [10, 20, 30, 40, 50]\n",
    "\n",
    "for i in range(0, len(lst)):\n",
    "    lst[i] += 10"
   ]
  },
  {
   "cell_type": "code",
   "execution_count": 62,
   "id": "d7aa1c02",
   "metadata": {},
   "outputs": [
    {
     "data": {
      "text/plain": [
       "[20, 30, 40, 50, 60]"
      ]
     },
     "execution_count": 62,
     "metadata": {},
     "output_type": "execute_result"
    }
   ],
   "source": [
    "lst"
   ]
  },
  {
   "cell_type": "code",
   "execution_count": 63,
   "id": "b944df05",
   "metadata": {},
   "outputs": [],
   "source": [
    "#Using list comprehension\n",
    "\n",
    "lst = [10, 20, 30, 40, 50]\n",
    "\n",
    "lst = [x+10 for x in lst]"
   ]
  },
  {
   "cell_type": "code",
   "execution_count": 67,
   "id": "50d6e51d",
   "metadata": {},
   "outputs": [
    {
     "data": {
      "text/plain": [
       "[1, 2, 3, 4, 5, 6]"
      ]
     },
     "execution_count": 67,
     "metadata": {},
     "output_type": "execute_result"
    }
   ],
   "source": [
    "lst"
   ]
  },
  {
   "cell_type": "markdown",
   "id": "35e5cc18",
   "metadata": {},
   "source": [
    "#### Problem 02: Write a program to create a list with lements 1,2,3,4,5. Display even elements of the list using list comprehension."
   ]
  },
  {
   "cell_type": "code",
   "execution_count": 72,
   "id": "4d2e959a",
   "metadata": {},
   "outputs": [
    {
     "name": "stdout",
     "output_type": "stream",
     "text": [
      "Element of the list:  [1, 2, 3, 4, 5, 6]\n",
      "Even numbers from the list:  [2, 4, 6]\n"
     ]
    }
   ],
   "source": [
    "lst = [1, 2, 3, 4, 5, 6]\n",
    "print(\"Element of the list: \", lst)\n",
    "even = [x for x in lst if x%2 == 0]\n",
    "print(\"Even numbers from the list: \",even)"
   ]
  },
  {
   "cell_type": "markdown",
   "id": "21ee3f5d",
   "metadata": {},
   "source": [
    "#### Problem 03: Write a program to create a list ‘A’ to generate squares of a number (from 1 to 10), list ‘B’ to generate cubes of a number (from 1 to 10) and list ‘C’ with those elements that are even and present in list ‘A’."
   ]
  },
  {
   "cell_type": "code",
   "execution_count": 79,
   "id": "950a7480",
   "metadata": {},
   "outputs": [
    {
     "name": "stdout",
     "output_type": "stream",
     "text": [
      "list A:  [1, 4, 9, 16, 25, 36, 49, 64, 81, 100]\n",
      "list B:  [1, 8, 27, 64, 125, 216, 343, 512, 729, 1000]\n",
      "Even number for A:  [4, 16, 36, 64, 100]\n"
     ]
    }
   ],
   "source": [
    "lst = [1, 2, 3, 4, 5, 6, 7, 8, 9, 10]\n",
    "A = [x*x for x in lst]\n",
    "print(\"list A: \", A)\n",
    "B = [x*x*x for x in lst]\n",
    "print(\"list B: \", B)\n",
    "c = [x for x in A if x%2==0]\n",
    "print(\"Even number for A: \", c)"
   ]
  },
  {
   "cell_type": "markdown",
   "id": "ba8aa7c6",
   "metadata": {},
   "source": [
    "## List Methods"
   ]
  },
  {
   "cell_type": "markdown",
   "id": "d85b66fa",
   "metadata": {},
   "source": [
    "append() --> Adds an element x to the end of the list. None is the return type of method appended"
   ]
  },
  {
   "cell_type": "code",
   "execution_count": 90,
   "id": "1d3c378a",
   "metadata": {},
   "outputs": [],
   "source": [
    "lst = [1, 2, 3, 4]\n",
    "lst.append(5)"
   ]
  },
  {
   "cell_type": "code",
   "execution_count": 91,
   "id": "7b7da320",
   "metadata": {},
   "outputs": [
    {
     "data": {
      "text/plain": [
       "[1, 2, 3, 4, 5]"
      ]
     },
     "execution_count": 91,
     "metadata": {},
     "output_type": "execute_result"
    }
   ],
   "source": [
    "lst"
   ]
  },
  {
   "cell_type": "markdown",
   "id": "709a0999",
   "metadata": {},
   "source": [
    "extend() --> Appends all the elements of list"
   ]
  },
  {
   "cell_type": "code",
   "execution_count": 92,
   "id": "780e067e",
   "metadata": {},
   "outputs": [],
   "source": [
    "lst.extend([6, 8, 9]) # যখন একটা লিস্টে শুধুমাত্র একটা ভ্যালু এড করতে হবে তখন append() মেথড ব্যবহার করতে হবে। আর যখন একটা লিস্ট এড করতে হবে তখন extend() মেথড ব্যবহার করতে হবে।"
   ]
  },
  {
   "cell_type": "code",
   "execution_count": 93,
   "id": "ea1488f2",
   "metadata": {},
   "outputs": [
    {
     "data": {
      "text/plain": [
       "[1, 2, 3, 4, 5, 6, 8, 9]"
      ]
     },
     "execution_count": 93,
     "metadata": {},
     "output_type": "execute_result"
    }
   ],
   "source": [
    "lst"
   ]
  },
  {
   "cell_type": "markdown",
   "id": "3014900d",
   "metadata": {},
   "source": [
    "clear() --> Removes all the items from the\n",
    "list."
   ]
  },
  {
   "cell_type": "code",
   "execution_count": 94,
   "id": "db665566",
   "metadata": {},
   "outputs": [],
   "source": [
    "lst = [1, 2, 3, 4]\n",
    "lst.clear()"
   ]
  },
  {
   "cell_type": "code",
   "execution_count": 96,
   "id": "e85db6c9",
   "metadata": {},
   "outputs": [
    {
     "data": {
      "text/plain": [
       "[]"
      ]
     },
     "execution_count": 96,
     "metadata": {},
     "output_type": "execute_result"
    }
   ],
   "source": [
    "lst"
   ]
  },
  {
   "cell_type": "markdown",
   "id": "2c769430",
   "metadata": {},
   "source": [
    "count() --> Returns the number of times the\n",
    "element x appears in the list."
   ]
  },
  {
   "cell_type": "code",
   "execution_count": 97,
   "id": "10d77da7",
   "metadata": {},
   "outputs": [
    {
     "data": {
      "text/plain": [
       "4"
      ]
     },
     "execution_count": 97,
     "metadata": {},
     "output_type": "execute_result"
    }
   ],
   "source": [
    "lst = [1, 2, 3, 4, 1, 2, 3, 3, 3, 4, 5, 5]\n",
    "lst.count(3)"
   ]
  },
  {
   "cell_type": "markdown",
   "id": "751b5070",
   "metadata": {},
   "source": [
    "copy () --> This method returns a shallow copy of the list."
   ]
  },
  {
   "cell_type": "code",
   "execution_count": 98,
   "id": "bd5e5d93",
   "metadata": {},
   "outputs": [],
   "source": [
    "lst = [1, 2 ,4, 3, 4, 5]\n",
    "lst2 = lst.copy()"
   ]
  },
  {
   "cell_type": "code",
   "execution_count": 99,
   "id": "35048993",
   "metadata": {},
   "outputs": [
    {
     "data": {
      "text/plain": [
       "[1, 2, 4, 3, 4, 5]"
      ]
     },
     "execution_count": 99,
     "metadata": {},
     "output_type": "execute_result"
    }
   ],
   "source": [
    "lst2"
   ]
  },
  {
   "cell_type": "code",
   "execution_count": 101,
   "id": "513eb233",
   "metadata": {},
   "outputs": [],
   "source": [
    "#different way \n",
    "lst = [1, 2 ,4, 3, 4, 5]\n",
    "lst2 = lst[:]"
   ]
  },
  {
   "cell_type": "code",
   "execution_count": null,
   "id": "a0f69a07",
   "metadata": {},
   "outputs": [],
   "source": []
  }
 ],
 "metadata": {
  "kernelspec": {
   "display_name": "Python 3 (ipykernel)",
   "language": "python",
   "name": "python3"
  },
  "language_info": {
   "codemirror_mode": {
    "name": "ipython",
    "version": 3
   },
   "file_extension": ".py",
   "mimetype": "text/x-python",
   "name": "python",
   "nbconvert_exporter": "python",
   "pygments_lexer": "ipython3",
   "version": "3.10.6"
  }
 },
 "nbformat": 4,
 "nbformat_minor": 5
}
