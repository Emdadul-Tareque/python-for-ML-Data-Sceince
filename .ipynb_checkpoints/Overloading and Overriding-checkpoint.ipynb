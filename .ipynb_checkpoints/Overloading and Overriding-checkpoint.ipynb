{
 "cells": [
  {
   "cell_type": "code",
   "execution_count": 1,
   "metadata": {},
   "outputs": [],
   "source": [
    "class Human:\n",
    "    \n",
    "    def __init__(self, name, age, height, weight):\n",
    "        self.name = name\n",
    "        self.age = age\n",
    "        self.height = height\n",
    "        self.weight = weight \n",
    "        \n",
    "    \n",
    "    def eat(self):\n",
    "        print(\"Eat any thing\")\n",
    "        \n",
    "    def excercise(self):\n",
    "        raise NotImplementedError #force to impelement in child class\n",
    "        \n",
    "    \n",
    "\n",
    "    "
   ]
  },
  {
   "cell_type": "code",
   "execution_count": 7,
   "metadata": {},
   "outputs": [],
   "source": [
    "class Cricketer(Human):\n",
    "    \n",
    "    def __init__(self, name, age, height, weight, team):\n",
    "        self.team = team\n",
    "        super().__init__(name, age, height, weight)\n",
    "        \n",
    "    #override\n",
    "    def eat(self):\n",
    "        print(\"Eat healthy food\")\n",
    "        \n",
    "    def exercise(self):\n",
    "        print(\"Do excercise for fitness\")\n",
    "        \n",
    "    def __repr__(self):\n",
    "        return {f\"Player Name: {self.name}, age:{self.age}, from{self.team}\"}"
   ]
  },
  {
   "cell_type": "code",
   "execution_count": 8,
   "metadata": {},
   "outputs": [],
   "source": [
    "sakib = Cricketer(\"sakib al hasan\", 32, \"5'10\", 75, \"Bangladesh\")"
   ]
  },
  {
   "cell_type": "code",
   "execution_count": null,
   "metadata": {},
   "outputs": [],
   "source": []
  }
 ],
 "metadata": {
  "kernelspec": {
   "display_name": "Python 3",
   "language": "python",
   "name": "python3"
  },
  "language_info": {
   "codemirror_mode": {
    "name": "ipython",
    "version": 3
   },
   "file_extension": ".py",
   "mimetype": "text/x-python",
   "name": "python",
   "nbconvert_exporter": "python",
   "pygments_lexer": "ipython3",
   "version": "3.7.3"
  }
 },
 "nbformat": 4,
 "nbformat_minor": 2
}
