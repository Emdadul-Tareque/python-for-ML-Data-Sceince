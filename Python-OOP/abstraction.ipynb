{
 "cells": [
  {
   "cell_type": "code",
   "execution_count": 20,
   "metadata": {},
   "outputs": [],
   "source": [
    "import abc\n",
    "\n",
    "class Course:\n",
    "    #abstract হচ্ছে এমন একটা ক্লাস যেখানে মেথডের জাস্ট ডিক্লেয়ার করা থাকবে।\n",
    "    #সেই মেথডের ইমপ্লিমেন্টেশন চাইল্ড ক্লাস যার যার মত করে নিবে। \n",
    "    @abc.abstractclassmethod\n",
    "    def course_details(self): \n",
    "        pass\n",
    "    \n",
    "    @abc.abstractclassmethod\n",
    "    def course_assignment(self):\n",
    "        pass\n",
    "    \n",
    "    @abc.abstractclassmethod\n",
    "    def course_marks(self):\n",
    "        pass\n"
   ]
  },
  {
   "cell_type": "code",
   "execution_count": 12,
   "metadata": {},
   "outputs": [],
   "source": [
    "class Python(Course):\n",
    "\n",
    "    def course_details(self):\n",
    "        return \"This is python course\"\n",
    "    \n",
    "\n",
    "    def course_assignment(self):\n",
    "        return \"This assignment for python course\""
   ]
  },
  {
   "cell_type": "code",
   "execution_count": 13,
   "metadata": {},
   "outputs": [],
   "source": [
    "class Java(Course):\n",
    "\n",
    "    def course_details(self):\n",
    "        return \"This is Java course\"\n",
    "    \n",
    "\n",
    "    def course_marks(self):\n",
    "        return \"This is Java course marks\""
   ]
  },
  {
   "cell_type": "code",
   "execution_count": 17,
   "metadata": {},
   "outputs": [],
   "source": [
    "python = Python()\n",
    "java = Java()"
   ]
  },
  {
   "cell_type": "code",
   "execution_count": 18,
   "metadata": {},
   "outputs": [
    {
     "data": {
      "text/plain": [
       "'This is python course'"
      ]
     },
     "execution_count": 18,
     "metadata": {},
     "output_type": "execute_result"
    }
   ],
   "source": [
    "python.course_details()"
   ]
  },
  {
   "cell_type": "code",
   "execution_count": 19,
   "metadata": {},
   "outputs": [
    {
     "data": {
      "text/plain": [
       "'This is Java course marks'"
      ]
     },
     "execution_count": 19,
     "metadata": {},
     "output_type": "execute_result"
    }
   ],
   "source": [
    "java.course_marks()"
   ]
  },
  {
   "cell_type": "raw",
   "metadata": {},
   "source": [
    "Summary:\n",
    "    1. abstract ক্লাস এর কাজ হচ্ছে একটা স্যাম্পল স্ট্রাকচার তৈরি করে দেওয়া যা দেখে চাইল্ড ক্লাসে ঐ অনুযায়ী মেথডগুলো ইমপ্লিমেট করবে। \n",
    "    2. abstract ক্লাসে মেথডগুলোর উপরে যদি ডেকোরেটর ব্যবহার করা হয় তবেই সেটা পার্ফেক্ট এভেস্ট্রাক্ট ক্লাসের মত বিভেবিয়ার করবে \n",
    "    3. child ক্লাসে অব্যশই মেথডগুলোকে  ইমপ্লিমেন্ট করতে হবে না হলে child ক্লাসের অবজেক্ট দিয়ে abstract parent ক্লাসের ম্যাথডকে এক্সেস করতে চাইলে প্রোগ্রামে এরর আসবে। "
   ]
  },
  {
   "cell_type": "code",
   "execution_count": null,
   "metadata": {},
   "outputs": [],
   "source": []
  }
 ],
 "metadata": {
  "kernelspec": {
   "display_name": "Python 3",
   "language": "python",
   "name": "python3"
  },
  "language_info": {
   "codemirror_mode": {
    "name": "ipython",
    "version": 3
   },
   "file_extension": ".py",
   "mimetype": "text/x-python",
   "name": "python",
   "nbconvert_exporter": "python",
   "pygments_lexer": "ipython3",
   "version": "3.7.3"
  }
 },
 "nbformat": 4,
 "nbformat_minor": 2
}
