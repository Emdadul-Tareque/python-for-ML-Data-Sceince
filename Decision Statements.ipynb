{
 "cells": [
  {
   "cell_type": "markdown",
   "id": "c08e0d1c",
   "metadata": {},
   "source": [
    "PROGRAM 01: Write a program which prompts a user to enter the radius of a circle. If the radius is greater than zero then calculate and print the area and circumference of the circle."
   ]
  },
  {
   "cell_type": "code",
   "execution_count": null,
   "id": "b3016b41",
   "metadata": {},
   "outputs": [],
   "source": [
    "from math import pi\n",
    "radius = eval(input(\"Enter radius of a circle: \"))\n",
    "\n",
    "\n",
    "if radius > 0:\n",
    "    area = pi * radius * radius\n",
    "    print(\"Area of the circule is = \", format(area,\".2f\"))\n",
    "    circumference = 2*pi*radius\n",
    "    print(\"Circumference of the circule is = \", format(circumference,\".2f\"))\n",
    "else:\n",
    "     print(\"Please give right input\")"
   ]
  },
  {
   "cell_type": "markdown",
   "id": "a9982111",
   "metadata": {},
   "source": [
    "# Check if a variable is a string using isinstance() "
   ]
  },
  {
   "cell_type": "markdown",
   "id": "8b87d06f",
   "metadata": {},
   "source": [
    "This isinstance(x, str) method can be used to test whether any variable is a particular datatype. By giving the second argument as “str”, we can check if the variable we pass is a string or not"
   ]
  },
  {
   "cell_type": "code",
   "execution_count": 38,
   "id": "d8eb1fef",
   "metadata": {},
   "outputs": [
    {
     "name": "stdout",
     "output_type": "stream",
     "text": [
      "True\n"
     ]
    }
   ],
   "source": [
    "x = 10\n",
    "tst = isinstance(x, int)\n",
    "print(tst)"
   ]
  },
  {
   "cell_type": "code",
   "execution_count": null,
   "id": "7cdcc61f",
   "metadata": {},
   "outputs": [],
   "source": [
    "x = \"string\"\n",
    "tst = isinstance(x, str)\n",
    "print(tst)"
   ]
  },
  {
   "cell_type": "markdown",
   "id": "88ee869e",
   "metadata": {},
   "source": [
    "PROGRAM 02: Write a program to calculate the salary of a medical representative considering the sales bonus and incentives offered to him are based on the total sales. If the sales exceed or equal to\n",
    "`1,00,000 follow the particulars of Column 1, else follow Column 2"
   ]
  },
  {
   "cell_type": "code",
   "execution_count": 44,
   "id": "776e3bcb",
   "metadata": {},
   "outputs": [
    {
     "name": "stdout",
     "output_type": "stream",
     "text": [
      "Enter total sales of the month1000000\n",
      "Salary Receipt of Employee\n",
      " Total Sales 1000000.0\n",
      " Basic =  4000\n",
      " HRA =  800.0\n",
      " Da =  4400.0\n",
      " Incentive =  100000.0\n",
      " Bonus =  1000\n",
      " Conveyance =  500\n",
      " Gross Salary =  110700.0\n"
     ]
    }
   ],
   "source": [
    "sales = float(input(\"Enter total sales of the month\"))\n",
    "basic = 4000\n",
    "conveyance = 500\n",
    "da = 110 * basic/100\n",
    "if sales >= 100000:\n",
    "    hra = 20 * basic/100\n",
    "    incentive = sales * 10/100\n",
    "    bonus = 1000\n",
    "\n",
    "else:\n",
    "    hra = 10 * basic/100\n",
    "    incentive = sales * 4/100\n",
    "    bonus = 500\n",
    "\n",
    "\n",
    "salary = basic+hra+incentive+bonus+conveyance+da\n",
    "print(\"Salary Receipt of Employee\")\n",
    "print(\" Total Sales\", sales)\n",
    "print(\" Basic = \", basic)\n",
    "print(\" HRA = \", hra)\n",
    "print(\" Da = \", da)\n",
    "print(\" Incentive = \", incentive)\n",
    "print(\" Bonus = \", bonus)\n",
    "print(\" Conveyance = \", conveyance)\n",
    "print(\" Gross Salary = \", salary)\n",
    "    "
   ]
  },
  {
   "cell_type": "markdown",
   "id": "d51a7aec",
   "metadata": {},
   "source": [
    "PROGRAM 3: Write a program that prompts a user to enter two different numbers. Perform basic arithmetic operations based on the choices."
   ]
  },
  {
   "cell_type": "code",
   "execution_count": 49,
   "id": "fad9e72d",
   "metadata": {},
   "outputs": [
    {
     "name": "stdout",
     "output_type": "stream",
     "text": [
      "Enter the first number: 2\n",
      "Enter the second number: 3\n",
      "Which operation you want to: \n",
      "1) Addition\n",
      "2) Substraction\n",
      "3) Multiplication\n",
      "4) Division\n",
      "Enter your choice: 2\n",
      "Substraction between 2.0 and 3.0 is: -1.0\n"
     ]
    }
   ],
   "source": [
    "first_number = float(input(\"Enter the first number: \"))\n",
    "second_number = float(input(\"Enter the second number: \"))\n",
    "\n",
    "print(\"Which operation you want to: \")\n",
    "print(\"1) Addition\")\n",
    "print(\"2) Substraction\")\n",
    "print(\"3) Multiplication\")\n",
    "print(\"4) Division\")\n",
    "\n",
    "choice = int(input(\"Enter your choice: \"))\n",
    "\n",
    "if choice == 1:\n",
    "    text = f\"Addition of {first_number} and {second_number} is: {first_number + second_number}\"\n",
    "    print(text)\n",
    "elif choice == 2:\n",
    "    text = f\"Substraction between {first_number} and {second_number} is: {first_number - second_number}\"\n",
    "    print(text)\n",
    "elif choice == 3:\n",
    "    text = f\"Multiplication of {first_number} and {second_number} is: {first_number * second_number}\"\n",
    "    print(text)\n",
    "elif choice == 4:\n",
    "    text = f\"Division of {first_number} and {second_number} is: {first_number / second_number}\"\n",
    "    print(text)"
   ]
  },
  {
   "cell_type": "markdown",
   "id": "19d5dcf1",
   "metadata": {},
   "source": [
    "# Conditional expressions"
   ]
  },
  {
   "cell_type": "code",
   "execution_count": 53,
   "id": "09adb614",
   "metadata": {},
   "outputs": [
    {
     "name": "stdout",
     "output_type": "stream",
     "text": [
      "16\n"
     ]
    }
   ],
   "source": [
    "x = 4\n",
    "\n",
    "if x % 2 == 0:\n",
    "    x = x * x\n",
    "else:\n",
    "    x = x * x* x\n",
    "\n",
    "print(x)"
   ]
  },
  {
   "cell_type": "code",
   "execution_count": 55,
   "id": "dc6ca213",
   "metadata": {},
   "outputs": [
    {
     "name": "stdout",
     "output_type": "stream",
     "text": [
      "16\n"
     ]
    }
   ],
   "source": [
    "# expression if condition else expression\n",
    "x = 4\n",
    "x = x * x if x % 2 == 0 else x * x * x \n",
    "\n",
    "print(x)"
   ]
  },
  {
   "cell_type": "markdown",
   "id": "3c5a5d58",
   "metadata": {},
   "source": [
    "PROGRAM 4: Write a program to ﬁnd the smaller number among the two numbers."
   ]
  },
  {
   "cell_type": "code",
   "execution_count": 57,
   "id": "79ad1cdc",
   "metadata": {},
   "outputs": [
    {
     "name": "stdout",
     "output_type": "stream",
     "text": [
      "Enter first number: 2\n",
      "Enter Second number: 3\n",
      "min: 2\n"
     ]
    }
   ],
   "source": [
    "num1 = int(input(\"Enter first number: \"))\n",
    "num2 = int(input(\"Enter Second number: \"))\n",
    "\n",
    "min = num1 if num1 < num2 else num2\n",
    "\n",
    "print(\"min:\", min)"
   ]
  },
  {
   "cell_type": "markdown",
   "id": "93b2f8ad",
   "metadata": {},
   "source": [
    "PROGRAM 5: Write a program to determine the character entered by user"
   ]
  },
  {
   "cell_type": "code",
   "execution_count": 63,
   "id": "3c44e879",
   "metadata": {},
   "outputs": [
    {
     "name": "stdout",
     "output_type": "stream",
     "text": [
      "Press any key: 4\n",
      "You entered a digit\n"
     ]
    }
   ],
   "source": [
    "char = input(\"Press any key: \")\n",
    "\n",
    "if(char.isalpha()):\n",
    "    print(\"You entered a character\")\n",
    "elif(char.isdigit()):\n",
    "    print(\"You entered a digit\")\n",
    "elif(char.isspace()):\n",
    "    print(\"You entered a space\")\n",
    "elif(char.isdecimal()):\n",
    "    print(\"You entered a decimal\")"
   ]
  },
  {
   "cell_type": "markdown",
   "id": "f4c7f4f8",
   "metadata": {},
   "source": [
    "PROGRAM 6: Write a program to find the greatest number from three numbers."
   ]
  },
  {
   "cell_type": "code",
   "execution_count": 68,
   "id": "71e92714",
   "metadata": {},
   "outputs": [
    {
     "name": "stdout",
     "output_type": "stream",
     "text": [
      "Enter the first number: 11.2\n",
      "Enter the second number:11.3\n",
      "Enter the third number: 11.4\n",
      "The greatest number is:  11.4\n"
     ]
    }
   ],
   "source": [
    "first_number = eval(input(\"Enter the first number: \"))\n",
    "second_number = eval(input(\"Enter the second number:\"))\n",
    "third_number = eval(input(\"Enter the third number: \"))\n",
    "\n",
    "text = \"The greatest number is: \"\n",
    "\n",
    "if first_number >= second_number and first_number >= third_number:\n",
    "    print(text, first_number)\n",
    "elif second_number >= first_number and second_number >= third_number:\n",
    "    print(text, second_number)\n",
    "else:\n",
    "    print(text, third_number)\n",
    "\n",
    "    "
   ]
  },
  {
   "cell_type": "code",
   "execution_count": null,
   "id": "638b7e87",
   "metadata": {},
   "outputs": [],
   "source": []
  }
 ],
 "metadata": {
  "kernelspec": {
   "display_name": "Python 3 (ipykernel)",
   "language": "python",
   "name": "python3"
  },
  "language_info": {
   "codemirror_mode": {
    "name": "ipython",
    "version": 3
   },
   "file_extension": ".py",
   "mimetype": "text/x-python",
   "name": "python",
   "nbconvert_exporter": "python",
   "pygments_lexer": "ipython3",
   "version": "3.10.6"
  }
 },
 "nbformat": 4,
 "nbformat_minor": 5
}
