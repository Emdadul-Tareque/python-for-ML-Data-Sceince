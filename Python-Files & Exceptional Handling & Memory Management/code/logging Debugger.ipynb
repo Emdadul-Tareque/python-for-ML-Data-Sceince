{
 "cells": [
  {
   "cell_type": "code",
   "execution_count": 1,
   "metadata": {},
   "outputs": [],
   "source": [
    "# প্রোডাকশন লেবেলে সব সময় logging ব্যবহার করতে হয় "
   ]
  },
  {
   "cell_type": "code",
   "execution_count": 1,
   "metadata": {},
   "outputs": [],
   "source": [
    "import logging"
   ]
  },
  {
   "cell_type": "code",
   "execution_count": 2,
   "metadata": {},
   "outputs": [],
   "source": [
    "logging.basicConfig(filename =\"test1.log\", level = logging.INFO)"
   ]
  },
  {
   "cell_type": "code",
   "execution_count": 3,
   "metadata": {},
   "outputs": [],
   "source": [
    "logging.info(\"This is information message\")"
   ]
  },
  {
   "cell_type": "code",
   "execution_count": 4,
   "metadata": {},
   "outputs": [],
   "source": [
    "logging.debug(\"This is debug message\") # Won't be recorded because it's below INFO level"
   ]
  },
  {
   "cell_type": "code",
   "execution_count": 5,
   "metadata": {},
   "outputs": [],
   "source": [
    "logging.warning (\"This is warning message\")"
   ]
  },
  {
   "cell_type": "code",
   "execution_count": 6,
   "metadata": {},
   "outputs": [],
   "source": [
    "logging.info(\"This is information message\")"
   ]
  },
  {
   "cell_type": "code",
   "execution_count": 7,
   "metadata": {},
   "outputs": [],
   "source": [
    "logging.error(\"This is error message\")"
   ]
  },
  {
   "cell_type": "code",
   "execution_count": 9,
   "metadata": {},
   "outputs": [],
   "source": [
    "logging.critical(\"This is critical message\")"
   ]
  },
  {
   "cell_type": "code",
   "execution_count": 2,
   "metadata": {},
   "outputs": [],
   "source": [
    "#more about logging \n",
    "logging.basicConfig(filename = \"logging.log\", level = logging.DEBUG, format = '%(asctime)s %(message)s')"
   ]
  },
  {
   "cell_type": "code",
   "execution_count": 5,
   "metadata": {},
   "outputs": [],
   "source": [
    "logging.info(\"This is my info logging\")\n",
    "logging.error(\"This is my error msg\")\n",
    "logging.critical(\"This is my critical msg\")"
   ]
  },
  {
   "cell_type": "code",
   "execution_count": 6,
   "metadata": {},
   "outputs": [],
   "source": [
    "logging.shutdown()"
   ]
  },
  {
   "cell_type": "code",
   "execution_count": 2,
   "metadata": {},
   "outputs": [],
   "source": [
    "import logging"
   ]
  },
  {
   "cell_type": "code",
   "execution_count": 3,
   "metadata": {},
   "outputs": [],
   "source": [
    "logging.basicConfig(filename=\"app1.log\", level=logging.INFO, format='%(asctime)s %(name)s %(levelname)s %(message)s' )"
   ]
  },
  {
   "cell_type": "code",
   "execution_count": 7,
   "metadata": {},
   "outputs": [],
   "source": [
    "lst = [1, 2, 3, 4, 5, 6, [1, 2, 3, \"Tareque\"], \"Emdadul\", \"Tareque\"]\n",
    "\n",
    "lst_int = []\n",
    "lst_str = []\n",
    "i = 0\n",
    "for element in lst:\n",
    "    i += 1 # for logging decorate\n",
    "    logging.info(f\"loop start in {i} time\")\n",
    "    logging.info(\"----------------------------------\")\n",
    "    if type(element) == int:\n",
    "        lst_int.append(element)\n",
    "        logging.info(f\"In first loop: {element} is integer and apppend in {lst_int}\")\n",
    "    elif type(element) == list:\n",
    "        logging.info(f\"{element} is list and the programming is entering a new loop\")\n",
    "        for item in element:\n",
    "    \n",
    "            if type(item) == int:\n",
    "                lst_int.append(item)\n",
    "                logging.info(f\"In 2nd loop: {element} is integer and apppend in {lst_int}\")\n",
    "            else:\n",
    "                lst_str.append(item)\n",
    "                logging.info(f\"In 2nd loop: {element} is string and apppend in {lst_str}\")\n",
    "    else:\n",
    "        lst_str.append(element)\n",
    "        logging.info(f\"In first loop: {element} is integer and apppend in {lst_int}\")\n",
    "        "
   ]
  },
  {
   "cell_type": "code",
   "execution_count": 9,
   "metadata": {},
   "outputs": [
    {
     "data": {
      "text/plain": [
       "[1, 2, 3, 4, 5, 6, 1, 2, 3]"
      ]
     },
     "execution_count": 9,
     "metadata": {},
     "output_type": "execute_result"
    }
   ],
   "source": [
    "lst_int"
   ]
  },
  {
   "cell_type": "code",
   "execution_count": 10,
   "metadata": {},
   "outputs": [
    {
     "data": {
      "text/plain": [
       "['Tareque', 'Emdadul', 'Tareque']"
      ]
     },
     "execution_count": 10,
     "metadata": {},
     "output_type": "execute_result"
    }
   ],
   "source": [
    "lst_str"
   ]
  },
  {
   "cell_type": "markdown",
   "metadata": {},
   "source": [
    "The provided code sets up basic configuration for Python's logging module. The `logging.basicConfig()` function configures the logging system with default settings, including the log filename and log level.\n",
    "\n",
    "Here's a brief explanation of each parameter:\n",
    "\n",
    "1. `filename`: This parameter specifies the name of the log file to which the log messages will be written. In this case, the log messages will be written to a file named \"test.log\" in the current working directory.\n",
    "\n",
    "2. `level`: This parameter sets the logging level for the messages. The logging levels range from DEBUG (lowest level) to CRITICAL (highest level). In this case, the log level is set to `logging.INFO`, which means log messages with level INFO or higher (INFO, WARNING, ERROR, and CRITICAL) will be recorded in the log file.\n",
    "\n",
    "After configuring the basic settings using `logging.basicConfig()`, you can start using the logging module in your code to record various log messages. For example:\n",
    "\n",
    "```python\n",
    "import logging\n",
    "\n",
    "logging.basicConfig(filename=\"test.log\", level=logging.INFO)\n",
    "\n",
    "# Log messages\n",
    "logging.debug(\"This is a debug message\")       # Won't be recorded because it's below INFO level\n",
    "logging.info(\"This is an information message\") # Will be recorded\n",
    "logging.warning(\"This is a warning message\")   # Will be recorded\n",
    "logging.error(\"This is an error message\")      # Will be recorded\n",
    "logging.critical(\"This is a critical message\") # Will be recorded\n",
    "```\n",
    "\n",
    "In this example, the log messages with level INFO or higher (INFO, WARNING, ERROR, and CRITICAL) will be written to the \"test.log\" file. The log messages with DEBUG level won't be recorded since the log level is set to INFO. The log file will contain the formatted log messages along with timestamps for each entry.\n",
    "\n",
    "Remember that you need to import the `logging` module at the beginning of your Python script to use the logging functionalities."
   ]
  },
  {
   "cell_type": "markdown",
   "metadata": {},
   "source": [
    "The code `logging.basicConfig()` is a simple configuration method from the Python `logging` module. This method sets up basic configuration for the logging system, enabling you to control how log messages are handled and where they are stored. Here are the details of this code:\n",
    "\n",
    "1. Purpose:\n",
    "   The purpose of `logging.basicConfig()` is to provide a quick and easy way to configure the logging system with default settings.\n",
    "\n",
    "2. Parameters:\n",
    "   The method does not take any arguments by default. However, it supports several optional parameters that allow you to customize the logging behavior.\n",
    "\n",
    "   - `filename`: (Optional) Specifies the name of the log file to which the log messages will be written. If this parameter is not provided, the log messages will be displayed on the console (standard output) by default. If the filename is provided, the log messages will be appended to the specified file.\n",
    "   \n",
    "   - `level`: (Optional) Sets the logging level for the messages. The logging levels range from DEBUG (lowest level) to CRITICAL (highest level). If this parameter is not provided, the default log level is set to WARNING. Log messages with a level lower than the specified level will not be recorded.\n",
    "\n",
    "   - `filemode`: (Optional) Specifies the file mode when opening the log file. The default value is 'a' (append mode), which means new log messages will be appended to the file. You can use 'w' to overwrite the existing content of the log file with new log messages.\n",
    "\n",
    "   - `format`: (Optional) Specifies the log message format using a string format. The default format is \"%(asctime)s - %(name)s - %(levelname)s - %(message)s\", which includes the timestamp, logger name, log level, and the log message itself. You can customize the format as per your requirement.\n",
    "\n",
    "3. Usage:\n",
    "   To set up basic configuration for logging, you typically call `logging.basicConfig()` once at the beginning of your Python script. This method should be called before any other logging-related operations.\n",
    "\n",
    "   Example Usage:\n",
    "   ```python\n",
    "   import logging\n",
    "\n",
    "   logging.basicConfig(filename=\"example.log\", level=logging.DEBUG, format=\"%(asctime)s - %(levelname)s - %(message)s\")\n",
    "\n",
    "   # Now you can use logging functions to log messages\n",
    "   logging.debug(\"This is a debug message\")\n",
    "   logging.info(\"This is an information message\")\n",
    "   logging.warning(\"This is a warning message\")\n",
    "   logging.error(\"This is an error message\")\n",
    "   logging.critical(\"This is a critical message\")\n",
    "   ```\n",
    "\n",
    "4. Important Notes:\n",
    "   - If you call `logging.basicConfig()` multiple times in your code, it will not have any effect after the first call. The first configuration will be used, and subsequent calls will be ignored.\n",
    "\n",
    "   - The `basicConfig()` method is useful for quick and simple logging setups. For more complex configurations or to have more control over the logging system, you may need to use the `logging` module's classes and functions directly.\n",
    "\n",
    "   - Once the logging configuration is set, you can start using the logging functions (e.g., `logging.debug()`, `logging.info()`, etc.) to log messages at different log levels.\n",
    "\n",
    "Remember that to use the `logging` module, you need to import it at the beginning of your Python script: `import logging`."
   ]
  }
 ],
 "metadata": {
  "kernelspec": {
   "display_name": "Python 3",
   "language": "python",
   "name": "python3"
  },
  "language_info": {
   "codemirror_mode": {
    "name": "ipython",
    "version": 3
   },
   "file_extension": ".py",
   "mimetype": "text/x-python",
   "name": "python",
   "nbconvert_exporter": "python",
   "pygments_lexer": "ipython3",
   "version": "3.7.3"
  }
 },
 "nbformat": 4,
 "nbformat_minor": 2
}
