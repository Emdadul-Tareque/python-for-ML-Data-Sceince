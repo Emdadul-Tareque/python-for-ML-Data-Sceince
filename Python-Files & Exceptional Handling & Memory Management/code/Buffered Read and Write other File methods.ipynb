{
 "cells": [
  {
   "cell_type": "code",
   "execution_count": 4,
   "metadata": {},
   "outputs": [],
   "source": [
    "import io"
   ]
  },
  {
   "cell_type": "code",
   "execution_count": 18,
   "metadata": {},
   "outputs": [],
   "source": [
    "with open(\"buffer.txt\", \"wb\") as f:\n",
    "    file = io.BufferedWriter(f)\n",
    "    \n",
    "    file.write(b\"Hello everyone \\n\")\n",
    "    file.write(b\"Python is an easy to learn, powerful programming language. It has efficient high-level data structures and a simple but effective approach to object-oriented programming. Python's elegant syntax and dynamic typing, together with its interpreted nature, make it an ideal language for scripting and rapid application development in many areas on most\")\n",
    "    file.flush()\n",
    "\n"
   ]
  },
  {
   "cell_type": "code",
   "execution_count": 20,
   "metadata": {},
   "outputs": [
    {
     "name": "stdout",
     "output_type": "stream",
     "text": [
      "b\"Hello everyone \\nPython is an easy to learn, powerful programming language. It has efficient high-level data structures and a simple but effective approach to object-oriented programming. Python's elegant syntax and dynamic typing, together with its interpreted nature, make it an ideal language for scripting and rapid application development in many areas on most\"\n"
     ]
    }
   ],
   "source": [
    "with open(\"buffer.txt\", \"rb\") as f:\n",
    "#     data = f.read()\n",
    "#     print(data)\n",
    "\n",
    "    file = io.BufferedReader(f)\n",
    "    data = file.read()\n",
    "    print(data)\n"
   ]
  },
  {
   "cell_type": "code",
   "execution_count": 22,
   "metadata": {},
   "outputs": [],
   "source": [
    "#Practise \n",
    "import io \n",
    "\n",
    "with open(\"buffer1.txt\", \"wb\") as f:\n",
    "    file = io.BufferedWriter(f)\n",
    "    \n",
    "    file.write(b\"Hello Everyone\")\n",
    "    file.flush()"
   ]
  },
  {
   "cell_type": "code",
   "execution_count": 24,
   "metadata": {},
   "outputs": [
    {
     "name": "stdout",
     "output_type": "stream",
     "text": [
      "b'Hello Everyone'\n"
     ]
    }
   ],
   "source": [
    "with open(\"buffer1.txt\", \"rb\") as f:\n",
    "    file = io.BufferedReader(f)\n",
    "    \n",
    "    data = file.read()\n",
    "    print(data)"
   ]
  },
  {
   "cell_type": "markdown",
   "metadata": {},
   "source": [
    "Q. why and when i use buffer read, write and when i use file read, write? \n",
    "\n",
    "Ans: The use of buffer read and write versus file read and write depends on the specific requirements and scenarios of your application. Let's understand the differences and when to use each:\n",
    "\n",
    "1. File Read and Write (`file.read()` and `file.write()`):\n",
    "   - File read (`file.read()`): This method reads the entire content of the file and returns it as a string (in text mode) or as bytes (in binary mode). It's suitable for smaller files or when you need to process the entire content at once.\n",
    "   - File write (`file.write()`): This method writes data to the file. It's commonly used to write strings (in text mode) or bytes (in binary mode) to the file. You can write data piece by piece or write the entire content in one go.\n",
    "\n",
    "   When to use File Read and Write:\n",
    "   - For small to moderately-sized files that can fit comfortably in memory.\n",
    "   - When you need to read or write the entire content of the file at once.\n",
    "   - When working with text data or data that can be easily processed as strings.\n",
    "\n",
    "2. Buffered Read and Write (`f.buffer.read()` and `f.buffer.write()`):\n",
    "   - Buffered read (`f.buffer.read()`): This method reads data from the file using an internal buffer, which can improve performance when reading large files. The buffer allows reading data in chunks, which reduces the number of system calls and improves efficiency.\n",
    "   - Buffered write (`f.buffer.write()`): This method writes data to the file using an internal buffer. Writing data in chunks can be more efficient than writing small pieces one by one.\n",
    "\n",
    "   When to use Buffered Read and Write:\n",
    "   - For larger files that might not fit entirely in memory.\n",
    "   - When you want to read or write the file in smaller chunks (e.g., line-by-line processing) to reduce memory usage and improve performance.\n",
    "   - When working with binary data or complex data formats that require more control over reading and writing chunks of data.\n",
    "\n",
    "In general, if you are dealing with smaller files and simple text data, using file read and write methods suffices. However, for larger files or more complex scenarios where performance matters, buffered read and write can be more efficient.\n",
    "\n",
    "It's essential to balance your memory usage and performance requirements based on the size and complexity of the files you are dealing with. For many common use cases, using file read and write methods are sufficient and straightforward."
   ]
  }
 ],
 "metadata": {
  "kernelspec": {
   "display_name": "Python 3",
   "language": "python",
   "name": "python3"
  },
  "language_info": {
   "codemirror_mode": {
    "name": "ipython",
    "version": 3
   },
   "file_extension": ".py",
   "mimetype": "text/x-python",
   "name": "python",
   "nbconvert_exporter": "python",
   "pygments_lexer": "ipython3",
   "version": "3.7.3"
  }
 },
 "nbformat": 4,
 "nbformat_minor": 2
}
