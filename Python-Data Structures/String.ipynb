{
 "cells": [
  {
   "cell_type": "markdown",
   "id": "54b1dfa6",
   "metadata": {},
   "source": [
    "# String Declaration"
   ]
  },
  {
   "cell_type": "code",
   "execution_count": 2,
   "id": "2c728961",
   "metadata": {},
   "outputs": [],
   "source": [
    "s = \"Emdadul\""
   ]
  },
  {
   "cell_type": "code",
   "execution_count": 2,
   "id": "967a44da",
   "metadata": {},
   "outputs": [
    {
     "data": {
      "text/plain": [
       "'Emdadul'"
      ]
     },
     "execution_count": 2,
     "metadata": {},
     "output_type": "execute_result"
    }
   ],
   "source": [
    "s"
   ]
  },
  {
   "cell_type": "code",
   "execution_count": 3,
   "id": "7f3e8bad",
   "metadata": {},
   "outputs": [
    {
     "data": {
      "text/plain": [
       "'a'"
      ]
     },
     "execution_count": 3,
     "metadata": {},
     "output_type": "execute_result"
    }
   ],
   "source": [
    "s[3]"
   ]
  },
  {
   "cell_type": "markdown",
   "id": "a8e1dc61",
   "metadata": {},
   "source": [
    "# String Slicing"
   ]
  },
  {
   "cell_type": "code",
   "execution_count": 4,
   "id": "ae4455ee",
   "metadata": {},
   "outputs": [
    {
     "data": {
      "text/plain": [
       "'Emd'"
      ]
     },
     "execution_count": 4,
     "metadata": {},
     "output_type": "execute_result"
    }
   ],
   "source": [
    "s[0:3]"
   ]
  },
  {
   "cell_type": "code",
   "execution_count": 5,
   "id": "6258a5d3",
   "metadata": {},
   "outputs": [
    {
     "data": {
      "text/plain": [
       "'ludadmE'"
      ]
     },
     "execution_count": 5,
     "metadata": {},
     "output_type": "execute_result"
    }
   ],
   "source": [
    "s[::-1]"
   ]
  },
  {
   "cell_type": "code",
   "execution_count": 6,
   "id": "e398d733",
   "metadata": {},
   "outputs": [
    {
     "data": {
      "text/plain": [
       "'udadmE'"
      ]
     },
     "execution_count": 6,
     "metadata": {},
     "output_type": "execute_result"
    }
   ],
   "source": [
    "s[-2::-1]"
   ]
  },
  {
   "cell_type": "code",
   "execution_count": 7,
   "id": "2001ec31",
   "metadata": {},
   "outputs": [
    {
     "data": {
      "text/plain": [
       "''"
      ]
     },
     "execution_count": 7,
     "metadata": {},
     "output_type": "execute_result"
    }
   ],
   "source": [
    "s[:90]"
   ]
  },
  {
   "cell_type": "code",
   "execution_count": 9,
   "id": "7172df8e",
   "metadata": {},
   "outputs": [
    {
     "data": {
      "text/plain": [
       "'ludadmE'"
      ]
     },
     "execution_count": 9,
     "metadata": {},
     "output_type": "execute_result"
    }
   ],
   "source": [
    "s[90:-9000:-1]"
   ]
  },
  {
   "cell_type": "code",
   "execution_count": 10,
   "id": "f07e5642",
   "metadata": {},
   "outputs": [
    {
     "data": {
      "text/plain": [
       "''"
      ]
     },
     "execution_count": 10,
     "metadata": {},
     "output_type": "execute_result"
    }
   ],
   "source": [
    "s[2:5:-1]"
   ]
  },
  {
   "cell_type": "code",
   "execution_count": 11,
   "id": "14b564e4",
   "metadata": {},
   "outputs": [
    {
     "data": {
      "text/plain": [
       "''"
      ]
     },
     "execution_count": 11,
     "metadata": {},
     "output_type": "execute_result"
    }
   ],
   "source": [
    "s[2:-5:-1]"
   ]
  },
  {
   "cell_type": "code",
   "execution_count": 13,
   "id": "73ffda6b",
   "metadata": {},
   "outputs": [
    {
     "data": {
      "text/plain": [
       "'uda'"
      ]
     },
     "execution_count": 13,
     "metadata": {},
     "output_type": "execute_result"
    }
   ],
   "source": [
    "s[-2:-5:-1]"
   ]
  },
  {
   "cell_type": "code",
   "execution_count": 3,
   "id": "d634492e",
   "metadata": {},
   "outputs": [
    {
     "data": {
      "text/plain": [
       "''"
      ]
     },
     "execution_count": 3,
     "metadata": {},
     "output_type": "execute_result"
    }
   ],
   "source": [
    "s[-2:5:-1]"
   ]
  },
  {
   "cell_type": "code",
   "execution_count": 4,
   "id": "7ec9f0dc",
   "metadata": {},
   "outputs": [],
   "source": [
    "s = \"pwskills\""
   ]
  },
  {
   "cell_type": "code",
   "execution_count": 5,
   "id": "2527b687",
   "metadata": {},
   "outputs": [
    {
     "data": {
      "text/plain": [
       "'sllikswp'"
      ]
     },
     "execution_count": 5,
     "metadata": {},
     "output_type": "execute_result"
    }
   ],
   "source": [
    "s[::-1]"
   ]
  },
  {
   "cell_type": "code",
   "execution_count": 6,
   "id": "7fc8912c",
   "metadata": {},
   "outputs": [
    {
     "data": {
      "text/plain": [
       "'slkw'"
      ]
     },
     "execution_count": 6,
     "metadata": {},
     "output_type": "execute_result"
    }
   ],
   "source": [
    "s[::-2]"
   ]
  },
  {
   "cell_type": "code",
   "execution_count": 7,
   "id": "04aae9cf",
   "metadata": {},
   "outputs": [
    {
     "data": {
      "text/plain": [
       "'siw'"
      ]
     },
     "execution_count": 7,
     "metadata": {},
     "output_type": "execute_result"
    }
   ],
   "source": [
    "s[::-3]"
   ]
  },
  {
   "cell_type": "code",
   "execution_count": 8,
   "id": "7665b044",
   "metadata": {},
   "outputs": [
    {
     "data": {
      "text/plain": [
       "'sllikswp'"
      ]
     },
     "execution_count": 8,
     "metadata": {},
     "output_type": "execute_result"
    }
   ],
   "source": [
    "s[-1::-1]"
   ]
  },
  {
   "cell_type": "code",
   "execution_count": 9,
   "id": "ae279e27",
   "metadata": {},
   "outputs": [
    {
     "data": {
      "text/plain": [
       "'sl'"
      ]
     },
     "execution_count": 9,
     "metadata": {},
     "output_type": "execute_result"
    }
   ],
   "source": [
    "s[-1:-3:-1]"
   ]
  },
  {
   "cell_type": "code",
   "execution_count": 17,
   "id": "2517575e",
   "metadata": {},
   "outputs": [
    {
     "data": {
      "text/plain": [
       "0"
      ]
     },
     "execution_count": 17,
     "metadata": {},
     "output_type": "execute_result"
    }
   ],
   "source": [
    "s[-8::-1].find(\"p\")"
   ]
  },
  {
   "cell_type": "code",
   "execution_count": 19,
   "id": "82b359af",
   "metadata": {},
   "outputs": [],
   "source": [
    " a = 5"
   ]
  },
  {
   "cell_type": "code",
   "execution_count": 20,
   "id": "372ee6b4",
   "metadata": {},
   "outputs": [
    {
     "data": {
      "text/plain": [
       "140089916129648"
      ]
     },
     "execution_count": 20,
     "metadata": {},
     "output_type": "execute_result"
    }
   ],
   "source": [
    "id(a)"
   ]
  },
  {
   "cell_type": "markdown",
   "id": "88b593f4",
   "metadata": {},
   "source": [
    "# String Function\n"
   ]
  },
  {
   "cell_type": "code",
   "execution_count": 40,
   "id": "510dada5",
   "metadata": {},
   "outputs": [],
   "source": [
    "s1 = \"this is my string class\""
   ]
  },
  {
   "cell_type": "code",
   "execution_count": 41,
   "id": "5103f8a9",
   "metadata": {},
   "outputs": [
    {
     "ename": "TypeError",
     "evalue": "'int' object is not callable",
     "output_type": "error",
     "traceback": [
      "\u001b[0;31m---------------------------------------------------------------------------\u001b[0m",
      "\u001b[0;31mTypeError\u001b[0m                                 Traceback (most recent call last)",
      "Cell \u001b[0;32mIn[41], line 2\u001b[0m\n\u001b[1;32m      1\u001b[0m \u001b[38;5;66;03m#in build function\u001b[39;00m\n\u001b[0;32m----> 2\u001b[0m \u001b[38;5;28mprint\u001b[39m(\u001b[38;5;28;43mlen\u001b[39;49m\u001b[43m(\u001b[49m\u001b[43ms1\u001b[49m\u001b[43m)\u001b[49m)\n",
      "\u001b[0;31mTypeError\u001b[0m: 'int' object is not callable"
     ]
    }
   ],
   "source": [
    "#in build function\n",
    "print(len(s1))"
   ]
  },
  {
   "cell_type": "code",
   "execution_count": 42,
   "id": "4dd598fd",
   "metadata": {},
   "outputs": [
    {
     "name": "stdout",
     "output_type": "stream",
     "text": [
      "23\n"
     ]
    }
   ],
   "source": [
    "#user define function \n",
    "s1 = \"this is my string class\"\n",
    "\n",
    "def str_len(string):\n",
    "    length = 0\n",
    "    for i in string:\n",
    "        length+=1\n",
    "    \n",
    "    return length\n",
    "\n",
    "\n",
    "length = str_len(s1);\n",
    "print(length)"
   ]
  },
  {
   "cell_type": "code",
   "execution_count": 54,
   "id": "1e581eb1",
   "metadata": {},
   "outputs": [
    {
     "data": {
      "text/plain": [
       "3"
      ]
     },
     "execution_count": 54,
     "metadata": {},
     "output_type": "execute_result"
    }
   ],
   "source": [
    "#inbuild find mathods\n",
    "s1.find(i)"
   ]
  },
  {
   "cell_type": "code",
   "execution_count": 60,
   "id": "e7a6632e",
   "metadata": {},
   "outputs": [
    {
     "name": "stdout",
     "output_type": "stream",
     "text": [
      "2\n"
     ]
    }
   ],
   "source": [
    "#user define find methods\n",
    "\n",
    "def find_index(string, char):\n",
    "  \n",
    "    \n",
    "    index = -1\n",
    "    for i in string:\n",
    "        index += 1\n",
    "        if i == char:\n",
    "            return index\n",
    "        \n",
    "\n",
    "\n",
    "s1 = \"this is my string class\"\n",
    "print(find_index(s1, \"i\"))\n",
    "    "
   ]
  },
  {
   "cell_type": "code",
   "execution_count": 61,
   "id": "8f5800ce",
   "metadata": {},
   "outputs": [
    {
     "data": {
      "text/plain": [
       "5"
      ]
     },
     "execution_count": 61,
     "metadata": {},
     "output_type": "execute_result"
    }
   ],
   "source": [
    "s1.count(\"s\")"
   ]
  },
  {
   "cell_type": "code",
   "execution_count": 62,
   "id": "cb634b6f",
   "metadata": {},
   "outputs": [
    {
     "name": "stdout",
     "output_type": "stream",
     "text": [
      "5\n"
     ]
    }
   ],
   "source": [
    "def count_char(string, char):\n",
    "    count = 0\n",
    "    for i in string:\n",
    "        if i == char:\n",
    "            count += 1\n",
    "        \n",
    "    if count == 0:\n",
    "        print(\"0\") \n",
    "        \n",
    "    return count \n",
    "\n",
    "print(count_char(s1, \"s\"))"
   ]
  },
  {
   "cell_type": "code",
   "execution_count": 63,
   "id": "7a559104",
   "metadata": {},
   "outputs": [
    {
     "data": {
      "text/plain": [
       "'THIS IS MY STRING CLASS'"
      ]
     },
     "execution_count": 63,
     "metadata": {},
     "output_type": "execute_result"
    }
   ],
   "source": [
    "s1.upper()"
   ]
  },
  {
   "cell_type": "code",
   "execution_count": 64,
   "id": "15a2a0ab",
   "metadata": {},
   "outputs": [
    {
     "data": {
      "text/plain": [
       "'this is my string class'"
      ]
     },
     "execution_count": 64,
     "metadata": {},
     "output_type": "execute_result"
    }
   ],
   "source": [
    "s1.lower()"
   ]
  },
  {
   "cell_type": "code",
   "execution_count": 65,
   "id": "e6a1efcf",
   "metadata": {},
   "outputs": [
    {
     "data": {
      "text/plain": [
       "'This Is My String Class'"
      ]
     },
     "execution_count": 65,
     "metadata": {},
     "output_type": "execute_result"
    }
   ],
   "source": [
    "s1.title()"
   ]
  },
  {
   "cell_type": "code",
   "execution_count": 68,
   "id": "d0f64643",
   "metadata": {},
   "outputs": [
    {
     "data": {
      "text/plain": [
       "'This is my string class'"
      ]
     },
     "execution_count": 68,
     "metadata": {},
     "output_type": "execute_result"
    }
   ],
   "source": [
    "s1.capitalize()"
   ]
  },
  {
   "cell_type": "markdown",
   "id": "8d3ddfe1",
   "metadata": {},
   "source": [
    "## List, Tuple, Set\n"
   ]
  },
  {
   "cell_type": "code",
   "execution_count": 22,
   "id": "37d72ec9",
   "metadata": {},
   "outputs": [],
   "source": [
    "l = [1, 34, 34, \"Emdadul\", \"tareque\", 3.56]"
   ]
  },
  {
   "cell_type": "code",
   "execution_count": 24,
   "id": "f29401df",
   "metadata": {},
   "outputs": [],
   "source": [
    "s = l[3]"
   ]
  },
  {
   "cell_type": "code",
   "execution_count": 25,
   "id": "ee0faecb",
   "metadata": {},
   "outputs": [
    {
     "data": {
      "text/plain": [
       "'Emd'"
      ]
     },
     "execution_count": 25,
     "metadata": {},
     "output_type": "execute_result"
    }
   ],
   "source": [
    "s[0:3]"
   ]
  },
  {
   "cell_type": "code",
   "execution_count": 26,
   "id": "aa69fb90",
   "metadata": {},
   "outputs": [
    {
     "data": {
      "text/plain": [
       "'Emd'"
      ]
     },
     "execution_count": 26,
     "metadata": {},
     "output_type": "execute_result"
    }
   ],
   "source": [
    "l[3][0:3]"
   ]
  },
  {
   "cell_type": "code",
   "execution_count": 27,
   "id": "89c21e55",
   "metadata": {},
   "outputs": [],
   "source": [
    "l = [1, 34, 34, \"Emdadul\", \"tareque\", 3.56,[ 34, \"Emdadul\",]]"
   ]
  },
  {
   "cell_type": "code",
   "execution_count": 28,
   "id": "dbabb5b9",
   "metadata": {},
   "outputs": [
    {
     "data": {
      "text/plain": [
       "[34, 'Emdadul']"
      ]
     },
     "execution_count": 28,
     "metadata": {},
     "output_type": "execute_result"
    }
   ],
   "source": [
    "l[-1]"
   ]
  },
  {
   "cell_type": "code",
   "execution_count": 29,
   "id": "96c6f93a",
   "metadata": {},
   "outputs": [
    {
     "data": {
      "text/plain": [
       "'Emdadul'"
      ]
     },
     "execution_count": 29,
     "metadata": {},
     "output_type": "execute_result"
    }
   ],
   "source": [
    "l[-1][-1]"
   ]
  },
  {
   "cell_type": "code",
   "execution_count": 30,
   "id": "a068325b",
   "metadata": {},
   "outputs": [
    {
     "data": {
      "text/plain": [
       "'Emd'"
      ]
     },
     "execution_count": 30,
     "metadata": {},
     "output_type": "execute_result"
    }
   ],
   "source": [
    "l[-1][-1][0:3]"
   ]
  },
  {
   "cell_type": "code",
   "execution_count": 31,
   "id": "1734b058",
   "metadata": {},
   "outputs": [],
   "source": [
    "l1 = [3, 4, 5]"
   ]
  },
  {
   "cell_type": "code",
   "execution_count": 32,
   "id": "2346394b",
   "metadata": {},
   "outputs": [
    {
     "data": {
      "text/plain": [
       "[1, 34, 34, 'Emdadul', 'tareque', 3.56, [34, 'Emdadul'], 3, 4, 5]"
      ]
     },
     "execution_count": 32,
     "metadata": {},
     "output_type": "execute_result"
    }
   ],
   "source": [
    "l+l1"
   ]
  },
  {
   "cell_type": "code",
   "execution_count": 33,
   "id": "6b3fb597",
   "metadata": {},
   "outputs": [],
   "source": [
    "l.append(l1)"
   ]
  },
  {
   "cell_type": "code",
   "execution_count": 34,
   "id": "9e865a2f",
   "metadata": {},
   "outputs": [
    {
     "data": {
      "text/plain": [
       "[1, 34, 34, 'Emdadul', 'tareque', 3.56, [34, 'Emdadul'], [3, 4, 5]]"
      ]
     },
     "execution_count": 34,
     "metadata": {},
     "output_type": "execute_result"
    }
   ],
   "source": [
    "l"
   ]
  },
  {
   "cell_type": "code",
   "execution_count": 37,
   "id": "99a0aeb5",
   "metadata": {},
   "outputs": [],
   "source": [
    "l.extend(l1)"
   ]
  },
  {
   "cell_type": "code",
   "execution_count": 38,
   "id": "f14a1b1b",
   "metadata": {},
   "outputs": [
    {
     "data": {
      "text/plain": [
       "[1, 34, 34, 'Emdadul', 'tareque', 3.56, [34, 'Emdadul'], [3, 4, 5], 3, 4, 5]"
      ]
     },
     "execution_count": 38,
     "metadata": {},
     "output_type": "execute_result"
    }
   ],
   "source": [
    "l"
   ]
  },
  {
   "cell_type": "code",
   "execution_count": 39,
   "id": "09c6c0ca",
   "metadata": {},
   "outputs": [],
   "source": [
    "l.insert(0, \"emdadul\")"
   ]
  },
  {
   "cell_type": "code",
   "execution_count": 40,
   "id": "7cee4501",
   "metadata": {},
   "outputs": [
    {
     "data": {
      "text/plain": [
       "['emdadul',\n",
       " 1,\n",
       " 34,\n",
       " 34,\n",
       " 'Emdadul',\n",
       " 'tareque',\n",
       " 3.56,\n",
       " [34, 'Emdadul'],\n",
       " [3, 4, 5],\n",
       " 3,\n",
       " 4,\n",
       " 5]"
      ]
     },
     "execution_count": 40,
     "metadata": {},
     "output_type": "execute_result"
    }
   ],
   "source": [
    "l"
   ]
  },
  {
   "cell_type": "code",
   "execution_count": 41,
   "id": "4e6154f4",
   "metadata": {},
   "outputs": [
    {
     "name": "stdout",
     "output_type": "stream",
     "text": [
      "['emdadul', 1, 34, 34, 'Emdadul', 'tareque', 3.56, [34, 'Emdadul'], [3, 4, 5], 3, 4, 5]\n"
     ]
    }
   ],
   "source": [
    "print(l)"
   ]
  },
  {
   "cell_type": "code",
   "execution_count": 42,
   "id": "764d7083",
   "metadata": {},
   "outputs": [
    {
     "data": {
      "text/plain": [
       "5"
      ]
     },
     "execution_count": 42,
     "metadata": {},
     "output_type": "execute_result"
    }
   ],
   "source": [
    "l.pop()"
   ]
  },
  {
   "cell_type": "code",
   "execution_count": 43,
   "id": "05392976",
   "metadata": {},
   "outputs": [
    {
     "data": {
      "text/plain": [
       "['emdadul',\n",
       " 1,\n",
       " 34,\n",
       " 34,\n",
       " 'Emdadul',\n",
       " 'tareque',\n",
       " 3.56,\n",
       " [34, 'Emdadul'],\n",
       " [3, 4, 5],\n",
       " 3,\n",
       " 4]"
      ]
     },
     "execution_count": 43,
     "metadata": {},
     "output_type": "execute_result"
    }
   ],
   "source": [
    "l"
   ]
  },
  {
   "cell_type": "code",
   "execution_count": 44,
   "id": "491ad6e0",
   "metadata": {},
   "outputs": [
    {
     "data": {
      "text/plain": [
       "'tareque'"
      ]
     },
     "execution_count": 44,
     "metadata": {},
     "output_type": "execute_result"
    }
   ],
   "source": [
    "l.pop(5)"
   ]
  },
  {
   "cell_type": "code",
   "execution_count": 45,
   "id": "6b055b4e",
   "metadata": {},
   "outputs": [
    {
     "data": {
      "text/plain": [
       "['emdadul', 1, 34, 34, 'Emdadul', 3.56, [34, 'Emdadul'], [3, 4, 5], 3, 4]"
      ]
     },
     "execution_count": 45,
     "metadata": {},
     "output_type": "execute_result"
    }
   ],
   "source": [
    "l"
   ]
  },
  {
   "cell_type": "code",
   "execution_count": 48,
   "id": "8e631f90",
   "metadata": {},
   "outputs": [],
   "source": [
    "l.remove(34)"
   ]
  },
  {
   "cell_type": "code",
   "execution_count": 49,
   "id": "47764093",
   "metadata": {},
   "outputs": [
    {
     "ename": "ValueError",
     "evalue": "list.remove(x): x not in list",
     "output_type": "error",
     "traceback": [
      "\u001b[0;31m---------------------------------------------------------------------------\u001b[0m",
      "\u001b[0;31mValueError\u001b[0m                                Traceback (most recent call last)",
      "Cell \u001b[0;32mIn[49], line 1\u001b[0m\n\u001b[0;32m----> 1\u001b[0m \u001b[43ml\u001b[49m\u001b[38;5;241;43m.\u001b[39;49m\u001b[43mremove\u001b[49m\u001b[43m(\u001b[49m\u001b[38;5;241;43m100\u001b[39;49m\u001b[43m)\u001b[49m\n",
      "\u001b[0;31mValueError\u001b[0m: list.remove(x): x not in list"
     ]
    }
   ],
   "source": [
    "l.remove(100) #if i pass a wrong value as a argument remove method give an error"
   ]
  },
  {
   "cell_type": "code",
   "execution_count": 52,
   "id": "7600079c",
   "metadata": {},
   "outputs": [
    {
     "data": {
      "text/plain": [
       "['emdadul', 1, 34, 'Emdadul', 3.56, [34, 'Emdadul'], [3, 4, 5], 3, 4]"
      ]
     },
     "execution_count": 52,
     "metadata": {},
     "output_type": "execute_result"
    }
   ],
   "source": [
    "l"
   ]
  },
  {
   "cell_type": "code",
   "execution_count": 53,
   "id": "37d08b58",
   "metadata": {},
   "outputs": [
    {
     "data": {
      "text/plain": [
       "[3, 4, 5]"
      ]
     },
     "execution_count": 53,
     "metadata": {},
     "output_type": "execute_result"
    }
   ],
   "source": [
    "l[6]"
   ]
  },
  {
   "cell_type": "code",
   "execution_count": 54,
   "id": "ca3d6a93",
   "metadata": {},
   "outputs": [],
   "source": [
    "l[6].remove(5)"
   ]
  },
  {
   "cell_type": "code",
   "execution_count": 55,
   "id": "e8ca7708",
   "metadata": {},
   "outputs": [
    {
     "data": {
      "text/plain": [
       "['emdadul', 1, 34, 'Emdadul', 3.56, [34, 'Emdadul'], [3, 4], 3, 4]"
      ]
     },
     "execution_count": 55,
     "metadata": {},
     "output_type": "execute_result"
    }
   ],
   "source": [
    "l"
   ]
  },
  {
   "cell_type": "code",
   "execution_count": 56,
   "id": "fbf0a330",
   "metadata": {},
   "outputs": [
    {
     "data": {
      "text/plain": [
       "'emdadul'"
      ]
     },
     "execution_count": 56,
     "metadata": {},
     "output_type": "execute_result"
    }
   ],
   "source": [
    "l[0]"
   ]
  },
  {
   "cell_type": "code",
   "execution_count": 57,
   "id": "ce770414",
   "metadata": {},
   "outputs": [
    {
     "ename": "AttributeError",
     "evalue": "'str' object has no attribute 'remove'",
     "output_type": "error",
     "traceback": [
      "\u001b[0;31m---------------------------------------------------------------------------\u001b[0m",
      "\u001b[0;31mAttributeError\u001b[0m                            Traceback (most recent call last)",
      "Cell \u001b[0;32mIn[57], line 1\u001b[0m\n\u001b[0;32m----> 1\u001b[0m \u001b[43ml\u001b[49m\u001b[43m[\u001b[49m\u001b[38;5;241;43m0\u001b[39;49m\u001b[43m]\u001b[49m\u001b[38;5;241;43m.\u001b[39;49m\u001b[43mremove\u001b[49m(\u001b[38;5;124m'\u001b[39m\u001b[38;5;124mul\u001b[39m\u001b[38;5;124m'\u001b[39m)\n",
      "\u001b[0;31mAttributeError\u001b[0m: 'str' object has no attribute 'remove'"
     ]
    }
   ],
   "source": [
    "l[0].remove('ul')"
   ]
  },
  {
   "cell_type": "code",
   "execution_count": 58,
   "id": "b8c3cd89",
   "metadata": {},
   "outputs": [],
   "source": [
    "s = \"emdadul\""
   ]
  },
  {
   "cell_type": "code",
   "execution_count": 59,
   "id": "598d48d7",
   "metadata": {},
   "outputs": [
    {
     "data": {
      "text/plain": [
       "140089865995440"
      ]
     },
     "execution_count": 59,
     "metadata": {},
     "output_type": "execute_result"
    }
   ],
   "source": [
    "id(s)"
   ]
  },
  {
   "cell_type": "code",
   "execution_count": 70,
   "id": "00228bf1",
   "metadata": {},
   "outputs": [],
   "source": [
    "x = id(s.replace(\"e\", \"t\"))"
   ]
  },
  {
   "cell_type": "code",
   "execution_count": 71,
   "id": "64e383c2",
   "metadata": {},
   "outputs": [],
   "source": [
    "import ctypes\n",
    "a = ctypes.cast(x, ctypes.py_object).value"
   ]
  },
  {
   "cell_type": "code",
   "execution_count": 72,
   "id": "4f1692fb",
   "metadata": {},
   "outputs": [
    {
     "data": {
      "text/plain": [
       "'msg_type'"
      ]
     },
     "execution_count": 72,
     "metadata": {},
     "output_type": "execute_result"
    }
   ],
   "source": [
    "a"
   ]
  },
  {
   "cell_type": "code",
   "execution_count": 73,
   "id": "df1aa48c",
   "metadata": {},
   "outputs": [],
   "source": [
    "s = {1, 2, 4, 5}"
   ]
  },
  {
   "cell_type": "code",
   "execution_count": 74,
   "id": "e07ebd10",
   "metadata": {},
   "outputs": [],
   "source": [
    "s.clear()"
   ]
  },
  {
   "cell_type": "code",
   "execution_count": 75,
   "id": "bc9c51e4",
   "metadata": {},
   "outputs": [
    {
     "data": {
      "text/plain": [
       "set()"
      ]
     },
     "execution_count": 75,
     "metadata": {},
     "output_type": "execute_result"
    }
   ],
   "source": [
    "s"
   ]
  },
  {
   "cell_type": "code",
   "execution_count": 76,
   "id": "1ac1b7bf",
   "metadata": {},
   "outputs": [],
   "source": [
    "s.add(3)"
   ]
  },
  {
   "cell_type": "code",
   "execution_count": 77,
   "id": "2905258c",
   "metadata": {},
   "outputs": [
    {
     "data": {
      "text/plain": [
       "{3}"
      ]
     },
     "execution_count": 77,
     "metadata": {},
     "output_type": "execute_result"
    }
   ],
   "source": [
    "s"
   ]
  },
  {
   "cell_type": "code",
   "execution_count": 78,
   "id": "bf19d5b3",
   "metadata": {},
   "outputs": [],
   "source": [
    "t = (2, 3, 4)"
   ]
  },
  {
   "cell_type": "code",
   "execution_count": 79,
   "id": "bb9b3ccc",
   "metadata": {},
   "outputs": [
    {
     "ename": "AttributeError",
     "evalue": "'tuple' object has no attribute 'pop'",
     "output_type": "error",
     "traceback": [
      "\u001b[0;31m---------------------------------------------------------------------------\u001b[0m",
      "\u001b[0;31mAttributeError\u001b[0m                            Traceback (most recent call last)",
      "Cell \u001b[0;32mIn[79], line 1\u001b[0m\n\u001b[0;32m----> 1\u001b[0m \u001b[43mt\u001b[49m\u001b[38;5;241;43m.\u001b[39;49m\u001b[43mpop\u001b[49m()\n",
      "\u001b[0;31mAttributeError\u001b[0m: 'tuple' object has no attribute 'pop'"
     ]
    }
   ],
   "source": [
    "t.pop()"
   ]
  },
  {
   "cell_type": "code",
   "execution_count": 80,
   "id": "e80e9820",
   "metadata": {},
   "outputs": [
    {
     "data": {
      "text/plain": [
       "{3}"
      ]
     },
     "execution_count": 80,
     "metadata": {},
     "output_type": "execute_result"
    }
   ],
   "source": [
    "s.copy()"
   ]
  },
  {
   "cell_type": "code",
   "execution_count": 81,
   "id": "d67eac36",
   "metadata": {},
   "outputs": [
    {
     "data": {
      "text/plain": [
       "{3}"
      ]
     },
     "execution_count": 81,
     "metadata": {},
     "output_type": "execute_result"
    }
   ],
   "source": [
    "s.difference()"
   ]
  },
  {
   "cell_type": "code",
   "execution_count": 84,
   "id": "f283b9e6",
   "metadata": {},
   "outputs": [
    {
     "data": {
      "text/plain": [
       "set()"
      ]
     },
     "execution_count": 84,
     "metadata": {},
     "output_type": "execute_result"
    }
   ],
   "source": [
    "s.difference(s1)"
   ]
  },
  {
   "cell_type": "code",
   "execution_count": null,
   "id": "eb5c0295",
   "metadata": {},
   "outputs": [],
   "source": []
  },
  {
   "cell_type": "code",
   "execution_count": 89,
   "id": "eb1bf50c",
   "metadata": {},
   "outputs": [],
   "source": [
    "s1={3, 4, 5}"
   ]
  },
  {
   "cell_type": "code",
   "execution_count": 90,
   "id": "a2ff1129",
   "metadata": {},
   "outputs": [
    {
     "data": {
      "text/plain": [
       "{4, 5}"
      ]
     },
     "execution_count": 90,
     "metadata": {},
     "output_type": "execute_result"
    }
   ],
   "source": [
    "s1.difference(s)"
   ]
  },
  {
   "cell_type": "code",
   "execution_count": 91,
   "id": "56651b21",
   "metadata": {},
   "outputs": [
    {
     "data": {
      "text/plain": [
       "{3, 4, 5}"
      ]
     },
     "execution_count": 91,
     "metadata": {},
     "output_type": "execute_result"
    }
   ],
   "source": [
    "s1"
   ]
  },
  {
   "cell_type": "code",
   "execution_count": null,
   "id": "8bce5e94",
   "metadata": {},
   "outputs": [],
   "source": []
  },
  {
   "cell_type": "code",
   "execution_count": 86,
   "id": "908b86dc",
   "metadata": {},
   "outputs": [
    {
     "data": {
      "text/plain": [
       "set()"
      ]
     },
     "execution_count": 86,
     "metadata": {},
     "output_type": "execute_result"
    }
   ],
   "source": [
    "s.difference(s1)"
   ]
  },
  {
   "cell_type": "code",
   "execution_count": 87,
   "id": "c8406f5e",
   "metadata": {},
   "outputs": [],
   "source": [
    "s1.difference_update(s)"
   ]
  },
  {
   "cell_type": "code",
   "execution_count": 88,
   "id": "31c0189a",
   "metadata": {},
   "outputs": [
    {
     "data": {
      "text/plain": [
       "{4, 5}"
      ]
     },
     "execution_count": 88,
     "metadata": {},
     "output_type": "execute_result"
    }
   ],
   "source": [
    "s1"
   ]
  },
  {
   "cell_type": "code",
   "execution_count": null,
   "id": "f5c08a38",
   "metadata": {},
   "outputs": [],
   "source": []
  },
  {
   "cell_type": "code",
   "execution_count": null,
   "id": "862ba8a6",
   "metadata": {},
   "outputs": [],
   "source": []
  }
 ],
 "metadata": {
  "kernelspec": {
   "display_name": "Python 3 (ipykernel)",
   "language": "python",
   "name": "python3"
  },
  "language_info": {
   "codemirror_mode": {
    "name": "ipython",
    "version": 3
   },
   "file_extension": ".py",
   "mimetype": "text/x-python",
   "name": "python",
   "nbconvert_exporter": "python",
   "pygments_lexer": "ipython3",
   "version": "3.10.6"
  }
 },
 "nbformat": 4,
 "nbformat_minor": 5
}
