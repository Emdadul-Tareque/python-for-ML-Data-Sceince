{
 "cells": [
  {
   "cell_type": "markdown",
   "metadata": {},
   "source": [
    "## Creating Dictionaries in four different ways"
   ]
  },
  {
   "cell_type": "code",
   "execution_count": 1,
   "metadata": {},
   "outputs": [],
   "source": [
    "# Way 01:\n",
    "d1 = {\"name\": \"Emdadul\", \"Age\": 27}"
   ]
  },
  {
   "cell_type": "code",
   "execution_count": 2,
   "metadata": {},
   "outputs": [
    {
     "data": {
      "text/plain": [
       "{'name': 'Emdadul', 'Age': 27}"
      ]
     },
     "execution_count": 2,
     "metadata": {},
     "output_type": "execute_result"
    }
   ],
   "source": [
    "d1"
   ]
  },
  {
   "cell_type": "code",
   "execution_count": 3,
   "metadata": {},
   "outputs": [],
   "source": [
    "#way 2:\n",
    "\n",
    "d2 = {}\n",
    "d2[\"name\"] = \"Emdadul\"\n",
    "d2[\"age\"] = 27"
   ]
  },
  {
   "cell_type": "code",
   "execution_count": 4,
   "metadata": {},
   "outputs": [
    {
     "data": {
      "text/plain": [
       "{'name': 'Emdadul', 'age': 27}"
      ]
     },
     "execution_count": 4,
     "metadata": {},
     "output_type": "execute_result"
    }
   ],
   "source": [
    "d2"
   ]
  },
  {
   "cell_type": "code",
   "execution_count": 8,
   "metadata": {},
   "outputs": [],
   "source": [
    "#Way 03:\n",
    "\n",
    "d3 = dict(name= \"Emdadul\", age= 27)"
   ]
  },
  {
   "cell_type": "code",
   "execution_count": 9,
   "metadata": {},
   "outputs": [
    {
     "data": {
      "text/plain": [
       "{'name': 'Emdadul', 'age': 27}"
      ]
     },
     "execution_count": 9,
     "metadata": {},
     "output_type": "execute_result"
    }
   ],
   "source": [
    "d3"
   ]
  },
  {
   "cell_type": "code",
   "execution_count": 10,
   "metadata": {},
   "outputs": [],
   "source": [
    "#Way 04:\n",
    "d4 = dict([('name', 'Emdadul'), (\"age\", 27)])"
   ]
  },
  {
   "cell_type": "code",
   "execution_count": 63,
   "metadata": {},
   "outputs": [
    {
     "data": {
      "text/plain": [
       "{'name': 'Emdadul', 'age': 27}"
      ]
     },
     "execution_count": 63,
     "metadata": {},
     "output_type": "execute_result"
    }
   ],
   "source": [
    "d4"
   ]
  },
  {
   "cell_type": "markdown",
   "metadata": {},
   "source": [
    "## Access value from a dictionary"
   ]
  },
  {
   "cell_type": "code",
   "execution_count": 64,
   "metadata": {},
   "outputs": [],
   "source": [
    "info = dict(name=\"tareque\", age=27, hobby=\"Cricket\") "
   ]
  },
  {
   "cell_type": "code",
   "execution_count": 65,
   "metadata": {},
   "outputs": [
    {
     "data": {
      "text/plain": [
       "{'name': 'tareque', 'age': 27, 'hobby': 'Cricket'}"
      ]
     },
     "execution_count": 65,
     "metadata": {},
     "output_type": "execute_result"
    }
   ],
   "source": [
    "info"
   ]
  },
  {
   "cell_type": "code",
   "execution_count": 67,
   "metadata": {},
   "outputs": [
    {
     "data": {
      "text/plain": [
       "'tareque'"
      ]
     },
     "execution_count": 67,
     "metadata": {},
     "output_type": "execute_result"
    }
   ],
   "source": [
    "#access value using key \n",
    "info[\"name\"]"
   ]
  },
  {
   "cell_type": "code",
   "execution_count": 68,
   "metadata": {},
   "outputs": [
    {
     "data": {
      "text/plain": [
       "'tareque'"
      ]
     },
     "execution_count": 68,
     "metadata": {},
     "output_type": "execute_result"
    }
   ],
   "source": [
    "#access value using get() methods\n",
    "info.get(\"name\")"
   ]
  },
  {
   "cell_type": "markdown",
   "metadata": {},
   "source": [
    "## Adding, Replacing, delete Values"
   ]
  },
  {
   "cell_type": "code",
   "execution_count": 12,
   "metadata": {},
   "outputs": [],
   "source": [
    "info = {\"name\": \"Tareque\", \"age\": 27}"
   ]
  },
  {
   "cell_type": "code",
   "execution_count": 13,
   "metadata": {},
   "outputs": [],
   "source": [
    "info[\"Hobby\"] = \"Cricket\""
   ]
  },
  {
   "cell_type": "code",
   "execution_count": 14,
   "metadata": {},
   "outputs": [
    {
     "data": {
      "text/plain": [
       "{'name': 'Tareque', 'age': 27, 'Hobby': 'Cricket'}"
      ]
     },
     "execution_count": 14,
     "metadata": {},
     "output_type": "execute_result"
    }
   ],
   "source": [
    "info"
   ]
  },
  {
   "cell_type": "code",
   "execution_count": 15,
   "metadata": {},
   "outputs": [],
   "source": [
    "#replace old value\n",
    "\n",
    "info[\"name\"] = \"Emdadul\""
   ]
  },
  {
   "cell_type": "code",
   "execution_count": 16,
   "metadata": {},
   "outputs": [
    {
     "data": {
      "text/plain": [
       "{'name': 'Emdadul', 'age': 27, 'Hobby': 'Cricket'}"
      ]
     },
     "execution_count": 16,
     "metadata": {},
     "output_type": "execute_result"
    }
   ],
   "source": [
    "info"
   ]
  },
  {
   "cell_type": "code",
   "execution_count": 19,
   "metadata": {},
   "outputs": [
    {
     "name": "stdout",
     "output_type": "stream",
     "text": [
      "Cricket\n"
     ]
    }
   ],
   "source": [
    "#Retrieving Values\n",
    "\n",
    "print(info[\"Hobby\"])"
   ]
  },
  {
   "cell_type": "code",
   "execution_count": 25,
   "metadata": {},
   "outputs": [],
   "source": [
    "#formating dictionaries\n",
    "\n",
    "text = \"My name is %(name)s. I am %(age)d years old\"%info\n",
    "#here d use for integer, s use for string and %info use for intigate dictonary"
   ]
  },
  {
   "cell_type": "code",
   "execution_count": 23,
   "metadata": {},
   "outputs": [
    {
     "data": {
      "text/plain": [
       "'My name is Emdadul. I am 27 years old'"
      ]
     },
     "execution_count": 23,
     "metadata": {},
     "output_type": "execute_result"
    }
   ],
   "source": [
    "text"
   ]
  },
  {
   "cell_type": "code",
   "execution_count": 72,
   "metadata": {},
   "outputs": [],
   "source": [
    "#deleting items using del operator\n",
    "info = {\"name\": \"Tareque\", \"age\": 27, \"Hobby\": \"Cricket\"}\n",
    "\n",
    "del info[\"age\"]"
   ]
  },
  {
   "cell_type": "code",
   "execution_count": 73,
   "metadata": {},
   "outputs": [
    {
     "data": {
      "text/plain": [
       "{'name': 'Tareque', 'Hobby': 'Cricket'}"
      ]
     },
     "execution_count": 73,
     "metadata": {},
     "output_type": "execute_result"
    }
   ],
   "source": [
    "info"
   ]
  },
  {
   "cell_type": "code",
   "execution_count": 74,
   "metadata": {},
   "outputs": [
    {
     "data": {
      "text/plain": [
       "'Tareque'"
      ]
     },
     "execution_count": 74,
     "metadata": {},
     "output_type": "execute_result"
    }
   ],
   "source": [
    "#deleting items using pop method\n",
    "info.pop(\"name\")"
   ]
  },
  {
   "cell_type": "code",
   "execution_count": 75,
   "metadata": {},
   "outputs": [
    {
     "data": {
      "text/plain": [
       "{'Hobby': 'Cricket'}"
      ]
     },
     "execution_count": 75,
     "metadata": {},
     "output_type": "execute_result"
    }
   ],
   "source": [
    "info"
   ]
  },
  {
   "cell_type": "code",
   "execution_count": 29,
   "metadata": {},
   "outputs": [],
   "source": [
    "#comparing dictionary \n",
    "info = {\"name\": \"Tareque\", \"age\": 27}\n",
    "info1 = {\"name\": \"Tareque\", \"age\": 27}"
   ]
  },
  {
   "cell_type": "code",
   "execution_count": 30,
   "metadata": {},
   "outputs": [
    {
     "data": {
      "text/plain": [
       "True"
      ]
     },
     "execution_count": 30,
     "metadata": {},
     "output_type": "execute_result"
    }
   ],
   "source": [
    "info == info1"
   ]
  },
  {
   "cell_type": "code",
   "execution_count": 31,
   "metadata": {},
   "outputs": [
    {
     "data": {
      "text/plain": [
       "False"
      ]
     },
     "execution_count": 31,
     "metadata": {},
     "output_type": "execute_result"
    }
   ],
   "source": [
    "info != info1"
   ]
  },
  {
   "cell_type": "markdown",
   "metadata": {},
   "source": [
    "## dictionary methods"
   ]
  },
  {
   "cell_type": "code",
   "execution_count": 33,
   "metadata": {},
   "outputs": [],
   "source": [
    "#keys() --> Returns a sequemce of keys\n",
    "\n",
    "info = {\"name\": \"Tareque\", \"age\": 27, \"hobby\": \"Cricket\"}"
   ]
  },
  {
   "cell_type": "code",
   "execution_count": 34,
   "metadata": {},
   "outputs": [
    {
     "data": {
      "text/plain": [
       "dict_keys(['name', 'age', 'hobby'])"
      ]
     },
     "execution_count": 34,
     "metadata": {},
     "output_type": "execute_result"
    }
   ],
   "source": [
    "info.keys()"
   ]
  },
  {
   "cell_type": "code",
   "execution_count": 35,
   "metadata": {},
   "outputs": [
    {
     "data": {
      "text/plain": [
       "dict_values(['Tareque', 27, 'Cricket'])"
      ]
     },
     "execution_count": 35,
     "metadata": {},
     "output_type": "execute_result"
    }
   ],
   "source": [
    "#values() --> return a sequence of value\n",
    "\n",
    "info.values()"
   ]
  },
  {
   "cell_type": "code",
   "execution_count": 40,
   "metadata": {},
   "outputs": [
    {
     "data": {
      "text/plain": [
       "dict_items([('name', 'Tareque'), ('age', 27), ('hobby', 'Cricket')])"
      ]
     },
     "execution_count": 40,
     "metadata": {},
     "output_type": "execute_result"
    }
   ],
   "source": [
    "#items --> Returns a sequence of tuples\n",
    "info.items()"
   ]
  },
  {
   "cell_type": "code",
   "execution_count": 42,
   "metadata": {},
   "outputs": [
    {
     "name": "stdout",
     "output_type": "stream",
     "text": [
      "dict_items([('name', 'Tareque'), ('age', 27), ('hobby', 'Cricket')])\n"
     ]
    }
   ],
   "source": [
    "print(info.items())"
   ]
  },
  {
   "cell_type": "code",
   "execution_count": 43,
   "metadata": {},
   "outputs": [],
   "source": [
    "item = info.items()"
   ]
  },
  {
   "cell_type": "code",
   "execution_count": 52,
   "metadata": {},
   "outputs": [
    {
     "name": "stdout",
     "output_type": "stream",
     "text": [
      "<class 'dict_items'>\n",
      "('name', 'Tareque')\n",
      "<class 'tuple'>\n",
      "('age', 27)\n",
      "<class 'tuple'>\n",
      "('hobby', 'Cricket')\n",
      "<class 'tuple'>\n"
     ]
    }
   ],
   "source": [
    "print(type(item))\n",
    "for i in item:\n",
    "    print(i)\n",
    "    print(type(i))"
   ]
  },
  {
   "cell_type": "code",
   "execution_count": 54,
   "metadata": {},
   "outputs": [],
   "source": [
    "#clear()\n",
    "\n",
    "info.clear()"
   ]
  },
  {
   "cell_type": "code",
   "execution_count": 55,
   "metadata": {},
   "outputs": [
    {
     "data": {
      "text/plain": [
       "{}"
      ]
     },
     "execution_count": 55,
     "metadata": {},
     "output_type": "execute_result"
    }
   ],
   "source": [
    "info"
   ]
  },
  {
   "cell_type": "code",
   "execution_count": 60,
   "metadata": {},
   "outputs": [
    {
     "data": {
      "text/plain": [
       "'Tareque'"
      ]
     },
     "execution_count": 60,
     "metadata": {},
     "output_type": "execute_result"
    }
   ],
   "source": [
    "#get(key) --> return a value for a key\n",
    "\n",
    "info = info = {\"name\": \"Tareque\", \"age\": 27, \"hobby\": \"Cricket\"}\n",
    "info.get(\"name\")"
   ]
  },
  {
   "cell_type": "code",
   "execution_count": 61,
   "metadata": {},
   "outputs": [
    {
     "data": {
      "text/plain": [
       "'Tareque'"
      ]
     },
     "execution_count": 61,
     "metadata": {},
     "output_type": "execute_result"
    }
   ],
   "source": [
    "#pop(key) --> Remove a key and returns the value if the key exists\n",
    "\n",
    "info.pop(\"name\")"
   ]
  },
  {
   "cell_type": "code",
   "execution_count": 62,
   "metadata": {},
   "outputs": [
    {
     "data": {
      "text/plain": [
       "{'age': 27, 'hobby': 'Cricket'}"
      ]
     },
     "execution_count": 62,
     "metadata": {},
     "output_type": "execute_result"
    }
   ],
   "source": [
    "info"
   ]
  },
  {
   "cell_type": "code",
   "execution_count": 48,
   "metadata": {},
   "outputs": [],
   "source": [
    "#make a dictionary from tuple using zip method \n",
    "tple = (\"name\", \"age\", \"hobby\")\n",
    "tple1 = (\"tareque\", 27, \"Cricket\")\n",
    "\n",
    "dic = dict(zip(tple, tple1))"
   ]
  },
  {
   "cell_type": "code",
   "execution_count": 49,
   "metadata": {},
   "outputs": [
    {
     "data": {
      "text/plain": [
       "{'name': 'tareque', 'age': 27, 'hobby': 'Cricket'}"
      ]
     },
     "execution_count": 49,
     "metadata": {},
     "output_type": "execute_result"
    }
   ],
   "source": [
    "dic"
   ]
  },
  {
   "cell_type": "code",
   "execution_count": 50,
   "metadata": {},
   "outputs": [],
   "source": [
    "lst = [\"name\", \"age\", \"hobby\"]\n",
    "lst1 = [\"Tareque\", 27, \"Cricket\"]\n",
    "\n",
    "dic = dict(zip(lst, lst1))"
   ]
  },
  {
   "cell_type": "code",
   "execution_count": 51,
   "metadata": {},
   "outputs": [
    {
     "data": {
      "text/plain": [
       "{'name': 'Tareque', 'age': 27, 'hobby': 'Cricket'}"
      ]
     },
     "execution_count": 51,
     "metadata": {},
     "output_type": "execute_result"
    }
   ],
   "source": [
    "dic"
   ]
  },
  {
   "cell_type": "markdown",
   "metadata": {},
   "source": [
    "## Traversing Dictionaries"
   ]
  },
  {
   "cell_type": "code",
   "execution_count": 82,
   "metadata": {},
   "outputs": [],
   "source": [
    "info = {\"name\": \"Tareque\", \"age\": 27, \"hobby\": \"Cricket\"}"
   ]
  },
  {
   "cell_type": "code",
   "execution_count": 83,
   "metadata": {},
   "outputs": [
    {
     "name": "stdout",
     "output_type": "stream",
     "text": [
      "name :  Tareque\n",
      "age :  27\n",
      "hobby :  Cricket\n"
     ]
    }
   ],
   "source": [
    "# Way 01\n",
    "items = info.items()\n",
    "for key, value in items:\n",
    "#     key, value = item\n",
    "    print(key,\": \", value)"
   ]
  },
  {
   "cell_type": "code",
   "execution_count": 84,
   "metadata": {},
   "outputs": [
    {
     "name": "stdout",
     "output_type": "stream",
     "text": [
      "name :  Tareque\n",
      "age :  27\n",
      "hobby :  Cricket\n"
     ]
    }
   ],
   "source": [
    "# Way 02\n",
    "\n",
    "for key in info:\n",
    "    print(key, \": \", info[key])"
   ]
  },
  {
   "cell_type": "markdown",
   "metadata": {},
   "source": [
    "## Traversing nested dictionary"
   ]
  },
  {
   "cell_type": "code",
   "execution_count": 89,
   "metadata": {},
   "outputs": [],
   "source": [
    "players = {\"virat Kohli\": {\"ODI\": 7212, \"Test\": 3245}, \n",
    "           \"Sachin\": {\"ODI\": 18426, \"Test\": 15921}}"
   ]
  },
  {
   "cell_type": "code",
   "execution_count": 91,
   "metadata": {},
   "outputs": [
    {
     "name": "stdout",
     "output_type": "stream",
     "text": [
      "player:  virat Kohli\n",
      " Run Scored in ODI:  7212\n",
      " Run Scored in Test: 3245\n",
      "player:  Sachin\n",
      " Run Scored in ODI:  18426\n",
      " Run Scored in Test: 15921\n"
     ]
    }
   ],
   "source": [
    "for player_name, player_details in players.items():\n",
    "    print(\"player: \", player_name)\n",
    "    print(\" Run Scored in ODI: \", player_details[\"ODI\"])\n",
    "    print(\" Run Scored in Test:\", player_details[\"Test\"])"
   ]
  },
  {
   "cell_type": "markdown",
   "metadata": {},
   "source": [
    "## Simple programs on Dictionary"
   ]
  },
  {
   "cell_type": "markdown",
   "metadata": {},
   "source": [
    "Program 01: Write a function histogram that takes string as parameter and generates a frequency of\n",
    "characters contained in it. \n",
    "\n",
    "s = \"AAPPLE\"\n",
    "\n",
    "the porgam should create a dictionary \n",
    "\n",
    "D = {‘A’: 2, ‘E’: 1, ‘P’: 2, ‘L’: 1}"
   ]
  },
  {
   "cell_type": "code",
   "execution_count": 97,
   "metadata": {},
   "outputs": [
    {
     "name": "stdout",
     "output_type": "stream",
     "text": [
      "{'A': 2, 'P': 2, 'L': 1, 'E': 1}\n"
     ]
    }
   ],
   "source": [
    "def histogram(string):\n",
    "    D = dict()\n",
    "    \n",
    "    for char in string:\n",
    "        if char not in D:\n",
    "            D[char] = 1\n",
    "        else:\n",
    "            D[char] = D[char]+1\n",
    "    return D\n",
    "\n",
    "s = \"AAPPLE\"\n",
    "print(histogram(s))"
   ]
  },
  {
   "cell_type": "markdown",
   "metadata": {},
   "source": [
    "Program 02: Write a program to count the frequency of charcters using the get() method"
   ]
  },
  {
   "cell_type": "code",
   "execution_count": 100,
   "metadata": {},
   "outputs": [
    {
     "name": "stdout",
     "output_type": "stream",
     "text": [
      "{'A': 2, 'P': 2, 'L': 1, 'E': 1}\n"
     ]
    }
   ],
   "source": [
    "def histogram(string):\n",
    "    D = dict()\n",
    "    \n",
    "    for char in string:\n",
    "        if char not in D:\n",
    "            D[char] = 1\n",
    "        else:\n",
    "            D[char] = D.get(char)+1\n",
    "    return D\n",
    "\n",
    "s = \"AAPPLE\"\n",
    "print(histogram(s))"
   ]
  },
  {
   "cell_type": "markdown",
   "metadata": {},
   "source": [
    "Program 03: Write a program to print and store squares of numbers into a dictionary."
   ]
  },
  {
   "cell_type": "code",
   "execution_count": 101,
   "metadata": {},
   "outputs": [
    {
     "name": "stdout",
     "output_type": "stream",
     "text": [
      "Square of Number: \n",
      "{1: 1, 2: 4, 3: 9, 4: 16, 5: 25}\n"
     ]
    }
   ],
   "source": [
    "def sq_of_numbers(n):\n",
    "    d = dict()\n",
    "    for i in range(1, n+1):\n",
    "        if i not in d:\n",
    "            d[i] = i * i\n",
    "    return d\n",
    "print(\"Square of Number: \")\n",
    "\n",
    "z = sq_of_numbers(5)\n",
    "print(z)"
   ]
  },
  {
   "cell_type": "markdown",
   "metadata": {},
   "source": [
    "Program 04: Write a program to pass a list to a function. Calculate the total number of positive and negative numbers from the list and then display the count in terms of dictionary.\n",
    "\n",
    "input: L = [1,-2, -3, 4]\n",
    "output: {\"Neg\": 2, \"Pos\":2}"
   ]
  },
  {
   "cell_type": "code",
   "execution_count": 104,
   "metadata": {},
   "outputs": [
    {
     "name": "stdout",
     "output_type": "stream",
     "text": [
      "{'Neg': 2, 'Pos': 2}\n"
     ]
    }
   ],
   "source": [
    "def pos_neg_number(lst):\n",
    "    dic = dict()\n",
    "    dic[\"Neg\"] = 0\n",
    "    dic[\"Pos\"] = 0\n",
    "    for i in lst:\n",
    "        if i > 0:\n",
    "            dic[\"Pos\"] += 1\n",
    "        else:\n",
    "            dic[\"Neg\"] += 1\n",
    "    return dic\n",
    "\n",
    "print(pos_neg_number([1,-2, -3, 4]))\n",
    "            "
   ]
  },
  {
   "cell_type": "markdown",
   "metadata": {},
   "source": [
    "## Build-in Dictionary Functions and Methods"
   ]
  },
  {
   "cell_type": "code",
   "execution_count": 118,
   "metadata": {},
   "outputs": [],
   "source": [
    "dic = {\"name\": \"Emdadul\", \"Age\": 27, \"Hobby\": \"Cricket\"}"
   ]
  },
  {
   "cell_type": "code",
   "execution_count": 106,
   "metadata": {},
   "outputs": [
    {
     "data": {
      "text/plain": [
       "3"
      ]
     },
     "execution_count": 106,
     "metadata": {},
     "output_type": "execute_result"
    }
   ],
   "source": [
    "#len(dict)\n",
    "\n",
    "len(dic)"
   ]
  },
  {
   "cell_type": "code",
   "execution_count": 107,
   "metadata": {},
   "outputs": [
    {
     "data": {
      "text/plain": [
       "\"{'name': 'Emdadul', 'Age': 27, 'Hobby': 'Cricket'}\""
      ]
     },
     "execution_count": 107,
     "metadata": {},
     "output_type": "execute_result"
    }
   ],
   "source": [
    "str(dic)"
   ]
  },
  {
   "cell_type": "code",
   "execution_count": 110,
   "metadata": {},
   "outputs": [],
   "source": [
    "# returns a shallow copy of the dictionary. The dictonary returned will not have a duplicate copy of dic but will have the same refference \n",
    "dic1 = dic.copy() "
   ]
  },
  {
   "cell_type": "code",
   "execution_count": 111,
   "metadata": {},
   "outputs": [
    {
     "data": {
      "text/plain": [
       "{'name': 'Emdadul', 'Age': 27, 'Hobby': 'Cricket'}"
      ]
     },
     "execution_count": 111,
     "metadata": {},
     "output_type": "execute_result"
    }
   ],
   "source": [
    "dic1"
   ]
  },
  {
   "cell_type": "code",
   "execution_count": 116,
   "metadata": {},
   "outputs": [
    {
     "data": {
      "text/plain": [
       "{'C++': 10, 'Python': 10, 'JavaScript': 10, 'C': 10}"
      ]
     },
     "execution_count": 116,
     "metadata": {},
     "output_type": "execute_result"
    }
   ],
   "source": [
    "subject = [\"C++\", \"Python\", \"JavaScript\", \"C\"]\n",
    "marks = [10, 20, 30, 40, 50]\n",
    "dic1.fromkeys(subject, 10)"
   ]
  },
  {
   "cell_type": "code",
   "execution_count": 122,
   "metadata": {},
   "outputs": [],
   "source": [
    "dic = {\"name\": \"Emdadul\", \"Age\": 27, \"Hobby\": \"Cricket\"}\n",
    "dic1 = {\"Passion\": \"Programming\", \"ocopassion\": \"Manager\"}"
   ]
  },
  {
   "cell_type": "code",
   "execution_count": 123,
   "metadata": {},
   "outputs": [],
   "source": [
    "dic.update(dic1) # adds the key-value pairs of dict1 to the key-value pairs of dic"
   ]
  },
  {
   "cell_type": "code",
   "execution_count": 125,
   "metadata": {},
   "outputs": [
    {
     "data": {
      "text/plain": [
       "dict_values(['Emdadul', 27, 'Cricket', 'Programming', 'Manager'])"
      ]
     },
     "execution_count": 125,
     "metadata": {},
     "output_type": "execute_result"
    }
   ],
   "source": [
    "dic.values()"
   ]
  },
  {
   "cell_type": "markdown",
   "metadata": {},
   "source": [
    "## Difference between a list and a dictionary"
   ]
  },
  {
   "cell_type": "markdown",
   "metadata": {},
   "source": [
    "There are two main differences between a list and a dictonary\n",
    "\n",
    "1. First, a list is a ordered set of items, but a dictionary is a data structure that is used for matching one item (key) and another (Value) \n",
    "\n",
    "2. Second, in list we can use indexing  to access a particular item. but, these indexes should be a number. In dictionaries, we can use any(immutable) of value as an index. \n",
    "\n",
    "3. List are used to look up a value whereas a dictionary is used to take one value and look up another value. \n",
    "\n",
    "The main advantage of a dictionary is that we don't need to search for value one by one in the entire set of values, we can find a value instrantly "
   ]
  },
  {
   "cell_type": "markdown",
   "metadata": {},
   "source": [
    "## When to use which Data Structure?"
   ]
  },
  {
   "cell_type": "markdown",
   "metadata": {},
   "source": [
    "1. Use lists to store a collection of data that does not need random access\n",
    "\n",
    "2. Use lists if the data has to be modified frequently\n",
    "\n",
    "3. Use a set if you want to ensure that every element in the data structure must be unique.\n",
    "\n",
    "4. Use tuples when you want that your data should not be altered. \n",
    "\n",
    "5. Due to mutability difference, tuples are easier on memory and processor in comparison to lists. This means that you can easily achieve performance optimization by using tuples, wherever possible. Moreover, tuples are best used as heterogeneous collections while lists are best used as homogenoys collections (Where heterogeneous means that the items contained in a tuple may belong to defferent types or concepts)\n",
    "\n",
    "6. Sets are used to store unordered values and do not have index. unlike tuples and lists, sets can have no duplicate data. However, like list and unlike tuples. we can use the add() function to add an element to set and the update() functions to edit the elements in the set."
   ]
  },
  {
   "cell_type": "code",
   "execution_count": null,
   "metadata": {},
   "outputs": [],
   "source": []
  }
 ],
 "metadata": {
  "kernelspec": {
   "display_name": "Python 3",
   "language": "python",
   "name": "python3"
  },
  "language_info": {
   "codemirror_mode": {
    "name": "ipython",
    "version": 3
   },
   "file_extension": ".py",
   "mimetype": "text/x-python",
   "name": "python",
   "nbconvert_exporter": "python",
   "pygments_lexer": "ipython3",
   "version": "3.7.3"
  }
 },
 "nbformat": 4,
 "nbformat_minor": 5
}
