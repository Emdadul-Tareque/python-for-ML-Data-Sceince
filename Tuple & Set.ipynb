{
 "cells": [
  {
   "cell_type": "markdown",
   "id": "86e4229c",
   "metadata": {},
   "source": [
    "## Creating Tuples"
   ]
  },
  {
   "cell_type": "code",
   "execution_count": 1,
   "id": "3b94388e",
   "metadata": {},
   "outputs": [],
   "source": [
    "t1 = () #create empty tuples\n",
    "t2 = (12, 13, 14, 15) #create a typlw with 4 numeric element\n",
    "t3 = (\"Emdadul\", \"Hoque\", \"Tareque\") #Create a tuple with string\n",
    "t4 = \"a\", \"b\", \"c\", \"d\" # create a typle without parenthesis"
   ]
  },
  {
   "cell_type": "code",
   "execution_count": 4,
   "id": "73ae0550",
   "metadata": {},
   "outputs": [],
   "source": [
    "t = t1, t2, t3, t4"
   ]
  },
  {
   "cell_type": "code",
   "execution_count": 12,
   "id": "dbcb55b9",
   "metadata": {},
   "outputs": [
    {
     "data": {
      "text/plain": [
       "((), (12, 13, 14, 15), ('Emdadul', 'Hoque', 'Tareque'), ('a', 'b', 'c', 'd'))"
      ]
     },
     "execution_count": 12,
     "metadata": {},
     "output_type": "execute_result"
    }
   ],
   "source": [
    "t"
   ]
  },
  {
   "cell_type": "code",
   "execution_count": 15,
   "id": "a34a55cd",
   "metadata": {},
   "outputs": [
    {
     "name": "stdout",
     "output_type": "stream",
     "text": [
      "Single vaule in parenthesis <class 'int'>\n",
      "Single vaule in parenthesis with comma <class 'tuple'>\n"
     ]
    }
   ],
   "source": [
    "# Point to remember: A single value in parenthesis is not a tuple\n",
    "\n",
    "t5 = (4)\n",
    "print(\"Single vaule in parenthesis\", type(t5))\n",
    "t6 = (4, )\n",
    "print(\"Single vaule in parenthesis with comma\", type(t6))\n"
   ]
  },
  {
   "cell_type": "code",
   "execution_count": 6,
   "id": "52e18dd3",
   "metadata": {},
   "outputs": [],
   "source": [
    "lst1 = []\n",
    "lst2 = [1, 2, 3]\n",
    "lst3 = [\"a\", \"b\"]"
   ]
  },
  {
   "cell_type": "code",
   "execution_count": 7,
   "id": "4b9bbee8",
   "metadata": {},
   "outputs": [],
   "source": [
    "lst = lst1, lst2, lst3"
   ]
  },
  {
   "cell_type": "code",
   "execution_count": 8,
   "id": "33614c36",
   "metadata": {},
   "outputs": [
    {
     "data": {
      "text/plain": [
       "([], [1, 2, 3], ['a', 'b'])"
      ]
     },
     "execution_count": 8,
     "metadata": {},
     "output_type": "execute_result"
    }
   ],
   "source": [
    "lst"
   ]
  },
  {
   "cell_type": "code",
   "execution_count": 11,
   "id": "b164fbfd",
   "metadata": {},
   "outputs": [
    {
     "data": {
      "text/plain": [
       "tuple"
      ]
     },
     "execution_count": 11,
     "metadata": {},
     "output_type": "execute_result"
    }
   ],
   "source": [
    "type(lst)"
   ]
  },
  {
   "cell_type": "code",
   "execution_count": 20,
   "id": "202057b5",
   "metadata": {},
   "outputs": [],
   "source": [
    "### Create a tuple with tuple  function \n",
    "\n",
    "string = \"Emdadul\"\n",
    "t1 = tuple(string)"
   ]
  },
  {
   "cell_type": "code",
   "execution_count": 21,
   "id": "ed3ee270",
   "metadata": {},
   "outputs": [
    {
     "data": {
      "text/plain": [
       "('E', 'm', 'd', 'a', 'd', 'u', 'l')"
      ]
     },
     "execution_count": 21,
     "metadata": {},
     "output_type": "execute_result"
    }
   ],
   "source": [
    "t1"
   ]
  },
  {
   "cell_type": "code",
   "execution_count": 25,
   "id": "a3c9cb59",
   "metadata": {},
   "outputs": [
    {
     "ename": "TypeError",
     "evalue": "tuple expected at most 1 argument, got 2",
     "output_type": "error",
     "traceback": [
      "\u001b[0;31m---------------------------------------------------------------------------\u001b[0m",
      "\u001b[0;31mTypeError\u001b[0m                                 Traceback (most recent call last)",
      "Cell \u001b[0;32mIn[25], line 1\u001b[0m\n\u001b[0;32m----> 1\u001b[0m t2 \u001b[38;5;241m=\u001b[39m \u001b[38;5;28;43mtuple\u001b[39;49m\u001b[43m(\u001b[49m\u001b[43m[\u001b[49m\u001b[38;5;124;43m\"\u001b[39;49m\u001b[38;5;124;43mEmdadul\u001b[39;49m\u001b[38;5;124;43m\"\u001b[39;49m\u001b[43m,\u001b[49m\u001b[43m \u001b[49m\u001b[38;5;241;43m1\u001b[39;49m\u001b[43m,\u001b[49m\u001b[43m \u001b[49m\u001b[38;5;241;43m2\u001b[39;49m\u001b[43m,\u001b[49m\u001b[43m \u001b[49m\u001b[38;5;241;43m3\u001b[39;49m\u001b[43m]\u001b[49m\u001b[43m,\u001b[49m\u001b[43m \u001b[49m\u001b[43m[\u001b[49m\u001b[38;5;241;43m1\u001b[39;49m\u001b[43m,\u001b[49m\u001b[43m \u001b[49m\u001b[38;5;241;43m2\u001b[39;49m\u001b[43m,\u001b[49m\u001b[43m \u001b[49m\u001b[38;5;241;43m3\u001b[39;49m\u001b[43m,\u001b[49m\u001b[43m \u001b[49m\u001b[38;5;241;43m4\u001b[39;49m\u001b[43m]\u001b[49m\u001b[43m)\u001b[49m\n",
      "\u001b[0;31mTypeError\u001b[0m: tuple expected at most 1 argument, got 2"
     ]
    }
   ],
   "source": [
    "# only one argument accept tuple\n",
    "t2 = tuple([\"Emdadul\", 1, 2, 3], [1, 2, 3, 4])\n"
   ]
  },
  {
   "cell_type": "code",
   "execution_count": 26,
   "id": "c37d83a9",
   "metadata": {},
   "outputs": [],
   "source": [
    "t2 = ([\"Emdadul\", 1, 2, 3], [1, 2, 3, 4])"
   ]
  },
  {
   "cell_type": "code",
   "execution_count": 27,
   "id": "b9036878",
   "metadata": {},
   "outputs": [
    {
     "data": {
      "text/plain": [
       "(['Emdadul', 1, 2, 3], [1, 2, 3, 4])"
      ]
     },
     "execution_count": 27,
     "metadata": {},
     "output_type": "execute_result"
    }
   ],
   "source": [
    "t2"
   ]
  },
  {
   "cell_type": "markdown",
   "id": "4701985b",
   "metadata": {},
   "source": [
    "## Inbuilt functions for tuples"
   ]
  },
  {
   "cell_type": "raw",
   "id": "fcda9cbc",
   "metadata": {},
   "source": [
    "len()--> Returns the number of elements in a tuple\n",
    "max()--> Returns the element with the greatest value\n",
    "min()--> Returns the element with the smallest value\n",
    "sum()--> Returns the sum of all the elements of a tuple\n",
    "index(x)--> Returns the index of element x\n",
    "count(x)--> Returns the number of occurrences of element x"
   ]
  },
  {
   "cell_type": "code",
   "execution_count": 30,
   "id": "b682b66e",
   "metadata": {},
   "outputs": [],
   "source": [
    "t2 = (1, 2, 3, 4)"
   ]
  },
  {
   "cell_type": "code",
   "execution_count": 31,
   "id": "032ff1b3",
   "metadata": {},
   "outputs": [
    {
     "data": {
      "text/plain": [
       "10"
      ]
     },
     "execution_count": 31,
     "metadata": {},
     "output_type": "execute_result"
    }
   ],
   "source": [
    "sum(t2)"
   ]
  },
  {
   "cell_type": "code",
   "execution_count": 39,
   "id": "4069bc78",
   "metadata": {},
   "outputs": [],
   "source": [
    "t3 = ([1,2,3,4],\"a\",\"b\",\"c\", (\"Emdadul\", \"Haque\", 25, 27)) "
   ]
  },
  {
   "cell_type": "code",
   "execution_count": 40,
   "id": "45cfc9b4",
   "metadata": {},
   "outputs": [
    {
     "data": {
      "text/plain": [
       "([1, 2, 3, 4], 'a', 'b', 'c', ('Emdadul', 'Haque', 25, 27))"
      ]
     },
     "execution_count": 40,
     "metadata": {},
     "output_type": "execute_result"
    }
   ],
   "source": [
    "t3"
   ]
  },
  {
   "cell_type": "code",
   "execution_count": 41,
   "id": "f6ff1ac8",
   "metadata": {},
   "outputs": [
    {
     "data": {
      "text/plain": [
       "5"
      ]
     },
     "execution_count": 41,
     "metadata": {},
     "output_type": "execute_result"
    }
   ],
   "source": [
    "len(t3)"
   ]
  },
  {
   "cell_type": "code",
   "execution_count": 51,
   "id": "c20873b9",
   "metadata": {},
   "outputs": [],
   "source": [
    "t4 = (1, 2, 3, 4,100, -100, 20, 30,3,4,5)"
   ]
  },
  {
   "cell_type": "code",
   "execution_count": 43,
   "id": "a3c5d085",
   "metadata": {},
   "outputs": [
    {
     "data": {
      "text/plain": [
       "100"
      ]
     },
     "execution_count": 43,
     "metadata": {},
     "output_type": "execute_result"
    }
   ],
   "source": [
    "max(t4)"
   ]
  },
  {
   "cell_type": "code",
   "execution_count": 44,
   "id": "e57617a1",
   "metadata": {},
   "outputs": [
    {
     "data": {
      "text/plain": [
       "-100"
      ]
     },
     "execution_count": 44,
     "metadata": {},
     "output_type": "execute_result"
    }
   ],
   "source": [
    "min(t4)"
   ]
  },
  {
   "cell_type": "code",
   "execution_count": 46,
   "id": "111cc454",
   "metadata": {},
   "outputs": [
    {
     "data": {
      "text/plain": [
       "5"
      ]
     },
     "execution_count": 46,
     "metadata": {},
     "output_type": "execute_result"
    }
   ],
   "source": [
    "t4.index(-100)"
   ]
  },
  {
   "cell_type": "code",
   "execution_count": 61,
   "id": "f36d7b2d",
   "metadata": {},
   "outputs": [
    {
     "data": {
      "text/plain": [
       "2"
      ]
     },
     "execution_count": 61,
     "metadata": {},
     "output_type": "execute_result"
    }
   ],
   "source": [
    "t4.count(3)"
   ]
  },
  {
   "cell_type": "markdown",
   "id": "94c102cc",
   "metadata": {},
   "source": [
    "## Tuple  indexing & slicing"
   ]
  },
  {
   "cell_type": "code",
   "execution_count": 193,
   "id": "16651fa6",
   "metadata": {},
   "outputs": [],
   "source": [
    "t5 = (1, 2, 3, 4, 5, 6)"
   ]
  },
  {
   "cell_type": "code",
   "execution_count": 65,
   "id": "f60aaeff",
   "metadata": {},
   "outputs": [
    {
     "data": {
      "text/plain": [
       "(5, 4)"
      ]
     },
     "execution_count": 65,
     "metadata": {},
     "output_type": "execute_result"
    }
   ],
   "source": [
    "t5[4], t5[3]"
   ]
  },
  {
   "cell_type": "code",
   "execution_count": 55,
   "id": "7356848c",
   "metadata": {},
   "outputs": [
    {
     "data": {
      "text/plain": [
       "(6, 5, 4, 3, 2, 1)"
      ]
     },
     "execution_count": 55,
     "metadata": {},
     "output_type": "execute_result"
    }
   ],
   "source": [
    "t5[::-1]"
   ]
  },
  {
   "cell_type": "code",
   "execution_count": 56,
   "id": "b88812d4",
   "metadata": {},
   "outputs": [
    {
     "data": {
      "text/plain": [
       "(1, 2, 3, 4, 5, 6)"
      ]
     },
     "execution_count": 56,
     "metadata": {},
     "output_type": "execute_result"
    }
   ],
   "source": [
    "t5"
   ]
  },
  {
   "cell_type": "code",
   "execution_count": 59,
   "id": "6a05d6b3",
   "metadata": {},
   "outputs": [
    {
     "data": {
      "text/plain": [
       "(6, 5, 4, 3, 2, 1)"
      ]
     },
     "execution_count": 59,
     "metadata": {},
     "output_type": "execute_result"
    }
   ],
   "source": [
    "t5[::-1]"
   ]
  },
  {
   "cell_type": "code",
   "execution_count": 60,
   "id": "37bdcada",
   "metadata": {},
   "outputs": [
    {
     "data": {
      "text/plain": [
       "(1, 3, 5)"
      ]
     },
     "execution_count": 60,
     "metadata": {},
     "output_type": "execute_result"
    }
   ],
   "source": [
    "t5[::2]"
   ]
  },
  {
   "cell_type": "code",
   "execution_count": 67,
   "id": "027f9854",
   "metadata": {},
   "outputs": [
    {
     "data": {
      "text/plain": [
       "(3, 4)"
      ]
     },
     "execution_count": 67,
     "metadata": {},
     "output_type": "execute_result"
    }
   ],
   "source": [
    "t5[2:4]"
   ]
  },
  {
   "cell_type": "markdown",
   "id": "d87a1609",
   "metadata": {},
   "source": [
    "### Operations of tuples"
   ]
  },
  {
   "cell_type": "code",
   "execution_count": 68,
   "id": "02eaa330",
   "metadata": {},
   "outputs": [],
   "source": [
    "# The + Operator \n",
    "t1 = (1, 2, 3)\n",
    "t2 = (4, 5, 6)"
   ]
  },
  {
   "cell_type": "code",
   "execution_count": 70,
   "id": "56f1d1d7",
   "metadata": {},
   "outputs": [],
   "source": [
    "t1 = t1+t2"
   ]
  },
  {
   "cell_type": "code",
   "execution_count": 71,
   "id": "5cafd2ed",
   "metadata": {},
   "outputs": [
    {
     "data": {
      "text/plain": [
       "(1, 2, 3, 4, 5, 6)"
      ]
     },
     "execution_count": 71,
     "metadata": {},
     "output_type": "execute_result"
    }
   ],
   "source": [
    "t1"
   ]
  },
  {
   "cell_type": "code",
   "execution_count": 74,
   "id": "5bd9b046",
   "metadata": {},
   "outputs": [
    {
     "data": {
      "text/plain": [
       "(1, 2, 3, 4, 5, 6, ' ')"
      ]
     },
     "execution_count": 74,
     "metadata": {},
     "output_type": "execute_result"
    }
   ],
   "source": [
    "t1+(\" \", )"
   ]
  },
  {
   "cell_type": "code",
   "execution_count": 75,
   "id": "a19f98d9",
   "metadata": {},
   "outputs": [],
   "source": [
    "# The * operator \n",
    "t3 = (2, 3, 4)\n",
    "t3 = t3*3"
   ]
  },
  {
   "cell_type": "code",
   "execution_count": 76,
   "id": "4ed785fd",
   "metadata": {},
   "outputs": [
    {
     "data": {
      "text/plain": [
       "(2, 3, 4, 2, 3, 4, 2, 3, 4)"
      ]
     },
     "execution_count": 76,
     "metadata": {},
     "output_type": "execute_result"
    }
   ],
   "source": [
    "t3"
   ]
  },
  {
   "cell_type": "code",
   "execution_count": 81,
   "id": "a21c2c62",
   "metadata": {},
   "outputs": [
    {
     "name": "stdout",
     "output_type": "stream",
     "text": [
      "(1, 2, 3, 4)\n",
      "(1, 2, 3, 4)\n",
      "(1, 2, 3, 4)\n",
      "(1, 2, 3, 4)\n"
     ]
    }
   ],
   "source": [
    "# টাপলে ইনডেক্স ধর ধরে ইন্ডিভিজিউয়াল আইটেমকে লুপ করে এক্সেস করা যায় না  \n",
    "t = ((1, 2, 3, 4))\n",
    "\n",
    "for i in t:\n",
    "    print(t)"
   ]
  },
  {
   "cell_type": "code",
   "execution_count": 87,
   "id": "8980ac67",
   "metadata": {},
   "outputs": [
    {
     "name": "stdout",
     "output_type": "stream",
     "text": [
      "1 Emdadul\n",
      "2 Hoque\n",
      "3 Tareque\n"
     ]
    }
   ],
   "source": [
    "#traverse tuples from a list\n",
    "t = [(1,\"Emdadul\"), (2, \"Hoque\"), (3, \"Tareque\")]\n",
    "for no, name in t:\n",
    "    print(no, name)"
   ]
  },
  {
   "cell_type": "markdown",
   "id": "88db79f7",
   "metadata": {},
   "source": [
    "## The zip() Function"
   ]
  },
  {
   "cell_type": "code",
   "execution_count": 109,
   "id": "90a4f6cb",
   "metadata": {},
   "outputs": [],
   "source": [
    "lst1 = [1, 2, 3, 4]\n",
    "lst2 = \"abcd\""
   ]
  },
  {
   "cell_type": "code",
   "execution_count": 110,
   "id": "a55041b4",
   "metadata": {},
   "outputs": [
    {
     "data": {
      "text/plain": [
       "[(1, 'a'), (2, 'b'), (3, 'c'), (4, 'd')]"
      ]
     },
     "execution_count": 110,
     "metadata": {},
     "output_type": "execute_result"
    }
   ],
   "source": [
    "list(zip(lst1, lst2))"
   ]
  },
  {
   "cell_type": "code",
   "execution_count": 112,
   "id": "bb6e4226",
   "metadata": {},
   "outputs": [],
   "source": [
    "# another example \n",
    "\n",
    "lst1 =[\"Laptop\", \"Mobile\", \"Headphone\"]\n",
    "lst2 = [100000, 12000, 5000]"
   ]
  },
  {
   "cell_type": "code",
   "execution_count": 113,
   "id": "5941345a",
   "metadata": {},
   "outputs": [],
   "source": [
    "lst3 = list(zip(lst1, lst2))"
   ]
  },
  {
   "cell_type": "code",
   "execution_count": 114,
   "id": "2b2a037c",
   "metadata": {},
   "outputs": [
    {
     "data": {
      "text/plain": [
       "[('Laptop', 100000), ('Mobile', 12000), ('Headphone', 5000)]"
      ]
     },
     "execution_count": 114,
     "metadata": {},
     "output_type": "execute_result"
    }
   ],
   "source": [
    "lst3"
   ]
  },
  {
   "cell_type": "code",
   "execution_count": 115,
   "id": "e1b8d2c9",
   "metadata": {},
   "outputs": [],
   "source": [
    "tpl = tuple(lst3)"
   ]
  },
  {
   "cell_type": "code",
   "execution_count": 116,
   "id": "a55667a9",
   "metadata": {},
   "outputs": [
    {
     "data": {
      "text/plain": [
       "(('Laptop', 100000), ('Mobile', 12000), ('Headphone', 5000))"
      ]
     },
     "execution_count": 116,
     "metadata": {},
     "output_type": "execute_result"
    }
   ],
   "source": [
    "tpl"
   ]
  },
  {
   "cell_type": "code",
   "execution_count": 117,
   "id": "9ccc9b38",
   "metadata": {},
   "outputs": [],
   "source": [
    "tple = tuple(zip(lst1, lst2))"
   ]
  },
  {
   "cell_type": "code",
   "execution_count": 126,
   "id": "b926cb6e",
   "metadata": {},
   "outputs": [
    {
     "data": {
      "text/plain": [
       "(('Laptop', 100000), ('Mobile', 12000), ('Headphone', 5000))"
      ]
     },
     "execution_count": 126,
     "metadata": {},
     "output_type": "execute_result"
    }
   ],
   "source": [
    "tple"
   ]
  },
  {
   "cell_type": "markdown",
   "id": "12e4578b",
   "metadata": {},
   "source": [
    "### The inverse zip(*) function"
   ]
  },
  {
   "cell_type": "code",
   "execution_count": 124,
   "id": "22704717",
   "metadata": {},
   "outputs": [
    {
     "name": "stdout",
     "output_type": "stream",
     "text": [
      "('Laptop', 'Mobile', 'Headphone')\n",
      "(100000, 12000, 5000)\n"
     ]
    }
   ],
   "source": [
    "product, prize = zip(*tple)\n",
    "print(product)\n",
    "print(prize)"
   ]
  },
  {
   "cell_type": "code",
   "execution_count": 125,
   "id": "3f8ab003",
   "metadata": {},
   "outputs": [
    {
     "data": {
      "text/plain": [
       "tuple"
      ]
     },
     "execution_count": 125,
     "metadata": {},
     "output_type": "execute_result"
    }
   ],
   "source": [
    "type(product)"
   ]
  },
  {
   "cell_type": "code",
   "execution_count": 127,
   "id": "33495218",
   "metadata": {},
   "outputs": [],
   "source": [
    "#more examples on zip (*) function\n",
    "\n",
    "matrix = [(1,2), (3, 4), (5,6)]\n",
    "\n",
    "z = zip(*matrix)"
   ]
  },
  {
   "cell_type": "code",
   "execution_count": 129,
   "id": "ea08de75",
   "metadata": {},
   "outputs": [
    {
     "data": {
      "text/plain": [
       "((1, 3, 5), (2, 4, 6))"
      ]
     },
     "execution_count": 129,
     "metadata": {},
     "output_type": "execute_result"
    }
   ],
   "source": [
    "tuple(z)"
   ]
  },
  {
   "cell_type": "code",
   "execution_count": 131,
   "id": "7deb6ea0",
   "metadata": {},
   "outputs": [],
   "source": [
    "matrix = [[1, 2], [3, 4], [5, 6]]\n",
    "\n",
    "z = zip(*matrix)"
   ]
  },
  {
   "cell_type": "code",
   "execution_count": 135,
   "id": "94b49a45",
   "metadata": {},
   "outputs": [
    {
     "data": {
      "text/plain": [
       "()"
      ]
     },
     "execution_count": 135,
     "metadata": {},
     "output_type": "execute_result"
    }
   ],
   "source": [
    "tuple(z)"
   ]
  },
  {
   "cell_type": "markdown",
   "id": "1f81bb69",
   "metadata": {},
   "source": [
    "Program 03: Consider an example of a tuple as T = (1, 3, 2, 4, 6, 5). Write a program to store numbers\n",
    "present at odd index into a new tuple."
   ]
  },
  {
   "cell_type": "code",
   "execution_count": 136,
   "id": "bb0fb47c",
   "metadata": {},
   "outputs": [
    {
     "name": "stdout",
     "output_type": "stream",
     "text": [
      "(1, 3, 5)\n"
     ]
    }
   ],
   "source": [
    "def odd_tuple(tple):\n",
    "    return tple[::2]\n",
    "\n",
    "tple = (1, 2, 3, 4, 5, 6)\n",
    "new_tple = odd_tuple(tple)\n",
    "\n",
    "print(new_tple)"
   ]
  },
  {
   "cell_type": "code",
   "execution_count": 134,
   "id": "20f51c48",
   "metadata": {},
   "outputs": [
    {
     "data": {
      "text/plain": [
       "(1, 3, 5)"
      ]
     },
     "execution_count": 134,
     "metadata": {},
     "output_type": "execute_result"
    }
   ],
   "source": [
    "new_tple"
   ]
  },
  {
   "cell_type": "markdown",
   "id": "5764c0e6",
   "metadata": {},
   "source": [
    "# Sets"
   ]
  },
  {
   "cell_type": "markdown",
   "id": "b2f1bc25",
   "metadata": {},
   "source": [
    "## Creating Sets"
   ]
  },
  {
   "cell_type": "code",
   "execution_count": 143,
   "id": "507211e2",
   "metadata": {},
   "outputs": [],
   "source": [
    "s1 = {1, 2, 3, 4, 5}"
   ]
  },
  {
   "cell_type": "code",
   "execution_count": 144,
   "id": "0fc33ed2",
   "metadata": {},
   "outputs": [
    {
     "data": {
      "text/plain": [
       "{1, 2, 3, 4, 5}"
      ]
     },
     "execution_count": 144,
     "metadata": {},
     "output_type": "execute_result"
    }
   ],
   "source": [
    "s1"
   ]
  },
  {
   "cell_type": "code",
   "execution_count": 146,
   "id": "503c5c61",
   "metadata": {},
   "outputs": [],
   "source": [
    "#if you want to create a empty, you can not you empty curly brackets \n",
    "s2 = {}"
   ]
  },
  {
   "cell_type": "code",
   "execution_count": 147,
   "id": "3d64d6a5",
   "metadata": {},
   "outputs": [
    {
     "data": {
      "text/plain": [
       "dict"
      ]
     },
     "execution_count": 147,
     "metadata": {},
     "output_type": "execute_result"
    }
   ],
   "source": [
    "type(s2)"
   ]
  },
  {
   "cell_type": "code",
   "execution_count": 150,
   "id": "f7d85e19",
   "metadata": {},
   "outputs": [],
   "source": [
    "# if you want to create empty set, using in build set function \n",
    "s1 = set()"
   ]
  },
  {
   "cell_type": "code",
   "execution_count": 151,
   "id": "6df49058",
   "metadata": {},
   "outputs": [
    {
     "data": {
      "text/plain": [
       "set()"
      ]
     },
     "execution_count": 151,
     "metadata": {},
     "output_type": "execute_result"
    }
   ],
   "source": [
    "s1"
   ]
  },
  {
   "cell_type": "code",
   "execution_count": 152,
   "id": "0c022295",
   "metadata": {},
   "outputs": [],
   "source": [
    "#convert list to set\n",
    "lst = [1, 2, 3, 4 , 5, 6]\n",
    "s = set(lst)"
   ]
  },
  {
   "cell_type": "code",
   "execution_count": 153,
   "id": "f5e0c375",
   "metadata": {},
   "outputs": [
    {
     "data": {
      "text/plain": [
       "{1, 2, 3, 4, 5, 6}"
      ]
     },
     "execution_count": 153,
     "metadata": {},
     "output_type": "execute_result"
    }
   ],
   "source": [
    "s"
   ]
  },
  {
   "cell_type": "code",
   "execution_count": 154,
   "id": "7683edea",
   "metadata": {},
   "outputs": [],
   "source": [
    "# why we use set: when you want to enique value in your list\n",
    "\n",
    "lst = [1, 2, 3, 4, 5, 2, 2, 3, 1, 4, 3]\n",
    "\n",
    "s = set(lst)"
   ]
  },
  {
   "cell_type": "code",
   "execution_count": 155,
   "id": "9e2d6ec6",
   "metadata": {},
   "outputs": [
    {
     "data": {
      "text/plain": [
       "{1, 2, 3, 4, 5}"
      ]
     },
     "execution_count": 155,
     "metadata": {},
     "output_type": "execute_result"
    }
   ],
   "source": [
    "s"
   ]
  },
  {
   "cell_type": "code",
   "execution_count": 173,
   "id": "45efd55a",
   "metadata": {},
   "outputs": [
    {
     "data": {
      "text/plain": [
       "True"
      ]
     },
     "execution_count": 173,
     "metadata": {},
     "output_type": "execute_result"
    }
   ],
   "source": [
    "# the set in and not in operator\n",
    "s = {1, 2, 3, 4}\n",
    "3 in s"
   ]
  },
  {
   "cell_type": "code",
   "execution_count": 175,
   "id": "0be6ec8d",
   "metadata": {},
   "outputs": [
    {
     "data": {
      "text/plain": [
       "False"
      ]
     },
     "execution_count": 175,
     "metadata": {},
     "output_type": "execute_result"
    }
   ],
   "source": [
    "4 not in s"
   ]
  },
  {
   "cell_type": "markdown",
   "id": "73308e5c",
   "metadata": {},
   "source": [
    "### zip() function and zip(*) function in set"
   ]
  },
  {
   "cell_type": "code",
   "execution_count": 169,
   "id": "c7b7c9d6",
   "metadata": {},
   "outputs": [],
   "source": [
    "s1 = {1, 2, 3, 4, 5, 6}\n",
    "s2 = {10, 20, 30, 40, 50, 60}"
   ]
  },
  {
   "cell_type": "code",
   "execution_count": 170,
   "id": "f0ad85c9",
   "metadata": {},
   "outputs": [
    {
     "data": {
      "text/plain": [
       "{(1, 50), (2, 20), (3, 40), (4, 10), (5, 60), (6, 30)}"
      ]
     },
     "execution_count": 170,
     "metadata": {},
     "output_type": "execute_result"
    }
   ],
   "source": [
    "s3 = set(zip(s1, s2))"
   ]
  },
  {
   "cell_type": "markdown",
   "id": "0df56bfa",
   "metadata": {},
   "source": [
    "## Methods of Set class"
   ]
  },
  {
   "cell_type": "code",
   "execution_count": 176,
   "id": "59a23cab",
   "metadata": {},
   "outputs": [],
   "source": [
    "s = {10, 20, 30, 40, 50, 60}"
   ]
  },
  {
   "cell_type": "code",
   "execution_count": 177,
   "id": "34c5d0d7",
   "metadata": {},
   "outputs": [],
   "source": [
    "s.add(70) # add a element "
   ]
  },
  {
   "cell_type": "code",
   "execution_count": 178,
   "id": "4429e268",
   "metadata": {},
   "outputs": [
    {
     "data": {
      "text/plain": [
       "{10, 20, 30, 40, 50, 60, 70}"
      ]
     },
     "execution_count": 178,
     "metadata": {},
     "output_type": "execute_result"
    }
   ],
   "source": [
    "s"
   ]
  },
  {
   "cell_type": "code",
   "execution_count": 180,
   "id": "9c001177",
   "metadata": {},
   "outputs": [],
   "source": [
    "s.remove(30) # remove a element from a set"
   ]
  },
  {
   "cell_type": "code",
   "execution_count": 181,
   "id": "248005cd",
   "metadata": {},
   "outputs": [
    {
     "data": {
      "text/plain": [
       "{10, 20, 40, 50, 60, 70}"
      ]
     },
     "execution_count": 181,
     "metadata": {},
     "output_type": "execute_result"
    }
   ],
   "source": [
    "s"
   ]
  },
  {
   "cell_type": "code",
   "execution_count": 182,
   "id": "cd7e5920",
   "metadata": {},
   "outputs": [],
   "source": [
    "s.clear() # remove all element"
   ]
  },
  {
   "cell_type": "code",
   "execution_count": 183,
   "id": "6c12400e",
   "metadata": {},
   "outputs": [
    {
     "data": {
      "text/plain": [
       "set()"
      ]
     },
     "execution_count": 183,
     "metadata": {},
     "output_type": "execute_result"
    }
   ],
   "source": [
    "s"
   ]
  },
  {
   "cell_type": "code",
   "execution_count": 184,
   "id": "06eb8083",
   "metadata": {},
   "outputs": [
    {
     "data": {
      "text/plain": [
       "True"
      ]
     },
     "execution_count": 184,
     "metadata": {},
     "output_type": "execute_result"
    }
   ],
   "source": [
    "s1 = {1, 2, 3, 4}\n",
    "s2 = {1, 2, 3, 4, 5} \n",
    "\n",
    "s1.issubset(s2)"
   ]
  },
  {
   "cell_type": "code",
   "execution_count": 197,
   "id": "c9473a6b",
   "metadata": {},
   "outputs": [
    {
     "data": {
      "text/plain": [
       "False"
      ]
     },
     "execution_count": 197,
     "metadata": {},
     "output_type": "execute_result"
    }
   ],
   "source": [
    "s2.issuperset(s1)"
   ]
  },
  {
   "cell_type": "code",
   "execution_count": 199,
   "id": "6399a482",
   "metadata": {},
   "outputs": [],
   "source": [
    "s = {2, 3, 1, 4, 5, 6}"
   ]
  },
  {
   "cell_type": "code",
   "execution_count": 204,
   "id": "cfb51b25",
   "metadata": {},
   "outputs": [],
   "source": [
    "s1 = sorted(s)"
   ]
  },
  {
   "cell_type": "code",
   "execution_count": 205,
   "id": "674f06f6",
   "metadata": {},
   "outputs": [
    {
     "name": "stdout",
     "output_type": "stream",
     "text": [
      "[1, 2, 3, 4, 5, 6]\n",
      "<class 'list'>\n"
     ]
    }
   ],
   "source": [
    "print(s1)\n",
    "print(type(s1))"
   ]
  },
  {
   "cell_type": "markdown",
   "id": "b1878ad3",
   "metadata": {},
   "source": [
    "## Set operations"
   ]
  },
  {
   "cell_type": "code",
   "execution_count": 186,
   "id": "36ee832d",
   "metadata": {},
   "outputs": [],
   "source": [
    "\n",
    "s1 = {1, 2, 3, 4, 5}\n",
    "s2 = {2, 4, 5, 6}"
   ]
  },
  {
   "cell_type": "code",
   "execution_count": 187,
   "id": "9c8cd8d9",
   "metadata": {},
   "outputs": [
    {
     "data": {
      "text/plain": [
       "{1, 2, 3, 4, 5, 6}"
      ]
     },
     "execution_count": 187,
     "metadata": {},
     "output_type": "execute_result"
    }
   ],
   "source": [
    "s1.union(s2) "
   ]
  },
  {
   "cell_type": "code",
   "execution_count": 188,
   "id": "60ed2db1",
   "metadata": {},
   "outputs": [
    {
     "data": {
      "text/plain": [
       "{2, 4, 5}"
      ]
     },
     "execution_count": 188,
     "metadata": {},
     "output_type": "execute_result"
    }
   ],
   "source": [
    "s1.intersection(s2)"
   ]
  },
  {
   "cell_type": "code",
   "execution_count": 189,
   "id": "d504de81",
   "metadata": {},
   "outputs": [
    {
     "data": {
      "text/plain": [
       "{1, 3}"
      ]
     },
     "execution_count": 189,
     "metadata": {},
     "output_type": "execute_result"
    }
   ],
   "source": [
    "s1.difference(s2)"
   ]
  },
  {
   "cell_type": "code",
   "execution_count": 190,
   "id": "186e8886",
   "metadata": {},
   "outputs": [
    {
     "data": {
      "text/plain": [
       "{1, 3, 6}"
      ]
     },
     "execution_count": 190,
     "metadata": {},
     "output_type": "execute_result"
    }
   ],
   "source": [
    "s1.symmetric_difference(s2)"
   ]
  }
 ],
 "metadata": {
  "kernelspec": {
   "display_name": "Python 3 (ipykernel)",
   "language": "python",
   "name": "python3"
  },
  "language_info": {
   "codemirror_mode": {
    "name": "ipython",
    "version": 3
   },
   "file_extension": ".py",
   "mimetype": "text/x-python",
   "name": "python",
   "nbconvert_exporter": "python",
   "pygments_lexer": "ipython3",
   "version": "3.10.6"
  }
 },
 "nbformat": 4,
 "nbformat_minor": 5
}
