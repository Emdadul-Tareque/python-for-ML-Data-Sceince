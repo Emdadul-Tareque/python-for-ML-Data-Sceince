{
 "cells": [
  {
   "cell_type": "code",
   "execution_count": 76,
   "metadata": {},
   "outputs": [],
   "source": [
    "class Course:\n",
    "    def mentor_list1(self, name_list):\n",
    "        self.name = name_list\n",
    "    @staticmethod\n",
    "    def mentor_list2(mentors): #no need self argument\n",
    "        mentor_lst = mentors"
   ]
  },
  {
   "cell_type": "code",
   "execution_count": 77,
   "metadata": {},
   "outputs": [],
   "source": [
    "p = Course()"
   ]
  },
  {
   "cell_type": "code",
   "execution_count": 78,
   "metadata": {},
   "outputs": [],
   "source": [
    "p.mentor_list2([\"emdadul\", \"tareque\"])"
   ]
  },
  {
   "cell_type": "code",
   "execution_count": 80,
   "metadata": {},
   "outputs": [],
   "source": [
    "q = Course()"
   ]
  },
  {
   "cell_type": "code",
   "execution_count": 83,
   "metadata": {},
   "outputs": [],
   "source": [
    "Course.mentor_list2([\"emdadul\", \"tareque\"]) #pass data with out creating object"
   ]
  },
  {
   "cell_type": "code",
   "execution_count": 85,
   "metadata": {},
   "outputs": [],
   "source": [
    "class Course:\n",
    "    \n",
    "    def course_details(self, name, price):\n",
    "        print(name, price)\n",
    "\n",
    "    @staticmethod\n",
    "    def mentor_list(mentors):\n",
    "        print(mentors)\n",
    "        \n",
    "    "
   ]
  },
  {
   "cell_type": "code",
   "execution_count": 86,
   "metadata": {},
   "outputs": [
    {
     "name": "stdout",
     "output_type": "stream",
     "text": [
      "['ada', 'adas']\n"
     ]
    }
   ],
   "source": [
    "Course.mentor_list([\"ada\", \"adas\"])"
   ]
  },
  {
   "cell_type": "code",
   "execution_count": 1,
   "metadata": {},
   "outputs": [],
   "source": [
    "#static method কে যদি ক্লাস ম্যাথডের মধ্যে ব্যবহার করতে হয় "
   ]
  },
  {
   "cell_type": "code",
   "execution_count": 4,
   "metadata": {},
   "outputs": [],
   "source": [
    "class Course:\n",
    "    def student_details(self, name, mail_id, number):\n",
    "        print(name, mail_id, number)\n",
    "        \n",
    "    @staticmethod\n",
    "    def mentor_class(list_mentor):\n",
    "        print(list_mentor)\n",
    "        \n",
    "    @classmethod\n",
    "    def class_name(cls):\n",
    "        cls.mentor_class([\"emdadul\", \"tareque\"])\n",
    "        \n",
    "    def mentor(self, mentor_list):\n",
    "        print(mentor_list)"
   ]
  },
  {
   "cell_type": "code",
   "execution_count": 5,
   "metadata": {},
   "outputs": [
    {
     "name": "stdout",
     "output_type": "stream",
     "text": [
      "['emdadul', 'tareque']\n"
     ]
    }
   ],
   "source": [
    "Course.class_name()"
   ]
  },
  {
   "cell_type": "code",
   "execution_count": 8,
   "metadata": {},
   "outputs": [],
   "source": [
    "#static method কে অন্য static method এর  মধ্যে ব্যবহার করতে হয় \n",
    "\n",
    "class Course:\n",
    "    def student_details(self, name, mail_id, number):\n",
    "        print(name, mail_id, number)\n",
    "        \n",
    "    @staticmethod\n",
    "    def mentor_class(list_mentor):\n",
    "        Course.mentor_mail_id([\"emdadul@gmail.com\", \"tareque@gmail.com\"])\n",
    "        print(list_mentor)\n",
    "    \n",
    "    @staticmethod\n",
    "    def mentor_mail_id(mail_id_mentor):\n",
    "\n",
    "        print(mail_id_mentor)\n",
    "        \n",
    "    @classmethod\n",
    "    def class_name(cls):\n",
    "        cls.mentor_class([\"emdadul\", \"tareque\"])\n",
    "        \n",
    "    def mentor(self, mentor_list):\n",
    "        print(mentor_list)"
   ]
  },
  {
   "cell_type": "code",
   "execution_count": 9,
   "metadata": {},
   "outputs": [
    {
     "name": "stdout",
     "output_type": "stream",
     "text": [
      "['emdadul@gmail.com', 'tareque@gmail.com']\n",
      "['emdadul', 'Tareque']\n"
     ]
    }
   ],
   "source": [
    "Course.mentor_class([\"emdadul\", \"Tareque\"])"
   ]
  },
  {
   "cell_type": "code",
   "execution_count": 13,
   "metadata": {},
   "outputs": [],
   "source": [
    "#instance method এর মধ্যে static method ব্যবহার \n",
    "\n",
    "#static method কে অন্য static method এর  মধ্যে ব্যবহার করতে হয় \n",
    "\n",
    "class Course:\n",
    "    def student_details(self, name, mail_id, number):\n",
    "        print(name, mail_id, number)\n",
    "        \n",
    "    @staticmethod\n",
    "    def mentor_class(list_mentor):\n",
    "        Course.mentor_mail_id([\"emdadul@gmail.com\", \"tareque@gmail.com\"])\n",
    "        print(list_mentor)\n",
    "    \n",
    "    @staticmethod\n",
    "    def mentor_mail_id(mail_id_mentor):\n",
    "\n",
    "        print(mail_id_mentor)\n",
    "        \n",
    "    @classmethod\n",
    "    def class_name(cls):\n",
    "        cls.mentor_class([\"emdadul\", \"tareque\"])\n",
    "        \n",
    "    def mentor(self, mentor_list):\n",
    "        print(mentor_list)\n",
    "        self.mentor_class(mentor_list)"
   ]
  },
  {
   "cell_type": "code",
   "execution_count": 14,
   "metadata": {},
   "outputs": [],
   "source": [
    "course1 = Course()"
   ]
  },
  {
   "cell_type": "code",
   "execution_count": 15,
   "metadata": {},
   "outputs": [
    {
     "name": "stdout",
     "output_type": "stream",
     "text": [
      "['emdadul', 'tareque']\n",
      "['emdadul@gmail.com', 'tareque@gmail.com']\n",
      "['emdadul', 'tareque']\n"
     ]
    }
   ],
   "source": [
    "course1.mentor(([\"emdadul\", \"tareque\"]))"
   ]
  },
  {
   "cell_type": "raw",
   "metadata": {},
   "source": [
    "১। static method সাধারণত ক্লাসের মাধ্যমে ব্যবহারের জন্য ব্যবহার করা হয়। যখন কোন ম্যাথডকে ক্লাসের মাধ্যমে ব্যবহার করতে হবে তখন static method ব্যবহার করা হবে। \n",
    "\n",
    "২। static method utility কাজ অর্থাৎ একই কাজ বার বার করা লাগে যেমন ডেটাবেজের সাথে কাজের জন্য ব্যবহার করা হয়। \n",
    "\n",
    "৩। static method দিয়ে ক্লাসের কোন স্টেট এক্সেস করা যাবে না এবং মডিউফাইও করা যাবে না। এটা সাধারণ একটা ফাংশনের মতোই কাজ করে। \n",
    "\n",
    "৪। যখন আমাদের কোন ডেটা সকল অবজেক্টের জন্য একই রাখতে হবে তখন আমরা static method তৈরি করব। \n",
    "\n",
    "৫। সাধারণ যখন আমরা কোন অবজেক্ট তৈরি করে তখন সকল অবজেক্টের জন্য ক্লাসের মেথডগুলো আলাদা আলাদাভাবে একটা কপি তৈরি হয়। যদি কোন মেথড সকল অবজেক্টের জন্য আলাদা আলাদাভাবে তৈরি না করতে হয় তখন static method ব্যবহার করতে হয়।"
   ]
  }
 ],
 "metadata": {
  "kernelspec": {
   "display_name": "Python 3",
   "language": "python",
   "name": "python3"
  },
  "language_info": {
   "codemirror_mode": {
    "name": "ipython",
    "version": 3
   },
   "file_extension": ".py",
   "mimetype": "text/x-python",
   "name": "python",
   "nbconvert_exporter": "python",
   "pygments_lexer": "ipython3",
   "version": "3.7.3"
  }
 },
 "nbformat": 4,
 "nbformat_minor": 2
}
