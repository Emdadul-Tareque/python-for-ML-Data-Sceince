{
 "cells": [
  {
   "cell_type": "markdown",
   "id": "81e14229",
   "metadata": {},
   "source": [
    "   # Basic of python programming"
   ]
  },
  {
   "cell_type": "markdown",
   "id": "70907370",
   "metadata": {},
   "source": [
    "program 01: Write a program to display the messages “Hello”, “World” and “Good Bye”. Each of the three\n",
    "            messages should get displayed on a different line."
   ]
  },
  {
   "cell_type": "code",
   "execution_count": 2,
   "id": "8f88d361",
   "metadata": {},
   "outputs": [
    {
     "name": "stdout",
     "output_type": "stream",
     "text": [
      "Hello\n",
      "World\n",
      "Good Bye\n"
     ]
    }
   ],
   "source": [
    "print(\"Hello\")\n",
    "print(\"World\")\n",
    "print(\"Good Bye\")\n"
   ]
  },
  {
   "cell_type": "markdown",
   "id": "5c4c8264",
   "metadata": {},
   "source": [
    "In the above program, we have displayed each message in a different line. In short, the print\n",
    "function automatically prints a linefeed (\\n) to cause the output to advance to the next line.\n",
    "However, if you want to display the messages “Hello” “World” and “Good Bye” in one line\n",
    "without using a single print statement, then you can invoke the print function by passing a special\n",
    "argument named end=’ ‘. The following program illustrates the use of the end argument within\n",
    "the print function"
   ]
  },
  {
   "cell_type": "markdown",
   "id": "cba1699d",
   "metadata": {},
   "source": [
    "Program 02: Write a basic program to make use of the end key and display the messages “Hello” “World”\n",
    "and “Good Bye” in one line"
   ]
  },
  {
   "cell_type": "code",
   "execution_count": 5,
   "id": "e5ce86bc",
   "metadata": {},
   "outputs": [
    {
     "name": "stdout",
     "output_type": "stream",
     "text": [
      "Hello  World Good Bye"
     ]
    }
   ],
   "source": [
    "print(\"Hello \", end='')\n",
    "print(\" World\", end='')\n",
    "print(\" Good Bye\", end='')"
   ]
  },
  {
   "cell_type": "markdown",
   "id": "37081e15",
   "metadata": {},
   "source": [
    "#  Multiple assignments"
   ]
  },
  {
   "cell_type": "code",
   "execution_count": 7,
   "id": "8ae30c40",
   "metadata": {},
   "outputs": [],
   "source": [
    "# Normal Assignemnt "
   ]
  },
  {
   "cell_type": "code",
   "execution_count": 8,
   "id": "2233baf1",
   "metadata": {},
   "outputs": [],
   "source": [
    "p = 30\n",
    "q = 20\n"
   ]
  },
  {
   "cell_type": "code",
   "execution_count": 9,
   "id": "53fab56c",
   "metadata": {},
   "outputs": [
    {
     "data": {
      "text/plain": [
       "30"
      ]
     },
     "execution_count": 9,
     "metadata": {},
     "output_type": "execute_result"
    }
   ],
   "source": [
    "p"
   ]
  },
  {
   "cell_type": "code",
   "execution_count": 10,
   "id": "a2dcf997",
   "metadata": {},
   "outputs": [
    {
     "data": {
      "text/plain": [
       "20"
      ]
     },
     "execution_count": 10,
     "metadata": {},
     "output_type": "execute_result"
    }
   ],
   "source": [
    "q"
   ]
  },
  {
   "cell_type": "code",
   "execution_count": 11,
   "id": "983b220b",
   "metadata": {},
   "outputs": [],
   "source": [
    "p, q = 20, 30"
   ]
  },
  {
   "cell_type": "code",
   "execution_count": 12,
   "id": "5696d3e2",
   "metadata": {},
   "outputs": [
    {
     "data": {
      "text/plain": [
       "20"
      ]
     },
     "execution_count": 12,
     "metadata": {},
     "output_type": "execute_result"
    }
   ],
   "source": [
    "p"
   ]
  },
  {
   "cell_type": "code",
   "execution_count": 13,
   "id": "10171b7d",
   "metadata": {},
   "outputs": [
    {
     "data": {
      "text/plain": [
       "30"
      ]
     },
     "execution_count": 13,
     "metadata": {},
     "output_type": "execute_result"
    }
   ],
   "source": [
    "q"
   ]
  },
  {
   "cell_type": "code",
   "execution_count": 15,
   "id": "07ec657e",
   "metadata": {},
   "outputs": [],
   "source": [
    "#swap number \n",
    "\n",
    "p = 20 \n",
    "q = 30\n",
    "temp = p\n",
    "p = q\n",
    "q = temp"
   ]
  },
  {
   "cell_type": "code",
   "execution_count": 16,
   "id": "e0096d4a",
   "metadata": {},
   "outputs": [
    {
     "data": {
      "text/plain": [
       "30"
      ]
     },
     "execution_count": 16,
     "metadata": {},
     "output_type": "execute_result"
    }
   ],
   "source": [
    "p"
   ]
  },
  {
   "cell_type": "code",
   "execution_count": 17,
   "id": "bd8aba08",
   "metadata": {},
   "outputs": [
    {
     "data": {
      "text/plain": [
       "20"
      ]
     },
     "execution_count": 17,
     "metadata": {},
     "output_type": "execute_result"
    }
   ],
   "source": [
    "q"
   ]
  },
  {
   "cell_type": "code",
   "execution_count": 18,
   "id": "00bb72a2",
   "metadata": {},
   "outputs": [],
   "source": [
    "#using python special \n",
    "\n",
    "p = 30\n",
    "q = 20 \n",
    "\n",
    "p, q = q, p"
   ]
  },
  {
   "cell_type": "code",
   "execution_count": 19,
   "id": "70e38263",
   "metadata": {},
   "outputs": [
    {
     "data": {
      "text/plain": [
       "20"
      ]
     },
     "execution_count": 19,
     "metadata": {},
     "output_type": "execute_result"
    }
   ],
   "source": [
    "p"
   ]
  },
  {
   "cell_type": "code",
   "execution_count": 20,
   "id": "892041e4",
   "metadata": {},
   "outputs": [
    {
     "data": {
      "text/plain": [
       "30"
      ]
     },
     "execution_count": 20,
     "metadata": {},
     "output_type": "execute_result"
    }
   ],
   "source": [
    "q"
   ]
  },
  {
   "cell_type": "markdown",
   "id": "79b28503",
   "metadata": {},
   "source": [
    "Program 03: Write a simple program to calculate the area of a rectangle in Python"
   ]
  },
  {
   "cell_type": "code",
   "execution_count": 1,
   "id": "6fb696d7",
   "metadata": {},
   "outputs": [
    {
     "name": "stdout",
     "output_type": "stream",
     "text": [
      "lenght of a rectangle: 5\n",
      "Breadth of a rectangle: 10\n",
      "area of a rectangle is:  50\n"
     ]
    }
   ],
   "source": [
    "# formula: area = lenght * breadth\n",
    "\n",
    "length = int(input(\"lenght of a rectangle: \"))\n",
    "breadth = int(input(\"Breadth of a rectangle: \"))\n",
    "\n",
    "area = length * breadth\n",
    "\n",
    "print(\"Area of a rectangle is: \", area)"
   ]
  },
  {
   "cell_type": "markdown",
   "id": "e3c787d0",
   "metadata": {},
   "source": [
    "# The eval() Function "
   ]
  },
  {
   "cell_type": "markdown",
   "id": "a348a47a",
   "metadata": {},
   "source": [
    "eval() function ব্যবহারের মাধ্যেম আমরা ইউজার থেকে এক্সপেক্টেড ইনপুট নিতে পারি। যেমন এর আগের প্রোগ্রামের দেখতে পাচ্ছি ইউজারের থেকে কোন সংখ্যা ইনপুট নেওয়ার সময় input() ফাংশনকে আমরা int() ফাংশনের মধ্যে রাখতে হয়েছিলো। যাতে করে আমরা ইউজার ইন্টিজার টাইপের ভ্যালু পাই। এর কারণ হচ্ছে আমরা যখন ইনপুট ফাংশন ব্যবহার করি তখন এই ফাংশন ইউজারের কাছ থেকে স্ট্রিং টাইপের ইনপুট নেয়। তবে আমরা eval() ফাংশন ব্যবহার করে আমরা ইউজারের কাছ থেকে এক্সপেক্টেড ভ্যালু নিতে পারি। অর্থাৎ ইউজার যদি সংখ্যা ইনপুট দেয় তাহলে আমরা সংখ্যা পাব এবং ইউজার যদি ক্যারেক্টার দেয় তাহলে আমরা ক্যারেক্টার টাইপের ভ্যালু পাবো। "
   ]
  },
  {
   "cell_type": "code",
   "execution_count": 6,
   "id": "2fee9505",
   "metadata": {},
   "outputs": [
    {
     "name": "stdout",
     "output_type": "stream",
     "text": [
      "Enter a number: 12.45\n",
      "Enter a string: sfsdfasd\n",
      "<class 'float'>\n",
      "<class 'str'>\n"
     ]
    }
   ],
   "source": [
    "number = eval(input(\"Enter a number: \"))\n",
    "string = input(\"Enter a string: \")\n",
    "\n",
    "print(type(number))\n",
    "print(type(string))"
   ]
  },
  {
   "cell_type": "markdown",
   "id": "9251946c",
   "metadata": {},
   "source": [
    "# Formatting number and strings"
   ]
  },
  {
   "cell_type": "code",
   "execution_count": 28,
   "id": "d585d2b5",
   "metadata": {},
   "outputs": [],
   "source": [
    "x = 20.345123 "
   ]
  },
  {
   "cell_type": "code",
   "execution_count": 13,
   "id": "3a048174",
   "metadata": {},
   "outputs": [],
   "source": [
    "x = format(x, \".3f\")"
   ]
  },
  {
   "cell_type": "code",
   "execution_count": 14,
   "id": "697364fb",
   "metadata": {},
   "outputs": [
    {
     "data": {
      "text/plain": [
       "'10.345'"
      ]
     },
     "execution_count": 14,
     "metadata": {},
     "output_type": "execute_result"
    }
   ],
   "source": [
    "x"
   ]
  },
  {
   "cell_type": "code",
   "execution_count": 41,
   "id": "270ac56c",
   "metadata": {},
   "outputs": [],
   "source": [
    "x = 20.345123\n",
    "x = format(x, \"7.3f\")"
   ]
  },
  {
   "cell_type": "code",
   "execution_count": 42,
   "id": "d3eb0e8b",
   "metadata": {},
   "outputs": [
    {
     "data": {
      "text/plain": [
       "' 20.345'"
      ]
     },
     "execution_count": 42,
     "metadata": {},
     "output_type": "execute_result"
    }
   ],
   "source": [
    "x"
   ]
  },
  {
   "cell_type": "code",
   "execution_count": 44,
   "id": "735fd2bc",
   "metadata": {},
   "outputs": [],
   "source": [
    "x = 20.345123\n",
    "x = format(x, \"<7.3f\")"
   ]
  },
  {
   "cell_type": "code",
   "execution_count": 49,
   "id": "9812161e",
   "metadata": {},
   "outputs": [
    {
     "data": {
      "text/plain": [
       "'20.345 '"
      ]
     },
     "execution_count": 49,
     "metadata": {},
     "output_type": "execute_result"
    }
   ],
   "source": [
    "x # here format function return a string value"
   ]
  },
  {
   "cell_type": "code",
   "execution_count": 50,
   "id": "bea9b142",
   "metadata": {},
   "outputs": [
    {
     "data": {
      "text/plain": [
       "str"
      ]
     },
     "execution_count": 50,
     "metadata": {},
     "output_type": "execute_result"
    }
   ],
   "source": [
    "type(x)"
   ]
  },
  {
   "cell_type": "code",
   "execution_count": 51,
   "id": "334cafde",
   "metadata": {},
   "outputs": [],
   "source": [
    "x = 20.345123\n",
    "x = eval (format(x, \"<7.3f\"))"
   ]
  },
  {
   "cell_type": "code",
   "execution_count": 52,
   "id": "65c230b5",
   "metadata": {},
   "outputs": [
    {
     "data": {
      "text/plain": [
       "float"
      ]
     },
     "execution_count": 52,
     "metadata": {},
     "output_type": "execute_result"
    }
   ],
   "source": [
    "type(x)"
   ]
  },
  {
   "cell_type": "code",
   "execution_count": null,
   "id": "912cf653",
   "metadata": {},
   "outputs": [],
   "source": []
  },
  {
   "cell_type": "code",
   "execution_count": 46,
   "id": "e6506307",
   "metadata": {},
   "outputs": [
    {
     "name": "stdout",
     "output_type": "stream",
     "text": [
      "314.42%\n"
     ]
    }
   ],
   "source": []
  },
  {
   "cell_type": "code",
   "execution_count": 47,
   "id": "4d05393e",
   "metadata": {},
   "outputs": [
    {
     "name": "stdout",
     "output_type": "stream",
     "text": [
      "314.423%\n"
     ]
    }
   ],
   "source": [
    "print(format(3.14423, \".3%\"))"
   ]
  },
  {
   "cell_type": "code",
   "execution_count": 60,
   "id": "7fd6ad64",
   "metadata": {},
   "outputs": [],
   "source": [
    "x = 3.1416"
   ]
  },
  {
   "cell_type": "code",
   "execution_count": 61,
   "id": "d8a6642d",
   "metadata": {},
   "outputs": [],
   "source": [
    "x = format(x, \".2%\")"
   ]
  },
  {
   "cell_type": "code",
   "execution_count": 62,
   "id": "5fbf3da8",
   "metadata": {},
   "outputs": [
    {
     "data": {
      "text/plain": [
       "'314.16%'"
      ]
     },
     "execution_count": 62,
     "metadata": {},
     "output_type": "execute_result"
    }
   ],
   "source": [
    "x"
   ]
  },
  {
   "cell_type": "code",
   "execution_count": 63,
   "id": "6dd07276",
   "metadata": {},
   "outputs": [
    {
     "name": "stdout",
     "output_type": "stream",
     "text": [
      "314.42%\n"
     ]
    }
   ],
   "source": [
    "print(format(3.14423, \".2%\"))"
   ]
  },
  {
   "cell_type": "code",
   "execution_count": 64,
   "id": "7743c51c",
   "metadata": {},
   "outputs": [
    {
     "name": "stdout",
     "output_type": "stream",
     "text": [
      "314.42%\n"
     ]
    },
    {
     "data": {
      "text/plain": [
       "NoneType"
      ]
     },
     "execution_count": 64,
     "metadata": {},
     "output_type": "execute_result"
    }
   ],
   "source": [
    "type(print(format(3.14423, \".2%\")))"
   ]
  },
  {
   "cell_type": "raw",
   "id": "c0d79b98",
   "metadata": {},
   "source": [
    "Specifier      Format\n",
    "---------    ----------------------------------------   \n",
    "10.2f --->  floating point number with precision 2 and width 10.\n",
    "<10.2f ---> Left Justify the floating point number.\n",
    ">10.2 ---> fRight Justify the formatted item.\n",
    "10X ---> Format integer in hexadecimal with width 10\n",
    "20s ---> Format String with width 20\n",
    "10.2% ---> Format the number in decimal"
   ]
  },
  {
   "cell_type": "markdown",
   "id": "1a8b289a",
   "metadata": {},
   "source": [
    "# Python Inbuilt Function"
   ]
  },
  {
   "cell_type": "raw",
   "id": "9a8441f7",
   "metadata": {},
   "source": [
    "ceil(x)     ----> Round X to nearest integer and returns that integer.\n",
    "\n",
    "floor(x)    ----> Returns the largest value not greater than X\n",
    "\n",
    "exp(x)       ----> Returns the exponential value for ex\n",
    "\n",
    "log(x)       ----> Returns the natural logarithmic of x (to base e)\n",
    "\n",
    "log(x, base)  ----> Returns the logarithmic of x to the given base\n",
    "\n",
    "sqrt(x)       ----> Return the square root of x\n",
    "\n",
    "Sin(x)       ---->  Return the sin of X, where X is the value in radians\n",
    "\n",
    "asin(x)     ----> Return the angle in radians for the inverse of sine\n",
    "\n",
    "cos(x)     ----> Return the sin of X, where X is the value in \n",
    "                 radians\n",
    "\n",
    "aCos(x)     ----> Return the angle in radians for the inverse of cosine\n",
    "\n",
    "tan(x)      ----> Return the tangent of X, where X is the value in \n",
    "                  radians\n",
    "\n",
    "degress(x) ----> Convert angle X from to radians to degrees\n",
    "\n",
    "Radians(x) ----> Convert angle X from to radians to degrees"
   ]
  },
  {
   "cell_type": "code",
   "execution_count": 67,
   "id": "154c9c46",
   "metadata": {},
   "outputs": [
    {
     "name": "stdout",
     "output_type": "stream",
     "text": [
      "11\n"
     ]
    }
   ],
   "source": [
    "import math"
   ]
  },
  {
   "cell_type": "code",
   "execution_count": 68,
   "id": "2d298404",
   "metadata": {},
   "outputs": [
    {
     "name": "stdout",
     "output_type": "stream",
     "text": [
      "11\n"
     ]
    }
   ],
   "source": [
    "print(math.ceil(10.23))"
   ]
  },
  {
   "cell_type": "code",
   "execution_count": 69,
   "id": "9da88e83",
   "metadata": {},
   "outputs": [
    {
     "name": "stdout",
     "output_type": "stream",
     "text": [
      "10\n"
     ]
    }
   ],
   "source": [
    "print(math.floor(10.23))"
   ]
  },
  {
   "cell_type": "code",
   "execution_count": 70,
   "id": "c2eb0784",
   "metadata": {},
   "outputs": [
    {
     "name": "stdout",
     "output_type": "stream",
     "text": [
      "27722.51006805505\n"
     ]
    }
   ],
   "source": [
    "print(math.exp(10.23))"
   ]
  },
  {
   "cell_type": "code",
   "execution_count": 71,
   "id": "35f03b32",
   "metadata": {},
   "outputs": [
    {
     "name": "stdout",
     "output_type": "stream",
     "text": [
      "0.9932517730102834\n"
     ]
    }
   ],
   "source": [
    "print(math.log(2.7))"
   ]
  },
  {
   "cell_type": "code",
   "execution_count": 72,
   "id": "73ea08d0",
   "metadata": {},
   "outputs": [
    {
     "name": "stdout",
     "output_type": "stream",
     "text": [
      "1.0\n"
     ]
    }
   ],
   "source": [
    "print(math.log(10, 10))"
   ]
  },
  {
   "cell_type": "code",
   "execution_count": 73,
   "id": "81ef5f95",
   "metadata": {},
   "outputs": [
    {
     "name": "stdout",
     "output_type": "stream",
     "text": [
      "4.0\n"
     ]
    }
   ],
   "source": [
    "print(math.sqrt(16))"
   ]
  },
  {
   "cell_type": "markdown",
   "id": "66d303dc",
   "metadata": {},
   "source": [
    "# The ord and chr Functions"
   ]
  },
  {
   "cell_type": "code",
   "execution_count": 77,
   "id": "f8d94b91",
   "metadata": {},
   "outputs": [
    {
     "data": {
      "text/plain": [
       "65"
      ]
     },
     "execution_count": 77,
     "metadata": {},
     "output_type": "execute_result"
    }
   ],
   "source": [
    "ord(\"A\") #Returns ACII value of Character 'A'"
   ]
  },
  {
   "cell_type": "code",
   "execution_count": 78,
   "id": "02e47ccc",
   "metadata": {},
   "outputs": [
    {
     "data": {
      "text/plain": [
       "122"
      ]
     },
     "execution_count": 78,
     "metadata": {},
     "output_type": "execute_result"
    }
   ],
   "source": [
    "ord(\"z\")"
   ]
  },
  {
   "cell_type": "code",
   "execution_count": 79,
   "id": "08ee1b4a",
   "metadata": {},
   "outputs": [
    {
     "data": {
      "text/plain": [
       "120"
      ]
     },
     "execution_count": 79,
     "metadata": {},
     "output_type": "execute_result"
    }
   ],
   "source": [
    "ord(\"x\")"
   ]
  },
  {
   "cell_type": "code",
   "execution_count": 80,
   "id": "e47c01cf",
   "metadata": {},
   "outputs": [
    {
     "data": {
      "text/plain": [
       "'A'"
      ]
     },
     "execution_count": 80,
     "metadata": {},
     "output_type": "execute_result"
    }
   ],
   "source": [
    "chr(65) "
   ]
  },
  {
   "cell_type": "code",
   "execution_count": 81,
   "id": "af3aac1f",
   "metadata": {},
   "outputs": [
    {
     "data": {
      "text/plain": [
       "'z'"
      ]
     },
     "execution_count": 81,
     "metadata": {},
     "output_type": "execute_result"
    }
   ],
   "source": [
    "chr(122)"
   ]
  },
  {
   "cell_type": "code",
   "execution_count": 82,
   "id": "5fb3e312",
   "metadata": {},
   "outputs": [
    {
     "data": {
      "text/plain": [
       "'x'"
      ]
     },
     "execution_count": 82,
     "metadata": {},
     "output_type": "execute_result"
    }
   ],
   "source": [
    "chr(120)"
   ]
  },
  {
   "cell_type": "markdown",
   "id": "bd0e9eed",
   "metadata": {},
   "source": [
    "# Summary"
   ]
  },
  {
   "cell_type": "raw",
   "id": "b93ccfc7",
   "metadata": {},
   "source": [
    "1. Python breaks each statement into a sequence of lexical components called tokens.\n",
    "\n",
    "2.Literals are numbers, strings or characters that appear directly in a program.\n",
    "\n",
    "3.Python offers an inbuilt method called type to know the exact type of any value.\n",
    "\n",
    "4.Keywords are reserved words.\n",
    "\n",
    "5.Keywords cannot be used as identifiers or variables.\n",
    "An identifier is a name used to identify a variable, function, class or other objects.\n",
    "\n",
    "6.Everything in Python is an object.\n",
    "\n",
    "7.The int function converts a string or a number into a whole number or integer.\n",
    "\n",
    "8.The float function converts a string into a floating-point number.\n",
    "\n",
    "9.The Boolean data type is represented in Python as of type bool.\n",
    "\n",
    "10.print function is used to display contents on the screen.\n",
    "\n",
    "11.input() function is used to accept input from the user.\n",
    "\n",
    "12.format() function can be used to return a formatted string.\n",
    "\n",
    "13. Python Tokens: keywords, identifiers/Variables, Operators, Delimiters, literals \n",
    "\n",
    "14. Interger Literal: 18, Floating Point Literal: 21.98, \"Q\" : Character literal, \"Hello\": String Literal\n",
    "\n",
    "15. keywords: and, as, assert, break, class, continue, def, del, elif, else, except, False, finally, for, from, global, if, import, in, is, lambda, None, nonlocal, not, or, pass, raise, return, True, try, while, with, yield\n",
    "\n",
    "16. Operators: \n",
    "\n",
    "+ - * / // % **  ---> Arithmetic Operator\n",
    "\n",
    "== != <> <= >=  --->  Relational Operator\n",
    "\n",
    "and not or ---> Logical Operator\n",
    "\n",
    "& | ~ ^ << >>  ---> Bitwise Operator\n",
    "\n",
    "\n",
    "17. Delimiter: Delimiters are symbols that perform a special role in Python like grouping, punctuation and\n",
    "assignment. Python uses the following symbols and symbol combinations as delimiters.\n",
    "( ) [ ] { }\n",
    ", : . ‘ = ;\n",
    "+= -= *= /= //= %=\n",
    "&= |= ^= >>= <<= **=\n",
    "\n",
    "\n",
    "18. Identifier: \n",
    "\n",
    "• Is a sequence of characters that consists of letters, digits and underscore\n",
    "• Can be of any length\n",
    "• Starts with a letter which can be either lower or upper case\n",
    "• Can start with an underscore ‘_’\n",
    "• Cannot start with a digit\n",
    "• Cannot be a keyword.\n",
    "\n",
    "Some examples of valid identifiers are Name, Roll_NO, A1, _Address etc."
   ]
  },
  {
   "cell_type": "markdown",
   "id": "e450b17f",
   "metadata": {},
   "source": [
    "# Keyterms"
   ]
  },
  {
   "cell_type": "raw",
   "id": "c006480e",
   "metadata": {},
   "source": [
    "chr(): Returns a character for a given ASCII value\n",
    "\n",
    "end(): Used as argument with print() function\n",
    "\n",
    "format(): Formats string and integer\n",
    "\n",
    "Identifier: Name to identify a variable\n",
    "\n",
    "Inbuilt Math Functions: abs(), max(), round(), ceil(), log(), exp(),sqrt(), sin(), asin(), acos(), atan(),cos(), degrees(), radians() and floor().\n",
    "\n",
    "input(): Used to accept data from the user\n",
    "\n",
    "int(): Used to convert string or float into integer\n",
    "\n",
    "ord(): Returns ASCII value of a character\n",
    "\n",
    "print(): Prints contents on the screen\n",
    "\n",
    "str(): Used to convert a number into string\n",
    "\n",
    "type(): Used to know the exact type of any value\n",
    "\n",
    "Tokens: Breaks each statement into a sequence of lexical components"
   ]
  },
  {
   "cell_type": "markdown",
   "id": "daa68b96",
   "metadata": {},
   "source": [
    "# Excercise"
   ]
  },
  {
   "cell_type": "code",
   "execution_count": 1,
   "id": "d572f72c",
   "metadata": {},
   "outputs": [
    {
     "data": {
      "text/plain": [
       "2"
      ]
     },
     "execution_count": 1,
     "metadata": {},
     "output_type": "execute_result"
    }
   ],
   "source": [
    "round(1.5)"
   ]
  },
  {
   "cell_type": "code",
   "execution_count": 2,
   "id": "25e7295c",
   "metadata": {},
   "outputs": [
    {
     "data": {
      "text/plain": [
       "-2"
      ]
     },
     "execution_count": 2,
     "metadata": {},
     "output_type": "execute_result"
    }
   ],
   "source": [
    "round(-1.5)"
   ]
  },
  {
   "cell_type": "code",
   "execution_count": 3,
   "id": "cbb0f848",
   "metadata": {},
   "outputs": [
    {
     "ename": "SyntaxError",
     "evalue": "invalid character '‘' (U+2018) (3559566019.py, line 1)",
     "output_type": "error",
     "traceback": [
      "\u001b[0;36m  Cell \u001b[0;32mIn[3], line 1\u001b[0;36m\u001b[0m\n\u001b[0;31m    print({:,}.format(‘100000’))\u001b[0m\n\u001b[0m                      ^\u001b[0m\n\u001b[0;31mSyntaxError\u001b[0m\u001b[0;31m:\u001b[0m invalid character '‘' (U+2018)\n"
     ]
    }
   ],
   "source": [
    "print({:,}.format(‘100000’))"
   ]
  },
  {
   "cell_type": "code",
   "execution_count": null,
   "id": "9d35eee8",
   "metadata": {},
   "outputs": [],
   "source": [
    "Name = MyName"
   ]
  },
  {
   "cell_type": "code",
   "execution_count": null,
   "id": "9e747561",
   "metadata": {},
   "outputs": [],
   "source": [
    "Sum = 10 + ‘10’"
   ]
  },
  {
   "cell_type": "code",
   "execution_count": null,
   "id": "c89bf3e2",
   "metadata": {},
   "outputs": [],
   "source": [
    "PriNt(“Hello Python!”)"
   ]
  },
  {
   "cell_type": "markdown",
   "id": "b4abe281",
   "metadata": {},
   "source": [
    "# #True or False"
   ]
  },
  {
   "cell_type": "raw",
   "id": "019d87b0",
   "metadata": {},
   "source": [
    "1. Python breaks each statement into a sequence of lexical components known as tokens.(True)\n",
    "\n",
    "2. Keywords are tokens of Python.(True)\n",
    "\n",
    "3. Operators are not a part of tokens.(False)\n",
    "\n",
    "4. Python keywords do not have fixed meaning.(False)\n",
    "\n",
    "5. Keywords can be used as identifiers or variables.(False)\n",
    "\n",
    "6. Strings are part of literals.(True)\n",
    "\n",
    "7. An identifier is a name used to identify a variable, function etc.(True)\n",
    "\n",
    "8. Python classifies different kinds of objects into types.(True)\n",
    "\n",
    "9. The float function converts a string into a whole integer number. (True)\n",
    "\n",
    "10. The str function is used to convert a number into a string.(True)"
   ]
  },
  {
   "cell_type": "markdown",
   "id": "347155e6",
   "metadata": {},
   "source": [
    "# #Excercise Question"
   ]
  },
  {
   "cell_type": "raw",
   "id": "5dc0da13",
   "metadata": {},
   "source": [
    "What will be the output of the following statements if all of them are executed in Python interactive\n",
    "mode?\n",
    "a. abs( -2 )\n",
    "b. min(102,220,130)\n",
    "c. max(-1,-4,-10)\n",
    "d. max(‘A’,’B’,’Z’)\n",
    "e. max(‘a’,’B’,’Z’)\n",
    "f. round(1.6)\n",
    "g. math.ceil(1.2)\n",
    "h. math.floor(1.8)\n",
    "i. math.log(16,2)\n",
    "j. math.exp(1)\n",
    "k. math.\n",
    "l. cos(math.pi)\n",
    "m. math.cos(math.pi)"
   ]
  },
  {
   "cell_type": "code",
   "execution_count": 11,
   "id": "efb191ee",
   "metadata": {},
   "outputs": [
    {
     "data": {
      "text/plain": [
       "2"
      ]
     },
     "execution_count": 11,
     "metadata": {},
     "output_type": "execute_result"
    }
   ],
   "source": [
    "abs(-2)"
   ]
  },
  {
   "cell_type": "code",
   "execution_count": 12,
   "id": "78741459",
   "metadata": {},
   "outputs": [
    {
     "data": {
      "text/plain": [
       "102"
      ]
     },
     "execution_count": 12,
     "metadata": {},
     "output_type": "execute_result"
    }
   ],
   "source": [
    "min(102,220,130)"
   ]
  },
  {
   "cell_type": "code",
   "execution_count": 13,
   "id": "e4f99952",
   "metadata": {},
   "outputs": [
    {
     "data": {
      "text/plain": [
       "-1"
      ]
     },
     "execution_count": 13,
     "metadata": {},
     "output_type": "execute_result"
    }
   ],
   "source": [
    "max(-1,-4,-10)"
   ]
  },
  {
   "cell_type": "code",
   "execution_count": 14,
   "id": "98434a01",
   "metadata": {},
   "outputs": [
    {
     "ename": "SyntaxError",
     "evalue": "invalid character '‘' (U+2018) (2657189279.py, line 1)",
     "output_type": "error",
     "traceback": [
      "\u001b[0;36m  Cell \u001b[0;32mIn[14], line 1\u001b[0;36m\u001b[0m\n\u001b[0;31m    max(‘A’,’B’,’Z’)\u001b[0m\n\u001b[0m        ^\u001b[0m\n\u001b[0;31mSyntaxError\u001b[0m\u001b[0;31m:\u001b[0m invalid character '‘' (U+2018)\n"
     ]
    }
   ],
   "source": [
    "max(‘A’,’B’,’Z’)"
   ]
  },
  {
   "cell_type": "code",
   "execution_count": 15,
   "id": "9ff9cdb8",
   "metadata": {},
   "outputs": [
    {
     "ename": "SyntaxError",
     "evalue": "invalid character '‘' (U+2018) (4176928526.py, line 1)",
     "output_type": "error",
     "traceback": [
      "\u001b[0;36m  Cell \u001b[0;32mIn[15], line 1\u001b[0;36m\u001b[0m\n\u001b[0;31m    max(‘a’,’B’,’Z’)\u001b[0m\n\u001b[0m        ^\u001b[0m\n\u001b[0;31mSyntaxError\u001b[0m\u001b[0;31m:\u001b[0m invalid character '‘' (U+2018)\n"
     ]
    }
   ],
   "source": [
    "max(‘a’,’B’,’Z’)"
   ]
  },
  {
   "cell_type": "code",
   "execution_count": 18,
   "id": "ae533049",
   "metadata": {},
   "outputs": [
    {
     "data": {
      "text/plain": [
       "2"
      ]
     },
     "execution_count": 18,
     "metadata": {},
     "output_type": "execute_result"
    }
   ],
   "source": [
    "import math\n",
    "math.ceil(1.2)"
   ]
  },
  {
   "cell_type": "code",
   "execution_count": 19,
   "id": "fbeeb551",
   "metadata": {},
   "outputs": [
    {
     "data": {
      "text/plain": [
       "1"
      ]
     },
     "execution_count": 19,
     "metadata": {},
     "output_type": "execute_result"
    }
   ],
   "source": [
    "math.floor(1.2)"
   ]
  },
  {
   "cell_type": "raw",
   "id": "1d28dfd3",
   "metadata": {},
   "source": [
    "3. What will be the output of the following statements if all of them are executed in Python interactive\n",
    "mode?\n",
    "a. ord(‘a’)\n",
    "b. ord(‘F’)\n",
    "c. ord(‘f’)\n",
    "d. chr(97)\n",
    "e. chr(100)"
   ]
  },
  {
   "cell_type": "code",
   "execution_count": 20,
   "id": "336c3b91",
   "metadata": {},
   "outputs": [
    {
     "data": {
      "text/plain": [
       "97"
      ]
     },
     "execution_count": 20,
     "metadata": {},
     "output_type": "execute_result"
    }
   ],
   "source": [
    "ord('a')"
   ]
  },
  {
   "cell_type": "code",
   "execution_count": 21,
   "id": "3ed24685",
   "metadata": {},
   "outputs": [
    {
     "data": {
      "text/plain": [
       "102"
      ]
     },
     "execution_count": 21,
     "metadata": {},
     "output_type": "execute_result"
    }
   ],
   "source": [
    "ord('f')"
   ]
  },
  {
   "cell_type": "code",
   "execution_count": 22,
   "id": "1dc5acb9",
   "metadata": {},
   "outputs": [
    {
     "data": {
      "text/plain": [
       "70"
      ]
     },
     "execution_count": 22,
     "metadata": {},
     "output_type": "execute_result"
    }
   ],
   "source": [
    "ord('F')"
   ]
  },
  {
   "cell_type": "code",
   "execution_count": 23,
   "id": "47ed4664",
   "metadata": {},
   "outputs": [
    {
     "data": {
      "text/plain": [
       "'a'"
      ]
     },
     "execution_count": 23,
     "metadata": {},
     "output_type": "execute_result"
    }
   ],
   "source": [
    "chr(97)"
   ]
  },
  {
   "cell_type": "code",
   "execution_count": 24,
   "id": "ae0739c2",
   "metadata": {},
   "outputs": [
    {
     "data": {
      "text/plain": [
       "'d'"
      ]
     },
     "execution_count": 24,
     "metadata": {},
     "output_type": "execute_result"
    }
   ],
   "source": [
    "chr(100)"
   ]
  },
  {
   "cell_type": "raw",
   "id": "d6d89cb7",
   "metadata": {},
   "source": [
    "4. Identify the error in the following piece of code. Explain how you will fix it.\n",
    "num1 = ‘10’\n",
    "num2 = 20.65\n",
    "sum = num1 + num2"
   ]
  },
  {
   "cell_type": "code",
   "execution_count": 26,
   "id": "edd0dcbd",
   "metadata": {},
   "outputs": [],
   "source": [
    "#where erro is num1 = '10'\n",
    "\n",
    "num1 = 10\n",
    "num2 = 20.65\n",
    "sum = num1 + num2"
   ]
  },
  {
   "cell_type": "code",
   "execution_count": 27,
   "id": "d2599039",
   "metadata": {},
   "outputs": [
    {
     "data": {
      "text/plain": [
       "30.65"
      ]
     },
     "execution_count": 27,
     "metadata": {},
     "output_type": "execute_result"
    }
   ],
   "source": [
    "sum"
   ]
  },
  {
   "cell_type": "raw",
   "id": "217eecee",
   "metadata": {},
   "source": [
    "State the output of following statements.\n",
    "a. print(format(16,’x’))\n",
    "b. print(format(10,’x’))\n",
    "c. print(format(10+10,’x’))\n",
    "d. print(format(10+ord(‘a’),’x’))\n",
    "e. print(format(20,’o’))\n",
    "f. print(format(100,’b’))\n",
    "g. print(format(10,’b’))"
   ]
  },
  {
   "cell_type": "code",
   "execution_count": 28,
   "id": "9bdf12b7",
   "metadata": {},
   "outputs": [
    {
     "ename": "SyntaxError",
     "evalue": "invalid character '’' (U+2019) (1144058816.py, line 1)",
     "output_type": "error",
     "traceback": [
      "\u001b[0;36m  Cell \u001b[0;32mIn[28], line 1\u001b[0;36m\u001b[0m\n\u001b[0;31m    print(format(16,’x’))\u001b[0m\n\u001b[0m                    ^\u001b[0m\n\u001b[0;31mSyntaxError\u001b[0m\u001b[0;31m:\u001b[0m invalid character '’' (U+2019)\n"
     ]
    }
   ],
   "source": [
    "print(format(16,’x’))"
   ]
  },
  {
   "cell_type": "code",
   "execution_count": 29,
   "id": "d7f975cf",
   "metadata": {},
   "outputs": [
    {
     "ename": "SyntaxError",
     "evalue": "invalid character '’' (U+2019) (2821727862.py, line 1)",
     "output_type": "error",
     "traceback": [
      "\u001b[0;36m  Cell \u001b[0;32mIn[29], line 1\u001b[0;36m\u001b[0m\n\u001b[0;31m    print(format(10,’x’))\u001b[0m\n\u001b[0m                    ^\u001b[0m\n\u001b[0;31mSyntaxError\u001b[0m\u001b[0;31m:\u001b[0m invalid character '’' (U+2019)\n"
     ]
    }
   ],
   "source": [
    "print(format(10,’x’))"
   ]
  },
  {
   "cell_type": "code",
   "execution_count": 30,
   "id": "1bc9b186",
   "metadata": {},
   "outputs": [
    {
     "ename": "SyntaxError",
     "evalue": "invalid character '‘' (U+2018) (1859655154.py, line 1)",
     "output_type": "error",
     "traceback": [
      "\u001b[0;36m  Cell \u001b[0;32mIn[30], line 1\u001b[0;36m\u001b[0m\n\u001b[0;31m    print(format(10+ord(‘a’),’x’))\u001b[0m\n\u001b[0m                        ^\u001b[0m\n\u001b[0;31mSyntaxError\u001b[0m\u001b[0;31m:\u001b[0m invalid character '‘' (U+2018)\n"
     ]
    }
   ],
   "source": [
    "print(format(10+ord(‘a’),’x’))"
   ]
  },
  {
   "cell_type": "markdown",
   "id": "7dea70f3",
   "metadata": {},
   "source": [
    "# Programming Assignments"
   ]
  },
  {
   "cell_type": "raw",
   "id": "ef609770",
   "metadata": {},
   "source": [
    "1. Write a program to print ‘F’ to ‘A’ in five different lines.\n",
    "2. Write a program to read and store the name of three different cities in three different\n",
    "variables and print all the contents of variables on the console.\n",
    "3. Write a program to prompt the user to enter and display their personal details, such as\n",
    "name, address and mobile number.\n",
    "4. By making use of five different print statements, write a program to print ‘A’ to ‘F’ in one\n",
    "single line.\n",
    "5. Write a program to read an integer as string. Convert the string into integer and display the\n",
    "type of value before and after converting to int.\n",
    "6. Write a program initialize the string “hello world” to a variable Str1 and convert the string\n",
    "into upper case.\n",
    "7. Translate the following algorithm into Python code.\n",
    "Step 1: Initialize variable named Pounds with value 10.\n",
    "Step 2: Multiply Pounds by 0.45 and assign it to a variable Kilogram.\n",
    "Step 3: Display the value of variable Pounds and Variable.\n",
    "8. Write a program to read the radius of a circle and print the area of the circle."
   ]
  },
  {
   "cell_type": "code",
   "execution_count": 32,
   "id": "b598715f",
   "metadata": {},
   "outputs": [
    {
     "name": "stdout",
     "output_type": "stream",
     "text": [
      "F\n",
      "E\n",
      "D\n",
      "C\n",
      "B\n",
      "A\n"
     ]
    }
   ],
   "source": [
    "# 1. Write a program to print ‘F’ to ‘A’ in five different lines.\n",
    "print(\"F\")\n",
    "print(\"E\")\n",
    "print(\"D\")\n",
    "print(\"C\")\n",
    "print(\"B\")\n",
    "print(\"A\")"
   ]
  },
  {
   "cell_type": "code",
   "execution_count": 33,
   "id": "f35cbfc2",
   "metadata": {},
   "outputs": [
    {
     "name": "stdout",
     "output_type": "stream",
     "text": [
      "Type your city nameDhaka\n",
      "Type your city namenoakhali\n",
      "Type your city nameshylet\n",
      "Dhaka\n",
      "noakhali\n",
      "shylet\n"
     ]
    }
   ],
   "source": [
    "\"\"\"2. Write a program to read and store the name of three different cities in three different\n",
    "variables and print all the contents of variables on the console.\"\"\"\n",
    "\n",
    "city_name1 = input(\"Type your city name \")\n",
    "city_name2 = input(\"Type your city name \")\n",
    "city_name3 = input(\"Type your city name \")\n",
    "\n",
    "print(city_name1)\n",
    "print(city_name2)\n",
    "print(city_name3)"
   ]
  },
  {
   "cell_type": "code",
   "execution_count": 35,
   "id": "fbd39d22",
   "metadata": {},
   "outputs": [
    {
     "name": "stdout",
     "output_type": "stream",
     "text": [
      "Type your name: Emdadul\n",
      "Type your address: mohammadpur, Dhaka\n",
      "Type your mobile number: 01521212572\n",
      "Your name:  Emdadul\n",
      "Your address:  mohammadpur, Dhaka\n",
      "Your Mobile number:  01521212572\n"
     ]
    }
   ],
   "source": [
    "\"\"\"Write a program to prompt the user to enter and display their personal details, such as\n",
    "name, address and mobile number.\"\"\"\n",
    "\n",
    "name = input(\"Type your name: \")\n",
    "address = input(\"Type your address: \")\n",
    "mobile_number = input(\"Type your mobile number: \")\n",
    "\n",
    "print(\"Your name: \", name)\n",
    "print(\"Your address: \", address)\n",
    "print(\"Your Mobile number: \", mobile_number)"
   ]
  },
  {
   "cell_type": "code",
   "execution_count": 36,
   "id": "77314c36",
   "metadata": {},
   "outputs": [
    {
     "name": "stdout",
     "output_type": "stream",
     "text": [
      "F E D C B A\n"
     ]
    }
   ],
   "source": [
    "\"\"\"4. By making use of five different print statements, write a program to print ‘A’ to ‘F’ in one\n",
    "single line\"\"\"\n",
    "\n",
    "print(\"F\", end=\" \")\n",
    "print(\"E\", end=\" \")\n",
    "print(\"D\", end=\" \")\n",
    "print(\"C\", end=\" \")\n",
    "print(\"B\", end=\" \")\n",
    "print(\"A\")"
   ]
  },
  {
   "cell_type": "code",
   "execution_count": 38,
   "id": "dfded2b9",
   "metadata": {},
   "outputs": [
    {
     "name": "stdout",
     "output_type": "stream",
     "text": [
      "input your value: 123345\n",
      "<class 'str'>\n",
      "123345\n"
     ]
    }
   ],
   "source": [
    "\"\"\"5. Write a program to read an integer as string. Convert the string into integer and display the\n",
    "type of value before and after converting to int.\"\"\"\n",
    "\n",
    "integer_as_string = input(\"input your value: \")\n",
    "print(type(integer_as_string))\n",
    "convert_into_integer = int(integer_as_string)\n",
    "print(convert_into_integer)\n"
   ]
  },
  {
   "cell_type": "code",
   "execution_count": 39,
   "id": "28e525cb",
   "metadata": {},
   "outputs": [
    {
     "name": "stdout",
     "output_type": "stream",
     "text": [
      "HELLO WORLD\n"
     ]
    }
   ],
   "source": [
    "\"\"\"6. Write a program initialize the string “hello world” to a variable Str1 and convert the string\n",
    "into upper case.\"\"\"\n",
    "\n",
    "str1 = \"Hello World\"\n",
    "print(str1.upper())"
   ]
  },
  {
   "cell_type": "raw",
   "id": "ada04803",
   "metadata": {},
   "source": [
    "7. Translate the following algorithm into Python code.\n",
    "Step 1: Initialize variable named Pounds with value 10.\n",
    "Step 2: Multiply Pounds by 0.45 and assign it to a variable Kilogram.\n",
    "Step 3: Display the value of variable Pounds and Variable."
   ]
  },
  {
   "cell_type": "code",
   "execution_count": 41,
   "id": "f926313b",
   "metadata": {},
   "outputs": [
    {
     "name": "stdout",
     "output_type": "stream",
     "text": [
      "10\n",
      "4.5\n"
     ]
    }
   ],
   "source": [
    "pounds = 10\n",
    "kilogram = 10*0.45\n",
    "\n",
    "print(pounds)\n",
    "print(kilogram)"
   ]
  },
  {
   "cell_type": "code",
   "execution_count": 45,
   "id": "3c5f7126",
   "metadata": {},
   "outputs": [
    {
     "name": "stdout",
     "output_type": "stream",
     "text": [
      "Input radius of a circle: 1234\n",
      "Area of the circle: 4783879.062809778\n"
     ]
    }
   ],
   "source": [
    "\"\"\"8. Write a program to read the radius of a circle and print the area of the circle.\"\"\"\n",
    "\n",
    "radius = eval(input(\"Input radius of a circle: \"))\n",
    "area = math.pi * radius * radius\n",
    "print(\"Area of the circle:\", area)\n"
   ]
  },
  {
   "cell_type": "code",
   "execution_count": null,
   "id": "27512872",
   "metadata": {},
   "outputs": [],
   "source": []
  }
 ],
 "metadata": {
  "kernelspec": {
   "display_name": "Python 3 (ipykernel)",
   "language": "python",
   "name": "python3"
  },
  "language_info": {
   "codemirror_mode": {
    "name": "ipython",
    "version": 3
   },
   "file_extension": ".py",
   "mimetype": "text/x-python",
   "name": "python",
   "nbconvert_exporter": "python",
   "pygments_lexer": "ipython3",
   "version": "3.10.6"
  }
 },
 "nbformat": 4,
 "nbformat_minor": 5
}
