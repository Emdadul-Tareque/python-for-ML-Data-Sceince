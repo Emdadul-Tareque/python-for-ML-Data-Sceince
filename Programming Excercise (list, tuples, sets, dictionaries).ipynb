{
 "cells": [
  {
   "cell_type": "markdown",
   "id": "15c7d338",
   "metadata": {},
   "source": [
    "Excercise 01: Make a list of first ten letters of the alphabet, then\n",
    "using the slice operation do the following operations.\n",
    "\n",
    "(a) Print the first three letters from the list\n",
    "\n",
    "(b) Print any three letters from the middle i\n",
    "\n",
    "(c) Print the letters from any particular index to the\n",
    "end of the list"
   ]
  },
  {
   "cell_type": "code",
   "execution_count": 2,
   "id": "07108d6b",
   "metadata": {},
   "outputs": [],
   "source": [
    "# create a list of first ten letters\n",
    "alph_lst = [\"a\", \"b\", \"c\", \"d\", \"e\", \"f\", \"g\", \"h\", \"i\", \"j\" ] "
   ]
  },
  {
   "cell_type": "code",
   "execution_count": 6,
   "id": "f8b08452",
   "metadata": {},
   "outputs": [
    {
     "name": "stdout",
     "output_type": "stream",
     "text": [
      "['a', 'b', 'c']\n"
     ]
    }
   ],
   "source": [
    "# Print the first three letters from the list\n",
    "\n",
    "print(alph_lst[0:3]) #Way 01"
   ]
  },
  {
   "cell_type": "code",
   "execution_count": 11,
   "id": "5a85310d",
   "metadata": {},
   "outputs": [
    {
     "name": "stdout",
     "output_type": "stream",
     "text": [
      "a, b, c, "
     ]
    }
   ],
   "source": [
    "for i in range(0,3):\n",
    "    print(alph_lst[i], end=\", \")\n",
    "    "
   ]
  },
  {
   "cell_type": "code",
   "execution_count": 12,
   "id": "8c48f367",
   "metadata": {},
   "outputs": [
    {
     "data": {
      "text/plain": [
       "['e', 'f', 'g']"
      ]
     },
     "execution_count": 12,
     "metadata": {},
     "output_type": "execute_result"
    }
   ],
   "source": [
    "#  Print any three letters from the middle i\n",
    "alph_lst[4:7]"
   ]
  },
  {
   "cell_type": "code",
   "execution_count": 13,
   "id": "d71e6e43",
   "metadata": {},
   "outputs": [
    {
     "data": {
      "text/plain": [
       "['e', 'f', 'g', 'h', 'i', 'j']"
      ]
     },
     "execution_count": 13,
     "metadata": {},
     "output_type": "execute_result"
    }
   ],
   "source": [
    "#  Print the letters from any particular index to the end of the list\n",
    "alph_lst[4: ]"
   ]
  },
  {
   "cell_type": "markdown",
   "id": "520ad811",
   "metadata": {},
   "source": [
    "Excercise 02: Write a program using reduce () function to calculate the sum of first 10 natural numbers"
   ]
  },
  {
   "cell_type": "code",
   "execution_count": 1,
   "id": "71e3c942",
   "metadata": {},
   "outputs": [
    {
     "name": "stdout",
     "output_type": "stream",
     "text": [
      "Sum of the values in list: \n",
      "55\n"
     ]
    }
   ],
   "source": [
    "from functools import reduce\n",
    "def add(num1, num2):\n",
    "    return num1 + num2\n",
    "\n",
    "num_lst = [1, 2, 3, 4, 5, 6, 7, 8, 9, 10]\n",
    "\n",
    "print(\"Sum of the values in list: \")\n",
    "print(reduce(add, num_lst))"
   ]
  },
  {
   "cell_type": "markdown",
   "id": "083bf8ec",
   "metadata": {},
   "source": [
    "Excercise 03: Write a program that creates a list [\"a\", \"b\", \"c\"], then create a tuple from that list. Now do the opposite. That is, create the tuple(\"a\", \"b\", \"c\") and then create a list from it"
   ]
  },
  {
   "cell_type": "code",
   "execution_count": 2,
   "id": "cc856e92",
   "metadata": {},
   "outputs": [],
   "source": [
    "lst = [\"a\", \"b\", \"c\"]\n",
    "\n",
    "#create a tuple from that list \n",
    "tple = tuple(lst)\n",
    "\n",
    "#create a list from that tuple \n",
    "lst = list(tple)"
   ]
  },
  {
   "cell_type": "code",
   "execution_count": 4,
   "id": "e29eb972",
   "metadata": {},
   "outputs": [
    {
     "data": {
      "text/plain": [
       "('a', 'b', 'c')"
      ]
     },
     "execution_count": 4,
     "metadata": {},
     "output_type": "execute_result"
    }
   ],
   "source": [
    "tple"
   ]
  },
  {
   "cell_type": "code",
   "execution_count": 5,
   "id": "137c09c0",
   "metadata": {},
   "outputs": [
    {
     "data": {
      "text/plain": [
       "['a', 'b', 'c']"
      ]
     },
     "execution_count": 5,
     "metadata": {},
     "output_type": "execute_result"
    }
   ],
   "source": []
  },
  {
   "cell_type": "code",
   "execution_count": 6,
   "id": "5c8032ba",
   "metadata": {},
   "outputs": [
    {
     "data": {
      "text/plain": [
       "['a', 'b', 'c']"
      ]
     },
     "execution_count": 6,
     "metadata": {},
     "output_type": "execute_result"
    }
   ],
   "source": [
    "lst"
   ]
  },
  {
   "cell_type": "markdown",
   "id": "219e6511",
   "metadata": {},
   "source": [
    "Excerise 04: Create a tuple that has just one element which in turn may have three elements \"a\", \"b\", \"c\". Print the length of this tuple"
   ]
  },
  {
   "cell_type": "code",
   "execution_count": 7,
   "id": "25c2f398",
   "metadata": {},
   "outputs": [],
   "source": [
    "tple = tuple(\"abc\")"
   ]
  },
  {
   "cell_type": "code",
   "execution_count": 8,
   "id": "165e1f1c",
   "metadata": {},
   "outputs": [
    {
     "data": {
      "text/plain": [
       "('a', 'b', 'c')"
      ]
     },
     "execution_count": 8,
     "metadata": {},
     "output_type": "execute_result"
    }
   ],
   "source": [
    "tple"
   ]
  },
  {
   "cell_type": "code",
   "execution_count": 9,
   "id": "5cbf1110",
   "metadata": {},
   "outputs": [
    {
     "data": {
      "text/plain": [
       "3"
      ]
     },
     "execution_count": 9,
     "metadata": {},
     "output_type": "execute_result"
    }
   ],
   "source": [
    "len(tple)"
   ]
  },
  {
   "cell_type": "markdown",
   "id": "13e04d40",
   "metadata": {},
   "source": [
    "Excercise 05: Create a dictionary of products purchased and their MRPs. Calculate the bill and display to the customer"
   ]
  },
  {
   "cell_type": "code",
   "execution_count": 21,
   "id": "cc5524f5",
   "metadata": {},
   "outputs": [
    {
     "name": "stdout",
     "output_type": "stream",
     "text": [
      "Product bill :  57000\n"
     ]
    }
   ],
   "source": [
    "product = {\"laptop\": 50000, \"mouse\": 2000, \"Keyboard\": 5000}\n",
    "sum = 0\n",
    "for key, value in product.items():\n",
    "    sum += value\n",
    "\n",
    "print(\"Product bill : \", sum)\n",
    "    "
   ]
  },
  {
   "cell_type": "markdown",
   "id": "137bcb70",
   "metadata": {},
   "source": [
    "Excercise 05: Create an empty dictionary named captains.\n"
   ]
  },
  {
   "cell_type": "code",
   "execution_count": 1,
   "id": "474f6a3d",
   "metadata": {},
   "outputs": [],
   "source": [
    "#create empty dictionary\n",
    "captains = {}"
   ]
  },
  {
   "cell_type": "code",
   "execution_count": 2,
   "id": "081ae243",
   "metadata": {},
   "outputs": [
    {
     "data": {
      "text/plain": [
       "{}"
      ]
     },
     "execution_count": 2,
     "metadata": {},
     "output_type": "execute_result"
    }
   ],
   "source": [
    "captains"
   ]
  },
  {
   "cell_type": "markdown",
   "id": "ae3a5d89",
   "metadata": {},
   "source": [
    "Excercise 06: Using the square bracket notation, enter the following data into the dictionary, one item at a time: \n",
    "'Enterprise': 'Picard'\n",
    "'Voyager': 'Janeway'\n",
    "'Defiant': 'Sisko'"
   ]
  },
  {
   "cell_type": "code",
   "execution_count": 11,
   "id": "94d4c0df",
   "metadata": {},
   "outputs": [],
   "source": [
    "dic = {\n",
    "'Enterprise': 'Picard',\n",
    "'Voyager': 'Janeway',\n",
    "'Defiant': 'Sisko'\n",
    "}"
   ]
  },
  {
   "cell_type": "code",
   "execution_count": 5,
   "id": "c064664e",
   "metadata": {},
   "outputs": [
    {
     "data": {
      "text/plain": [
       "{'Enterprise': 'Picard', 'Voyager': 'Janeway', 'Defiant': 'Sisko'}"
      ]
     },
     "execution_count": 5,
     "metadata": {},
     "output_type": "execute_result"
    }
   ],
   "source": [
    "dic"
   ]
  },
  {
   "cell_type": "code",
   "execution_count": 13,
   "id": "b24d891f",
   "metadata": {},
   "outputs": [
    {
     "name": "stdout",
     "output_type": "stream",
     "text": [
      "The value of Enterprise is Picard\n"
     ]
    }
   ],
   "source": [
    "if \"Enterprise\" in dic:\n",
    "    print(f\"The value of Enterprise is {dic['Enterprise']}\")\n",
    "else:\n",
    "    dic[\"Enterprise\"] = \"Unknown\"\n",
    "    \n",
    "if \"Discovery\" in dic: \n",
    "     print(f\"The value of Enterprise is {dic['Enterprise']}\")\n",
    "else:\n",
    "    dic[\"Discovery\"] = \"Unknown\""
   ]
  },
  {
   "cell_type": "markdown",
   "id": "3946359a",
   "metadata": {},
   "source": [
    "Excercise 07: Write a for loop to display the ship and captain names contained\n",
    "in the dictionary. For example, the output should look something\n",
    "like this: The Enterprise is captained by Picard."
   ]
  },
  {
   "cell_type": "code",
   "execution_count": 14,
   "id": "d065fdaf",
   "metadata": {},
   "outputs": [
    {
     "name": "stdout",
     "output_type": "stream",
     "text": [
      "The Enterprise is captained by Picard \n",
      "The Voyager is captained by Janeway \n",
      "The Defiant is captained by Sisko \n",
      "The Discovery is captained by Unknown \n"
     ]
    }
   ],
   "source": [
    "for ship_name, captain_name in dic.items():\n",
    "    print(f\"The {ship_name} is captained by {captain_name} \")"
   ]
  },
  {
   "cell_type": "code",
   "execution_count": 15,
   "id": "13128857",
   "metadata": {},
   "outputs": [],
   "source": [
    "# delete \"Discovery\" from the dictionary\n",
    "del dic[\"Discovery\"]"
   ]
  },
  {
   "cell_type": "code",
   "execution_count": 16,
   "id": "f9e84ea5",
   "metadata": {},
   "outputs": [
    {
     "data": {
      "text/plain": [
       "{'Enterprise': 'Picard', 'Voyager': 'Janeway', 'Defiant': 'Sisko'}"
      ]
     },
     "execution_count": 16,
     "metadata": {},
     "output_type": "execute_result"
    }
   ],
   "source": [
    "dic"
   ]
  },
  {
   "cell_type": "code",
   "execution_count": 18,
   "id": "19dcc23c",
   "metadata": {},
   "outputs": [],
   "source": [
    "key_value_pairs = (\n",
    "    ('Enterprise', 'Picard'),\n",
    "    ('Voyager', 'Janeway'),\n",
    "    ('Defiant', 'Sisko'),\n",
    ")"
   ]
  },
  {
   "cell_type": "code",
   "execution_count": 19,
   "id": "e79d8022",
   "metadata": {},
   "outputs": [],
   "source": [
    "ships = dict(key_value_pairs)"
   ]
  },
  {
   "cell_type": "code",
   "execution_count": 20,
   "id": "8a41367c",
   "metadata": {},
   "outputs": [
    {
     "data": {
      "text/plain": [
       "{'Enterprise': 'Picard', 'Voyager': 'Janeway', 'Defiant': 'Sisko'}"
      ]
     },
     "execution_count": 20,
     "metadata": {},
     "output_type": "execute_result"
    }
   ],
   "source": [
    "ships"
   ]
  },
  {
   "cell_type": "code",
   "execution_count": null,
   "id": "897a8745",
   "metadata": {},
   "outputs": [],
   "source": []
  }
 ],
 "metadata": {
  "kernelspec": {
   "display_name": "Python 3 (ipykernel)",
   "language": "python",
   "name": "python3"
  },
  "language_info": {
   "codemirror_mode": {
    "name": "ipython",
    "version": 3
   },
   "file_extension": ".py",
   "mimetype": "text/x-python",
   "name": "python",
   "nbconvert_exporter": "python",
   "pygments_lexer": "ipython3",
   "version": "3.10.6"
  }
 },
 "nbformat": 4,
 "nbformat_minor": 5
}
