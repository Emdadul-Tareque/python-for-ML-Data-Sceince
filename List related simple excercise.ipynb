{
 "cells": [
  {
   "cell_type": "markdown",
   "id": "cc60b8f4",
   "metadata": {},
   "source": [
    "Problem 01: Create a list of ﬁve elements. Pass the list to a function and compute the average of ﬁve numbers."
   ]
  },
  {
   "cell_type": "code",
   "execution_count": 3,
   "id": "88f1343d",
   "metadata": {},
   "outputs": [
    {
     "name": "stdout",
     "output_type": "stream",
     "text": [
      "List:  [1, 2, 3, 4, 5]\n",
      "Average :  3.0\n"
     ]
    }
   ],
   "source": [
    "def average(lst):\n",
    "    print(\"List: \", lst)\n",
    "    avg = sum(lst)/len(lst)\n",
    "    return avg\n",
    "\n",
    "lst = [1, 2, 3, 4, 5]    \n",
    "avrg = average(lst)\n",
    "print(\"Average : \", avrg)"
   ]
  },
  {
   "cell_type": "markdown",
   "id": "674d85c7",
   "metadata": {},
   "source": [
    "Problem 02: Write a function that accepts two positive integers, viz. a and b and returns a list of all the even numbers between a and b (including a and not including b)."
   ]
  },
  {
   "cell_type": "code",
   "execution_count": 8,
   "id": "44222b1d",
   "metadata": {},
   "outputs": [
    {
     "name": "stdout",
     "output_type": "stream",
     "text": [
      "[10, 12, 14, 16, 18]\n"
     ]
    }
   ],
   "source": [
    "def even_number_lst(start, end):\n",
    "    lst = list(range(start, end))\n",
    "    even_lst = []\n",
    "#     even_lst = lst[::2]\n",
    "    for item in lst:\n",
    "        if item % 2 == 0:\n",
    "            even_lst.append(item)        \n",
    "    return even_lst\n",
    "print(even_number_lst(10, 20))"
   ]
  },
  {
   "cell_type": "markdown",
   "id": "1d1ef1f5",
   "metadata": {},
   "source": [
    "Problem 03: Write a function is_Lst_Palindrome(Lst) to check whether a list is palindrome. It should return True  if Lst is palindrome and False if Lst is not palindrome"
   ]
  },
  {
   "cell_type": "code",
   "execution_count": 29,
   "id": "15aca0fa",
   "metadata": {},
   "outputs": [
    {
     "name": "stdout",
     "output_type": "stream",
     "text": [
      "[1, 2, 3, 2, 1] : is a palindrome list\n"
     ]
    }
   ],
   "source": [
    "def is_lst_palindrome(lst):\n",
    "    reverse_lst = lst[::-1]\n",
    "    if lst == reverse_lst:\n",
    "        print(lst, \": is a palindrome list\")\n",
    "    else:\n",
    "        print(lst, \": is not a palindrome list\")\n",
    "is_lst_palindrome([1,2,3,2,1])\n",
    "    "
   ]
  },
  {
   "cell_type": "markdown",
   "id": "161f949c",
   "metadata": {},
   "source": [
    "Program 04: Write a function check_duplicate(Lst) which returns True if a list Lst contains duplicate elements. It should return False, if all the elements in the list Lst are unique."
   ]
  },
  {
   "cell_type": "code",
   "execution_count": 55,
   "id": "7fc0ea93",
   "metadata": {},
   "outputs": [
    {
     "name": "stdout",
     "output_type": "stream",
     "text": [
      "[1, 2, 3, 4, 5, 2, 1, 7, 8] False\n",
      "[1, 2, 3, 4, 5] True\n"
     ]
    }
   ],
   "source": [
    "def check_duplicate(lst):\n",
    "    lst_len = len(lst)\n",
    "    flag = 0\n",
    "    for i in range(lst_len):\n",
    "        for j in range(i, lst_len-1):\n",
    "            if lst[i] == lst[j+1]:\n",
    "                flag += 1\n",
    "                return False\n",
    "     \n",
    "    return True\n",
    "\n",
    "#Sample Test: \n",
    "lst = [1, 2, 3, 4, 5, 2, 1, 7, 8]\n",
    "print(lst, end=\" \")\n",
    "print(check_duplicate(lst))\n",
    "\n",
    "lst1 = [1, 2, 3, 4, 5]\n",
    "print(lst1, end=\" \")\n",
    "print(check_duplicate(lst1))"
   ]
  },
  {
   "cell_type": "code",
   "execution_count": 58,
   "id": "61cd6f34",
   "metadata": {},
   "outputs": [
    {
     "name": "stdout",
     "output_type": "stream",
     "text": [
      "[1, 2, 3, 4, 5, 2, 1, 7, 8] True\n",
      "[1, 2, 3, 4, 5] False\n"
     ]
    }
   ],
   "source": [
    "# Different way\n",
    "\n",
    "def check_duplicate(lst):\n",
    "    dup_lst = []\n",
    "    for i in lst:\n",
    "        if i not in dup_lst:\n",
    "            dup_lst.append(i)\n",
    "        else:\n",
    "            return True\n",
    "    return False\n",
    "\n",
    "#Sample Test: \n",
    "lst = [1, 2, 3, 4, 5, 2, 1, 7, 8]\n",
    "print(lst, end=\" \")\n",
    "print(check_duplicate(lst))\n",
    "\n",
    "lst1 = [1, 2, 3, 4, 5]\n",
    "print(lst1, end=\" \")\n",
    "print(check_duplicate(lst1))"
   ]
  },
  {
   "cell_type": "markdown",
   "id": "608d136e",
   "metadata": {},
   "source": [
    "Program 05: Write a program to return prime numbers from a list."
   ]
  },
  {
   "cell_type": "code",
   "execution_count": 94,
   "id": "c06cc785",
   "metadata": {},
   "outputs": [
    {
     "name": "stdout",
     "output_type": "stream",
     "text": [
      "not prime\n"
     ]
    }
   ],
   "source": [
    "import math\n",
    "def is_prime(n):\n",
    "    if n == 2:\n",
    "        return \"prime\"\n",
    "    else:\n",
    "\n",
    "        for i in range(2, n+1):\n",
    "            if i!= n and n % i == 0:\n",
    "                return \"not prime\"\n",
    "            else:\n",
    "                return \"prime\"\n",
    "        \n",
    "    \n",
    "print(is_prime(4))"
   ]
  },
  {
   "cell_type": "code",
   "execution_count": null,
   "id": "9b0c55cc",
   "metadata": {},
   "outputs": [],
   "source": []
  }
 ],
 "metadata": {
  "kernelspec": {
   "display_name": "Python 3 (ipykernel)",
   "language": "python",
   "name": "python3"
  },
  "language_info": {
   "codemirror_mode": {
    "name": "ipython",
    "version": 3
   },
   "file_extension": ".py",
   "mimetype": "text/x-python",
   "name": "python",
   "nbconvert_exporter": "python",
   "pygments_lexer": "ipython3",
   "version": "3.10.6"
  }
 },
 "nbformat": 4,
 "nbformat_minor": 5
}
