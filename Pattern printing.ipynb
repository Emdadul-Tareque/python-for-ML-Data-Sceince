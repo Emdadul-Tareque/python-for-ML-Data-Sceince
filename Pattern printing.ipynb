{
 "cells": [
  {
   "cell_type": "raw",
   "id": "e50a3048",
   "metadata": {},
   "source": [
    "Problem 01: Print Character Pattern \n",
    "A\n",
    "B C\n",
    "D E F\n",
    "G H I J"
   ]
  },
  {
   "cell_type": "code",
   "execution_count": 8,
   "id": "9022235c",
   "metadata": {},
   "outputs": [
    {
     "name": "stdout",
     "output_type": "stream",
     "text": [
      "Print Character Pattern\n",
      "A \n",
      "B C \n",
      "D E F \n",
      "G H I J \n"
     ]
    }
   ],
   "source": [
    "print(\"Print Character Pattern\", end=\"\")\n",
    "char = 64\n",
    "for i in range(5):\n",
    "    for j in range(1, i+1):\n",
    "        print(chr(char+1), end=\" \")\n",
    "        char+=1\n",
    "    print()"
   ]
  },
  {
   "cell_type": "raw",
   "id": "f79f757e",
   "metadata": {},
   "source": [
    "Problem 02:  Hollow Rectangle Pattern\n",
    "*****\n",
    "*   *\n",
    "*   *\n",
    "*****"
   ]
  },
  {
   "cell_type": "code",
   "execution_count": 59,
   "id": "18ad27b5",
   "metadata": {},
   "outputs": [
    {
     "name": "stdout",
     "output_type": "stream",
     "text": [
      "Hollow Rectangle pattern\n",
      "* * * * * \n",
      "*       * \n",
      "*       * \n",
      "* * * * * \n"
     ]
    }
   ],
   "source": [
    "print(\"Hollow Rectangle pattern\")\n",
    "\n",
    "def hollow_rectangle(total_rows, total_colums):\n",
    "    for i in range(1, total_rows+1):\n",
    "        for j in range(1, total_colums+1):\n",
    "           \n",
    "            if i==1 or i==total_rows or j==1 or j==total_colums:\n",
    "                \n",
    "                print(\"*\", end=\" \")\n",
    "            else:\n",
    "                print(\" \", end=\" \")\n",
    "        print()\n",
    "\n",
    "hollow_rectangle(4,5)"
   ]
  },
  {
   "cell_type": "raw",
   "id": "1100fa06",
   "metadata": {},
   "source": [
    "Problem 03: Inverted and Rotated half-pyramid\n",
    "      *\n",
    "    * *  \n",
    "  * * *\n",
    "* * * *"
   ]
  },
  {
   "cell_type": "code",
   "execution_count": 1,
   "id": "2f74bee4",
   "metadata": {},
   "outputs": [
    {
     "name": "stdout",
     "output_type": "stream",
     "text": [
      "Inverted and Rotated half-pyramid\n",
      "            * \n",
      "          * * \n",
      "        * * * \n",
      "      * * * * \n",
      "    * * * * * \n",
      "  * * * * * * \n",
      "* * * * * * * \n"
     ]
    }
   ],
   "source": [
    "print(\"Inverted and Rotated half-pyramid\")\n",
    "\n",
    "def inverted_roated_half_pyramid(total_rows, total_columns):\n",
    "    for i in range(1, total_rows+1):\n",
    "        n = total_columns-i\n",
    "        \n",
    "        for j in range(1, n+1):\n",
    "            print(\" \", end = \" \")\n",
    "        for j in range(1, i+1):\n",
    "            print(\"*\", end = \" \")\n",
    "            \n",
    "        print()\n",
    "\n",
    "inverted_roated_half_pyramid(7,7)"
   ]
  },
  {
   "cell_type": "code",
   "execution_count": 36,
   "id": "dfe6c861",
   "metadata": {},
   "outputs": [
    {
     "name": "stdout",
     "output_type": "stream",
     "text": [
      "           *\n",
      "         * *\n",
      "       * * *\n",
      "     * * * *\n",
      "   * * * * *\n",
      " * * * * * *\n"
     ]
    }
   ],
   "source": [
    "def print_pattern(n, m):\n",
    "  for i in range(1, n+1):\n",
    "    n = m - i\n",
    "    print(\"  \" *n, end=\"\")\n",
    "    print(\" *\" * i)\n",
    "\n",
    "if __name__ == \"__main__\":\n",
    "    print_pattern(6, 6)"
   ]
  },
  {
   "cell_type": "raw",
   "id": "cc4c2252",
   "metadata": {},
   "source": [
    "Problem 04: Inverted half-pyramid with numbers\n",
    "\n",
    "1 2 3 4 5\n",
    "1 2 3 4\n",
    "1 2 3\n",
    "1 2\n",
    "1"
   ]
  },
  {
   "cell_type": "code",
   "execution_count": 123,
   "id": "c767b94b",
   "metadata": {},
   "outputs": [
    {
     "name": "stdout",
     "output_type": "stream",
     "text": [
      "Inverted half-pyramid with numbers\n",
      "1 2 3 4 5 6 7 8 9 10 \n",
      "1 2 3 4 5 6 7 8 9 \n",
      "1 2 3 4 5 6 7 8 \n",
      "1 2 3 4 5 6 7 \n",
      "1 2 3 4 5 6 \n",
      "1 2 3 4 5 \n",
      "1 2 3 4 \n",
      "1 2 3 \n",
      "1 2 \n",
      "1 \n"
     ]
    }
   ],
   "source": [
    "print(\"Inverted half-pyramid with numbers\")\n",
    "\n",
    "def inverted_half_pyramid_with_numbers(total_rows, total_columns):\n",
    "    for i in range(1, total_rows+1):\n",
    "        inner_loop_terminator = total_columns-i+1\n",
    "        for j in range(1, inner_loop_terminator+1):\n",
    "            print(j, end=\" \")    \n",
    "        print()\n",
    "    \n",
    "inverted_half_pyramid_with_numbers(10,10)\n",
    "\n"
   ]
  },
  {
   "cell_type": "raw",
   "id": "f9cf91d2",
   "metadata": {},
   "source": [
    "Problem 05: Floyd Triangle \n",
    "1\n",
    "2  3\n",
    "4  5  6\n",
    "7  8  9  10\n",
    "11 12 13 15 "
   ]
  },
  {
   "cell_type": "code",
   "execution_count": 183,
   "id": "2a4666b7",
   "metadata": {},
   "outputs": [
    {
     "name": "stdout",
     "output_type": "stream",
     "text": [
      "Flyd triangle pattern print\n",
      "1 \n",
      "2 3 \n",
      "4 5 6 \n",
      "7 8 9 10 \n",
      "11 12 13 14 15 \n"
     ]
    }
   ],
   "source": [
    "print(\"Flyd triangle pattern print\")\n",
    "def floyd_triangle(total_rows):\n",
    "    counter = 1\n",
    "    for i in range(1, total_rows+1):\n",
    "        for j in range(1, i+1):\n",
    "            print(counter, end=\" \")\n",
    "            counter += 1\n",
    "        print()\n",
    "floyd_triangle(5)"
   ]
  },
  {
   "cell_type": "raw",
   "id": "9df16f1b",
   "metadata": {},
   "source": [
    "Problem 06: 0-1 Triangle\n",
    "1\n",
    "0 1\n",
    "1 0 1\n",
    "0 1 0 1\n",
    "1 0 1 0 1"
   ]
  },
  {
   "cell_type": "code",
   "execution_count": 189,
   "id": "04f1eb37",
   "metadata": {
    "scrolled": false
   },
   "outputs": [
    {
     "name": "stdout",
     "output_type": "stream",
     "text": [
      "problem: 0-1 Triangle\n",
      "1 \n",
      "0 1 \n",
      "1 0 1 \n",
      "0 1 0 1 \n",
      "1 0 1 0 1 \n"
     ]
    }
   ],
   "source": [
    "print(\"problem: 0-1 Triangle\")\n",
    "\n",
    "def zero_one_triangle(total_rows):\n",
    "    for i in range(total_rows):\n",
    "        for j in range(i+1):\n",
    "            n = i + j\n",
    "            if n%2 == 0:\n",
    "                print(\"1\", end=\" \")\n",
    "            else:\n",
    "                print(\"0\", end=\" \")\n",
    "        print()\n",
    "zero_one_triangle(5)"
   ]
  },
  {
   "cell_type": "code",
   "execution_count": 185,
   "id": "3554e06b",
   "metadata": {},
   "outputs": [
    {
     "name": "stdout",
     "output_type": "stream",
     "text": [
      "Enter the number of rows for the triangle pattern: 5\n",
      "0 \n",
      "1 0 \n",
      "0 1 0 \n",
      "1 0 1 0 \n",
      "0 1 0 1 0 \n"
     ]
    }
   ],
   "source": [
    "def print_triangle_pattern(n):\n",
    "    for i in range(n):\n",
    "        for j in range(i + 1):\n",
    "            print((i + j) % 2, end=\" \")\n",
    "        print()\n",
    "\n",
    "# Example usage\n",
    "n = int(input(\"Enter the number of rows for the triangle pattern: \"))\n",
    "print_triangle_pattern(n)\n"
   ]
  },
  {
   "cell_type": "raw",
   "id": "e3da5613",
   "metadata": {},
   "source": [
    "Problem 07: Butterfly Pattern\n",
    "*                 * \n",
    "* *             * * \n",
    "* * *         * * * \n",
    "* * * *     * * * * \n",
    "* * * * * * * * * * \n",
    "* * * * * * * * * * \n",
    "* * * *     * * * * \n",
    "* * *         * * * \n",
    "* *             * * \n",
    "*                 * "
   ]
  },
  {
   "cell_type": "code",
   "execution_count": 172,
   "id": "d1cf921c",
   "metadata": {},
   "outputs": [
    {
     "name": "stdout",
     "output_type": "stream",
     "text": [
      "*                 * \n",
      "* *             * * \n",
      "* * *         * * * \n",
      "* * * *     * * * * \n",
      "* * * * * * * * * * \n",
      "* * * * * * * * * * \n",
      "* * * *     * * * * \n",
      "* * *         * * * \n",
      "* *             * * \n",
      "*                 * \n"
     ]
    }
   ],
   "source": [
    "\n",
    "def butterfly_patters(total_rows):\n",
    "    \n",
    "    for i in range(1, total_rows+1):\n",
    "        loop_terminator = 2*(total_rows-i)\n",
    "        for j in range(1, i+1):\n",
    "            print(\"*\", end=\" \")\n",
    "        for j in range(1, loop_terminator+1):\n",
    "            print(\" \", end=\" \")\n",
    "        for j in range(1, i+1):\n",
    "            print(\"*\", end=\" \")\n",
    "        print()\n",
    "    \n",
    "    \n",
    "    for i in range(total_rows, 0, -1):\n",
    "        loop_terminator = 2*(total_rows-i)\n",
    "        for j in range(1, i+1):\n",
    "            print(\"*\", end=\" \")\n",
    "        for j in range(1, loop_terminator+1):\n",
    "            print(\" \", end=\" \")\n",
    "        for j in range(1, i+1):\n",
    "            print(\"*\", end=\" \")\n",
    "        print()\n",
    "   \n",
    "butterfly_patters(5)\n"
   ]
  },
  {
   "cell_type": "code",
   "execution_count": 174,
   "id": "ee9e3689",
   "metadata": {},
   "outputs": [
    {
     "name": "stdout",
     "output_type": "stream",
     "text": [
      "Enter the number of rows for the butterfly pattern: 5\n",
      "*        *\n",
      "**      **\n",
      "***    ***\n",
      "****  ****\n",
      "**********\n",
      "**********\n",
      "****  ****\n",
      "***    ***\n",
      "**      **\n",
      "*        *\n"
     ]
    }
   ],
   "source": [
    "def print_butterfly_pattern(rows):\n",
    "    # Upper half of the butterfly pattern\n",
    "    for i in range(1, rows + 1):\n",
    "        for j in range(1, 2 * rows + 1):\n",
    "            if j <= i or j > 2 * rows - i:\n",
    "                print(\"*\", end=\"\")\n",
    "            else:\n",
    "                print(\" \", end=\"\")\n",
    "        print()\n",
    "    \n",
    "    # Lower half of the butterfly pattern\n",
    "    for i in range(rows, 0, -1):\n",
    "        for j in range(1, 2 * rows + 1):\n",
    "            if j <= i or j > 2 * rows - i:\n",
    "                print(\"*\", end=\"\")\n",
    "            else:\n",
    "                print(\" \", end=\"\")\n",
    "        print()\n",
    "\n",
    "# Test the function\n",
    "num_rows = int(input(\"Enter the number of rows for the butterfly pattern: \"))\n",
    "print_butterfly_pattern(num_rows)\n"
   ]
  },
  {
   "cell_type": "code",
   "execution_count": 176,
   "id": "864632d3",
   "metadata": {},
   "outputs": [
    {
     "name": "stdout",
     "output_type": "stream",
     "text": [
      "*          *\n",
      "**        **\n",
      "***      ***\n",
      "****    ****\n",
      "*****  *****\n",
      "************\n",
      "************\n",
      "*****  *****\n",
      "****    ****\n",
      "***      ***\n",
      "**        **\n",
      "*          *\n"
     ]
    }
   ],
   "source": [
    "def butterfly_pattern(n):\n",
    "  for i in range(1, n + 1):\n",
    "    print(\"*\" * i, end=\"\")\n",
    "    print(\" \" * (n - i) * 2, end=\"\")\n",
    "    print(\"*\" * i)\n",
    "  for i in range(n, 0, -1):\n",
    "    print(\"*\" * i, end=\"\")\n",
    "    print(\" \" * (n - i) * 2, end=\"\")\n",
    "    print(\"*\" * i)\n",
    "\n",
    "if __name__ == \"__main__\":\n",
    "  n = 6\n",
    "  butterfly_pattern(n)"
   ]
  },
  {
   "cell_type": "code",
   "execution_count": 22,
   "id": "1b15dada",
   "metadata": {},
   "outputs": [
    {
     "name": "stdout",
     "output_type": "stream",
     "text": [
      " *                          * \n",
      " *  *                    *  * \n",
      " *  *  *              *  *  * \n",
      " *  *  *  *        *  *  *  * \n",
      " *  *  *  *  *  *  *  *  *  * \n",
      " *  *  *  *  *  *  *  *  *  * \n",
      " *  *  *  *        *  *  *  * \n",
      " *  *  *              *  *  * \n",
      " *  *                    *  * \n",
      " *                          * \n"
     ]
    }
   ],
   "source": [
    "def butterfly(n):\n",
    "    for i in range(1, n+1):\n",
    "        print(\" * \" * i, end=\"\")\n",
    "        print(\"   \"* 2*(n - i), end=\"\")\n",
    "        print(\" * \" * i)\n",
    "    for i in range(n, 0, -1):\n",
    "        print(\" * \" * i, end=\"\")\n",
    "        print(\"   \"* 2*(n - i), end=\"\")\n",
    "        print(\" * \" * i)\n",
    "\n",
    "        \n",
    "if __name__ == \"__main__\":\n",
    "    butterfly(5)\n",
    "    "
   ]
  },
  {
   "cell_type": "raw",
   "id": "a0da3b43",
   "metadata": {},
   "source": [
    "problem 08: rombus pattern\n",
    " \n",
    "        * * * * *\n",
    "      * * * * *\n",
    "    * * * * *\n",
    "  * * * * *"
   ]
  },
  {
   "cell_type": "code",
   "execution_count": 23,
   "id": "f0185960",
   "metadata": {},
   "outputs": [
    {
     "name": "stdout",
     "output_type": "stream",
     "text": [
      "          * * * * *\n",
      "        * * * * *\n",
      "      * * * * *\n",
      "    * * * * *\n",
      "  * * * * *\n"
     ]
    }
   ],
   "source": [
    "def rombus(n):\n",
    "    for i in range(1, n+1):\n",
    "        space = n - i\n",
    "        print(\"  \" * space, end=\" \")\n",
    "        print(\" *\" * 5)\n",
    "rombus(5)"
   ]
  },
  {
   "cell_type": "raw",
   "id": "c4f3c778",
   "metadata": {},
   "source": [
    "Problem 9: Hollow rombus\n",
    "         * * * * * \n",
    "       *       * \n",
    "     *       * \n",
    "   *       * \n",
    " * * * * * \n"
   ]
  },
  {
   "cell_type": "code",
   "execution_count": 24,
   "id": "cbd81674",
   "metadata": {},
   "outputs": [
    {
     "name": "stdout",
     "output_type": "stream",
     "text": [
      "         * * * * * \n",
      "       *       * \n",
      "     *       * \n",
      "   *       * \n",
      " * * * * * \n"
     ]
    }
   ],
   "source": [
    "def hollow_rombus(n):\n",
    "    for i in range(1, n+1):\n",
    "        space = n - i\n",
    "        print(\"  \" * space, end=\" \")\n",
    "        \n",
    "        for j in range(1, n+1):\n",
    "            if i==1 or i == n or j==1 or j==n:\n",
    "                \n",
    "                print(\"*\", end=\" \")\n",
    "            else:\n",
    "                print(\"  \", end=\"\")\n",
    "        print()\n",
    "            \n",
    "hollow_rombus(5)"
   ]
  },
  {
   "cell_type": "raw",
   "id": "6e8064f0",
   "metadata": {},
   "source": [
    "Problem 10: Dimond Pattern\n",
    "    *\n",
    "   ***\n",
    "  *****\n",
    " *******\n",
    " *******\n",
    "  *****\n",
    "   ***\n",
    "    *"
   ]
  },
  {
   "cell_type": "code",
   "execution_count": 25,
   "id": "01afb972",
   "metadata": {
    "scrolled": true
   },
   "outputs": [
    {
     "name": "stdout",
     "output_type": "stream",
     "text": [
      "    *\n",
      "   ***\n",
      "  *****\n",
      " *******\n",
      " *******\n",
      "  *****\n",
      "   ***\n",
      "    *\n"
     ]
    }
   ],
   "source": [
    "def dimond_pattern(n):\n",
    "    \n",
    "    for i in range(1, n+1):\n",
    "        star = 2*i - 1\n",
    "        space = n - i\n",
    "        print(\" \" * space, end=\" \")\n",
    "        print(\"*\" * star)\n",
    "    for i in range(n, 0, -1):\n",
    "        star = 2*i - 1\n",
    "        space = n - i\n",
    "        print(\" \" * space, end=\" \")\n",
    "        print(\"*\" * star)\n",
    "        \n",
    "dimond_pattern(4)"
   ]
  },
  {
   "cell_type": "raw",
   "id": "4990fffd",
   "metadata": {},
   "source": [
    "Problem 11: Hollow inverted Half pyramid pattern\n",
    "* * * * * * * * \n",
    "*           *   \n",
    "*         *     \n",
    "*       *       \n",
    "*     *         \n",
    "*   *           \n",
    "* *             \n",
    "*    "
   ]
  },
  {
   "cell_type": "code",
   "execution_count": 97,
   "id": "be433f64",
   "metadata": {},
   "outputs": [
    {
     "name": "stdout",
     "output_type": "stream",
     "text": [
      "Hollow Inverted Half Pyramid\n",
      "* * * * * * * * \n",
      "*           *   \n",
      "*         *     \n",
      "*       *       \n",
      "*     *         \n",
      "*   *           \n",
      "* *             \n",
      "*               \n"
     ]
    }
   ],
   "source": [
    "print(\"Hollow Inverted Half Pyramid\")\n",
    "\n",
    "def hollow_inverted_half_pyramid(n):\n",
    "    m = n+1\n",
    "    for i in range(1, n+1):\n",
    "        m -= 1\n",
    "        for j in range(1, n+1):\n",
    "            if i==1 or j == 1 or j == m:\n",
    "                print(\"*\", end=\" \")\n",
    "                \n",
    "            else:\n",
    "                print(\" \", end=\" \")\n",
    "        print()\n",
    "            \n",
    "            \n",
    "hollow_inverted_half_pyramid(8)\n",
    "    "
   ]
  },
  {
   "cell_type": "code",
   "execution_count": 96,
   "id": "c5c4fdae",
   "metadata": {},
   "outputs": [
    {
     "name": "stdout",
     "output_type": "stream",
     "text": [
      "* * * * * \n",
      "*     * \n",
      "*   * \n",
      "* * \n",
      "* \n"
     ]
    }
   ],
   "source": [
    "def hollow_inverted_half_pyramid(n):\n",
    "    for i in range(n, 0, -1):\n",
    "        for j in range(i):\n",
    "            if i==n or j == 0 or j == i - 1:\n",
    "                print(\"*\", end=\" \")\n",
    "            else:\n",
    "                print(\" \", end=\" \")\n",
    "        print()\n",
    "\n",
    "if __name__ == \"__main__\":\n",
    "    n = 5\n",
    "    hollow_inverted_half_pyramid(n)"
   ]
  },
  {
   "cell_type": "raw",
   "id": "76433fe8",
   "metadata": {},
   "source": [
    "Problem 12: Hollow full pyramid "
   ]
  },
  {
   "cell_type": "code",
   "execution_count": 139,
   "id": "c2987423",
   "metadata": {},
   "outputs": [
    {
     "name": "stdout",
     "output_type": "stream",
     "text": [
      "       1 \n",
      "      2 2 \n",
      "     3 3 3 \n",
      "    4 4 4 4 \n",
      "   5 5 5 5 5 \n",
      "  6 6 6 6 6 6 \n",
      " 7 7 7 7 7 7 7 \n"
     ]
    }
   ],
   "source": [
    "def number_pyramid(n):\n",
    "    for i in range(1, n+1):\n",
    "        print(\" \"*(n-i), end=\" \")\n",
    "        print((str(i)+\" \")*i,)\n",
    "number_pyramid(7)"
   ]
  },
  {
   "cell_type": "code",
   "execution_count": 141,
   "id": "ad3c759d",
   "metadata": {},
   "outputs": [
    {
     "data": {
      "text/plain": [
       "'7 '"
      ]
     },
     "execution_count": 141,
     "metadata": {},
     "output_type": "execute_result"
    }
   ],
   "source": [
    "str(7)+\" \""
   ]
  },
  {
   "cell_type": "raw",
   "id": "4b0fa2c9",
   "metadata": {},
   "source": [
    "Problem 13: Palindromic pattern with numbers"
   ]
  },
  {
   "cell_type": "code",
   "execution_count": 151,
   "id": "f1b945b1",
   "metadata": {},
   "outputs": [
    {
     "name": "stdout",
     "output_type": "stream",
     "text": [
      "    1\n",
      "   212\n",
      "  32123\n",
      " 4321234\n",
      "543212345\n"
     ]
    }
   ],
   "source": [
    "def palindormic_pattern(n):\n",
    "    for i in range(1, n+1):\n",
    "        print(\" \"*(n-i), end=\"\")\n",
    "        for j in range(i,0,-1):\n",
    "            print(j, end=\"\")\n",
    "        for k in range(2, i+1):\n",
    "            print(k,end=\"\" )\n",
    "        print()\n",
    "palindormic_pattern(5)"
   ]
  },
  {
   "cell_type": "raw",
   "id": "90df994e",
   "metadata": {},
   "source": [
    "Problem 14: "
   ]
  },
  {
   "cell_type": "code",
   "execution_count": 155,
   "id": "a8937425",
   "metadata": {},
   "outputs": [
    {
     "name": "stdout",
     "output_type": "stream",
     "text": [
      "1\n",
      "12\n",
      "123\n",
      "1234\n",
      "123\n",
      "12\n",
      "1\n"
     ]
    }
   ],
   "source": [
    "def pattern_printing(n):\n",
    "    for i in range(1, n+1):\n",
    "        for j in range(1, i+1):\n",
    "            print(j, end=\"\")\n",
    "        print()\n",
    "    for i in range(n-1,0,-1):\n",
    "        for j in range(1, i+1):\n",
    "            print(j, end=\"\")\n",
    "        print()\n",
    "pattern_printing(4)"
   ]
  },
  {
   "cell_type": "code",
   "execution_count": null,
   "id": "a0f0a547",
   "metadata": {},
   "outputs": [],
   "source": []
  }
 ],
 "metadata": {
  "kernelspec": {
   "display_name": "Python 3 (ipykernel)",
   "language": "python",
   "name": "python3"
  },
  "language_info": {
   "codemirror_mode": {
    "name": "ipython",
    "version": 3
   },
   "file_extension": ".py",
   "mimetype": "text/x-python",
   "name": "python",
   "nbconvert_exporter": "python",
   "pygments_lexer": "ipython3",
   "version": "3.10.6"
  }
 },
 "nbformat": 4,
 "nbformat_minor": 5
}
