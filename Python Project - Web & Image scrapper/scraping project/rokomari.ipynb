{
 "cells": [
  {
   "cell_type": "code",
   "execution_count": 1,
   "metadata": {},
   "outputs": [],
   "source": [
    "import requests\n",
    "from bs4 import BeautifulSoup as bs\n",
    "from urllib.request import urlopen"
   ]
  },
  {
   "cell_type": "code",
   "execution_count": null,
   "metadata": {},
   "outputs": [],
   "source": []
  },
  {
   "cell_type": "code",
   "execution_count": 3,
   "metadata": {},
   "outputs": [],
   "source": [
    "url = \"https://www.rokomari.com/search?term=python\""
   ]
  },
  {
   "cell_type": "code",
   "execution_count": 4,
   "metadata": {},
   "outputs": [],
   "source": [
    "response = requests.get(url)"
   ]
  },
  {
   "cell_type": "code",
   "execution_count": 5,
   "metadata": {},
   "outputs": [],
   "source": [
    "page = bs(response.text, 'html.parser')"
   ]
  },
  {
   "cell_type": "code",
   "execution_count": 25,
   "metadata": {},
   "outputs": [],
   "source": [
    "bigbox = page.findAll(\"div\", {'class' : \"books-wrapper__item\"})"
   ]
  },
  {
   "cell_type": "code",
   "execution_count": 28,
   "metadata": {},
   "outputs": [
    {
     "data": {
      "text/plain": [
       "60"
      ]
     },
     "execution_count": 28,
     "metadata": {},
     "output_type": "execute_result"
    }
   ],
   "source": [
    "len(bigbox)"
   ]
  },
  {
   "cell_type": "code",
   "execution_count": 50,
   "metadata": {},
   "outputs": [],
   "source": [
    "\n",
    "book_details_lst = []\n",
    "for i in bigbox:\n",
    "    try:\n",
    "        full_link = f\"https://www.rokomari.com{i.div.a['href']}\"\n",
    "        link_res = requests.get(full_link)\n",
    "        book_page = bs(link_res.text, 'html.parser')\n",
    "        title = book_page.find(\"div\", {'class' : 'details-book-main-info__header'}).h1.text\n",
    "        details = book_page.find(\"div\", {'class' : \"details-book-main-info__content\"})\n",
    "        author_name = details.p.a.text\n",
    "        category = details.div.p.span.text\n",
    "        wished_count = details.find('div', {'class': \"wished-customer-count\"}).p.text\n",
    "        price_details= details.find('div', {'class': \"details-book-info__content-book-price\"})\n",
    "        original_price = price_details.span.text\n",
    "        sell_price = price_details.strike.text\n",
    "        save_tk = price_details.find('span', {'class': \"js--save-message\"}).text\n",
    "        stock= details.find('figure', {'class': \"stock-available\"}).text\n",
    "        review_details= book_page.find('div', {'class': \"review-wrapper\"})\n",
    "        rating = review_details.find('div', {'class': 'review-wrapper__rating-summary'}).h3.text\n",
    "\n",
    "        \n",
    "    except:\n",
    "        pass\n",
    "    else:\n",
    "        book_details_lst.append([title, author_name, category, wished_count, original_price, sell_price,save_tk, stock, rating])\n",
    "        \n",
    "   "
   ]
  },
  {
   "cell_type": "code",
   "execution_count": 52,
   "metadata": {
    "scrolled": false
   },
   "outputs": [],
   "source": [
    "import csv\n",
    "field_names = [author_name, category, wished_count, original_price, sell_price,save_tk, stock, rating]\n",
    "\n",
    "with open(\"book_details.csv\", \"w\") as csvf:\n",
    "    csv_writer = csv.writer(csvf, delimiter=\",\",quoting = csv.QUOTE_MINIMAL)\n",
    "    csv_writer.writerow(field_names)\n",
    "    \n",
    "    csv_writer.writerows(book_details_lst)\n",
    "    "
   ]
  }
 ],
 "metadata": {
  "kernelspec": {
   "display_name": "Python 3",
   "language": "python",
   "name": "python3"
  },
  "language_info": {
   "codemirror_mode": {
    "name": "ipython",
    "version": 3
   },
   "file_extension": ".py",
   "mimetype": "text/x-python",
   "name": "python",
   "nbconvert_exporter": "python",
   "pygments_lexer": "ipython3",
   "version": "3.7.3"
  }
 },
 "nbformat": 4,
 "nbformat_minor": 5
}
