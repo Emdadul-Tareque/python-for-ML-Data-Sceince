{
 "cells": [
  {
   "cell_type": "code",
   "execution_count": 124,
   "id": "bdd93ad0-0ad0-4e34-9c82-81eb51349927",
   "metadata": {},
   "outputs": [],
   "source": [
    "import requests\n",
    "from bs4 import BeautifulSoup as bs\n",
    "from urllib.request import urlopen\n",
    "import logging\n"
   ]
  },
  {
   "cell_type": "code",
   "execution_count": 125,
   "id": "d504fac2-f592-4d75-90ab-96351707735c",
   "metadata": {},
   "outputs": [],
   "source": [
    "product = \"iphone11\""
   ]
  },
  {
   "cell_type": "code",
   "execution_count": 126,
   "id": "9e2f0529-cb0a-45f1-be74-005312af1254",
   "metadata": {},
   "outputs": [],
   "source": [
    "flipcart_url = f\"https://www.flipkart.com/search?q={product}\""
   ]
  },
  {
   "cell_type": "code",
   "execution_count": 127,
   "id": "acc47882-45a4-4fde-acd8-edc5dece20a9",
   "metadata": {},
   "outputs": [
    {
     "data": {
      "text/plain": [
       "'https://www.flipkart.com/search?q=iphone11'"
      ]
     },
     "execution_count": 127,
     "metadata": {},
     "output_type": "execute_result"
    }
   ],
   "source": [
    "flipcart_url"
   ]
  },
  {
   "cell_type": "code",
   "execution_count": 128,
   "id": "386ae990-ba39-430c-a4df-0b6c93c2602c",
   "metadata": {},
   "outputs": [],
   "source": [
    "urlclient = urlopen(flipcart_url)"
   ]
  },
  {
   "cell_type": "code",
   "execution_count": 129,
   "id": "bdd529a4-57f3-432f-b5c7-5dff40e66278",
   "metadata": {},
   "outputs": [],
   "source": [
    "flipcart_page = urlclient.read()"
   ]
  },
  {
   "cell_type": "code",
   "execution_count": 130,
   "id": "4152d9da-c583-4ecc-920e-be2a1b91cd9e",
   "metadata": {},
   "outputs": [],
   "source": [
    "flipcart_html = bs(flipcart_page, 'html.parser')"
   ]
  },
  {
   "cell_type": "code",
   "execution_count": 131,
   "id": "2b65ee09-7691-4b95-b18b-466e0b1a73b7",
   "metadata": {},
   "outputs": [],
   "source": [
    "big_box = flipcart_html.findAll(\"div\", {\"class\": \"_1AtVbE col-12-12\"})"
   ]
  },
  {
   "cell_type": "code",
   "execution_count": 132,
   "id": "c97e4ce8-191c-4883-b47d-58fdea90dedf",
   "metadata": {},
   "outputs": [
    {
     "data": {
      "text/plain": [
       "29"
      ]
     },
     "execution_count": 132,
     "metadata": {},
     "output_type": "execute_result"
    }
   ],
   "source": [
    "len(big_box)"
   ]
  },
  {
   "cell_type": "code",
   "execution_count": 133,
   "id": "1825e6e8-50eb-40de-8fcc-a347f413c594",
   "metadata": {},
   "outputs": [],
   "source": [
    "del big_box[0:3]"
   ]
  },
  {
   "cell_type": "code",
   "execution_count": 134,
   "id": "26a01bfa-bb05-4185-abe4-22bc1ba2e04b",
   "metadata": {},
   "outputs": [
    {
     "data": {
      "text/plain": [
       "'/apple-iphone-11-white-64-gb/p/itmfc6a7091eb20b?pid=MOBFWQ6BVWVEH3XE&lid=LSTMOBFWQ6BVWVEH3XEMXQMLO&marketplace=FLIPKART&q=iphone11&store=tyy%2F4io&srno=s_1_2&otracker=search&fm=organic&iid=5911a8ae-b5c0-4f97-b6f7-d28a74cc9965.MOBFWQ6BVWVEH3XE.SEARCH&ppt=None&ppn=None&ssid=b7kg4edr3k0000001690705188729&qH=d6db477051465f9a'"
      ]
     },
     "execution_count": 134,
     "metadata": {},
     "output_type": "execute_result"
    }
   ],
   "source": [
    "big_box[0].div.div.div.a[\"href\"]"
   ]
  },
  {
   "cell_type": "code",
   "execution_count": 135,
   "id": "844ec2a2-7112-42c2-a7cf-cd4d7a56f1fd",
   "metadata": {},
   "outputs": [],
   "source": [
    "length = len(big_box)"
   ]
  },
  {
   "cell_type": "code",
   "execution_count": 136,
   "id": "617c6731-ae5b-43f8-84aa-12e3f403846b",
   "metadata": {},
   "outputs": [],
   "source": [
    "\n",
    "link = big_box[3].div.div.div.a[\"href\"]"
   ]
  },
  {
   "cell_type": "code",
   "execution_count": 137,
   "id": "f39271b1-df9f-484c-90d3-dae48ed6f048",
   "metadata": {},
   "outputs": [],
   "source": [
    " full_link = f\"https://www.flipkart.com{link}\""
   ]
  },
  {
   "cell_type": "code",
   "execution_count": 138,
   "id": "bbcb6aa9-620a-435e-b415-37d331fe3bb0",
   "metadata": {},
   "outputs": [
    {
     "data": {
      "text/plain": [
       "'https://www.flipkart.com/apple-iphone-11-green-64-gb/p/itm386a85013a3d1?pid=MOBFWQ6BHPMG29QM&lid=LSTMOBFWQ6BHPMG29QMMGHL6F&marketplace=FLIPKART&q=iphone11&store=tyy%2F4io&srno=s_1_5&otracker=search&fm=organic&iid=5911a8ae-b5c0-4f97-b6f7-d28a74cc9965.MOBFWQ6BHPMG29QM.SEARCH&ppt=None&ppn=None&ssid=b7kg4edr3k0000001690705188729&qH=d6db477051465f9a'"
      ]
     },
     "execution_count": 138,
     "metadata": {},
     "output_type": "execute_result"
    }
   ],
   "source": [
    "full_link"
   ]
  },
  {
   "cell_type": "code",
   "execution_count": 147,
   "id": "a83ff4ca-da2f-48e2-83ea-28dc11038bf1",
   "metadata": {},
   "outputs": [],
   "source": [
    "product_page = requests.get(full_link)"
   ]
  },
  {
   "cell_type": "code",
   "execution_count": 152,
   "id": "48980917-26ef-4a87-8fdb-8067bd86c6a9",
   "metadata": {},
   "outputs": [],
   "source": [
    "product_html = bs(product_page.text, 'html.parser')"
   ]
  },
  {
   "cell_type": "code",
   "execution_count": 153,
   "id": "5135048f-4b14-46be-889d-4816a40f1167",
   "metadata": {},
   "outputs": [],
   "source": [
    "\n",
    "review_box = product_html.findAll(\"div\", {\"class\": \"_16PBlm\"})"
   ]
  },
  {
   "cell_type": "code",
   "execution_count": 166,
   "id": "2d9fa627-76e8-454e-b3fc-60c860423007",
   "metadata": {},
   "outputs": [
    {
     "data": {
      "text/plain": [
       "11"
      ]
     },
     "execution_count": 166,
     "metadata": {},
     "output_type": "execute_result"
    }
   ],
   "source": [
    "len(review_box)"
   ]
  },
  {
   "cell_type": "code",
   "execution_count": 168,
   "id": "ee6e7129-ab08-4ae8-8d0d-1e507b9e0d20",
   "metadata": {},
   "outputs": [
    {
     "data": {
      "text/plain": [
       "<p class=\"_2-N8zT\">Classy product</p>"
      ]
     },
     "execution_count": 168,
     "metadata": {},
     "output_type": "execute_result"
    }
   ],
   "source": [
    "review_box[0].div.div.div.p"
   ]
  },
  {
   "cell_type": "code",
   "execution_count": 172,
   "id": "f3a7f508-3382-425e-a9af-740dc33d56d8",
   "metadata": {},
   "outputs": [
    {
     "data": {
      "text/plain": [
       "'Classy product'"
      ]
     },
     "execution_count": 172,
     "metadata": {},
     "output_type": "execute_result"
    }
   ],
   "source": [
    "review_box[0].div.div.div.p.text"
   ]
  },
  {
   "cell_type": "code",
   "execution_count": 173,
   "id": "c84bb848-51f3-4ae8-980c-670222e7deb4",
   "metadata": {},
   "outputs": [
    {
     "name": "stdout",
     "output_type": "stream",
     "text": [
      "Classy product\n",
      "Mind-blowing purchase\n",
      "Terrific\n",
      "Wonderful\n",
      "Just wow!\n",
      "Perfect product!\n",
      "Must buy!\n",
      "Best in the market!\n",
      "Worth every penny\n",
      "Terrific purchase\n"
     ]
    },
    {
     "ename": "AttributeError",
     "evalue": "'NoneType' object has no attribute 'div'",
     "output_type": "error",
     "traceback": [
      "\u001b[0;31m---------------------------------------------------------------------------\u001b[0m",
      "\u001b[0;31mAttributeError\u001b[0m                            Traceback (most recent call last)",
      "Cell \u001b[0;32mIn[173], line 2\u001b[0m\n\u001b[1;32m      1\u001b[0m \u001b[38;5;28;01mfor\u001b[39;00m i \u001b[38;5;129;01min\u001b[39;00m review_box:\n\u001b[0;32m----> 2\u001b[0m     \u001b[38;5;28mprint\u001b[39m(\u001b[43mi\u001b[49m\u001b[38;5;241;43m.\u001b[39;49m\u001b[43mdiv\u001b[49m\u001b[38;5;241;43m.\u001b[39;49m\u001b[43mdiv\u001b[49m\u001b[38;5;241m.\u001b[39mdiv\u001b[38;5;241m.\u001b[39mp\u001b[38;5;241m.\u001b[39mtext)\n",
      "\u001b[0;31mAttributeError\u001b[0m: 'NoneType' object has no attribute 'div'"
     ]
    }
   ],
   "source": [
    "for i in review_box:\n",
    "    print(i.div.div.div.p.text)"
   ]
  },
  {
   "cell_type": "code",
   "execution_count": 256,
   "id": "7b615768-9b4a-47bf-98fb-c3dbaa1cd8e0",
   "metadata": {},
   "outputs": [
    {
     "name": "stdout",
     "output_type": "stream",
     "text": [
      "Review Name: Vishnu Ramakrishnan\n",
      "Product Rating:5\n",
      "Recommendation: Classy product\n",
      "Comment: Camera is awesomeBest battery backupA performer 👌🏻It will be a real value for money if they provide charger and earphone inbox!\n",
      "--------------------------------------------------------------------------\n",
      "Review Name: siva sankar\n",
      "Product Rating:5\n",
      "Recommendation: Mind-blowing purchase\n",
      "Comment: Photos super\n",
      "--------------------------------------------------------------------------\n",
      "Review Name: Manish  Deshlahare\n",
      "Product Rating:5\n",
      "Recommendation: Terrific\n",
      "Comment: Very very good\n",
      "--------------------------------------------------------------------------\n",
      "Review Name: Flipkart Customer\n",
      "Product Rating:5\n",
      "Recommendation: Wonderful\n",
      "Comment: This is amazing at all\n",
      "--------------------------------------------------------------------------\n",
      "Review Name: Vikram rapolu\n",
      "Product Rating:5\n",
      "Recommendation: Just wow!\n",
      "Comment: Perfect Product!!\n",
      "--------------------------------------------------------------------------\n",
      "Review Name: Kuldeep Kumar\n",
      "Product Rating:5\n",
      "Recommendation: Perfect product!\n",
      "Comment: V Good all\n",
      "--------------------------------------------------------------------------\n",
      "Review Name: vikash  Yadav\n",
      "Product Rating:5\n",
      "Recommendation: Must buy!\n",
      "Comment: It’s really awesome\n",
      "--------------------------------------------------------------------------\n",
      "Review Name: Steevan Rattra \n",
      "Product Rating:5\n",
      "Recommendation: Best in the market!\n",
      "Comment: Good Camera\n",
      "--------------------------------------------------------------------------\n",
      "Review Name: Abhishek Sachdeva\n",
      "Product Rating:5\n",
      "Recommendation: Worth every penny\n",
      "Comment: Feeling awesome after getting the delivery of my phone. Dual speakers makes the sound quality very loud. Amazing!!\n",
      "--------------------------------------------------------------------------\n",
      "Review Name: Dev\n",
      "Product Rating:5\n",
      "Recommendation: Terrific purchase\n",
      "Comment: Value for money 😍\n",
      "--------------------------------------------------------------------------\n"
     ]
    }
   ],
   "source": [
    "\n",
    "try:\n",
    "    for i in review_box:\n",
    "        print(f'Review Name: {i.div.div.find(\"div\", {\"class\": \"row _3n8db9\" }).div.p.text}')\n",
    "        print(f\"Product Rating:{i.div.div.div.div.text}\")\n",
    "        print(f\"Recommendation: {i.div.div.div.p.text}\")\n",
    "        print(f\"Comment: {i.div.div.find('div', {'class': ''}).div.text}\")\n",
    "        print(\"--------------------------------------------------------------------------\")\n",
    "except Exception as e:\n",
    "   pass"
   ]
  },
  {
   "cell_type": "code",
   "execution_count": null,
   "id": "94b3417f-aec5-4b7f-af27-f60d9bce5e04",
   "metadata": {},
   "outputs": [],
   "source": [
    "|"
   ]
  }
 ],
 "metadata": {
  "kernelspec": {
   "display_name": "Python 3 (ipykernel)",
   "language": "python",
   "name": "python3"
  },
  "language_info": {
   "codemirror_mode": {
    "name": "ipython",
    "version": 3
   },
   "file_extension": ".py",
   "mimetype": "text/x-python",
   "name": "python",
   "nbconvert_exporter": "python",
   "pygments_lexer": "ipython3",
   "version": "3.10.8"
  }
 },
 "nbformat": 4,
 "nbformat_minor": 5
}
