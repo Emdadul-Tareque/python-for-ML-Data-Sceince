{
 "cells": [
  {
   "cell_type": "code",
   "execution_count": 1,
   "id": "631cf4a3-52ec-4ffa-b8ad-4842fa2b3c72",
   "metadata": {},
   "outputs": [],
   "source": [
    "import pandas as pd"
   ]
  },
  {
   "cell_type": "code",
   "execution_count": 2,
   "id": "807d0436-de9d-47fe-b17d-f23e8fbed8e0",
   "metadata": {},
   "outputs": [],
   "source": [
    "df= pd.read_csv(\"https://raw.githubusercontent.com/datasciencedojo/datasets/master/titanic.csv\")"
   ]
  },
  {
   "cell_type": "code",
   "execution_count": 7,
   "id": "94000382-9337-4e4f-8905-92bcdb29e459",
   "metadata": {},
   "outputs": [],
   "source": [
    "#change index name\n",
    "index_name = ['a', 'b', 'c', 'd']\n",
    "dfs = df['Name'][0:4]"
   ]
  },
  {
   "cell_type": "code",
   "execution_count": 8,
   "id": "e523adba-0e0a-482e-a0dd-61ae32b6a3bf",
   "metadata": {},
   "outputs": [
    {
     "data": {
      "text/plain": [
       "0                              Braund, Mr. Owen Harris\n",
       "1    Cumings, Mrs. John Bradley (Florence Briggs Th...\n",
       "2                               Heikkinen, Miss. Laina\n",
       "3         Futrelle, Mrs. Jacques Heath (Lily May Peel)\n",
       "Name: Name, dtype: object"
      ]
     },
     "execution_count": 8,
     "metadata": {},
     "output_type": "execute_result"
    }
   ],
   "source": [
    "dfs"
   ]
  },
  {
   "cell_type": "code",
   "execution_count": 9,
   "id": "74a0f3a6-d39d-4406-ac33-b06e20ebd9d6",
   "metadata": {},
   "outputs": [],
   "source": [
    "new_dfs = pd.Series(list(dfs), index=index_name)"
   ]
  },
  {
   "cell_type": "code",
   "execution_count": 10,
   "id": "eaf1fa32-f92e-48d1-9498-1804e46b43d9",
   "metadata": {},
   "outputs": [
    {
     "data": {
      "text/plain": [
       "a                              Braund, Mr. Owen Harris\n",
       "b    Cumings, Mrs. John Bradley (Florence Briggs Th...\n",
       "c                               Heikkinen, Miss. Laina\n",
       "d         Futrelle, Mrs. Jacques Heath (Lily May Peel)\n",
       "dtype: object"
      ]
     },
     "execution_count": 10,
     "metadata": {},
     "output_type": "execute_result"
    }
   ],
   "source": [
    "new_dfs"
   ]
  },
  {
   "cell_type": "code",
   "execution_count": 12,
   "id": "2d06383b-7fa2-47c3-8de4-63359e79ea22",
   "metadata": {},
   "outputs": [
    {
     "data": {
      "text/plain": [
       "'Braund, Mr. Owen Harris'"
      ]
     },
     "execution_count": 12,
     "metadata": {},
     "output_type": "execute_result"
    }
   ],
   "source": [
    "new_dfs['a']"
   ]
  },
  {
   "cell_type": "code",
   "execution_count": 14,
   "id": "b490f513-2044-4f1c-9cd1-d72f6f4ccef0",
   "metadata": {},
   "outputs": [
    {
     "data": {
      "text/plain": [
       "'Braund, Mr. Owen Harris'"
      ]
     },
     "execution_count": 14,
     "metadata": {},
     "output_type": "execute_result"
    }
   ],
   "source": [
    "new_dfs[0] #ইনডেক্সের নাম চেঞ্জ করে দেওয়ার পরও পাণ্ডাস তার আগে ইনডেক্স মনে রাখে "
   ]
  },
  {
   "cell_type": "code",
   "execution_count": 15,
   "id": "5e28c42f-692a-449c-a4a6-4e5d56df1510",
   "metadata": {},
   "outputs": [
    {
     "data": {
      "text/plain": [
       "pandas.core.series.Series"
      ]
     },
     "execution_count": 15,
     "metadata": {},
     "output_type": "execute_result"
    }
   ],
   "source": [
    "type(dfs)"
   ]
  },
  {
   "cell_type": "code",
   "execution_count": 16,
   "id": "46177085-1b86-4c0c-aab9-256e3937580a",
   "metadata": {},
   "outputs": [
    {
     "name": "stderr",
     "output_type": "stream",
     "text": [
      "/tmp/ipykernel_1755/2837672919.py:1: FutureWarning: The series.append method is deprecated and will be removed from pandas in a future version. Use pandas.concat instead.\n",
      "  s1 = dfs.append(new_dfs)\n"
     ]
    }
   ],
   "source": [
    "s1 = dfs.append(new_dfs)"
   ]
  },
  {
   "cell_type": "code",
   "execution_count": 17,
   "id": "8fab2a35-0d41-436e-91f0-3731526fbd08",
   "metadata": {},
   "outputs": [
    {
     "data": {
      "text/plain": [
       "0                              Braund, Mr. Owen Harris\n",
       "1    Cumings, Mrs. John Bradley (Florence Briggs Th...\n",
       "2                               Heikkinen, Miss. Laina\n",
       "3         Futrelle, Mrs. Jacques Heath (Lily May Peel)\n",
       "a                              Braund, Mr. Owen Harris\n",
       "b    Cumings, Mrs. John Bradley (Florence Briggs Th...\n",
       "c                               Heikkinen, Miss. Laina\n",
       "d         Futrelle, Mrs. Jacques Heath (Lily May Peel)\n",
       "dtype: object"
      ]
     },
     "execution_count": 17,
     "metadata": {},
     "output_type": "execute_result"
    }
   ],
   "source": [
    "s1"
   ]
  },
  {
   "cell_type": "code",
   "execution_count": null,
   "id": "7bbeb0cd-2484-48a4-9637-921b8aa139b0",
   "metadata": {},
   "outputs": [],
   "source": [
    "#Working with series "
   ]
  },
  {
   "cell_type": "code",
   "execution_count": 19,
   "id": "6859f7e5-8e95-4f82-9e53-e0a989b1f373",
   "metadata": {},
   "outputs": [],
   "source": [
    "s2 = pd.Series([12, 23, 55, 42, 12], index=[1, 2, 3, 4, 5])"
   ]
  },
  {
   "cell_type": "code",
   "execution_count": 20,
   "id": "41a7c7f0-ce4c-4565-b800-928bccefc15e",
   "metadata": {},
   "outputs": [
    {
     "data": {
      "text/plain": [
       "1    12\n",
       "2    23\n",
       "3    55\n",
       "4    42\n",
       "5    12\n",
       "dtype: int64"
      ]
     },
     "execution_count": 20,
     "metadata": {},
     "output_type": "execute_result"
    }
   ],
   "source": [
    "s2"
   ]
  },
  {
   "cell_type": "code",
   "execution_count": 22,
   "id": "2a38a7f7-8609-4f42-a30b-6c35f96f6309",
   "metadata": {},
   "outputs": [],
   "source": [
    "s3 = pd.Series([22, 33, 12, 33, 12, 43], index = [1, 3, 5, 7, 9, 11])"
   ]
  },
  {
   "cell_type": "code",
   "execution_count": 24,
   "id": "9a7c1a7c-44ac-4876-a0c7-2382d9c4a353",
   "metadata": {},
   "outputs": [
    {
     "name": "stderr",
     "output_type": "stream",
     "text": [
      "/tmp/ipykernel_1755/3973954753.py:1: FutureWarning: The series.append method is deprecated and will be removed from pandas in a future version. Use pandas.concat instead.\n",
      "  s4 = s2.append(s3)\n"
     ]
    }
   ],
   "source": [
    "s4 = s2.append(s3)"
   ]
  },
  {
   "cell_type": "code",
   "execution_count": 25,
   "id": "74390261-b506-482b-b2b9-526966fd9454",
   "metadata": {},
   "outputs": [
    {
     "data": {
      "text/plain": [
       "1     12\n",
       "2     23\n",
       "3     55\n",
       "4     42\n",
       "5     12\n",
       "1     22\n",
       "3     33\n",
       "5     12\n",
       "7     33\n",
       "9     12\n",
       "11    43\n",
       "dtype: int64"
      ]
     },
     "execution_count": 25,
     "metadata": {},
     "output_type": "execute_result"
    }
   ],
   "source": [
    "s4"
   ]
  },
  {
   "cell_type": "code",
   "execution_count": 26,
   "id": "b7acb95e-173d-4a6f-b2a9-0b54fdbc7677",
   "metadata": {},
   "outputs": [
    {
     "data": {
      "text/plain": [
       "1    12\n",
       "1    22\n",
       "dtype: int64"
      ]
     },
     "execution_count": 26,
     "metadata": {},
     "output_type": "execute_result"
    }
   ],
   "source": [
    "s4[1]"
   ]
  },
  {
   "cell_type": "code",
   "execution_count": 28,
   "id": "90dfb3c4-6f74-422c-bd23-fab0e9616f67",
   "metadata": {},
   "outputs": [
    {
     "name": "stderr",
     "output_type": "stream",
     "text": [
      "/tmp/ipykernel_1755/400425311.py:1: FutureWarning: The behavior of `series[i:j]` with an integer-dtype index is deprecated. In a future version, this will be treated as *label-based* indexing, consistent with e.g. `series[i]` lookups. To retain the old behavior, use `series.iloc[i:j]`. To get the future behavior, use `series.loc[i:j]`.\n",
      "  s4[3: 6] # স্লাইস করার সময় পাইথন ঠিকিই তার ইন্টারনাল ইন্ডেডিক্সিং ব্যবহার করে\n"
     ]
    },
    {
     "data": {
      "text/plain": [
       "4    42\n",
       "5    12\n",
       "1    22\n",
       "dtype: int64"
      ]
     },
     "execution_count": 28,
     "metadata": {},
     "output_type": "execute_result"
    }
   ],
   "source": [
    "s4[3: 6] # স্লাইস করার সময় পাইথন ঠিকিই তার ইন্টারনাল ইন্ডেডিক্সিং ব্যবহার করে"
   ]
  },
  {
   "cell_type": "code",
   "execution_count": 29,
   "id": "41209895-1e7e-41f4-af40-905441ec2e9b",
   "metadata": {},
   "outputs": [
    {
     "data": {
      "text/plain": [
       "1     34.0\n",
       "2      NaN\n",
       "3     88.0\n",
       "4      NaN\n",
       "5     24.0\n",
       "7      NaN\n",
       "9      NaN\n",
       "11     NaN\n",
       "dtype: float64"
      ]
     },
     "execution_count": 29,
     "metadata": {},
     "output_type": "execute_result"
    }
   ],
   "source": [
    "s2 + s3"
   ]
  },
  {
   "cell_type": "code",
   "execution_count": null,
   "id": "df85ab9d-93c1-4a0b-b445-6785bd599227",
   "metadata": {},
   "outputs": [],
   "source": [
    "s3 "
   ]
  }
 ],
 "metadata": {
  "kernelspec": {
   "display_name": "Python 3 (ipykernel)",
   "language": "python",
   "name": "python3"
  },
  "language_info": {
   "codemirror_mode": {
    "name": "ipython",
    "version": 3
   },
   "file_extension": ".py",
   "mimetype": "text/x-python",
   "name": "python",
   "nbconvert_exporter": "python",
   "pygments_lexer": "ipython3",
   "version": "3.10.8"
  }
 },
 "nbformat": 4,
 "nbformat_minor": 5
}
