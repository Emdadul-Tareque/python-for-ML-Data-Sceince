{
 "cells": [
  {
   "cell_type": "code",
   "execution_count": 76,
   "metadata": {},
   "outputs": [],
   "source": [
    "class Course:\n",
    "    def mentor_list1(self, name_list):\n",
    "        self.name = name_list\n",
    "    @staticmethod\n",
    "    def mentor_list2(mentors): #no need self argument\n",
    "        mentor_lst = mentors"
   ]
  },
  {
   "cell_type": "code",
   "execution_count": 77,
   "metadata": {},
   "outputs": [],
   "source": [
    "p = Course()"
   ]
  },
  {
   "cell_type": "code",
   "execution_count": 78,
   "metadata": {},
   "outputs": [],
   "source": [
    "p.mentor_list2([\"emdadul\", \"tareque\"])"
   ]
  },
  {
   "cell_type": "code",
   "execution_count": 80,
   "metadata": {},
   "outputs": [],
   "source": [
    "q = Course()"
   ]
  },
  {
   "cell_type": "code",
   "execution_count": 83,
   "metadata": {},
   "outputs": [],
   "source": [
    "Course.mentor_list2([\"emdadul\", \"tareque\"]) #pass data with out creating object"
   ]
  },
  {
   "cell_type": "code",
   "execution_count": 85,
   "metadata": {},
   "outputs": [],
   "source": [
    "class Course:\n",
    "    \n",
    "    def course_details(self, name, price):\n",
    "        print(name, price)\n",
    "\n",
    "    @staticmethod\n",
    "    def mentor_list(mentors):\n",
    "        print(mentors)\n",
    "        \n",
    "    "
   ]
  },
  {
   "cell_type": "code",
   "execution_count": 86,
   "metadata": {},
   "outputs": [
    {
     "name": "stdout",
     "output_type": "stream",
     "text": [
      "['ada', 'adas']\n"
     ]
    }
   ],
   "source": [
    "Course.mentor_list([\"ada\", \"adas\"])"
   ]
  },
  {
   "cell_type": "raw",
   "metadata": {},
   "source": [
    "১। static method সাধারণত ক্লাসের মাধ্যমে ব্যবহারের জন্য ব্যবহার করা হয়। যখন কোন ম্যাথডকে ক্লাসের মাধ্যমে ব্যবহার করতে হবে তখন static method ব্যবহার করা হবে। \n",
    "\n",
    "২। static method utility কাজ কিংবা ডেটাবেজের সাথে কাজের জন্য ব্যবহার করা হয়। \n",
    "\n",
    "৩। static method দিয়ে ক্লাসের কোন স্টেট এক্সেস করা যাবে না এবং মডিউফাইও করা যাবে না। এটা সাধারণ একটা ফাংশনের মতোই কাজ করে। \n"
   ]
  },
  {
   "cell_type": "code",
   "execution_count": null,
   "metadata": {},
   "outputs": [],
   "source": []
  }
 ],
 "metadata": {
  "kernelspec": {
   "display_name": "Python 3",
   "language": "python",
   "name": "python3"
  },
  "language_info": {
   "codemirror_mode": {
    "name": "ipython",
    "version": 3
   },
   "file_extension": ".py",
   "mimetype": "text/x-python",
   "name": "python",
   "nbconvert_exporter": "python",
   "pygments_lexer": "ipython3",
   "version": "3.7.3"
  }
 },
 "nbformat": 4,
 "nbformat_minor": 2
}
