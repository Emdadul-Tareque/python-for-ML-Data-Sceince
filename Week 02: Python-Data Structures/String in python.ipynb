{
 "cells": [
  {
   "cell_type": "markdown",
   "id": "ea826b9f",
   "metadata": {},
   "source": [
    "## String Declaration"
   ]
  },
  {
   "cell_type": "code",
   "execution_count": 1,
   "id": "352a80c2",
   "metadata": {},
   "outputs": [],
   "source": [
    "#declare & create a  string using constructor of a str class\n",
    "s1 = str() #create a empty string object \n",
    "s2 = str(\"string declararion\")"
   ]
  },
  {
   "cell_type": "code",
   "execution_count": 2,
   "id": "60d5d9ba",
   "metadata": {},
   "outputs": [
    {
     "data": {
      "text/plain": [
       "'string declararion'"
      ]
     },
     "execution_count": 2,
     "metadata": {},
     "output_type": "execute_result"
    }
   ],
   "source": [
    "s2"
   ]
  },
  {
   "cell_type": "code",
   "execution_count": 3,
   "id": "e4942675",
   "metadata": {},
   "outputs": [],
   "source": [
    "#create a string with using double cotation\n",
    "s1 = \" \" #create a empty string\n",
    "s2 = \"Hello\""
   ]
  },
  {
   "cell_type": "code",
   "execution_count": 6,
   "id": "e1519944",
   "metadata": {},
   "outputs": [
    {
     "data": {
      "text/plain": [
       "'Hello'"
      ]
     },
     "execution_count": 6,
     "metadata": {},
     "output_type": "execute_result"
    }
   ],
   "source": [
    "s2"
   ]
  },
  {
   "cell_type": "markdown",
   "id": "9a0eec7e",
   "metadata": {},
   "source": [
    "## InBuid python functions for strings"
   ]
  },
  {
   "cell_type": "code",
   "execution_count": 7,
   "id": "02a08a5c",
   "metadata": {},
   "outputs": [],
   "source": [
    "string = \" I love my country\""
   ]
  },
  {
   "cell_type": "code",
   "execution_count": 9,
   "id": "1070aa36",
   "metadata": {},
   "outputs": [
    {
     "data": {
      "text/plain": [
       "18"
      ]
     },
     "execution_count": 9,
     "metadata": {},
     "output_type": "execute_result"
    }
   ],
   "source": [
    "len(string) # number of charaters in string"
   ]
  },
  {
   "cell_type": "code",
   "execution_count": 10,
   "id": "500c7f43",
   "metadata": {},
   "outputs": [
    {
     "data": {
      "text/plain": [
       "' '"
      ]
     },
     "execution_count": 10,
     "metadata": {},
     "output_type": "execute_result"
    }
   ],
   "source": [
    "min(string) #samllest character in a string"
   ]
  },
  {
   "cell_type": "code",
   "execution_count": 11,
   "id": "4e262d94",
   "metadata": {},
   "outputs": [
    {
     "data": {
      "text/plain": [
       "'y'"
      ]
     },
     "execution_count": 11,
     "metadata": {},
     "output_type": "execute_result"
    }
   ],
   "source": [
    "max(string) #largest character in a string"
   ]
  },
  {
   "cell_type": "markdown",
   "id": "d03b9b57",
   "metadata": {},
   "source": [
    "## Access value in a string"
   ]
  },
  {
   "cell_type": "code",
   "execution_count": 12,
   "id": "b3b5867c",
   "metadata": {},
   "outputs": [],
   "source": [
    "name = \"Emdadul\""
   ]
  },
  {
   "cell_type": "code",
   "execution_count": 13,
   "id": "c10f516a",
   "metadata": {},
   "outputs": [
    {
     "data": {
      "text/plain": [
       "'E'"
      ]
     },
     "execution_count": 13,
     "metadata": {},
     "output_type": "execute_result"
    }
   ],
   "source": [
    "name[0]"
   ]
  },
  {
   "cell_type": "code",
   "execution_count": 18,
   "id": "64155e9a",
   "metadata": {},
   "outputs": [
    {
     "data": {
      "text/plain": [
       "'d'"
      ]
     },
     "execution_count": 18,
     "metadata": {},
     "output_type": "execute_result"
    }
   ],
   "source": [
    "name[4]"
   ]
  },
  {
   "cell_type": "code",
   "execution_count": 19,
   "id": "04443542",
   "metadata": {},
   "outputs": [],
   "source": [
    "length = len(name)"
   ]
  },
  {
   "cell_type": "markdown",
   "id": "6cc2c03e",
   "metadata": {},
   "source": [
    "### Accesing Characters via negative index"
   ]
  },
  {
   "cell_type": "code",
   "execution_count": 25,
   "id": "546da33e",
   "metadata": {},
   "outputs": [],
   "source": [
    "name = \"Emdadul\""
   ]
  },
  {
   "cell_type": "code",
   "execution_count": 26,
   "id": "eecf289e",
   "metadata": {},
   "outputs": [
    {
     "data": {
      "text/plain": [
       "'l'"
      ]
     },
     "execution_count": 26,
     "metadata": {},
     "output_type": "execute_result"
    }
   ],
   "source": [
    "name[-1]"
   ]
  },
  {
   "cell_type": "code",
   "execution_count": 28,
   "id": "12ef91fc",
   "metadata": {},
   "outputs": [
    {
     "data": {
      "text/plain": [
       "'d'"
      ]
     },
     "execution_count": 28,
     "metadata": {},
     "output_type": "execute_result"
    }
   ],
   "source": [
    "name[-3]"
   ]
  },
  {
   "cell_type": "markdown",
   "id": "8e8f74c6",
   "metadata": {},
   "source": [
    "## Traversing string"
   ]
  },
  {
   "cell_type": "code",
   "execution_count": 29,
   "id": "224a0182",
   "metadata": {},
   "outputs": [],
   "source": [
    "name = \"Emdadul\""
   ]
  },
  {
   "cell_type": "code",
   "execution_count": 30,
   "id": "db66c29e",
   "metadata": {},
   "outputs": [
    {
     "name": "stdout",
     "output_type": "stream",
     "text": [
      "Emdadul"
     ]
    }
   ],
   "source": [
    "for char in name:\n",
    "    print(char, end=\"\")"
   ]
  },
  {
   "cell_type": "code",
   "execution_count": 32,
   "id": "a14b169e",
   "metadata": {},
   "outputs": [
    {
     "name": "stdout",
     "output_type": "stream",
     "text": [
      "Emdadul"
     ]
    }
   ],
   "source": [
    "#another way \n",
    "str_len = len(name)\n",
    "\n",
    "for i in range(str_len):\n",
    "    print(name[i], end=\"\")"
   ]
  },
  {
   "cell_type": "raw",
   "id": "251ab7ac",
   "metadata": {},
   "source": [
    "Problem 01: Write a program to traverse every second character of a string"
   ]
  },
  {
   "cell_type": "code",
   "execution_count": 37,
   "id": "09a5aced",
   "metadata": {},
   "outputs": [
    {
     "name": "stdout",
     "output_type": "stream",
     "text": [
      "I l v   y h n p o r m i g "
     ]
    }
   ],
   "source": [
    "sentence = \"I love python programming\"\n",
    "for ch in range(0, len(sentence), 2):\n",
    "    print(sentence[ch], end=\" \")"
   ]
  },
  {
   "cell_type": "code",
   "execution_count": 38,
   "id": "3751d349",
   "metadata": {},
   "outputs": [],
   "source": [
    "#sting immutable that means you cann't change string value in same memory location\n",
    "\n",
    "str1 = \"I love python\""
   ]
  },
  {
   "cell_type": "code",
   "execution_count": 39,
   "id": "0305949e",
   "metadata": {},
   "outputs": [
    {
     "data": {
      "text/plain": [
       "'I'"
      ]
     },
     "execution_count": 39,
     "metadata": {},
     "output_type": "execute_result"
    }
   ],
   "source": [
    "str1[0]"
   ]
  },
  {
   "cell_type": "code",
   "execution_count": 41,
   "id": "4892c656",
   "metadata": {},
   "outputs": [
    {
     "ename": "TypeError",
     "evalue": "'str' object does not support item assignment",
     "output_type": "error",
     "traceback": [
      "\u001b[0;31m---------------------------------------------------------------------------\u001b[0m",
      "\u001b[0;31mTypeError\u001b[0m                                 Traceback (most recent call last)",
      "Cell \u001b[0;32mIn[41], line 1\u001b[0m\n\u001b[0;32m----> 1\u001b[0m \u001b[43mstr1\u001b[49m\u001b[43m[\u001b[49m\u001b[38;5;241;43m0\u001b[39;49m\u001b[43m]\u001b[49m \u001b[38;5;241m=\u001b[39m \u001b[38;5;124m\"\u001b[39m\u001b[38;5;124mE\u001b[39m\u001b[38;5;124m\"\u001b[39m\n",
      "\u001b[0;31mTypeError\u001b[0m: 'str' object does not support item assignment"
     ]
    }
   ],
   "source": [
    "str1[0] = \"E\""
   ]
  },
  {
   "cell_type": "markdown",
   "id": "b6535afe",
   "metadata": {},
   "source": [
    "## String Slicing Operator [start: end]"
   ]
  },
  {
   "cell_type": "code",
   "execution_count": 42,
   "id": "324c5bbc",
   "metadata": {},
   "outputs": [],
   "source": [
    "s = \"Emdadul\""
   ]
  },
  {
   "cell_type": "code",
   "execution_count": 43,
   "id": "428583a3",
   "metadata": {},
   "outputs": [
    {
     "data": {
      "text/plain": [
       "'Emdadu'"
      ]
     },
     "execution_count": 43,
     "metadata": {},
     "output_type": "execute_result"
    }
   ],
   "source": [
    "#string_name[start index: End index+1]\n",
    "s[0:6]"
   ]
  },
  {
   "cell_type": "code",
   "execution_count": 44,
   "id": "7175a95c",
   "metadata": {},
   "outputs": [
    {
     "data": {
      "text/plain": [
       "'Emdadul'"
      ]
     },
     "execution_count": 44,
     "metadata": {},
     "output_type": "execute_result"
    }
   ],
   "source": [
    "s[0:7]"
   ]
  },
  {
   "cell_type": "code",
   "execution_count": 46,
   "id": "d488371e",
   "metadata": {},
   "outputs": [
    {
     "data": {
      "text/plain": [
       "'Eddl'"
      ]
     },
     "execution_count": 46,
     "metadata": {},
     "output_type": "execute_result"
    }
   ],
   "source": [
    "#string slicing with step size \n",
    "s[0:7:2] #string_name[start index: end index+1:number of step]"
   ]
  },
  {
   "cell_type": "code",
   "execution_count": 47,
   "id": "16e8a249",
   "metadata": {},
   "outputs": [
    {
     "data": {
      "text/plain": [
       "'Emdadul'"
      ]
     },
     "execution_count": 47,
     "metadata": {},
     "output_type": "execute_result"
    }
   ],
   "source": [
    "s[::]"
   ]
  },
  {
   "cell_type": "code",
   "execution_count": 48,
   "id": "904552e6",
   "metadata": {},
   "outputs": [
    {
     "data": {
      "text/plain": [
       "'ludadmE'"
      ]
     },
     "execution_count": 48,
     "metadata": {},
     "output_type": "execute_result"
    }
   ],
   "source": [
    "s[::-1] #print string in reverse"
   ]
  },
  {
   "cell_type": "code",
   "execution_count": 49,
   "id": "983c8e75",
   "metadata": {},
   "outputs": [
    {
     "data": {
      "text/plain": [
       "'ludadm'"
      ]
     },
     "execution_count": 49,
     "metadata": {},
     "output_type": "execute_result"
    }
   ],
   "source": [
    "s[-1:0:-1]"
   ]
  },
  {
   "cell_type": "markdown",
   "id": "3f6402c5",
   "metadata": {},
   "source": [
    "## The string +, * and in operators"
   ]
  },
  {
   "cell_type": "code",
   "execution_count": 54,
   "id": "d808550b",
   "metadata": {},
   "outputs": [],
   "source": [
    "# \"+\" operator\n",
    "first_name = \"Emdadul \"\n",
    "last_name = \"Tareque\""
   ]
  },
  {
   "cell_type": "code",
   "execution_count": 55,
   "id": "83499910",
   "metadata": {},
   "outputs": [
    {
     "data": {
      "text/plain": [
       "'Emdadul Tareque'"
      ]
     },
     "execution_count": 55,
     "metadata": {},
     "output_type": "execute_result"
    }
   ],
   "source": [
    "first_name + last_name"
   ]
  },
  {
   "cell_type": "code",
   "execution_count": 58,
   "id": "c73ed883",
   "metadata": {},
   "outputs": [],
   "source": [
    "# \"*\" operator \n",
    "s1 = \"tareque \"\n",
    "s2 = s1 * 3"
   ]
  },
  {
   "cell_type": "code",
   "execution_count": 59,
   "id": "1ba83650",
   "metadata": {},
   "outputs": [
    {
     "data": {
      "text/plain": [
       "'tareque tareque tareque '"
      ]
     },
     "execution_count": 59,
     "metadata": {},
     "output_type": "execute_result"
    }
   ],
   "source": [
    "s2"
   ]
  },
  {
   "cell_type": "code",
   "execution_count": 60,
   "id": "2f2437bf",
   "metadata": {},
   "outputs": [],
   "source": [
    "# \"in operator\"\n",
    "s1 = \"Emdadul Tareque\""
   ]
  },
  {
   "cell_type": "code",
   "execution_count": 61,
   "id": "6e9d7bb7",
   "metadata": {},
   "outputs": [
    {
     "data": {
      "text/plain": [
       "False"
      ]
     },
     "execution_count": 61,
     "metadata": {},
     "output_type": "execute_result"
    }
   ],
   "source": [
    "\"tareque\" in s1"
   ]
  },
  {
   "cell_type": "code",
   "execution_count": 62,
   "id": "f7f0128f",
   "metadata": {},
   "outputs": [
    {
     "data": {
      "text/plain": [
       "False"
      ]
     },
     "execution_count": 62,
     "metadata": {},
     "output_type": "execute_result"
    }
   ],
   "source": [
    "\"xyz\" in s1"
   ]
  },
  {
   "cell_type": "raw",
   "id": "26a6139d",
   "metadata": {},
   "source": [
    "Problem 01: Write a program to print all the letters from word1 that also appear in word2.\n",
    "\n",
    "Example: \n",
    "word1 = Dhaka North City Corporation\n",
    "word2 = Dhaka South City Corporation\n",
    "\n",
    "#print the letter that appear in word1 and also word2 \n",
    "\n",
    "output:\n",
    "Dhaka outh City Corporation"
   ]
  },
  {
   "cell_type": "code",
   "execution_count": 67,
   "id": "59642312",
   "metadata": {},
   "outputs": [
    {
     "name": "stdout",
     "output_type": "stream",
     "text": [
      "Dhaka orth City Corporation"
     ]
    }
   ],
   "source": [
    "word1 = \"Dhaka North City Corporation\"\n",
    "word2 = \"Dhaka South City Corporation\"\n",
    "\n",
    "# for i in range(len(word1)):\n",
    "#     if word2[i] == word1[i]:\n",
    "#         print(word2[i], end=\"\")\n",
    "\n",
    "for letter in word1:\n",
    "\n",
    "    if letter in word2:\n",
    "        print(letter, end=\"\")"
   ]
  },
  {
   "cell_type": "markdown",
   "id": "b4d38938",
   "metadata": {},
   "source": [
    "## String Operations"
   ]
  },
  {
   "cell_type": "markdown",
   "id": "8ba71395",
   "metadata": {},
   "source": [
    "The str class provides different basic methods to perform various operations on a string. It helps to calculate the length of a string, to retrieve the individua characters from the giveb string and to compare and concatenate the two different strings."
   ]
  },
  {
   "cell_type": "markdown",
   "id": "7b653899",
   "metadata": {},
   "source": [
    "### String comparison"
   ]
  },
  {
   "cell_type": "code",
   "execution_count": 84,
   "id": "4fe32f72",
   "metadata": {},
   "outputs": [],
   "source": [
    "s1 = \"xyz\"\n",
    "s2 = \"XYZ\""
   ]
  },
  {
   "cell_type": "code",
   "execution_count": 86,
   "id": "5d2c930a",
   "metadata": {},
   "outputs": [
    {
     "data": {
      "text/plain": [
       "False"
      ]
     },
     "execution_count": 86,
     "metadata": {},
     "output_type": "execute_result"
    }
   ],
   "source": [
    "s1==s2"
   ]
  },
  {
   "cell_type": "code",
   "execution_count": 88,
   "id": "eecd68f4",
   "metadata": {},
   "outputs": [
    {
     "data": {
      "text/plain": [
       "True"
      ]
     },
     "execution_count": 88,
     "metadata": {},
     "output_type": "execute_result"
    }
   ],
   "source": [
    "s1>s2 #its true because in python ASCII value of \"a\" is 97 and \"A\" is 65"
   ]
  },
  {
   "cell_type": "code",
   "execution_count": 79,
   "id": "73dd9fc8",
   "metadata": {},
   "outputs": [
    {
     "data": {
      "text/plain": [
       "'XYZ'"
      ]
     },
     "execution_count": 79,
     "metadata": {},
     "output_type": "execute_result"
    }
   ],
   "source": [
    "s1.upper()"
   ]
  },
  {
   "cell_type": "code",
   "execution_count": 80,
   "id": "7f566d3c",
   "metadata": {},
   "outputs": [
    {
     "data": {
      "text/plain": [
       "False"
      ]
     },
     "execution_count": 80,
     "metadata": {},
     "output_type": "execute_result"
    }
   ],
   "source": [
    "s1==s2 "
   ]
  },
  {
   "cell_type": "code",
   "execution_count": 82,
   "id": "96cca8d6",
   "metadata": {},
   "outputs": [],
   "source": [
    "s1= s1.upper()"
   ]
  },
  {
   "cell_type": "code",
   "execution_count": 83,
   "id": "a532b6ec",
   "metadata": {},
   "outputs": [
    {
     "data": {
      "text/plain": [
       "True"
      ]
     },
     "execution_count": 83,
     "metadata": {},
     "output_type": "execute_result"
    }
   ],
   "source": [
    "s1==s2"
   ]
  },
  {
   "cell_type": "markdown",
   "id": "0031cb59",
   "metadata": {},
   "source": [
    "### String .format() method"
   ]
  },
  {
   "cell_type": "code",
   "execution_count": 91,
   "id": "123d3898",
   "metadata": {},
   "outputs": [],
   "source": [
    "s = \"my name is {} and i am from {}\".format(\"Emdadul\", \"Bangladesh\")"
   ]
  },
  {
   "cell_type": "code",
   "execution_count": 92,
   "id": "2910e2b2",
   "metadata": {},
   "outputs": [
    {
     "data": {
      "text/plain": [
       "'my name is Emdadul and i am from Bangladesh'"
      ]
     },
     "execution_count": 92,
     "metadata": {},
     "output_type": "execute_result"
    }
   ],
   "source": [
    "s"
   ]
  },
  {
   "cell_type": "markdown",
   "id": "cc1fcc5f",
   "metadata": {},
   "source": [
    "Explanation\n",
    "The format() method is called on the string literal with arguments 4,5 and ‘nine’. The empty {} are replaced with the arguments in order. The first {} curly bracket is replaced with the first argument and so on. By default, the index of the first argument in format always start from zero. One can also give a position of arguments inside the curly brackets. The following example illustrates the use of index as argument inside the curly bracket."
   ]
  },
  {
   "cell_type": "code",
   "execution_count": 93,
   "id": "9006fff2",
   "metadata": {},
   "outputs": [],
   "source": [
    "s = \"my name is {0} and i am from {1}\".format(\"Emdadul\", \"Bangladesh\")"
   ]
  },
  {
   "cell_type": "code",
   "execution_count": 94,
   "id": "2fb3993b",
   "metadata": {},
   "outputs": [
    {
     "data": {
      "text/plain": [
       "'my name is Emdadul and i am from Bangladesh'"
      ]
     },
     "execution_count": 94,
     "metadata": {},
     "output_type": "execute_result"
    }
   ],
   "source": [
    "s"
   ]
  },
  {
   "cell_type": "code",
   "execution_count": 95,
   "id": "a9aeab82",
   "metadata": {},
   "outputs": [],
   "source": [
    "s = \"my name is {1} and i am from {0}\".format(\"Emdadul\", \"Bangladesh\")"
   ]
  },
  {
   "cell_type": "code",
   "execution_count": 96,
   "id": "7c922ccd",
   "metadata": {},
   "outputs": [
    {
     "data": {
      "text/plain": [
       "'my name is Bangladesh and i am from Emdadul'"
      ]
     },
     "execution_count": 96,
     "metadata": {},
     "output_type": "execute_result"
    }
   ],
   "source": [
    "s"
   ]
  },
  {
   "cell_type": "code",
   "execution_count": 97,
   "id": "a0dce06c",
   "metadata": {},
   "outputs": [],
   "source": [
    "s = \"I am {0} years old. I love to work on {pc} laptop\".format(28, pc=\"HP\")"
   ]
  },
  {
   "cell_type": "code",
   "execution_count": 98,
   "id": "39e5ab39",
   "metadata": {},
   "outputs": [
    {
     "data": {
      "text/plain": [
       "'I am 28 years old. I love to work on HP laptop'"
      ]
     },
     "execution_count": 98,
     "metadata": {},
     "output_type": "execute_result"
    }
   ],
   "source": [
    "s"
   ]
  },
  {
   "cell_type": "markdown",
   "id": "4f54e2bf",
   "metadata": {},
   "source": [
    "## The split() method"
   ]
  },
  {
   "cell_type": "markdown",
   "id": "4b0c2962",
   "metadata": {},
   "source": [
    "The split() method returns a list of all the words in a string. It is used to break up a string into\n",
    "smaller strings."
   ]
  },
  {
   "cell_type": "code",
   "execution_count": 99,
   "id": "831964a0",
   "metadata": {},
   "outputs": [
    {
     "data": {
      "text/plain": [
       "['My', 'name', 'is', 'tareque']"
      ]
     },
     "execution_count": 99,
     "metadata": {},
     "output_type": "execute_result"
    }
   ],
   "source": [
    "str = \"My name is tareque\"\n",
    "str.split()"
   ]
  },
  {
   "cell_type": "markdown",
   "id": "1b36df95",
   "metadata": {},
   "source": [
    "Problem 02:Consider a input string that has a list of names of various multinational companies, such as TCS,\n",
    "INFOSYS, MICROSOFT, YAHOO and GOOGLE. Use split method and display the name of\n",
    "each company in a different line."
   ]
  },
  {
   "cell_type": "code",
   "execution_count": 101,
   "id": "a031a90b",
   "metadata": {},
   "outputs": [
    {
     "name": "stdout",
     "output_type": "stream",
     "text": [
      "['Meta', 'Google', 'Microsoft', 'Amazon', 'OpenAI']\n",
      "Meta\n",
      "Google\n",
      "Microsoft\n",
      "Amazon\n",
      "OpenAI\n"
     ]
    }
   ],
   "source": [
    "it_company = \"Meta Google Microsoft Amazon OpenAI\"\n",
    "\n",
    "it_company_list = it_company.split()\n",
    "\n",
    "print(it_company_list)\n",
    "for item in it_company_list:\n",
    "    print(item)"
   ]
  },
  {
   "cell_type": "markdown",
   "id": "5af571ad",
   "metadata": {},
   "source": [
    "## Testing String  "
   ]
  },
  {
   "cell_type": "markdown",
   "id": "f4e91453",
   "metadata": {},
   "source": [
    "A string may contain digits, alphabets or a combination of both of these. Thus, various methods\n",
    "are available to test if the entered string is a digit or alphabet or is alphanumeric"
   ]
  },
  {
   "cell_type": "markdown",
   "id": "727b0d80",
   "metadata": {},
   "source": [
    "\n",
    "###  isalnum() --> Returns True if characters in the string are alphanumeric and there is at least one character."
   ]
  },
  {
   "cell_type": "code",
   "execution_count": 135,
   "id": "20256b79",
   "metadata": {},
   "outputs": [
    {
     "data": {
      "text/plain": [
       "True"
      ]
     },
     "execution_count": 135,
     "metadata": {},
     "output_type": "execute_result"
    }
   ],
   "source": [
    "s = \"python\"\n",
    "s.isalnum()"
   ]
  },
  {
   "cell_type": "code",
   "execution_count": 110,
   "id": "0ff9eec2",
   "metadata": {},
   "outputs": [
    {
     "data": {
      "text/plain": [
       "False"
      ]
     },
     "execution_count": 110,
     "metadata": {},
     "output_type": "execute_result"
    }
   ],
   "source": [
    "s = \"Python Programming\"\n",
    "s.isalnum()"
   ]
  },
  {
   "cell_type": "code",
   "execution_count": 113,
   "id": "3925e7c0",
   "metadata": {},
   "outputs": [
    {
     "data": {
      "text/plain": [
       "False"
      ]
     },
     "execution_count": 113,
     "metadata": {},
     "output_type": "execute_result"
    }
   ],
   "source": [
    "s = \"Age23\"\n",
    "s.isalnum()"
   ]
  },
  {
   "cell_type": "code",
   "execution_count": 116,
   "id": "96245149",
   "metadata": {},
   "outputs": [
    {
     "data": {
      "text/plain": [
       "False"
      ]
     },
     "execution_count": 116,
     "metadata": {},
     "output_type": "execute_result"
    }
   ],
   "source": [
    "s = \"Age:23\" # ইংরেজি শব্দ অথবা সংখ্যা বাদে যে কোন কিছু থাকলে এই ফাংশন ফলস রিটার্ন দিবে। \n",
    "s.isalnum()"
   ]
  },
  {
   "cell_type": "markdown",
   "id": "4a4fdc97",
   "metadata": {},
   "source": [
    "### isalpha() --> Returns True if the characters in the string are alphabetic and there is at least one character."
   ]
  },
  {
   "cell_type": "code",
   "execution_count": 118,
   "id": "9e9380b3",
   "metadata": {},
   "outputs": [
    {
     "data": {
      "text/plain": [
       "True"
      ]
     },
     "execution_count": 118,
     "metadata": {},
     "output_type": "execute_result"
    }
   ],
   "source": [
    "s = \"Emdadul\"\n",
    "s.isalpha()"
   ]
  },
  {
   "cell_type": "code",
   "execution_count": 119,
   "id": "d3b09fd5",
   "metadata": {},
   "outputs": [
    {
     "data": {
      "text/plain": [
       "False"
      ]
     },
     "execution_count": 119,
     "metadata": {},
     "output_type": "execute_result"
    }
   ],
   "source": [
    "s = \"age45\"\n",
    "s.isalpha()"
   ]
  },
  {
   "cell_type": "markdown",
   "id": "80856437",
   "metadata": {},
   "source": [
    "### isdigit() --> Returns True if the characters in the string contain only digits."
   ]
  },
  {
   "cell_type": "code",
   "execution_count": 121,
   "id": "c6c43495",
   "metadata": {},
   "outputs": [
    {
     "data": {
      "text/plain": [
       "True"
      ]
     },
     "execution_count": 121,
     "metadata": {},
     "output_type": "execute_result"
    }
   ],
   "source": [
    "s = \"1234\"\n",
    "s.isdigit()"
   ]
  },
  {
   "cell_type": "code",
   "execution_count": 122,
   "id": "f4c212fb",
   "metadata": {},
   "outputs": [
    {
     "data": {
      "text/plain": [
       "False"
      ]
     },
     "execution_count": 122,
     "metadata": {},
     "output_type": "execute_result"
    }
   ],
   "source": [
    "s = \"abc\"\n",
    "s.isdigit()"
   ]
  },
  {
   "cell_type": "markdown",
   "id": "b9877222",
   "metadata": {},
   "source": [
    "### islower() ---> Returns True if all the characters in the string are in lowercase."
   ]
  },
  {
   "cell_type": "code",
   "execution_count": 132,
   "id": "7e0398c5",
   "metadata": {},
   "outputs": [
    {
     "data": {
      "text/plain": [
       "True"
      ]
     },
     "execution_count": 132,
     "metadata": {},
     "output_type": "execute_result"
    }
   ],
   "source": [
    "s = \"happy\"\n",
    "s.islower()"
   ]
  },
  {
   "cell_type": "code",
   "execution_count": 133,
   "id": "a707e9b0",
   "metadata": {},
   "outputs": [
    {
     "data": {
      "text/plain": [
       "False"
      ]
     },
     "execution_count": 133,
     "metadata": {},
     "output_type": "execute_result"
    }
   ],
   "source": [
    "s = \"Happy\"\n",
    "s.islower()"
   ]
  },
  {
   "cell_type": "markdown",
   "id": "ff0b25eb",
   "metadata": {},
   "source": [
    "### isupper() -->   Returns True if all the characters in the string are in uppercase."
   ]
  },
  {
   "cell_type": "code",
   "execution_count": 128,
   "id": "9501c590",
   "metadata": {},
   "outputs": [
    {
     "data": {
      "text/plain": [
       "False"
      ]
     },
     "execution_count": 128,
     "metadata": {},
     "output_type": "execute_result"
    }
   ],
   "source": [
    "s = \"happy\"\n",
    "s.isupper()"
   ]
  },
  {
   "cell_type": "code",
   "execution_count": 129,
   "id": "9ff374c6",
   "metadata": {},
   "outputs": [
    {
     "data": {
      "text/plain": [
       "False"
      ]
     },
     "execution_count": 129,
     "metadata": {},
     "output_type": "execute_result"
    }
   ],
   "source": [
    "s = \"Happy\"\n",
    "s.isupper()"
   ]
  },
  {
   "cell_type": "code",
   "execution_count": 130,
   "id": "9625fc7e",
   "metadata": {},
   "outputs": [
    {
     "data": {
      "text/plain": [
       "True"
      ]
     },
     "execution_count": 130,
     "metadata": {},
     "output_type": "execute_result"
    }
   ],
   "source": [
    "s = \"HAPPY\"\n",
    "s.isupper()"
   ]
  },
  {
   "cell_type": "markdown",
   "id": "7e217cc4",
   "metadata": {},
   "source": [
    "### isspace() ---> Returns true if the string contains only white space characters."
   ]
  },
  {
   "cell_type": "code",
   "execution_count": 136,
   "id": "6717f59c",
   "metadata": {},
   "outputs": [
    {
     "data": {
      "text/plain": [
       "False"
      ]
     },
     "execution_count": 136,
     "metadata": {},
     "output_type": "execute_result"
    }
   ],
   "source": [
    "s = \"My name is tareque\"\n",
    "s.isspace()"
   ]
  },
  {
   "cell_type": "code",
   "execution_count": 137,
   "id": "ea47fade",
   "metadata": {},
   "outputs": [
    {
     "data": {
      "text/plain": [
       "True"
      ]
     },
     "execution_count": 137,
     "metadata": {},
     "output_type": "execute_result"
    }
   ],
   "source": [
    "s = \" \"\n",
    "s.isspace()"
   ]
  },
  {
   "cell_type": "markdown",
   "id": "e5bbe07e",
   "metadata": {},
   "source": [
    "## Searching Substring in a string "
   ]
  },
  {
   "cell_type": "markdown",
   "id": "10e2b917",
   "metadata": {},
   "source": [
    "#### endswith(str str1) --> Returns true if the string ends with the substring Str1."
   ]
  },
  {
   "cell_type": "code",
   "execution_count": 140,
   "id": "d855ee4f",
   "metadata": {},
   "outputs": [
    {
     "data": {
      "text/plain": [
       "True"
      ]
     },
     "execution_count": 140,
     "metadata": {},
     "output_type": "execute_result"
    }
   ],
   "source": [
    "s = \"python programming\"\n",
    "s.endswith(\"programming\")"
   ]
  },
  {
   "cell_type": "code",
   "execution_count": 141,
   "id": "d3d3a229",
   "metadata": {},
   "outputs": [
    {
     "data": {
      "text/plain": [
       "False"
      ]
     },
     "execution_count": 141,
     "metadata": {},
     "output_type": "execute_result"
    }
   ],
   "source": [
    "s = \"python programming\"\n",
    "s.endswith(\"python\")"
   ]
  },
  {
   "cell_type": "markdown",
   "id": "42cdcbf0",
   "metadata": {},
   "source": [
    "#### startswith(str) -->Returns true if the string starts with the substring Str1  "
   ]
  },
  {
   "cell_type": "code",
   "execution_count": 142,
   "id": "04601c9e",
   "metadata": {},
   "outputs": [
    {
     "data": {
      "text/plain": [
       "True"
      ]
     },
     "execution_count": 142,
     "metadata": {},
     "output_type": "execute_result"
    }
   ],
   "source": [
    "s = \"python programming\"\n",
    "s.startswith(\"python\")"
   ]
  },
  {
   "cell_type": "markdown",
   "id": "77f2f787",
   "metadata": {},
   "source": [
    "#### find(str) --> Returns the lowest index where the string Str1 starts in this string or returns -1 if the string Str1 is not found in this string."
   ]
  },
  {
   "cell_type": "code",
   "execution_count": 148,
   "id": "2b8062bc",
   "metadata": {},
   "outputs": [
    {
     "data": {
      "text/plain": [
       "8"
      ]
     },
     "execution_count": 148,
     "metadata": {},
     "output_type": "execute_result"
    }
   ],
   "source": [
    "str = \"Emdadul Hoque\"\n",
    "str.find(\"Hoque\")"
   ]
  },
  {
   "cell_type": "code",
   "execution_count": 151,
   "id": "6a823a94",
   "metadata": {},
   "outputs": [
    {
     "data": {
      "text/plain": [
       "8"
      ]
     },
     "execution_count": 151,
     "metadata": {},
     "output_type": "execute_result"
    }
   ],
   "source": [
    "str = \"Emdadul Hoque\"\n",
    "str.find(\"Hoque\")"
   ]
  },
  {
   "cell_type": "markdown",
   "id": "7cc9c5cb",
   "metadata": {},
   "source": [
    "#### rfind(str) --> Returns the highest index where the string Str1 starts in this string or returns -1 if the string Str1 is not found in this string"
   ]
  },
  {
   "cell_type": "code",
   "execution_count": 154,
   "id": "e505e400",
   "metadata": {},
   "outputs": [
    {
     "data": {
      "text/plain": [
       "8"
      ]
     },
     "execution_count": 154,
     "metadata": {},
     "output_type": "execute_result"
    }
   ],
   "source": [
    "str = \"Emdadul Hoque\"\n",
    "str.rfind(\"Hoque\")"
   ]
  },
  {
   "cell_type": "markdown",
   "id": "b247ddb9",
   "metadata": {},
   "source": [
    "## Methods to Convert a String into Another String"
   ]
  },
  {
   "cell_type": "code",
   "execution_count": 161,
   "id": "28d18008",
   "metadata": {},
   "outputs": [
    {
     "data": {
      "text/plain": [
       "'Emdadul hoque'"
      ]
     },
     "execution_count": 161,
     "metadata": {},
     "output_type": "execute_result"
    }
   ],
   "source": [
    "s = \"emdadul hoque\"\n",
    "s.capitalize()"
   ]
  },
  {
   "cell_type": "code",
   "execution_count": 162,
   "id": "dd82e768",
   "metadata": {},
   "outputs": [
    {
     "data": {
      "text/plain": [
       "'emdadul hoque'"
      ]
     },
     "execution_count": 162,
     "metadata": {},
     "output_type": "execute_result"
    }
   ],
   "source": [
    "s.lower()"
   ]
  },
  {
   "cell_type": "code",
   "execution_count": 163,
   "id": "cea3e8b4",
   "metadata": {},
   "outputs": [
    {
     "data": {
      "text/plain": [
       "'EMDADUL HOQUE'"
      ]
     },
     "execution_count": 163,
     "metadata": {},
     "output_type": "execute_result"
    }
   ],
   "source": [
    "s.upper()"
   ]
  },
  {
   "cell_type": "code",
   "execution_count": 164,
   "id": "d5cc9de8",
   "metadata": {},
   "outputs": [
    {
     "data": {
      "text/plain": [
       "'Emdadul Hoque'"
      ]
     },
     "execution_count": 164,
     "metadata": {},
     "output_type": "execute_result"
    }
   ],
   "source": [
    "s.title()"
   ]
  },
  {
   "cell_type": "code",
   "execution_count": 166,
   "id": "0c5b56cf",
   "metadata": {},
   "outputs": [
    {
     "data": {
      "text/plain": [
       "'eMDADUL hOQUE'"
      ]
     },
     "execution_count": 166,
     "metadata": {},
     "output_type": "execute_result"
    }
   ],
   "source": [
    "s = \"Emdadul Hoque\"\n",
    "s.swapcase()"
   ]
  },
  {
   "cell_type": "code",
   "execution_count": 167,
   "id": "13576c37",
   "metadata": {},
   "outputs": [],
   "source": [
    "s = \"I have brought two chocolates, two cookies and two cakes\"\n",
    "str = s.replace(\"two\", \"Three\")"
   ]
  },
  {
   "cell_type": "code",
   "execution_count": 168,
   "id": "b7f34e04",
   "metadata": {},
   "outputs": [
    {
     "data": {
      "text/plain": [
       "'I have brought Three chocolates, Three cookies and Three cakes'"
      ]
     },
     "execution_count": 168,
     "metadata": {},
     "output_type": "execute_result"
    }
   ],
   "source": [
    "str"
   ]
  },
  {
   "cell_type": "code",
   "execution_count": 169,
   "id": "2db76b50",
   "metadata": {},
   "outputs": [],
   "source": [
    "s = \"I have brought two chocolates, two cookies and two cakes\"\n",
    "str = s.replace(\"two\", \"Three\", 2)"
   ]
  },
  {
   "cell_type": "code",
   "execution_count": 170,
   "id": "9fec1c3c",
   "metadata": {},
   "outputs": [
    {
     "data": {
      "text/plain": [
       "'I have brought Three chocolates, Three cookies and two cakes'"
      ]
     },
     "execution_count": 170,
     "metadata": {},
     "output_type": "execute_result"
    }
   ],
   "source": [
    "str"
   ]
  },
  {
   "cell_type": "markdown",
   "id": "958de947",
   "metadata": {},
   "source": [
    "## Stripping Unwanted Characters from a String"
   ]
  },
  {
   "cell_type": "code",
   "execution_count": 171,
   "id": "492c7b04",
   "metadata": {},
   "outputs": [
    {
     "data": {
      "text/plain": [
       "'my name is khan'"
      ]
     },
     "execution_count": 171,
     "metadata": {},
     "output_type": "execute_result"
    }
   ],
   "source": [
    "s = \" my name is khan\"\n",
    "s.lstrip() # সেনটেন্সের শুরুতে স্পেস থাকলে রিমুভ করে দেয় "
   ]
  },
  {
   "cell_type": "code",
   "execution_count": 172,
   "id": "41178f5c",
   "metadata": {},
   "outputs": [
    {
     "data": {
      "text/plain": [
       "'my name is khan'"
      ]
     },
     "execution_count": 172,
     "metadata": {},
     "output_type": "execute_result"
    }
   ],
   "source": [
    "s = \"\\t \\t \\t my name is khan\"\n",
    "s.lstrip()"
   ]
  },
  {
   "cell_type": "code",
   "execution_count": 184,
   "id": "95df491a",
   "metadata": {},
   "outputs": [],
   "source": [
    "s = \"my name is khan!!! \\t \\t \\t\"\n",
    "s = s.rstrip() # Return a copy of the string with trailing whitespace removed.}"
   ]
  },
  {
   "cell_type": "code",
   "execution_count": 185,
   "id": "b7edfd4a",
   "metadata": {},
   "outputs": [
    {
     "data": {
      "text/plain": [
       "'my name is khan!!!'"
      ]
     },
     "execution_count": 185,
     "metadata": {},
     "output_type": "execute_result"
    }
   ],
   "source": [
    "s"
   ]
  },
  {
   "cell_type": "code",
   "execution_count": 187,
   "id": "32873f6f",
   "metadata": {},
   "outputs": [
    {
     "data": {
      "text/plain": [
       "'my name is khan'"
      ]
     },
     "execution_count": 187,
     "metadata": {},
     "output_type": "execute_result"
    }
   ],
   "source": [
    "s = \"\\t \\t \\t \\t my name is khan \\t \\t \\t\"\n",
    "s.strip() #Return a copy of the string with leading and trailing whitespace removed."
   ]
  },
  {
   "cell_type": "markdown",
   "id": "7e8c519f",
   "metadata": {},
   "source": [
    "## Formating String"
   ]
  },
  {
   "cell_type": "code",
   "execution_count": 199,
   "id": "29c050ea",
   "metadata": {},
   "outputs": [
    {
     "data": {
      "text/plain": [
       "'    Apple Macos     '"
      ]
     },
     "execution_count": 199,
     "metadata": {},
     "output_type": "execute_result"
    }
   ],
   "source": [
    "s = \"Apple Macos\"\n",
    "s.center(20)# Return a centered string of length width."
   ]
  },
  {
   "cell_type": "code",
   "execution_count": 200,
   "id": "0e455fff",
   "metadata": {},
   "outputs": [
    {
     "data": {
      "text/plain": [
       "'Apple Macos    '"
      ]
     },
     "execution_count": 200,
     "metadata": {},
     "output_type": "execute_result"
    }
   ],
   "source": [
    "s.ljust(15)"
   ]
  },
  {
   "cell_type": "code",
   "execution_count": 201,
   "id": "e8bc9a52",
   "metadata": {},
   "outputs": [
    {
     "data": {
      "text/plain": [
       "'    Apple Macos'"
      ]
     },
     "execution_count": 201,
     "metadata": {},
     "output_type": "execute_result"
    }
   ],
   "source": [
    "s.rjust(15)"
   ]
  },
  {
   "cell_type": "code",
   "execution_count": null,
   "id": "b259cfb1",
   "metadata": {},
   "outputs": [],
   "source": []
  }
 ],
 "metadata": {
  "kernelspec": {
   "display_name": "Python 3 (ipykernel)",
   "language": "python",
   "name": "python3"
  },
  "language_info": {
   "codemirror_mode": {
    "name": "ipython",
    "version": 3
   },
   "file_extension": ".py",
   "mimetype": "text/x-python",
   "name": "python",
   "nbconvert_exporter": "python",
   "pygments_lexer": "ipython3",
   "version": "3.10.6"
  }
 },
 "nbformat": 4,
 "nbformat_minor": 5
}
