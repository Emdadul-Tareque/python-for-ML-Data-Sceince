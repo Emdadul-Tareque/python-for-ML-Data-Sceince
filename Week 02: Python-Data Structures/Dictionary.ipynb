{
 "cells": [
  {
   "cell_type": "code",
   "execution_count": 13,
   "id": "e0c8b45f",
   "metadata": {},
   "outputs": [],
   "source": [
    "dic = {\"name\": \"Emdadul\", \"Education\": [\"SSC\", \"HSC\", \"BSC\"], \"age\": 27}"
   ]
  },
  {
   "cell_type": "code",
   "execution_count": null,
   "id": "a1f2cda3",
   "metadata": {},
   "outputs": [],
   "source": []
  },
  {
   "cell_type": "code",
   "execution_count": 2,
   "id": "107273bf",
   "metadata": {},
   "outputs": [
    {
     "data": {
      "text/plain": [
       "{'name': 'Emdadul', 'Education': ['SSC', 'HSC', 'BSC'], 'age': 27}"
      ]
     },
     "execution_count": 2,
     "metadata": {},
     "output_type": "execute_result"
    }
   ],
   "source": [
    "dic"
   ]
  },
  {
   "cell_type": "code",
   "execution_count": 3,
   "id": "23126163",
   "metadata": {},
   "outputs": [],
   "source": [
    "dic[\"name\"] = \"Tareque\""
   ]
  },
  {
   "cell_type": "code",
   "execution_count": 4,
   "id": "4d7a0aaa",
   "metadata": {},
   "outputs": [
    {
     "data": {
      "text/plain": [
       "{'name': 'Tareque', 'Education': ['SSC', 'HSC', 'BSC'], 'age': 27}"
      ]
     },
     "execution_count": 4,
     "metadata": {},
     "output_type": "execute_result"
    }
   ],
   "source": [
    "dic"
   ]
  },
  {
   "cell_type": "code",
   "execution_count": 5,
   "id": "81ab15ed",
   "metadata": {},
   "outputs": [],
   "source": [
    "dic[\"Hobby\"] = [\"Playing Cricket\", \"Reading Book\"]"
   ]
  },
  {
   "cell_type": "code",
   "execution_count": 6,
   "id": "1c3645ce",
   "metadata": {},
   "outputs": [
    {
     "data": {
      "text/plain": [
       "{'name': 'Tareque',\n",
       " 'Education': ['SSC', 'HSC', 'BSC'],\n",
       " 'age': 27,\n",
       " 'Hobby': ['Playing Cricket', 'Reading Book']}"
      ]
     },
     "execution_count": 6,
     "metadata": {},
     "output_type": "execute_result"
    }
   ],
   "source": [
    "dic"
   ]
  },
  {
   "cell_type": "code",
   "execution_count": 7,
   "id": "1b56c135",
   "metadata": {},
   "outputs": [],
   "source": [
    "l = [\"pwskills\", \"courses\", \"Data Science\"]"
   ]
  },
  {
   "cell_type": "code",
   "execution_count": 8,
   "id": "6113022d",
   "metadata": {},
   "outputs": [
    {
     "name": "stdout",
     "output_type": "stream",
     "text": [
      "PWSKILLS\n",
      "COURSES\n",
      "DATA SCIENCE\n"
     ]
    }
   ],
   "source": [
    "for i in l:\n",
    "    print(i.upper())"
   ]
  },
  {
   "cell_type": "code",
   "execution_count": 2,
   "id": "fb0126bd",
   "metadata": {},
   "outputs": [
    {
     "data": {
      "text/plain": [
       "{'name': 'Emdadul', 'Education': ['SSC', 'HSC', 'BSC'], 'age': 27}"
      ]
     },
     "execution_count": 2,
     "metadata": {},
     "output_type": "execute_result"
    }
   ],
   "source": [
    "dic"
   ]
  },
  {
   "cell_type": "code",
   "execution_count": 3,
   "id": "46d5e6e7",
   "metadata": {},
   "outputs": [
    {
     "data": {
      "text/plain": [
       "dict_keys(['name', 'Education', 'age'])"
      ]
     },
     "execution_count": 3,
     "metadata": {},
     "output_type": "execute_result"
    }
   ],
   "source": [
    "dic.keys()"
   ]
  },
  {
   "cell_type": "code",
   "execution_count": 4,
   "id": "aefcb932",
   "metadata": {},
   "outputs": [
    {
     "data": {
      "text/plain": [
       "dict_items([('name', 'Emdadul'), ('Education', ['SSC', 'HSC', 'BSC']), ('age', 27)])"
      ]
     },
     "execution_count": 4,
     "metadata": {},
     "output_type": "execute_result"
    }
   ],
   "source": [
    "dic.items()"
   ]
  },
  {
   "cell_type": "code",
   "execution_count": 5,
   "id": "79384d7b",
   "metadata": {},
   "outputs": [
    {
     "data": {
      "text/plain": [
       "[('name', 'Emdadul'), ('Education', ['SSC', 'HSC', 'BSC']), ('age', 27)]"
      ]
     },
     "execution_count": 5,
     "metadata": {},
     "output_type": "execute_result"
    }
   ],
   "source": [
    "list(dic.items())"
   ]
  },
  {
   "cell_type": "code",
   "execution_count": 6,
   "id": "115f1329",
   "metadata": {},
   "outputs": [
    {
     "data": {
      "text/plain": [
       "27"
      ]
     },
     "execution_count": 6,
     "metadata": {},
     "output_type": "execute_result"
    }
   ],
   "source": [
    "dic.pop(\"age\")"
   ]
  },
  {
   "cell_type": "code",
   "execution_count": 7,
   "id": "bed096b8",
   "metadata": {},
   "outputs": [
    {
     "data": {
      "text/plain": [
       "{'name': 'Emdadul', 'Education': ['SSC', 'HSC', 'BSC']}"
      ]
     },
     "execution_count": 7,
     "metadata": {},
     "output_type": "execute_result"
    }
   ],
   "source": [
    "dic"
   ]
  },
  {
   "cell_type": "code",
   "execution_count": 8,
   "id": "24a75f3a",
   "metadata": {},
   "outputs": [
    {
     "ename": "TypeError",
     "evalue": "pop expected at least 1 argument, got 0",
     "output_type": "error",
     "traceback": [
      "\u001b[0;31m---------------------------------------------------------------------------\u001b[0m",
      "\u001b[0;31mTypeError\u001b[0m                                 Traceback (most recent call last)",
      "Cell \u001b[0;32mIn[8], line 1\u001b[0m\n\u001b[0;32m----> 1\u001b[0m \u001b[43mdic\u001b[49m\u001b[38;5;241;43m.\u001b[39;49m\u001b[43mpop\u001b[49m\u001b[43m(\u001b[49m\u001b[43m)\u001b[49m\n",
      "\u001b[0;31mTypeError\u001b[0m: pop expected at least 1 argument, got 0"
     ]
    }
   ],
   "source": [
    "dic.pop()"
   ]
  },
  {
   "cell_type": "code",
   "execution_count": 9,
   "id": "c29dbfd6",
   "metadata": {},
   "outputs": [
    {
     "data": {
      "text/plain": [
       "('Education', ['SSC', 'HSC', 'BSC'])"
      ]
     },
     "execution_count": 9,
     "metadata": {},
     "output_type": "execute_result"
    }
   ],
   "source": [
    "dic.popitem()"
   ]
  },
  {
   "cell_type": "code",
   "execution_count": 10,
   "id": "63f7c013",
   "metadata": {},
   "outputs": [
    {
     "data": {
      "text/plain": [
       "{'name': 'Emdadul'}"
      ]
     },
     "execution_count": 10,
     "metadata": {},
     "output_type": "execute_result"
    }
   ],
   "source": [
    "dic"
   ]
  },
  {
   "cell_type": "code",
   "execution_count": 11,
   "id": "d1bbc0a0",
   "metadata": {},
   "outputs": [
    {
     "data": {
      "text/plain": [
       "('name', 'Emdadul')"
      ]
     },
     "execution_count": 11,
     "metadata": {},
     "output_type": "execute_result"
    }
   ],
   "source": [
    "dic.popitem()"
   ]
  },
  {
   "cell_type": "code",
   "execution_count": 12,
   "id": "44c9365f",
   "metadata": {},
   "outputs": [
    {
     "data": {
      "text/plain": [
       "{}"
      ]
     },
     "execution_count": 12,
     "metadata": {},
     "output_type": "execute_result"
    }
   ],
   "source": [
    "dic"
   ]
  },
  {
   "cell_type": "code",
   "execution_count": null,
   "id": "34cff488",
   "metadata": {},
   "outputs": [],
   "source": [
    "dic"
   ]
  }
 ],
 "metadata": {
  "kernelspec": {
   "display_name": "Python 3 (ipykernel)",
   "language": "python",
   "name": "python3"
  },
  "language_info": {
   "codemirror_mode": {
    "name": "ipython",
    "version": 3
   },
   "file_extension": ".py",
   "mimetype": "text/x-python",
   "name": "python",
   "nbconvert_exporter": "python",
   "pygments_lexer": "ipython3",
   "version": "3.10.6"
  }
 },
 "nbformat": 4,
 "nbformat_minor": 5
}
