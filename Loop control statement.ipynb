{
 "cells": [
  {
   "cell_type": "markdown",
   "id": "c6bbf610",
   "metadata": {},
   "source": [
    "PROGRAM 01: Write a program to add 10 consecutive numbers starting from 1 using the while loop."
   ]
  },
  {
   "cell_type": "code",
   "execution_count": 1,
   "id": "2c670bbd",
   "metadata": {},
   "outputs": [
    {
     "name": "stdout",
     "output_type": "stream",
     "text": [
      "55\n"
     ]
    }
   ],
   "source": [
    "count = 0\n",
    "sum = 0\n",
    "\n",
    "while count <= 10:\n",
    "    sum = sum + count \n",
    "    count = count +1 \n",
    "\n",
    "print(sum)"
   ]
  },
  {
   "cell_type": "markdown",
   "id": "ca47ecbd",
   "metadata": {},
   "source": [
    "Program 02: Write a program to ﬁnd the sum of the digits of a given number."
   ]
  },
  {
   "cell_type": "code",
   "execution_count": 17,
   "id": "aa9dbf91",
   "metadata": {},
   "outputs": [
    {
     "name": "stdout",
     "output_type": "stream",
     "text": [
      "Enter a number: 12345\n",
      "15\n"
     ]
    }
   ],
   "source": [
    "number = int(input(\"Enter a number: \"))\n",
    "rest_digit = number\n",
    "sum = 0\n",
    "\n",
    "\n",
    "while rest_digit > 0:\n",
    "    single_digit = rest_digit % 10\n",
    "    sum = sum + single_digit\n",
    "    rest_digit = rest_digit // 10\n",
    "\n",
    "print(sum)\n",
    "    \n",
    "    \n",
    "\n"
   ]
  },
  {
   "cell_type": "code",
   "execution_count": 5,
   "id": "23a9f814",
   "metadata": {},
   "outputs": [],
   "source": [
    "number = 1234 % 10"
   ]
  },
  {
   "cell_type": "code",
   "execution_count": 3,
   "id": "9115651a",
   "metadata": {},
   "outputs": [
    {
     "data": {
      "text/plain": [
       "4"
      ]
     },
     "execution_count": 3,
     "metadata": {},
     "output_type": "execute_result"
    }
   ],
   "source": [
    "number"
   ]
  },
  {
   "cell_type": "code",
   "execution_count": 12,
   "id": "5226cde0",
   "metadata": {},
   "outputs": [],
   "source": [
    "number = 1234 // 10000"
   ]
  },
  {
   "cell_type": "code",
   "execution_count": 13,
   "id": "e9924203",
   "metadata": {},
   "outputs": [
    {
     "data": {
      "text/plain": [
       "0"
      ]
     },
     "execution_count": 13,
     "metadata": {},
     "output_type": "execute_result"
    }
   ],
   "source": [
    "number"
   ]
  },
  {
   "cell_type": "markdown",
   "id": "4df900db",
   "metadata": {},
   "source": [
    "PROGRAM 03: Write a program to display the reverse of the number entered."
   ]
  },
  {
   "cell_type": "code",
   "execution_count": 21,
   "id": "9b8fe220",
   "metadata": {},
   "outputs": [
    {
     "name": "stdout",
     "output_type": "stream",
     "text": [
      "Enter a number: 1234\n",
      "4321\n"
     ]
    }
   ],
   "source": [
    "number = int(input(\"Enter a number: \"))\n",
    "rest_digit = number\n",
    "sum = 0\n",
    "\n",
    "\n",
    "while rest_digit > 0:\n",
    "    single_digit = rest_digit % 10\n",
    "    sum = sum*10 + single_digit\n",
    "  \n",
    "    rest_digit = rest_digit // 10\n",
    "\n",
    "print(sum)"
   ]
  },
  {
   "cell_type": "markdown",
   "id": "2d39fb2b",
   "metadata": {},
   "source": [
    "PROGRAM 04:  Write a program to print the sum of the numbers from 1 to 20 (1 and 20 are included) that are divisible by 5 using the while loop."
   ]
  },
  {
   "cell_type": "code",
   "execution_count": 22,
   "id": "328aa78f",
   "metadata": {},
   "outputs": [
    {
     "name": "stdout",
     "output_type": "stream",
     "text": [
      "50\n"
     ]
    }
   ],
   "source": [
    "number = 20 \n",
    "sum = 0\n",
    "while number >= 1:\n",
    "    \n",
    "    if number % 5 == 0:\n",
    "        sum = sum + number\n",
    "        number -= 1\n",
    "    else:\n",
    "        number -= 1\n",
    "print(sum)\n",
    "        \n",
    "    "
   ]
  },
  {
   "cell_type": "markdown",
   "id": "9023c6bd",
   "metadata": {},
   "source": [
    "PROGRAM 05: Write a program using the while loop to print the factorial of a number."
   ]
  },
  {
   "cell_type": "code",
   "execution_count": 26,
   "id": "3bd45d37",
   "metadata": {},
   "outputs": [
    {
     "name": "stdout",
     "output_type": "stream",
     "text": [
      "Enter a number: 6\n",
      "720\n"
     ]
    }
   ],
   "source": [
    "number = int(input(\"Enter a number: \"))\n",
    "factorial = 1\n",
    "while number >= 1:\n",
    "    factorial = factorial * number\n",
    "    number -= 1\n",
    "\n",
    "print(factorial)"
   ]
  },
  {
   "cell_type": "markdown",
   "id": "121bedfd",
   "metadata": {},
   "source": [
    "PROGRAM 06: Write a program to check whether the number entered is an Armstrong number or not."
   ]
  },
  {
   "cell_type": "code",
   "execution_count": 41,
   "id": "a51f69c3",
   "metadata": {
    "scrolled": true
   },
   "outputs": [
    {
     "name": "stdout",
     "output_type": "stream",
     "text": [
      "Enter a number: 1634\n",
      "The number is not armstrong number\n"
     ]
    }
   ],
   "source": [
    "number = int(input(\"Enter a number: \"))\n",
    "rest_digit = number\n",
    "sum = 0\n",
    "\n",
    "\n",
    "while rest_digit > 0:\n",
    "    single_digit = rest_digit % 10\n",
    "    sum = sum + (single_digit*single_digit*single_digit)\n",
    "    rest_digit = rest_digit // 10\n",
    "\n",
    "if number == sum:\n",
    "    print(\"The number is armstrong number\")\n",
    "else:\n",
    "    print(\"The number is not armstrong number\")"
   ]
  },
  {
   "cell_type": "code",
   "execution_count": 48,
   "id": "551972f6",
   "metadata": {},
   "outputs": [
    {
     "data": {
      "text/plain": [
       "[1, 4, 7, 10, 13, 16, 19]"
      ]
     },
     "execution_count": 48,
     "metadata": {},
     "output_type": "execute_result"
    }
   ],
   "source": [
    "list(range(1,22,3)) #range(start, finish, step)"
   ]
  },
  {
   "cell_type": "code",
   "execution_count": 51,
   "id": "7738a97a",
   "metadata": {},
   "outputs": [
    {
     "name": "stdout",
     "output_type": "stream",
     "text": [
      "1\n",
      "3\n",
      "5\n",
      "7\n",
      "9\n",
      "11\n",
      "13\n",
      "15\n",
      "17\n",
      "19\n"
     ]
    }
   ],
   "source": [
    "for i in range(1, 20,2):\n",
    "    print(i)"
   ]
  },
  {
   "cell_type": "markdown",
   "id": "8c8e33e8",
   "metadata": {},
   "source": [
    "PROGRAM 7: Display capital letters from A to Z."
   ]
  },
  {
   "cell_type": "code",
   "execution_count": 56,
   "id": "f0ef8387",
   "metadata": {},
   "outputs": [
    {
     "name": "stdout",
     "output_type": "stream",
     "text": [
      "The capital letters A to Z are as follows: \n",
      "A B C D E F G H I J K L M N O P Q R S T U V W X Y Z "
     ]
    }
   ],
   "source": [
    "print(\"The capital letters A to Z are as follows: \")\n",
    "\n",
    "for i in range(65,91):\n",
    "    print(chr(i), end=\" \")"
   ]
  },
  {
   "cell_type": "markdown",
   "id": "10e31ae2",
   "metadata": {},
   "source": [
    "PROGRAM 8: Use for loop to print numbers from 1 to 10 in the reverse order."
   ]
  },
  {
   "cell_type": "code",
   "execution_count": 57,
   "id": "d21563a5",
   "metadata": {},
   "outputs": [
    {
     "name": "stdout",
     "output_type": "stream",
     "text": [
      "Number from 1 to 10 in reverse order: \n",
      "10 9 8 7 6 5 4 3 2 1 "
     ]
    }
   ],
   "source": [
    "print(\"Number from 1 to 10 in reverse order: \")\n",
    "\n",
    "for i in range(10,0,-1):\n",
    "    print(i,end=\" \")"
   ]
  },
  {
   "cell_type": "markdown",
   "id": "ebf287b0",
   "metadata": {},
   "source": [
    "PROGRAM 09: Write a program to print even numbers from 0 to 10 and ﬁnd their sum."
   ]
  },
  {
   "cell_type": "code",
   "execution_count": 61,
   "id": "77a17343",
   "metadata": {},
   "outputs": [
    {
     "name": "stdout",
     "output_type": "stream",
     "text": [
      "0\n",
      "2\n",
      "4\n",
      "6\n",
      "8\n",
      "10\n",
      "Sum of even numbers from 0 to 10 is:  30\n"
     ]
    }
   ],
   "source": [
    "sum = 0\n",
    "\n",
    "for i in range(0, 11):\n",
    "    if i % 2 == 0:\n",
    "        print(i)\n",
    "        sum = sum + i\n",
    "print(\"Sum of even numbers from 0 to 10 is: \", sum)\n",
    "        "
   ]
  },
  {
   "cell_type": "markdown",
   "id": "9c9fef87",
   "metadata": {},
   "source": [
    "PROGRAM 10: Write a program to calculate the sum of numbers from 1 to 20 which are not divisible 2, 3 or 5."
   ]
  },
  {
   "cell_type": "code",
   "execution_count": 63,
   "id": "88e37b54",
   "metadata": {},
   "outputs": [
    {
     "name": "stdout",
     "output_type": "stream",
     "text": [
      "Numbers from 1 to 20 which are not divisible by 2, 3 and 5\n",
      "68\n"
     ]
    }
   ],
   "source": [
    "print(\"Numbers from 1 to 20 which are not divisible by 2, 3 and 5\")\n",
    "sum = 0\n",
    "for i in range(1, 21):\n",
    "    if i % 2 != 0 and i % 3 != 0 and i % 5 != 0:\n",
    "        sum = sum + i\n",
    "print(sum)"
   ]
  },
  {
   "cell_type": "markdown",
   "id": "f75af5ab",
   "metadata": {},
   "source": [
    "PROGRAM 11: Write a program to print namta "
   ]
  },
  {
   "cell_type": "code",
   "execution_count": 8,
   "id": "ed958409",
   "metadata": {},
   "outputs": [
    {
     "name": "stdout",
     "output_type": "stream",
     "text": [
      "1 * 1  =  1\n",
      "1 * 2  =  2\n",
      "1 * 3  =  3\n",
      "1 * 4  =  4\n",
      "1 * 5  =  5\n",
      "1 * 6  =  6\n",
      "1 * 7  =  7\n",
      "1 * 8  =  8\n",
      "1 * 9  =  9\n",
      "1 * 10  =  10\n",
      "-----------------------------------------\n",
      "2 * 1  =  2\n",
      "2 * 2  =  4\n",
      "2 * 3  =  6\n",
      "2 * 4  =  8\n",
      "2 * 5  =  10\n",
      "2 * 6  =  12\n",
      "2 * 7  =  14\n",
      "2 * 8  =  16\n",
      "2 * 9  =  18\n",
      "2 * 10  =  20\n",
      "-----------------------------------------\n",
      "3 * 1  =  3\n",
      "3 * 2  =  6\n",
      "3 * 3  =  9\n",
      "3 * 4  =  12\n",
      "3 * 5  =  15\n",
      "3 * 6  =  18\n",
      "3 * 7  =  21\n",
      "3 * 8  =  24\n",
      "3 * 9  =  27\n",
      "3 * 10  =  30\n",
      "-----------------------------------------\n",
      "4 * 1  =  4\n",
      "4 * 2  =  8\n",
      "4 * 3  =  12\n",
      "4 * 4  =  16\n",
      "4 * 5  =  20\n",
      "4 * 6  =  24\n",
      "4 * 7  =  28\n",
      "4 * 8  =  32\n",
      "4 * 9  =  36\n",
      "4 * 10  =  40\n",
      "-----------------------------------------\n",
      "5 * 1  =  5\n",
      "5 * 2  =  10\n",
      "5 * 3  =  15\n",
      "5 * 4  =  20\n",
      "5 * 5  =  25\n",
      "5 * 6  =  30\n",
      "5 * 7  =  35\n",
      "5 * 8  =  40\n",
      "5 * 9  =  45\n",
      "5 * 10  =  50\n",
      "-----------------------------------------\n",
      "6 * 1  =  6\n",
      "6 * 2  =  12\n",
      "6 * 3  =  18\n",
      "6 * 4  =  24\n",
      "6 * 5  =  30\n",
      "6 * 6  =  36\n",
      "6 * 7  =  42\n",
      "6 * 8  =  48\n",
      "6 * 9  =  54\n",
      "6 * 10  =  60\n",
      "-----------------------------------------\n",
      "7 * 1  =  7\n",
      "7 * 2  =  14\n",
      "7 * 3  =  21\n",
      "7 * 4  =  28\n",
      "7 * 5  =  35\n",
      "7 * 6  =  42\n",
      "7 * 7  =  49\n",
      "7 * 8  =  56\n",
      "7 * 9  =  63\n",
      "7 * 10  =  70\n",
      "-----------------------------------------\n",
      "8 * 1  =  8\n",
      "8 * 2  =  16\n",
      "8 * 3  =  24\n",
      "8 * 4  =  32\n",
      "8 * 5  =  40\n",
      "8 * 6  =  48\n",
      "8 * 7  =  56\n",
      "8 * 8  =  64\n",
      "8 * 9  =  72\n",
      "8 * 10  =  80\n",
      "-----------------------------------------\n",
      "9 * 1  =  9\n",
      "9 * 2  =  18\n",
      "9 * 3  =  27\n",
      "9 * 4  =  36\n",
      "9 * 5  =  45\n",
      "9 * 6  =  54\n",
      "9 * 7  =  63\n",
      "9 * 8  =  72\n",
      "9 * 9  =  81\n",
      "9 * 10  =  90\n",
      "-----------------------------------------\n",
      "10 * 1  =  10\n",
      "10 * 2  =  20\n",
      "10 * 3  =  30\n",
      "10 * 4  =  40\n",
      "10 * 5  =  50\n",
      "10 * 6  =  60\n",
      "10 * 7  =  70\n",
      "10 * 8  =  80\n",
      "10 * 9  =  90\n",
      "10 * 10  =  100\n",
      "-----------------------------------------\n",
      "11 * 1  =  11\n",
      "11 * 2  =  22\n",
      "11 * 3  =  33\n",
      "11 * 4  =  44\n",
      "11 * 5  =  55\n",
      "11 * 6  =  66\n",
      "11 * 7  =  77\n",
      "11 * 8  =  88\n",
      "11 * 9  =  99\n",
      "11 * 10  =  110\n",
      "-----------------------------------------\n",
      "12 * 1  =  12\n",
      "12 * 2  =  24\n",
      "12 * 3  =  36\n",
      "12 * 4  =  48\n",
      "12 * 5  =  60\n",
      "12 * 6  =  72\n",
      "12 * 7  =  84\n",
      "12 * 8  =  96\n",
      "12 * 9  =  108\n",
      "12 * 10  =  120\n",
      "-----------------------------------------\n",
      "13 * 1  =  13\n",
      "13 * 2  =  26\n",
      "13 * 3  =  39\n",
      "13 * 4  =  52\n",
      "13 * 5  =  65\n",
      "13 * 6  =  78\n",
      "13 * 7  =  91\n",
      "13 * 8  =  104\n",
      "13 * 9  =  117\n",
      "13 * 10  =  130\n",
      "-----------------------------------------\n",
      "14 * 1  =  14\n",
      "14 * 2  =  28\n",
      "14 * 3  =  42\n",
      "14 * 4  =  56\n",
      "14 * 5  =  70\n",
      "14 * 6  =  84\n",
      "14 * 7  =  98\n",
      "14 * 8  =  112\n",
      "14 * 9  =  126\n",
      "14 * 10  =  140\n",
      "-----------------------------------------\n",
      "15 * 1  =  15\n",
      "15 * 2  =  30\n",
      "15 * 3  =  45\n",
      "15 * 4  =  60\n",
      "15 * 5  =  75\n",
      "15 * 6  =  90\n",
      "15 * 7  =  105\n",
      "15 * 8  =  120\n",
      "15 * 9  =  135\n",
      "15 * 10  =  150\n",
      "-----------------------------------------\n",
      "16 * 1  =  16\n",
      "16 * 2  =  32\n",
      "16 * 3  =  48\n",
      "16 * 4  =  64\n",
      "16 * 5  =  80\n",
      "16 * 6  =  96\n",
      "16 * 7  =  112\n",
      "16 * 8  =  128\n",
      "16 * 9  =  144\n",
      "16 * 10  =  160\n",
      "-----------------------------------------\n",
      "17 * 1  =  17\n",
      "17 * 2  =  34\n",
      "17 * 3  =  51\n",
      "17 * 4  =  68\n",
      "17 * 5  =  85\n",
      "17 * 6  =  102\n",
      "17 * 7  =  119\n",
      "17 * 8  =  136\n",
      "17 * 9  =  153\n",
      "17 * 10  =  170\n",
      "-----------------------------------------\n",
      "18 * 1  =  18\n",
      "18 * 2  =  36\n",
      "18 * 3  =  54\n",
      "18 * 4  =  72\n",
      "18 * 5  =  90\n",
      "18 * 6  =  108\n",
      "18 * 7  =  126\n",
      "18 * 8  =  144\n",
      "18 * 9  =  162\n",
      "18 * 10  =  180\n",
      "-----------------------------------------\n",
      "19 * 1  =  19\n",
      "19 * 2  =  38\n",
      "19 * 3  =  57\n",
      "19 * 4  =  76\n",
      "19 * 5  =  95\n",
      "19 * 6  =  114\n",
      "19 * 7  =  133\n",
      "19 * 8  =  152\n",
      "19 * 9  =  171\n",
      "19 * 10  =  190\n",
      "-----------------------------------------\n",
      "20 * 1  =  20\n",
      "20 * 2  =  40\n",
      "20 * 3  =  60\n",
      "20 * 4  =  80\n",
      "20 * 5  =  100\n",
      "20 * 6  =  120\n",
      "20 * 7  =  140\n",
      "20 * 8  =  160\n",
      "20 * 9  =  180\n",
      "20 * 10  =  200\n",
      "-----------------------------------------\n"
     ]
    }
   ],
   "source": [
    "for i in range(1,21):\n",
    "    for j in range(1, 11):\n",
    "        print(i, \"*\",  j, \" = \", i * j)\n",
    "    print(\"-----------------------------------------\")"
   ]
  },
  {
   "cell_type": "markdown",
   "id": "e25fddd6",
   "metadata": {},
   "source": [
    "PROGRAM 12: Write a program to display multiplication tables from 1 to 5."
   ]
  },
  {
   "cell_type": "code",
   "execution_count": 21,
   "id": "2314c727",
   "metadata": {},
   "outputs": [
    {
     "name": "stdout",
     "output_type": "stream",
     "text": [
      "Multiplication Table from 1 to 5\n",
      "    1     2     3     4     5 \n",
      "    2     4     6     8    10 \n",
      "    3     6     9    12    15 \n",
      "    4     8    12    16    20 \n",
      "    5    10    15    20    25 \n",
      "    6    12    18    24    30 \n",
      "    7    14    21    28    35 \n",
      "    8    16    24    32    40 \n",
      "    9    18    27    36    45 \n",
      "   10    20    30    40    50 \n"
     ]
    }
   ],
   "source": [
    "print(\"Multiplication Table from 1 to 5\")\n",
    "\n",
    "for i in range(1, 11):\n",
    "    for j in range(1, 6):\n",
    "        print(format(i*j,\"5d\"),  end=\" \")\n",
    "    print()"
   ]
  },
  {
   "cell_type": "raw",
   "id": "8bb0562a",
   "metadata": {},
   "source": [
    "PROGRAM 13: Write a program to display the pattern of stars given as follows:\n",
    "*   *   *   *   *\n",
    "*   *   *   * \n",
    "*   *   *   \n",
    "*   *   \n",
    "*"
   ]
  },
  {
   "cell_type": "code",
   "execution_count": 36,
   "id": "469fe732",
   "metadata": {},
   "outputs": [
    {
     "name": "stdout",
     "output_type": "stream",
     "text": [
      "Star Pattern Display\n",
      " *   *   *   *   *   *  \n",
      " *   *   *   *   *  \n",
      " *   *   *   *  \n",
      " *   *   *  \n",
      " *   *  \n",
      " *  \n"
     ]
    }
   ],
   "source": [
    "print(\"Star Pattern Display\")\n",
    "\n",
    "for i in range(6):\n",
    "    for j in range(i, 6):\n",
    "        print(\" * \", end = \" \")\n",
    "    print()"
   ]
  },
  {
   "cell_type": "raw",
   "id": "795f1522",
   "metadata": {},
   "source": [
    "PROGRAM 14: Write a program to display the pattern of stars given as follows:\n",
    "\n",
    "*\n",
    "*  *\n",
    "*  *  *\n",
    "*  *  *  *\n",
    "*  *  *  *  *\n"
   ]
  },
  {
   "cell_type": "code",
   "execution_count": 29,
   "id": "9f6b5ccc",
   "metadata": {},
   "outputs": [
    {
     "name": "stdout",
     "output_type": "stream",
     "text": [
      "Star Pattern Display\n",
      " *  \n",
      " *   *  \n",
      " *   *   *  \n",
      " *   *   *   *  \n",
      " *   *   *   *   *  \n"
     ]
    }
   ],
   "source": [
    "print(\"Star Pattern Display\")\n",
    "\n",
    "for i in range(6):\n",
    "    for j in range(i):\n",
    "        print(\" * \", end = \" \")\n",
    "    print()\n",
    "        "
   ]
  },
  {
   "cell_type": "raw",
   "id": "e5378808",
   "metadata": {},
   "source": [
    "PROGRAM 15 Write a program to display the pattern of numbers given as follows:\n",
    "1\n",
    "1 2\n",
    "1 2 3\n",
    "1 2 3 4\n",
    "1 2 3 4 5"
   ]
  },
  {
   "cell_type": "code",
   "execution_count": 45,
   "id": "5474eb3a",
   "metadata": {},
   "outputs": [
    {
     "name": "stdout",
     "output_type": "stream",
     "text": [
      "Number Pattern Display\n",
      "1 \n",
      "1 2 \n",
      "1 2 3 \n",
      "1 2 3 4 \n",
      "1 2 3 4 5 \n"
     ]
    }
   ],
   "source": [
    "print(\"Number Pattern Display\")\n",
    "\n",
    "for i in range(1,6):\n",
    "    for j in range(1, i+1):\n",
    "        print(j, end=\" \")\n",
    "    print()"
   ]
  },
  {
   "cell_type": "raw",
   "id": "f231e654",
   "metadata": {},
   "source": [
    "PROGRAM 16: Write a program to display the pattern of numbers given as follows:\n",
    "1\n",
    "1 2\n",
    "1 2 3\n",
    "1 2 3 4\n",
    "1 2 3\n",
    "1 2\n",
    "1"
   ]
  },
  {
   "cell_type": "code",
   "execution_count": 46,
   "id": "46b0d2d7",
   "metadata": {},
   "outputs": [
    {
     "name": "stdout",
     "output_type": "stream",
     "text": [
      "Number Pattern Display\n",
      "1 \n",
      "1 2 \n",
      "1 2 3 \n",
      "1 2 3 4 \n",
      "1 2 3 4 5 \n",
      "1 2 3 4 5 6 \n",
      "1 2 3 4 5 6 7 \n"
     ]
    }
   ],
   "source": [
    "print(\"Number Pattern Display\")\n",
    "\n",
    "for i in range(1,8):\n",
    "    for j in range(1, i+1):\n",
    "        print(j, end=\" \")\n",
    "    print()"
   ]
  },
  {
   "cell_type": "raw",
   "id": "b464c3ba",
   "metadata": {},
   "source": [
    "Problem 17: Write a program to demostrate the use of the break statement"
   ]
  },
  {
   "cell_type": "code",
   "execution_count": 10,
   "id": "c8070b7a",
   "metadata": {},
   "outputs": [
    {
     "name": "stdout",
     "output_type": "stream",
     "text": [
      "A program to demostrate the use of the break statement\n",
      "1 2 3 4 5 6 7 8 9 10 \n",
      "Break statemnt test\n"
     ]
    }
   ],
   "source": [
    "print(\"A program to demostrate the use of the break statement\")\n",
    "\n",
    "for i in range(1, 100):\n",
    "    if i == 11:\n",
    "        break\n",
    "    else:\n",
    "        print(i, end=\" \")\n",
    "print(\"\\n\" \"Break statemnt test\")"
   ]
  },
  {
   "cell_type": "raw",
   "id": "3977dc32",
   "metadata": {},
   "source": [
    "Problem 18: Write a program to demostrate the use of the continue statement"
   ]
  },
  {
   "cell_type": "code",
   "execution_count": 15,
   "id": "f6c8b75b",
   "metadata": {},
   "outputs": [
    {
     "name": "stdout",
     "output_type": "stream",
     "text": [
      "A program to demostrate the use of the break statement\n",
      "1 2 3 4 "
     ]
    }
   ],
   "source": [
    "print(\"A program to demostrate the use of the break statement\")\n",
    "\n",
    "for i in range(1, 10):\n",
    "    if i == 5:\n",
    "        continue\n",
    "    print(i, end=\" \")\n",
    "   \n",
    "        \n",
    "    \n",
    "    "
   ]
  },
  {
   "cell_type": "raw",
   "id": "aebfc536",
   "metadata": {},
   "source": [
    "break & continue এর মধ্যে পার্থক্য হচ্ছে ব্রেক স্টেটমেন্ট ব্যবহার করলে পুরো প্রোগ্রাম বা লুপ থেকে বের করে দিবে আর কন্টনিউ স্টেটমেন্ট ব্যবহার করলে শুধুমাত্র সে টার পরের লাইনগুলো এক্সিকিউট না করে আবার লুপ এর কাছে চলে যায়। "
   ]
  },
  {
   "cell_type": "code",
   "execution_count": null,
   "id": "81c6b4c1",
   "metadata": {},
   "outputs": [],
   "source": []
  }
 ],
 "metadata": {
  "kernelspec": {
   "display_name": "Python 3 (ipykernel)",
   "language": "python",
   "name": "python3"
  },
  "language_info": {
   "codemirror_mode": {
    "name": "ipython",
    "version": 3
   },
   "file_extension": ".py",
   "mimetype": "text/x-python",
   "name": "python",
   "nbconvert_exporter": "python",
   "pygments_lexer": "ipython3",
   "version": "3.10.6"
  }
 },
 "nbformat": 4,
 "nbformat_minor": 5
}
