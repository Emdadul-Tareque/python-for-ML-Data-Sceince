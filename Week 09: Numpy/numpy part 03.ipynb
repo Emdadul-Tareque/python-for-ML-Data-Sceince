{
 "cells": [
  {
   "cell_type": "code",
   "execution_count": 1,
   "id": "32c983dd-38eb-4473-a639-da4650545b6d",
   "metadata": {},
   "outputs": [],
   "source": [
    "#sort, search, Counting Functions"
   ]
  },
  {
   "cell_type": "code",
   "execution_count": 2,
   "id": "730c6afc-1ab4-4d64-a8b1-e6aabd1f75c1",
   "metadata": {},
   "outputs": [],
   "source": [
    "import numpy as np"
   ]
  },
  {
   "cell_type": "code",
   "execution_count": 3,
   "id": "220cd4d0-3258-47d5-8be9-35d3426def4a",
   "metadata": {},
   "outputs": [],
   "source": [
    "arr = np.array([4, 1, 2, 3, 1, 9, 4, 5, 6])"
   ]
  },
  {
   "cell_type": "code",
   "execution_count": 4,
   "id": "a85682d4-3dd9-4225-b9bc-2b978f26973e",
   "metadata": {},
   "outputs": [
    {
     "data": {
      "text/plain": [
       "array([1, 1, 2, 3, 4, 4, 5, 6, 9])"
      ]
     },
     "execution_count": 4,
     "metadata": {},
     "output_type": "execute_result"
    }
   ],
   "source": [
    "np.sort(arr)"
   ]
  },
  {
   "cell_type": "code",
   "execution_count": 5,
   "id": "b05377f2-2e55-4fdc-b7db-2d2644ea8d54",
   "metadata": {},
   "outputs": [
    {
     "data": {
      "text/plain": [
       "9"
      ]
     },
     "execution_count": 5,
     "metadata": {},
     "output_type": "execute_result"
    }
   ],
   "source": [
    "np.searchsorted(arr, 34)"
   ]
  },
  {
   "cell_type": "code",
   "execution_count": 6,
   "id": "cb112cf3-2064-4e50-8c93-6b0b0ff25934",
   "metadata": {},
   "outputs": [],
   "source": [
    "arr1 = np.array([0, 2, 123, 12453, 123, 0, 9, 0, 0, 0])"
   ]
  },
  {
   "cell_type": "code",
   "execution_count": 7,
   "id": "b7a40ee0-9560-47ad-acb7-143037978a49",
   "metadata": {},
   "outputs": [
    {
     "data": {
      "text/plain": [
       "5"
      ]
     },
     "execution_count": 7,
     "metadata": {},
     "output_type": "execute_result"
    }
   ],
   "source": [
    "np.count_nonzero(arr1)"
   ]
  },
  {
   "cell_type": "code",
   "execution_count": 8,
   "id": "681a2f8e-6696-4c27-9e26-239e9a7fa79b",
   "metadata": {},
   "outputs": [
    {
     "data": {
      "text/plain": [
       "array([4, 1, 2, 3, 1, 9, 4, 5, 6])"
      ]
     },
     "execution_count": 8,
     "metadata": {},
     "output_type": "execute_result"
    }
   ],
   "source": [
    "arr"
   ]
  },
  {
   "cell_type": "code",
   "execution_count": 10,
   "id": "920be0ad-c6fc-4b24-a15c-5778d7f2c863",
   "metadata": {},
   "outputs": [
    {
     "data": {
      "text/plain": [
       "(array([5]),)"
      ]
     },
     "execution_count": 10,
     "metadata": {},
     "output_type": "execute_result"
    }
   ],
   "source": [
    "np.where(arr > 6)"
   ]
  },
  {
   "cell_type": "code",
   "execution_count": 11,
   "id": "1c7884ba-fdd0-4612-b7e4-5053f74024ce",
   "metadata": {},
   "outputs": [
    {
     "data": {
      "text/plain": [
       "(array([0, 5, 6, 7, 8]),)"
      ]
     },
     "execution_count": 11,
     "metadata": {},
     "output_type": "execute_result"
    }
   ],
   "source": [
    "np.where(arr > 3)"
   ]
  },
  {
   "cell_type": "code",
   "execution_count": 14,
   "id": "a54d71ee-77cc-4d21-8e16-8d70b9038ea8",
   "metadata": {},
   "outputs": [
    {
     "data": {
      "text/plain": [
       "array([4, 9, 4, 5, 6])"
      ]
     },
     "execution_count": 14,
     "metadata": {},
     "output_type": "execute_result"
    }
   ],
   "source": [
    "np.extract(arr > 3, arr)"
   ]
  },
  {
   "cell_type": "code",
   "execution_count": 15,
   "id": "b55e77c8-f6df-4f0e-91ea-4151dece041c",
   "metadata": {},
   "outputs": [],
   "source": [
    "#Numpy - Byte Swapping"
   ]
  },
  {
   "cell_type": "code",
   "execution_count": 16,
   "id": "3b3565af-7320-4460-9a3c-58fb6b5010d8",
   "metadata": {},
   "outputs": [
    {
     "data": {
      "text/plain": [
       "array([288230376151711744,  72057594037927936, 144115188075855872,\n",
       "       216172782113783808,  72057594037927936, 648518346341351424,\n",
       "       288230376151711744, 360287970189639680, 432345564227567616])"
      ]
     },
     "execution_count": 16,
     "metadata": {},
     "output_type": "execute_result"
    }
   ],
   "source": [
    "arr.byteswap()"
   ]
  },
  {
   "cell_type": "code",
   "execution_count": 17,
   "id": "85fe3335-9afe-4727-bed3-96007b709d67",
   "metadata": {},
   "outputs": [],
   "source": [
    "#Numpy - Copies & Views"
   ]
  },
  {
   "cell_type": "code",
   "execution_count": 18,
   "id": "5854bdbd-eb8a-453b-a525-04fba752747b",
   "metadata": {},
   "outputs": [],
   "source": [
    "a = np.copy(arr)"
   ]
  },
  {
   "cell_type": "code",
   "execution_count": 19,
   "id": "d9c74a82-6cd1-482d-aa86-8cb4bd2bce62",
   "metadata": {},
   "outputs": [
    {
     "data": {
      "text/plain": [
       "array([4, 1, 2, 3, 1, 9, 4, 5, 6])"
      ]
     },
     "execution_count": 19,
     "metadata": {},
     "output_type": "execute_result"
    }
   ],
   "source": [
    "a"
   ]
  },
  {
   "cell_type": "code",
   "execution_count": 20,
   "id": "939adc61-a4a0-4eee-a9b0-eb8a94a9432c",
   "metadata": {},
   "outputs": [
    {
     "data": {
      "text/plain": [
       "140539568719216"
      ]
     },
     "execution_count": 20,
     "metadata": {},
     "output_type": "execute_result"
    }
   ],
   "source": [
    "id(a)"
   ]
  },
  {
   "cell_type": "code",
   "execution_count": 21,
   "id": "d18b2576-5a1f-4c8a-af49-0d4cd88ba614",
   "metadata": {},
   "outputs": [
    {
     "data": {
      "text/plain": [
       "140539572743952"
      ]
     },
     "execution_count": 21,
     "metadata": {},
     "output_type": "execute_result"
    }
   ],
   "source": [
    "id(arr)"
   ]
  },
  {
   "cell_type": "code",
   "execution_count": 22,
   "id": "16ecd523-ae7a-4eb7-ad47-286a13ae6861",
   "metadata": {},
   "outputs": [],
   "source": [
    "b = arr.view()"
   ]
  },
  {
   "cell_type": "code",
   "execution_count": 23,
   "id": "a5327c12-00f3-43da-9380-944d8feb1ba1",
   "metadata": {},
   "outputs": [
    {
     "data": {
      "text/plain": [
       "array([4, 1, 2, 3, 1, 9, 4, 5, 6])"
      ]
     },
     "execution_count": 23,
     "metadata": {},
     "output_type": "execute_result"
    }
   ],
   "source": [
    "b"
   ]
  },
  {
   "cell_type": "code",
   "execution_count": 24,
   "id": "55041734-db78-4d19-a49b-3bcc8fb4da80",
   "metadata": {},
   "outputs": [],
   "source": [
    "b[0] = 67"
   ]
  },
  {
   "cell_type": "code",
   "execution_count": 25,
   "id": "3aa2af0a-b7cb-45d4-bff7-269e206016c3",
   "metadata": {},
   "outputs": [
    {
     "data": {
      "text/plain": [
       "array([67,  1,  2,  3,  1,  9,  4,  5,  6])"
      ]
     },
     "execution_count": 25,
     "metadata": {},
     "output_type": "execute_result"
    }
   ],
   "source": [
    "b"
   ]
  },
  {
   "cell_type": "code",
   "execution_count": 26,
   "id": "63c4a7a3-128d-4800-ad9b-79be19883bd8",
   "metadata": {},
   "outputs": [
    {
     "data": {
      "text/plain": [
       "array([67,  1,  2,  3,  1,  9,  4,  5,  6])"
      ]
     },
     "execution_count": 26,
     "metadata": {},
     "output_type": "execute_result"
    }
   ],
   "source": [
    "arr"
   ]
  },
  {
   "cell_type": "code",
   "execution_count": 27,
   "id": "363f8cca-fab2-4617-b08d-7fed76ff43b4",
   "metadata": {},
   "outputs": [
    {
     "data": {
      "text/plain": [
       "140539572744624"
      ]
     },
     "execution_count": 27,
     "metadata": {},
     "output_type": "execute_result"
    }
   ],
   "source": [
    "id(b)"
   ]
  },
  {
   "cell_type": "code",
   "execution_count": 28,
   "id": "aaa1c779-a296-4210-9ddb-e188b8a2a0a0",
   "metadata": {},
   "outputs": [
    {
     "data": {
      "text/plain": [
       "140539572743952"
      ]
     },
     "execution_count": 28,
     "metadata": {},
     "output_type": "execute_result"
    }
   ],
   "source": [
    "id(arr)"
   ]
  },
  {
   "cell_type": "code",
   "execution_count": 29,
   "id": "6d0b762f-a8fd-42f3-8a72-a0808b3bf293",
   "metadata": {},
   "outputs": [],
   "source": [
    "#Numpy - Matrix Library"
   ]
  },
  {
   "cell_type": "code",
   "execution_count": 30,
   "id": "77b8e130-a76d-491e-9f14-0435a7941051",
   "metadata": {},
   "outputs": [],
   "source": [
    "import numpy.matlib as nm"
   ]
  },
  {
   "cell_type": "code",
   "execution_count": 31,
   "id": "d2e6a17d-563c-456f-88e2-9b5babb310e9",
   "metadata": {},
   "outputs": [
    {
     "data": {
      "text/plain": [
       "matrix([[0., 0., 0., 0., 0.]])"
      ]
     },
     "execution_count": 31,
     "metadata": {},
     "output_type": "execute_result"
    }
   ],
   "source": [
    "nm.zeros(5)"
   ]
  },
  {
   "cell_type": "code",
   "execution_count": 32,
   "id": "12d390aa-1752-45a1-99de-87d04c255c2a",
   "metadata": {},
   "outputs": [
    {
     "data": {
      "text/plain": [
       "matrix([[1., 1., 1., 1.],\n",
       "        [1., 1., 1., 1.],\n",
       "        [1., 1., 1., 1.]])"
      ]
     },
     "execution_count": 32,
     "metadata": {},
     "output_type": "execute_result"
    }
   ],
   "source": [
    "nm.ones((3,4))"
   ]
  },
  {
   "cell_type": "code",
   "execution_count": 33,
   "id": "5f434236-1c63-4db4-9102-633c088db482",
   "metadata": {},
   "outputs": [
    {
     "data": {
      "text/plain": [
       "matrix([[1., 0., 0., 0., 0.],\n",
       "        [0., 1., 0., 0., 0.],\n",
       "        [0., 0., 1., 0., 0.],\n",
       "        [0., 0., 0., 1., 0.],\n",
       "        [0., 0., 0., 0., 1.]])"
      ]
     },
     "execution_count": 33,
     "metadata": {},
     "output_type": "execute_result"
    }
   ],
   "source": [
    "nm.eye(5)"
   ]
  },
  {
   "cell_type": "code",
   "execution_count": 34,
   "id": "90f1473c-0645-410b-8d12-484406acd08f",
   "metadata": {},
   "outputs": [],
   "source": [
    "#numpy - linear algebra"
   ]
  },
  {
   "cell_type": "code",
   "execution_count": 39,
   "id": "8a68e5bf-139e-4384-baa8-f75b90b02569",
   "metadata": {},
   "outputs": [],
   "source": [
    "arr1 = np.random.randint([[2,3], [4, 5]])"
   ]
  },
  {
   "cell_type": "code",
   "execution_count": 40,
   "id": "76468f8c-1810-41c1-b26a-962c68bbde34",
   "metadata": {},
   "outputs": [
    {
     "data": {
      "text/plain": [
       "array([[0, 2],\n",
       "       [1, 3]])"
      ]
     },
     "execution_count": 40,
     "metadata": {},
     "output_type": "execute_result"
    }
   ],
   "source": [
    "arr1"
   ]
  },
  {
   "cell_type": "code",
   "execution_count": 41,
   "id": "80b7ca15-aa14-46db-995e-c60ff81df911",
   "metadata": {},
   "outputs": [],
   "source": [
    "arr2 = np.random.randint([[5,3], [2, 5]])"
   ]
  },
  {
   "cell_type": "code",
   "execution_count": 42,
   "id": "d6ed762a-59f8-41b3-9f87-baed6d3705dc",
   "metadata": {},
   "outputs": [
    {
     "data": {
      "text/plain": [
       "array([[2, 2],\n",
       "       [1, 2]])"
      ]
     },
     "execution_count": 42,
     "metadata": {},
     "output_type": "execute_result"
    }
   ],
   "source": [
    "arr2"
   ]
  },
  {
   "cell_type": "code",
   "execution_count": 43,
   "id": "0e85b229-ead1-4f5e-b3a1-cbb2e3e50ae0",
   "metadata": {},
   "outputs": [
    {
     "data": {
      "text/plain": [
       "array([[2, 4],\n",
       "       [5, 8]])"
      ]
     },
     "execution_count": 43,
     "metadata": {},
     "output_type": "execute_result"
    }
   ],
   "source": [
    "np.dot(arr1, arr2)"
   ]
  },
  {
   "cell_type": "code",
   "execution_count": 44,
   "id": "4498c7bb-c4f9-409d-b46c-32b0e59ba2c0",
   "metadata": {},
   "outputs": [
    {
     "data": {
      "text/plain": [
       "array([[2, 4],\n",
       "       [5, 8]])"
      ]
     },
     "execution_count": 44,
     "metadata": {},
     "output_type": "execute_result"
    }
   ],
   "source": [
    "arr1@arr2"
   ]
  },
  {
   "cell_type": "code",
   "execution_count": null,
   "id": "1d5e250d-6d95-468c-893b-97c6642f87d9",
   "metadata": {},
   "outputs": [],
   "source": []
  }
 ],
 "metadata": {
  "kernelspec": {
   "display_name": "Python 3 (ipykernel)",
   "language": "python",
   "name": "python3"
  },
  "language_info": {
   "codemirror_mode": {
    "name": "ipython",
    "version": 3
   },
   "file_extension": ".py",
   "mimetype": "text/x-python",
   "name": "python",
   "nbconvert_exporter": "python",
   "pygments_lexer": "ipython3",
   "version": "3.10.8"
  }
 },
 "nbformat": 4,
 "nbformat_minor": 5
}
