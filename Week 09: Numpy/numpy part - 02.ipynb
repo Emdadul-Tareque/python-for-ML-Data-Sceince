{
 "cells": [
  {
   "cell_type": "code",
   "execution_count": 3,
   "id": "0aef7340-c47a-4ada-9b47-b463aa5f2a2d",
   "metadata": {},
   "outputs": [],
   "source": [
    "#Numpy - Array Manipulation "
   ]
  },
  {
   "cell_type": "code",
   "execution_count": 4,
   "id": "b9868f4b-6c29-43b3-83ae-fd18274db936",
   "metadata": {},
   "outputs": [],
   "source": [
    "import numpy as np"
   ]
  },
  {
   "cell_type": "code",
   "execution_count": 5,
   "id": "c50f50fe-8a42-4d5c-b31f-b73302387762",
   "metadata": {},
   "outputs": [],
   "source": [
    "arr  = np.random.randint(1, 100, (3, 4))"
   ]
  },
  {
   "cell_type": "code",
   "execution_count": 6,
   "id": "9b0372ce-cd11-41c1-9fcd-24da0402bd9f",
   "metadata": {},
   "outputs": [
    {
     "data": {
      "text/plain": [
       "array([[44, 43, 90, 77],\n",
       "       [ 9, 76, 48, 55],\n",
       "       [64, 79, 86, 57]])"
      ]
     },
     "execution_count": 6,
     "metadata": {},
     "output_type": "execute_result"
    }
   ],
   "source": [
    "arr"
   ]
  },
  {
   "cell_type": "code",
   "execution_count": 7,
   "id": "2ca4f351-2a9e-404b-b7fc-1ef15a04b1b9",
   "metadata": {},
   "outputs": [
    {
     "data": {
      "text/plain": [
       "array([[44, 43],\n",
       "       [90, 77],\n",
       "       [ 9, 76],\n",
       "       [48, 55],\n",
       "       [64, 79],\n",
       "       [86, 57]])"
      ]
     },
     "execution_count": 7,
     "metadata": {},
     "output_type": "execute_result"
    }
   ],
   "source": [
    "arr.reshape((6,2))"
   ]
  },
  {
   "cell_type": "code",
   "execution_count": 8,
   "id": "cd298a21-b009-4cb1-9e86-3165f8eb48da",
   "metadata": {},
   "outputs": [
    {
     "data": {
      "text/plain": [
       "array([[44,  9, 64],\n",
       "       [43, 76, 79],\n",
       "       [90, 48, 86],\n",
       "       [77, 55, 57]])"
      ]
     },
     "execution_count": 8,
     "metadata": {},
     "output_type": "execute_result"
    }
   ],
   "source": [
    "arr.T"
   ]
  },
  {
   "cell_type": "code",
   "execution_count": 9,
   "id": "a272d902-e579-4c68-9c42-25ae5575ca1e",
   "metadata": {},
   "outputs": [
    {
     "data": {
      "text/plain": [
       "array([44, 43, 90, 77,  9, 76, 48, 55, 64, 79, 86, 57])"
      ]
     },
     "execution_count": 9,
     "metadata": {},
     "output_type": "execute_result"
    }
   ],
   "source": [
    "arr.flatten()"
   ]
  },
  {
   "cell_type": "code",
   "execution_count": 10,
   "id": "4a2978fc-1ede-4fa5-8bb3-ee0623aac2be",
   "metadata": {},
   "outputs": [],
   "source": [
    "arr1 = np.array([1, 2, 3, 4])"
   ]
  },
  {
   "cell_type": "code",
   "execution_count": 11,
   "id": "ab8049ff-e568-4ba1-9d59-ad269984b71e",
   "metadata": {},
   "outputs": [
    {
     "data": {
      "text/plain": [
       "array([[1],\n",
       "       [2],\n",
       "       [3],\n",
       "       [4]])"
      ]
     },
     "execution_count": 11,
     "metadata": {},
     "output_type": "execute_result"
    }
   ],
   "source": [
    "np.expand_dims(arr1, axis=1)"
   ]
  },
  {
   "cell_type": "code",
   "execution_count": 12,
   "id": "5a2985f0-c119-470c-ac8d-594a2fb3f235",
   "metadata": {},
   "outputs": [
    {
     "data": {
      "text/plain": [
       "array([[1, 2, 3, 4]])"
      ]
     },
     "execution_count": 12,
     "metadata": {},
     "output_type": "execute_result"
    }
   ],
   "source": [
    "np.expand_dims(arr1, axis=0)"
   ]
  },
  {
   "cell_type": "code",
   "execution_count": 13,
   "id": "3d9ed075-0d68-46ba-9ba6-ece76ed9433e",
   "metadata": {},
   "outputs": [],
   "source": [
    "arr2 = np.array([[1], [2], [3]])"
   ]
  },
  {
   "cell_type": "code",
   "execution_count": 14,
   "id": "0bcd1aa4-5f6f-4178-8989-141591b10fea",
   "metadata": {},
   "outputs": [
    {
     "data": {
      "text/plain": [
       "array([[1],\n",
       "       [2],\n",
       "       [3]])"
      ]
     },
     "execution_count": 14,
     "metadata": {},
     "output_type": "execute_result"
    }
   ],
   "source": [
    "arr2"
   ]
  },
  {
   "cell_type": "code",
   "execution_count": 15,
   "id": "426d454b-1dbe-44f4-9047-0841f1f0c95e",
   "metadata": {},
   "outputs": [
    {
     "data": {
      "text/plain": [
       "array([1, 2, 3])"
      ]
     },
     "execution_count": 15,
     "metadata": {},
     "output_type": "execute_result"
    }
   ],
   "source": [
    "arr2.squeeze()"
   ]
  },
  {
   "cell_type": "code",
   "execution_count": 16,
   "id": "e9b2d841-e725-47a5-be28-790ed5689964",
   "metadata": {},
   "outputs": [
    {
     "data": {
      "text/plain": [
       "array([[44, 43, 90, 77],\n",
       "       [ 9, 76, 48, 55],\n",
       "       [64, 79, 86, 57]])"
      ]
     },
     "execution_count": 16,
     "metadata": {},
     "output_type": "execute_result"
    }
   ],
   "source": [
    "arr"
   ]
  },
  {
   "cell_type": "code",
   "execution_count": 17,
   "id": "89480583-ed0c-44db-8f0e-a7350656c561",
   "metadata": {},
   "outputs": [
    {
     "data": {
      "text/plain": [
       "array([[44, 43, 90, 77],\n",
       "       [ 9, 76, 48, 55],\n",
       "       [64, 79, 86, 57]])"
      ]
     },
     "execution_count": 17,
     "metadata": {},
     "output_type": "execute_result"
    }
   ],
   "source": [
    "arr.squeeze()"
   ]
  },
  {
   "cell_type": "code",
   "execution_count": 22,
   "id": "0dd0261c-dd9a-4750-8cf9-cfcbedc4a1e6",
   "metadata": {},
   "outputs": [],
   "source": [
    "#squeeze ফাংশন শুধু তখনই কাজ করবে যখন টু ডাইমেনশন এরেতে প্রতিটা এরেতে একটা করে ভ্যালু থাকবে। "
   ]
  },
  {
   "cell_type": "code",
   "execution_count": 23,
   "id": "69b3348e-08c4-41a1-9b9a-6e82029983c5",
   "metadata": {},
   "outputs": [
    {
     "data": {
      "text/plain": [
       "array([1, 2, 3, 4])"
      ]
     },
     "execution_count": 23,
     "metadata": {},
     "output_type": "execute_result"
    }
   ],
   "source": [
    "arr1"
   ]
  },
  {
   "cell_type": "code",
   "execution_count": 24,
   "id": "c46212c9-c5dd-4f90-8882-ad9887b1a2cd",
   "metadata": {},
   "outputs": [
    {
     "data": {
      "text/plain": [
       "array([1, 1, 2, 2, 3, 3, 4, 4])"
      ]
     },
     "execution_count": 24,
     "metadata": {},
     "output_type": "execute_result"
    }
   ],
   "source": [
    "np.repeat(arr1, 2)"
   ]
  },
  {
   "cell_type": "code",
   "execution_count": 25,
   "id": "81b59111-97d9-46e8-9c4f-f161917c16fe",
   "metadata": {},
   "outputs": [
    {
     "data": {
      "text/plain": [
       "array([3, 4, 1, 2])"
      ]
     },
     "execution_count": 25,
     "metadata": {},
     "output_type": "execute_result"
    }
   ],
   "source": [
    "np.roll(arr1, 2)"
   ]
  },
  {
   "cell_type": "code",
   "execution_count": 26,
   "id": "94f61f71-e8ac-4da9-abe9-15ef0f8a0006",
   "metadata": {},
   "outputs": [
    {
     "data": {
      "text/plain": [
       "array([[1, 0, 0, 0],\n",
       "       [0, 2, 0, 0],\n",
       "       [0, 0, 3, 0],\n",
       "       [0, 0, 0, 4]])"
      ]
     },
     "execution_count": 26,
     "metadata": {},
     "output_type": "execute_result"
    }
   ],
   "source": [
    "np.diag(arr1)"
   ]
  },
  {
   "cell_type": "code",
   "execution_count": 27,
   "id": "1ef36b6a-e0fd-4199-b46e-393ab1ed905d",
   "metadata": {},
   "outputs": [],
   "source": [
    "#numpy-Binary Operations"
   ]
  },
  {
   "cell_type": "code",
   "execution_count": 29,
   "id": "aa395468-7b6e-48df-b9a1-0abeedb1c550",
   "metadata": {},
   "outputs": [],
   "source": [
    "arr1 = np.random.randint(1, 10, (3, 3))"
   ]
  },
  {
   "cell_type": "code",
   "execution_count": 30,
   "id": "48c5b512-0229-4d6a-86e9-77fe9fad7b8c",
   "metadata": {},
   "outputs": [],
   "source": [
    "arr2 = np.random.randint(1, 10, (3, 3))"
   ]
  },
  {
   "cell_type": "code",
   "execution_count": 31,
   "id": "04570b7f-f43e-438a-a467-f710bda210d9",
   "metadata": {},
   "outputs": [
    {
     "data": {
      "text/plain": [
       "array([[4, 9, 6],\n",
       "       [8, 5, 6],\n",
       "       [3, 6, 3]])"
      ]
     },
     "execution_count": 31,
     "metadata": {},
     "output_type": "execute_result"
    }
   ],
   "source": [
    "arr1"
   ]
  },
  {
   "cell_type": "code",
   "execution_count": 32,
   "id": "3875b659-85d4-4f42-b63c-6be331a7861d",
   "metadata": {},
   "outputs": [
    {
     "data": {
      "text/plain": [
       "array([[4, 7, 1],\n",
       "       [1, 4, 9],\n",
       "       [7, 5, 9]])"
      ]
     },
     "execution_count": 32,
     "metadata": {},
     "output_type": "execute_result"
    }
   ],
   "source": [
    "arr2"
   ]
  },
  {
   "cell_type": "code",
   "execution_count": 33,
   "id": "be3cc65d-2f7f-438a-abe0-c4e94c82b32b",
   "metadata": {},
   "outputs": [
    {
     "data": {
      "text/plain": [
       "array([[ 8, 16,  7],\n",
       "       [ 9,  9, 15],\n",
       "       [10, 11, 12]])"
      ]
     },
     "execution_count": 33,
     "metadata": {},
     "output_type": "execute_result"
    }
   ],
   "source": [
    "arr1+arr2"
   ]
  },
  {
   "cell_type": "code",
   "execution_count": 34,
   "id": "53fe64bb-5ce5-43e8-af91-006d25deba60",
   "metadata": {},
   "outputs": [
    {
     "data": {
      "text/plain": [
       "array([[ 0,  2,  5],\n",
       "       [ 7,  1, -3],\n",
       "       [-4,  1, -6]])"
      ]
     },
     "execution_count": 34,
     "metadata": {},
     "output_type": "execute_result"
    }
   ],
   "source": [
    "arr1-arr2"
   ]
  },
  {
   "cell_type": "code",
   "execution_count": 35,
   "id": "b61afd80-7289-4d76-b8d6-469641edeea1",
   "metadata": {},
   "outputs": [
    {
     "data": {
      "text/plain": [
       "array([[16, 63,  6],\n",
       "       [ 8, 20, 54],\n",
       "       [21, 30, 27]])"
      ]
     },
     "execution_count": 35,
     "metadata": {},
     "output_type": "execute_result"
    }
   ],
   "source": [
    "arr1*arr2"
   ]
  },
  {
   "cell_type": "code",
   "execution_count": 36,
   "id": "5077a0e8-aa39-46a9-b926-8c535c69f58d",
   "metadata": {},
   "outputs": [
    {
     "data": {
      "text/plain": [
       "array([[0, 2, 0],\n",
       "       [0, 1, 6],\n",
       "       [3, 1, 3]])"
      ]
     },
     "execution_count": 36,
     "metadata": {},
     "output_type": "execute_result"
    }
   ],
   "source": [
    "arr1%arr2"
   ]
  },
  {
   "cell_type": "code",
   "execution_count": 37,
   "id": "067c1abf-f44b-4762-9de3-b9a673b126b2",
   "metadata": {},
   "outputs": [
    {
     "data": {
      "text/plain": [
       "array([[4, 1, 0],\n",
       "       [0, 4, 0],\n",
       "       [3, 4, 1]])"
      ]
     },
     "execution_count": 37,
     "metadata": {},
     "output_type": "execute_result"
    }
   ],
   "source": [
    "arr1&arr2"
   ]
  },
  {
   "cell_type": "code",
   "execution_count": 38,
   "id": "59909fdb-1744-403a-b556-281c2f7f9c36",
   "metadata": {},
   "outputs": [
    {
     "data": {
      "text/plain": [
       "array([[ -5, -10,  -7],\n",
       "       [ -9,  -6,  -7],\n",
       "       [ -4,  -7,  -4]])"
      ]
     },
     "execution_count": 38,
     "metadata": {},
     "output_type": "execute_result"
    }
   ],
   "source": [
    "~arr1"
   ]
  },
  {
   "cell_type": "code",
   "execution_count": 39,
   "id": "98587831-47e8-4456-bd61-e4423c7b57d1",
   "metadata": {},
   "outputs": [
    {
     "data": {
      "text/plain": [
       "array([[False,  True,  True],\n",
       "       [ True,  True, False],\n",
       "       [False,  True, False]])"
      ]
     },
     "execution_count": 39,
     "metadata": {},
     "output_type": "execute_result"
    }
   ],
   "source": [
    "arr1>arr2"
   ]
  },
  {
   "cell_type": "code",
   "execution_count": 41,
   "id": "63277ba6-435c-4024-83c4-594d9fc4490e",
   "metadata": {},
   "outputs": [
    {
     "data": {
      "text/plain": [
       "array([9, 6, 8, 5, 6])"
      ]
     },
     "execution_count": 41,
     "metadata": {},
     "output_type": "execute_result"
    }
   ],
   "source": [
    "arr1[arr1>arr2]"
   ]
  },
  {
   "cell_type": "code",
   "execution_count": 42,
   "id": "5e6ee6f4-981e-4b7e-b4aa-0ef0fc4b2d98",
   "metadata": {},
   "outputs": [],
   "source": [
    "#Numpy - String Functions"
   ]
  },
  {
   "cell_type": "code",
   "execution_count": 44,
   "id": "19f109be-db29-43ff-b54b-c7a122bb8341",
   "metadata": {},
   "outputs": [],
   "source": [
    "arr = np.array([\"emdadul\", \"tareque\"])"
   ]
  },
  {
   "cell_type": "code",
   "execution_count": 45,
   "id": "c1b92ce8-969e-4caf-bcaf-7fc8d22fcb04",
   "metadata": {},
   "outputs": [
    {
     "data": {
      "text/plain": [
       "array(['EMDADUL', 'TAREQUE'], dtype='<U7')"
      ]
     },
     "execution_count": 45,
     "metadata": {},
     "output_type": "execute_result"
    }
   ],
   "source": [
    "np.char.upper(arr)"
   ]
  },
  {
   "cell_type": "code",
   "execution_count": 46,
   "id": "9bcfae79-0ad9-4886-9dce-681cd78338cc",
   "metadata": {},
   "outputs": [
    {
     "data": {
      "text/plain": [
       "array(['Emdadul', 'Tareque'], dtype='<U7')"
      ]
     },
     "execution_count": 46,
     "metadata": {},
     "output_type": "execute_result"
    }
   ],
   "source": [
    "np.char.title(arr)"
   ]
  },
  {
   "cell_type": "code",
   "execution_count": 47,
   "id": "8df40d32-c719-4aad-bcdb-578f66f91f1e",
   "metadata": {},
   "outputs": [
    {
     "data": {
      "text/plain": [
       "array(['Emdadul', 'Tareque'], dtype='<U7')"
      ]
     },
     "execution_count": 47,
     "metadata": {},
     "output_type": "execute_result"
    }
   ],
   "source": [
    "np.char.capitalize(arr)"
   ]
  },
  {
   "cell_type": "code",
   "execution_count": 48,
   "id": "5b8ba9cc-cebc-43cd-9a67-15b099d4db9a",
   "metadata": {},
   "outputs": [],
   "source": [
    "#numpy - Mathematical Functions"
   ]
  },
  {
   "cell_type": "code",
   "execution_count": 49,
   "id": "851ea1f0-eedf-41ef-bbbf-e4a421ef914b",
   "metadata": {},
   "outputs": [
    {
     "data": {
      "text/plain": [
       "array([[4, 9, 6],\n",
       "       [8, 5, 6],\n",
       "       [3, 6, 3]])"
      ]
     },
     "execution_count": 49,
     "metadata": {},
     "output_type": "execute_result"
    }
   ],
   "source": [
    "arr1"
   ]
  },
  {
   "cell_type": "code",
   "execution_count": 51,
   "id": "6606448d-9d7d-4a78-9b12-28883ef2edc9",
   "metadata": {},
   "outputs": [
    {
     "data": {
      "text/plain": [
       "array([[-0.7568025 ,  0.41211849, -0.2794155 ],\n",
       "       [ 0.98935825, -0.95892427, -0.2794155 ],\n",
       "       [ 0.14112001, -0.2794155 ,  0.14112001]])"
      ]
     },
     "execution_count": 51,
     "metadata": {},
     "output_type": "execute_result"
    }
   ],
   "source": [
    "np.sin(arr1)"
   ]
  },
  {
   "cell_type": "code",
   "execution_count": 52,
   "id": "9f3db209-9411-4bdc-8266-63d7045028ef",
   "metadata": {},
   "outputs": [
    {
     "data": {
      "text/plain": [
       "array([[-0.65364362, -0.91113026,  0.96017029],\n",
       "       [-0.14550003,  0.28366219,  0.96017029],\n",
       "       [-0.9899925 ,  0.96017029, -0.9899925 ]])"
      ]
     },
     "execution_count": 52,
     "metadata": {},
     "output_type": "execute_result"
    }
   ],
   "source": [
    "np.cos(arr1)"
   ]
  },
  {
   "cell_type": "code",
   "execution_count": 53,
   "id": "7e9feaf0-38e9-4d66-b0dd-7762e5c46395",
   "metadata": {},
   "outputs": [
    {
     "data": {
      "text/plain": [
       "array([[ 1.15782128, -0.45231566, -0.29100619],\n",
       "       [-6.79971146, -3.38051501, -0.29100619],\n",
       "       [-0.14254654, -0.29100619, -0.14254654]])"
      ]
     },
     "execution_count": 53,
     "metadata": {},
     "output_type": "execute_result"
    }
   ],
   "source": [
    "np.tan(arr1)"
   ]
  },
  {
   "cell_type": "code",
   "execution_count": 54,
   "id": "9ddf4d37-2310-4c86-a545-8fe816f7c2b7",
   "metadata": {},
   "outputs": [
    {
     "data": {
      "text/plain": [
       "array([[0.60205999, 0.95424251, 0.77815125],\n",
       "       [0.90308999, 0.69897   , 0.77815125],\n",
       "       [0.47712125, 0.77815125, 0.47712125]])"
      ]
     },
     "execution_count": 54,
     "metadata": {},
     "output_type": "execute_result"
    }
   ],
   "source": [
    "np.log10(arr1)"
   ]
  },
  {
   "cell_type": "code",
   "execution_count": 55,
   "id": "c56b10bc-8257-4fe8-8ab8-aa1a9bb343f0",
   "metadata": {},
   "outputs": [
    {
     "data": {
      "text/plain": [
       "array([[2.        , 3.        , 2.44948974],\n",
       "       [2.82842712, 2.23606798, 2.44948974],\n",
       "       [1.73205081, 2.44948974, 1.73205081]])"
      ]
     },
     "execution_count": 55,
     "metadata": {},
     "output_type": "execute_result"
    }
   ],
   "source": [
    "np.sqrt(arr1)"
   ]
  },
  {
   "cell_type": "code",
   "execution_count": 57,
   "id": "6076c42e-3e5f-481f-bff7-d46ccc65df0b",
   "metadata": {},
   "outputs": [
    {
     "data": {
      "text/plain": [
       "array([[16, 81, 36],\n",
       "       [64, 25, 36],\n",
       "       [ 9, 36,  9]])"
      ]
     },
     "execution_count": 57,
     "metadata": {},
     "output_type": "execute_result"
    }
   ],
   "source": [
    "np.power(arr1, 2)"
   ]
  },
  {
   "cell_type": "code",
   "execution_count": 58,
   "id": "39efad4c-d1fd-4ad6-ace0-1585c83c1f46",
   "metadata": {},
   "outputs": [
    {
     "data": {
      "text/plain": [
       "5.555555555555555"
      ]
     },
     "execution_count": 58,
     "metadata": {},
     "output_type": "execute_result"
    }
   ],
   "source": [
    "np.mean(arr1)"
   ]
  },
  {
   "cell_type": "code",
   "execution_count": 59,
   "id": "5248131d-6409-4f1e-a36a-23816d0efce0",
   "metadata": {},
   "outputs": [
    {
     "data": {
      "text/plain": [
       "6.0"
      ]
     },
     "execution_count": 59,
     "metadata": {},
     "output_type": "execute_result"
    }
   ],
   "source": [
    "np.median(arr1)"
   ]
  },
  {
   "cell_type": "code",
   "execution_count": 60,
   "id": "a838afa6-8390-439b-a040-62a73401b577",
   "metadata": {},
   "outputs": [
    {
     "ename": "AttributeError",
     "evalue": "module 'numpy' has no attribute 'mode'",
     "output_type": "error",
     "traceback": [
      "\u001b[0;31m---------------------------------------------------------------------------\u001b[0m",
      "\u001b[0;31mAttributeError\u001b[0m                            Traceback (most recent call last)",
      "Cell \u001b[0;32mIn[60], line 1\u001b[0m\n\u001b[0;32m----> 1\u001b[0m \u001b[43mnp\u001b[49m\u001b[38;5;241;43m.\u001b[39;49m\u001b[43mmode\u001b[49m(arr1)\n",
      "File \u001b[0;32m/opt/conda/lib/python3.10/site-packages/numpy/__init__.py:311\u001b[0m, in \u001b[0;36m__getattr__\u001b[0;34m(attr)\u001b[0m\n\u001b[1;32m    308\u001b[0m     \u001b[38;5;28;01mfrom\u001b[39;00m \u001b[38;5;21;01m.\u001b[39;00m\u001b[38;5;21;01mtesting\u001b[39;00m \u001b[38;5;28;01mimport\u001b[39;00m Tester\n\u001b[1;32m    309\u001b[0m     \u001b[38;5;28;01mreturn\u001b[39;00m Tester\n\u001b[0;32m--> 311\u001b[0m \u001b[38;5;28;01mraise\u001b[39;00m \u001b[38;5;167;01mAttributeError\u001b[39;00m(\u001b[38;5;124m\"\u001b[39m\u001b[38;5;124mmodule \u001b[39m\u001b[38;5;132;01m{!r}\u001b[39;00m\u001b[38;5;124m has no attribute \u001b[39m\u001b[38;5;124m\"\u001b[39m\n\u001b[1;32m    312\u001b[0m                      \u001b[38;5;124m\"\u001b[39m\u001b[38;5;132;01m{!r}\u001b[39;00m\u001b[38;5;124m\"\u001b[39m\u001b[38;5;241m.\u001b[39mformat(\u001b[38;5;18m__name__\u001b[39m, attr))\n",
      "\u001b[0;31mAttributeError\u001b[0m: module 'numpy' has no attribute 'mode'"
     ]
    }
   ],
   "source": [
    "np.mode(arr1)"
   ]
  },
  {
   "cell_type": "code",
   "execution_count": null,
   "id": "0b382101-718b-4568-ba1e-614caa100f98",
   "metadata": {},
   "outputs": [],
   "source": []
  }
 ],
 "metadata": {
  "kernelspec": {
   "display_name": "Python 3 (ipykernel)",
   "language": "python",
   "name": "python3"
  },
  "language_info": {
   "codemirror_mode": {
    "name": "ipython",
    "version": 3
   },
   "file_extension": ".py",
   "mimetype": "text/x-python",
   "name": "python",
   "nbconvert_exporter": "python",
   "pygments_lexer": "ipython3",
   "version": "3.10.8"
  }
 },
 "nbformat": 4,
 "nbformat_minor": 5
}
