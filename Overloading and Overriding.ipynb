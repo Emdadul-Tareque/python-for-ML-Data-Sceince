{
 "cells": [
  {
   "cell_type": "code",
   "execution_count": 1,
   "metadata": {},
   "outputs": [],
   "source": [
    "class Human:\n",
    "    \n",
    "    def __init__(self, name, age, height, weight):\n",
    "        self.name = name\n",
    "        self.age = age\n",
    "        self.height = height\n",
    "        self.weight = weight \n",
    "        \n",
    "    \n",
    "    def eat(self):\n",
    "        print(\"Eat any thing\")\n",
    "        \n",
    "    def excercise(self):\n",
    "        raise NotImplementedError #force to impelement in child class\n",
    "        \n",
    "    \n",
    "\n",
    "    "
   ]
  },
  {
   "cell_type": "code",
   "execution_count": 39,
   "metadata": {},
   "outputs": [],
   "source": [
    "class Cricketer(Human):\n",
    "    \n",
    "    def __init__(self, name, age, height, weight, team):\n",
    "        self.team = team\n",
    "        super().__init__(name, age, height, weight)\n",
    "        \n",
    "    #override\n",
    "    def eat(self):\n",
    "        print(\"Eat healthy food\")\n",
    "        \n",
    "    def exercise(self):\n",
    "        print(\"Do excercise for fitness\")\n",
    "        \n",
    "    def __repr__(self):\n",
    "        return f\"Player Name: {self.name}, age:{self.age}, from{self.team}\"\n",
    "    \n",
    "    # + sign operator overload\n",
    "    def __add__(self, other):\n",
    "        return self.age + other.age\n",
    "    \n",
    "    # * sign operator overload\n",
    "    def __mul__(self, other):\n",
    "        return self.weight * other.weight\n",
    "    \n",
    "    # * \n",
    "    def __gt__(self, other):\n",
    "        return self.age > other.age\n",
    "        "
   ]
  },
  {
   "cell_type": "code",
   "execution_count": 40,
   "metadata": {},
   "outputs": [],
   "source": [
    "sakib = Cricketer(\"sakib al hasan\", 32, \"5'10\", 75, \"Bangladesh\")"
   ]
  },
  {
   "cell_type": "code",
   "execution_count": 41,
   "metadata": {},
   "outputs": [
    {
     "data": {
      "text/plain": [
       "Player Name: sakib al hasan, age:32, fromBangladesh"
      ]
     },
     "execution_count": 41,
     "metadata": {},
     "output_type": "execute_result"
    }
   ],
   "source": [
    "sakib"
   ]
  },
  {
   "cell_type": "code",
   "execution_count": 42,
   "metadata": {},
   "outputs": [],
   "source": [
    "tamim = Cricketer(\"Tamim Iqbal\", 30, \"5'11\", 78, \"Bangladesh\")"
   ]
  },
  {
   "cell_type": "code",
   "execution_count": 43,
   "metadata": {},
   "outputs": [
    {
     "data": {
      "text/plain": [
       "62"
      ]
     },
     "execution_count": 43,
     "metadata": {},
     "output_type": "execute_result"
    }
   ],
   "source": [
    "sakib + tamim"
   ]
  },
  {
   "cell_type": "code",
   "execution_count": 44,
   "metadata": {},
   "outputs": [
    {
     "data": {
      "text/plain": [
       "5850"
      ]
     },
     "execution_count": 44,
     "metadata": {},
     "output_type": "execute_result"
    }
   ],
   "source": [
    "sakib * tamim"
   ]
  },
  {
   "cell_type": "code",
   "execution_count": 45,
   "metadata": {},
   "outputs": [
    {
     "data": {
      "text/plain": [
       "True"
      ]
     },
     "execution_count": 45,
     "metadata": {},
     "output_type": "execute_result"
    }
   ],
   "source": [
    "sakib > tamim"
   ]
  },
  {
   "cell_type": "code",
   "execution_count": null,
   "metadata": {},
   "outputs": [],
   "source": []
  }
 ],
 "metadata": {
  "kernelspec": {
   "display_name": "Python 3",
   "language": "python",
   "name": "python3"
  },
  "language_info": {
   "codemirror_mode": {
    "name": "ipython",
    "version": 3
   },
   "file_extension": ".py",
   "mimetype": "text/x-python",
   "name": "python",
   "nbconvert_exporter": "python",
   "pygments_lexer": "ipython3",
   "version": "3.7.3"
  }
 },
 "nbformat": 4,
 "nbformat_minor": 2
}
