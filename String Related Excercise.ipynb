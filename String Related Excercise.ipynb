{
 "cells": [
  {
   "cell_type": "markdown",
   "id": "e7f5e3e6",
   "metadata": {},
   "source": [
    "#### Problem 01: Write the function countB(word) which takes a word as the argument and returns the number of ‘b’ in that word."
   ]
  },
  {
   "cell_type": "code",
   "execution_count": 3,
   "id": "077071bc",
   "metadata": {},
   "outputs": [
    {
     "name": "stdout",
     "output_type": "stream",
     "text": [
      "abba abbabababab\n",
      "Number of 'b' =  8\n"
     ]
    }
   ],
   "source": [
    "def countB(word):\n",
    "    print(word)\n",
    "    count = 0\n",
    "    for char in word:\n",
    "        if char == \"b\":\n",
    "            count += 1\n",
    "    return count \n",
    "\n",
    "countOfB = countB(\"abba abbabababab\")\n",
    "print(\"Number of 'b' = \", countOfB)\n",
    "        "
   ]
  },
  {
   "cell_type": "markdown",
   "id": "2f3134c7",
   "metadata": {},
   "source": [
    "#### Problem 02: Write the function count_Letter(word, letter) which takes a word and a letter as arguments and returns the number of occurrences of that letter in the word."
   ]
  },
  {
   "cell_type": "code",
   "execution_count": 7,
   "id": "06317ffb",
   "metadata": {},
   "outputs": [
    {
     "name": "stdout",
     "output_type": "stream",
     "text": [
      "Word :  Bangladesh\n",
      "Letter to count :  a\n",
      "number of occurences of a is =  2\n"
     ]
    }
   ],
   "source": [
    "def count_letter(word, letter):\n",
    "    print(\"Word : \", word)\n",
    "    print(\"Letter to count : \", letter)\n",
    "    \n",
    "    count = 0\n",
    "    for char in word:\n",
    "        if letter == char:\n",
    "            count += 1\n",
    "    return letter, count\n",
    "\n",
    "letter, total = count_letter(\"Bangladesh\", \"a\")\n",
    "print(\"number of occurences of\", letter, \"is = \", total)"
   ]
  },
  {
   "cell_type": "markdown",
   "id": "38626804",
   "metadata": {},
   "source": [
    "#### Problem 03: Write a program to read string and display ‘Total number of uppercase and lowercase letter"
   ]
  },
  {
   "cell_type": "code",
   "execution_count": 14,
   "id": "55ed756c",
   "metadata": {},
   "outputs": [
    {
     "name": "stdout",
     "output_type": "stream",
     "text": [
      "Enter the sentence: My Name Is Khan\n",
      "The sentence is:  My Name Is Khan\n",
      "Total uppercase letter:  4\n",
      "Total lowercase letter:  8\n"
     ]
    }
   ],
   "source": [
    "def count_letter(sentence):\n",
    "    print(\"The sentence is: \", sentence)\n",
    "    upper_case_counter  = 0\n",
    "    lower_case_counter = 0\n",
    "    for char in sentence:\n",
    "        if char.isupper() == True:\n",
    "            upper_case_counter += 1\n",
    "        elif char.islower() == True:\n",
    "            lower_case_counter += 1\n",
    "    return upper_case_counter, lower_case_counter\n",
    "\n",
    "sentence = input(\"Enter the sentence: \")\n",
    "\n",
    "num_of_upper_case, num_of_lower_case = count_letter(sentence)\n",
    "\n",
    "print(\"Total uppercase letter: \", num_of_upper_case)\n",
    "print(\"Total lowercase letter: \", num_of_lower_case)\n",
    "       "
   ]
  },
  {
   "cell_type": "code",
   "execution_count": 9,
   "id": "cae408cc",
   "metadata": {},
   "outputs": [
    {
     "data": {
      "text/plain": [
       "True"
      ]
     },
     "execution_count": 9,
     "metadata": {},
     "output_type": "execute_result"
    }
   ],
   "source": [
    "s = \"T\"\n",
    "s.isupper()"
   ]
  },
  {
   "cell_type": "markdown",
   "id": "34efde5c",
   "metadata": {},
   "source": [
    "#### Problem 04: Write the function Reverse_Word(word) which returns the word in the reverse order."
   ]
  },
  {
   "cell_type": "code",
   "execution_count": 16,
   "id": "ad615855",
   "metadata": {},
   "outputs": [
    {
     "name": "stdout",
     "output_type": "stream",
     "text": [
      "Original Word:  Python\n",
      "Reverse Word:  nohtyP\n"
     ]
    }
   ],
   "source": [
    "def reverse_word(word):\n",
    "    print(\"Original Word: \", word)\n",
    "    return word[::-1]\n",
    "\n",
    "rev_word = reverse_word\n",
    "print(\"Reverse Word: \", reverse_word(\"Python\"))\n",
    "    "
   ]
  },
  {
   "cell_type": "markdown",
   "id": "476b8a50",
   "metadata": {},
   "source": [
    "#### Problem 05: Write the function getVowels(word) which takes a word as an argument and returns the vowels (‘a’, ‘e’, ‘i’, ‘o’, ‘u’) in that word"
   ]
  },
  {
   "cell_type": "code",
   "execution_count": 44,
   "id": "caf7834b",
   "metadata": {},
   "outputs": [
    {
     "name": "stdout",
     "output_type": "stream",
     "text": [
      "Orginal Word:  emdadul\n",
      "find vowels from word:  eau\n"
     ]
    }
   ],
   "source": [
    "def getVowels(word):\n",
    "    print(\"Orginal Word: \", word)\n",
    "    vowels = \"\"\n",
    "    for char in word:\n",
    "        if (char == \"a\" or char == \"e\" or char == \"i\" and char == \"o\" or char ==\"u\"):\n",
    "            vowels += char\n",
    "    return vowels\n",
    "\n",
    "vowels = getVowels(\"emdadul\")\n",
    "print(\"find vowels from word: \", vowels)\n",
    "            \n",
    "        "
   ]
  },
  {
   "cell_type": "markdown",
   "id": "421fd7b7",
   "metadata": {},
   "source": [
    "#### Problem 06: Check if a string is a palindrome "
   ]
  },
  {
   "cell_type": "code",
   "execution_count": 75,
   "id": "08ff7b5d",
   "metadata": {},
   "outputs": [
    {
     "name": "stdout",
     "output_type": "stream",
     "text": [
      "Enter a Word: madam\n",
      "This sentence is:  palindrome\n"
     ]
    }
   ],
   "source": [
    "def palindrome(string):\n",
    "    flag = 0\n",
    "    str_len = len(string) - 1\n",
    "    for i in range(0, len(string)):\n",
    "        if string[i] != string[str_len]:\n",
    "            flag += 1\n",
    "            break\n",
    "        if i == str_len:\n",
    "            break\n",
    "        str_len -= 1\n",
    "        \n",
    "    if flag == 1:\n",
    "        return \"not palindrome\"\n",
    "    else:\n",
    "        return \"palindrome\"\n",
    "\n",
    "text = input(\"Enter a Word: \")\n",
    "\n",
    "result = palindrome(text)\n",
    "print(\"This sentence is: \", result)\n",
    "    \n",
    "            "
   ]
  },
  {
   "cell_type": "code",
   "execution_count": 74,
   "id": "d2bb0299",
   "metadata": {},
   "outputs": [
    {
     "name": "stdout",
     "output_type": "stream",
     "text": [
      "Enter a word: emdadul\n",
      "This sentence is not palindrome\n"
     ]
    }
   ],
   "source": [
    "#in different way\n",
    "\n",
    "def palindrome(string):\n",
    "    reverse_string = string[::-1]\n",
    "    \n",
    "    if string == reverse_string:\n",
    "        return \"This sentence is palindrome\"\n",
    "    else:\n",
    "        return \"This sentence is not palindrome\"\n",
    "text = input(\"Enter a word: \")\n",
    "result = palindrome(text)\n",
    "print(result)"
   ]
  },
  {
   "cell_type": "code",
   "execution_count": null,
   "id": "f18178f9",
   "metadata": {},
   "outputs": [],
   "source": []
  }
 ],
 "metadata": {
  "kernelspec": {
   "display_name": "Python 3 (ipykernel)",
   "language": "python",
   "name": "python3"
  },
  "language_info": {
   "codemirror_mode": {
    "name": "ipython",
    "version": 3
   },
   "file_extension": ".py",
   "mimetype": "text/x-python",
   "name": "python",
   "nbconvert_exporter": "python",
   "pygments_lexer": "ipython3",
   "version": "3.10.6"
  }
 },
 "nbformat": 4,
 "nbformat_minor": 5
}
