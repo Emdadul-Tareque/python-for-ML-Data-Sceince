{
 "cells": [
  {
   "cell_type": "markdown",
   "id": "72f422a3",
   "metadata": {},
   "source": [
    "## Example 1. Create a DataFrame using a dictionary of Series."
   ]
  },
  {
   "cell_type": "code",
   "execution_count": 1,
   "id": "32f3e8f4",
   "metadata": {},
   "outputs": [],
   "source": [
    "import pandas as pd"
   ]
  },
  {
   "cell_type": "code",
   "execution_count": 2,
   "id": "75ec0c48",
   "metadata": {},
   "outputs": [],
   "source": [
    "items = {'Bob' : pd.Series(data = [123, 34, 78], index =['bike', 'pants', 'watch']), \n",
    "         'Alice' : pd.Series(data = [30, 304, 708, 23], index =['book', 'glasses', 'bike', 'pants']) }"
   ]
  },
  {
   "cell_type": "code",
   "execution_count": 3,
   "id": "6125172c",
   "metadata": {},
   "outputs": [],
   "source": [
    "shopping_carts = pd.DataFrame(items)"
   ]
  },
  {
   "cell_type": "code",
   "execution_count": 4,
   "id": "a5e53ea7",
   "metadata": {},
   "outputs": [
    {
     "data": {
      "text/html": [
       "<div>\n",
       "<style scoped>\n",
       "    .dataframe tbody tr th:only-of-type {\n",
       "        vertical-align: middle;\n",
       "    }\n",
       "\n",
       "    .dataframe tbody tr th {\n",
       "        vertical-align: top;\n",
       "    }\n",
       "\n",
       "    .dataframe thead th {\n",
       "        text-align: right;\n",
       "    }\n",
       "</style>\n",
       "<table border=\"1\" class=\"dataframe\">\n",
       "  <thead>\n",
       "    <tr style=\"text-align: right;\">\n",
       "      <th></th>\n",
       "      <th>Bob</th>\n",
       "      <th>Alice</th>\n",
       "    </tr>\n",
       "  </thead>\n",
       "  <tbody>\n",
       "    <tr>\n",
       "      <th>bike</th>\n",
       "      <td>123.0</td>\n",
       "      <td>708.0</td>\n",
       "    </tr>\n",
       "    <tr>\n",
       "      <th>book</th>\n",
       "      <td>NaN</td>\n",
       "      <td>30.0</td>\n",
       "    </tr>\n",
       "    <tr>\n",
       "      <th>glasses</th>\n",
       "      <td>NaN</td>\n",
       "      <td>304.0</td>\n",
       "    </tr>\n",
       "    <tr>\n",
       "      <th>pants</th>\n",
       "      <td>34.0</td>\n",
       "      <td>23.0</td>\n",
       "    </tr>\n",
       "    <tr>\n",
       "      <th>watch</th>\n",
       "      <td>78.0</td>\n",
       "      <td>NaN</td>\n",
       "    </tr>\n",
       "  </tbody>\n",
       "</table>\n",
       "</div>"
      ],
      "text/plain": [
       "           Bob  Alice\n",
       "bike     123.0  708.0\n",
       "book       NaN   30.0\n",
       "glasses    NaN  304.0\n",
       "pants     34.0   23.0\n",
       "watch     78.0    NaN"
      ]
     },
     "execution_count": 4,
     "metadata": {},
     "output_type": "execute_result"
    }
   ],
   "source": [
    "shopping_carts"
   ]
  },
  {
   "cell_type": "markdown",
   "id": "0b6b8553",
   "metadata": {},
   "source": [
    "There are several things to notice here, as explained below:\n",
    "\n",
    "1. We see that DataFrames are displayed in tabular form, much like an Excel spreadsheet, with the labels of rows and columns in bold.\n",
    "\n",
    "2. Also, notice that the row labels of the DataFrame are built from the union of the index labels of the two Pandas Series we used to construct the dictionary. And the column labels of the DataFrame are taken from the keys of the dictionary.\n",
    "\n",
    "3. Another thing to notice is that the columns are arranged alphabetically and not in the order given in the dictionary. We will see later that this won't happen when we load data into a DataFrame from a data file.\n",
    "\n",
    "4. The last thing we want to point out is that we see some NaN values appear in the DataFrame. NaN stands for Not a Number, and is Pandas way of indicating that it doesn't have a value for that particular row and column index. For example, if we look at the column of Alice, we see that it has NaN in the watch index. You can see why this is the case by looking at the dictionary we created at the beginning. We clearly see that the dictionary has no item for Alice labeled watches. So whenever a DataFrame is created, if a particular column doesn't have values for a particular row index, Pandas will put a NaN value there.\n",
    "\n",
    "5. If we were to feed this data into a machine learning algorithm we will have to remove these NaN values first. "
   ]
  },
  {
   "cell_type": "markdown",
   "id": "c15715e3",
   "metadata": {},
   "source": [
    "## Example 2. DataFrame assigns the numerical row indexes by default."
   ]
  },
  {
   "cell_type": "code",
   "execution_count": 8,
   "id": "ea1949cd",
   "metadata": {},
   "outputs": [],
   "source": [
    "data = {\n",
    "    'Bob' : pd.Series([23, 12, 22]),\n",
    "    'Alice' : pd.Series([20, 11, 440, 111])\n",
    "}"
   ]
  },
  {
   "cell_type": "code",
   "execution_count": 9,
   "id": "54697641",
   "metadata": {},
   "outputs": [],
   "source": [
    "df = pd.DataFrame(data)"
   ]
  },
  {
   "cell_type": "code",
   "execution_count": 10,
   "id": "7becfb59",
   "metadata": {},
   "outputs": [
    {
     "data": {
      "text/html": [
       "<div>\n",
       "<style scoped>\n",
       "    .dataframe tbody tr th:only-of-type {\n",
       "        vertical-align: middle;\n",
       "    }\n",
       "\n",
       "    .dataframe tbody tr th {\n",
       "        vertical-align: top;\n",
       "    }\n",
       "\n",
       "    .dataframe thead th {\n",
       "        text-align: right;\n",
       "    }\n",
       "</style>\n",
       "<table border=\"1\" class=\"dataframe\">\n",
       "  <thead>\n",
       "    <tr style=\"text-align: right;\">\n",
       "      <th></th>\n",
       "      <th>Bob</th>\n",
       "      <th>Alice</th>\n",
       "    </tr>\n",
       "  </thead>\n",
       "  <tbody>\n",
       "    <tr>\n",
       "      <th>0</th>\n",
       "      <td>23.0</td>\n",
       "      <td>20</td>\n",
       "    </tr>\n",
       "    <tr>\n",
       "      <th>1</th>\n",
       "      <td>12.0</td>\n",
       "      <td>11</td>\n",
       "    </tr>\n",
       "    <tr>\n",
       "      <th>2</th>\n",
       "      <td>22.0</td>\n",
       "      <td>440</td>\n",
       "    </tr>\n",
       "    <tr>\n",
       "      <th>3</th>\n",
       "      <td>NaN</td>\n",
       "      <td>111</td>\n",
       "    </tr>\n",
       "  </tbody>\n",
       "</table>\n",
       "</div>"
      ],
      "text/plain": [
       "    Bob  Alice\n",
       "0  23.0     20\n",
       "1  12.0     11\n",
       "2  22.0    440\n",
       "3   NaN    111"
      ]
     },
     "execution_count": 10,
     "metadata": {},
     "output_type": "execute_result"
    }
   ],
   "source": [
    "df"
   ]
  },
  {
   "cell_type": "markdown",
   "id": "6b0b7276",
   "metadata": {},
   "source": [
    "## Example 3. Demonstrate a few attributes of DataFrame"
   ]
  },
  {
   "cell_type": "code",
   "execution_count": 11,
   "id": "53934779",
   "metadata": {},
   "outputs": [
    {
     "data": {
      "text/plain": [
       "(5, 2)"
      ]
     },
     "execution_count": 11,
     "metadata": {},
     "output_type": "execute_result"
    }
   ],
   "source": [
    "shopping_carts.shape"
   ]
  },
  {
   "cell_type": "code",
   "execution_count": 12,
   "id": "914d60d3",
   "metadata": {},
   "outputs": [
    {
     "data": {
      "text/plain": [
       "2"
      ]
     },
     "execution_count": 12,
     "metadata": {},
     "output_type": "execute_result"
    }
   ],
   "source": [
    "shopping_carts.ndim"
   ]
  },
  {
   "cell_type": "code",
   "execution_count": 13,
   "id": "5a721fda",
   "metadata": {},
   "outputs": [
    {
     "data": {
      "text/plain": [
       "array([[123., 708.],\n",
       "       [ nan,  30.],\n",
       "       [ nan, 304.],\n",
       "       [ 34.,  23.],\n",
       "       [ 78.,  nan]])"
      ]
     },
     "execution_count": 13,
     "metadata": {},
     "output_type": "execute_result"
    }
   ],
   "source": [
    "shopping_carts.values"
   ]
  },
  {
   "cell_type": "code",
   "execution_count": 14,
   "id": "14e7d76a",
   "metadata": {},
   "outputs": [
    {
     "data": {
      "text/plain": [
       "Index(['bike', 'book', 'glasses', 'pants', 'watch'], dtype='object')"
      ]
     },
     "execution_count": 14,
     "metadata": {},
     "output_type": "execute_result"
    }
   ],
   "source": [
    "shopping_carts.index"
   ]
  },
  {
   "cell_type": "code",
   "execution_count": 15,
   "id": "38c77850",
   "metadata": {},
   "outputs": [
    {
     "data": {
      "text/plain": [
       "Index(['Bob', 'Alice'], dtype='object')"
      ]
     },
     "execution_count": 15,
     "metadata": {},
     "output_type": "execute_result"
    }
   ],
   "source": [
    "shopping_carts.columns"
   ]
  },
  {
   "cell_type": "code",
   "execution_count": 17,
   "id": "923b7f40",
   "metadata": {},
   "outputs": [
    {
     "data": {
      "text/html": [
       "<div>\n",
       "<style scoped>\n",
       "    .dataframe tbody tr th:only-of-type {\n",
       "        vertical-align: middle;\n",
       "    }\n",
       "\n",
       "    .dataframe tbody tr th {\n",
       "        vertical-align: top;\n",
       "    }\n",
       "\n",
       "    .dataframe thead th {\n",
       "        text-align: right;\n",
       "    }\n",
       "</style>\n",
       "<table border=\"1\" class=\"dataframe\">\n",
       "  <thead>\n",
       "    <tr style=\"text-align: right;\">\n",
       "      <th></th>\n",
       "      <th>Bob</th>\n",
       "      <th>Alice</th>\n",
       "    </tr>\n",
       "  </thead>\n",
       "  <tbody>\n",
       "    <tr>\n",
       "      <th>0</th>\n",
       "      <td>23.0</td>\n",
       "      <td>20</td>\n",
       "    </tr>\n",
       "    <tr>\n",
       "      <th>1</th>\n",
       "      <td>12.0</td>\n",
       "      <td>11</td>\n",
       "    </tr>\n",
       "    <tr>\n",
       "      <th>2</th>\n",
       "      <td>22.0</td>\n",
       "      <td>440</td>\n",
       "    </tr>\n",
       "    <tr>\n",
       "      <th>3</th>\n",
       "      <td>NaN</td>\n",
       "      <td>111</td>\n",
       "    </tr>\n",
       "  </tbody>\n",
       "</table>\n",
       "</div>"
      ],
      "text/plain": [
       "    Bob  Alice\n",
       "0  23.0     20\n",
       "1  12.0     11\n",
       "2  22.0    440\n",
       "3   NaN    111"
      ]
     },
     "execution_count": 17,
     "metadata": {},
     "output_type": "execute_result"
    }
   ],
   "source": []
  },
  {
   "cell_type": "markdown",
   "id": "37ec5826",
   "metadata": {},
   "source": [
    "When creating the shopping_carts DataFrame we passed the entire dictionary to the pd.DataFrame() function. However, there might be cases when you are only interested in a subset of the data. Pandas allows us to select which data we want to put into our DataFrame by means of the keywords columns and index. Let's see some examples:"
   ]
  },
  {
   "cell_type": "code",
   "execution_count": 19,
   "id": "481b4686",
   "metadata": {},
   "outputs": [],
   "source": [
    "bob_shopping_cart = pd.DataFrame(items, columns=['Bob'])"
   ]
  },
  {
   "cell_type": "code",
   "execution_count": 20,
   "id": "d741d727",
   "metadata": {},
   "outputs": [
    {
     "data": {
      "text/html": [
       "<div>\n",
       "<style scoped>\n",
       "    .dataframe tbody tr th:only-of-type {\n",
       "        vertical-align: middle;\n",
       "    }\n",
       "\n",
       "    .dataframe tbody tr th {\n",
       "        vertical-align: top;\n",
       "    }\n",
       "\n",
       "    .dataframe thead th {\n",
       "        text-align: right;\n",
       "    }\n",
       "</style>\n",
       "<table border=\"1\" class=\"dataframe\">\n",
       "  <thead>\n",
       "    <tr style=\"text-align: right;\">\n",
       "      <th></th>\n",
       "      <th>Bob</th>\n",
       "    </tr>\n",
       "  </thead>\n",
       "  <tbody>\n",
       "    <tr>\n",
       "      <th>bike</th>\n",
       "      <td>123</td>\n",
       "    </tr>\n",
       "    <tr>\n",
       "      <th>pants</th>\n",
       "      <td>34</td>\n",
       "    </tr>\n",
       "    <tr>\n",
       "      <th>watch</th>\n",
       "      <td>78</td>\n",
       "    </tr>\n",
       "  </tbody>\n",
       "</table>\n",
       "</div>"
      ],
      "text/plain": [
       "       Bob\n",
       "bike   123\n",
       "pants   34\n",
       "watch   78"
      ]
     },
     "execution_count": 20,
     "metadata": {},
     "output_type": "execute_result"
    }
   ],
   "source": [
    "bob_shopping_cart"
   ]
  },
  {
   "cell_type": "markdown",
   "id": "1e49c707",
   "metadata": {},
   "source": [
    "## Example 4. Selecting specific rows of a DataFrame"
   ]
  },
  {
   "cell_type": "code",
   "execution_count": 21,
   "id": "ccfa79a5",
   "metadata": {},
   "outputs": [],
   "source": [
    "sel_shopping_cart = pd.DataFrame(items, index = ['pants', 'book'])"
   ]
  },
  {
   "cell_type": "code",
   "execution_count": 22,
   "id": "35c06283",
   "metadata": {},
   "outputs": [
    {
     "data": {
      "text/html": [
       "<div>\n",
       "<style scoped>\n",
       "    .dataframe tbody tr th:only-of-type {\n",
       "        vertical-align: middle;\n",
       "    }\n",
       "\n",
       "    .dataframe tbody tr th {\n",
       "        vertical-align: top;\n",
       "    }\n",
       "\n",
       "    .dataframe thead th {\n",
       "        text-align: right;\n",
       "    }\n",
       "</style>\n",
       "<table border=\"1\" class=\"dataframe\">\n",
       "  <thead>\n",
       "    <tr style=\"text-align: right;\">\n",
       "      <th></th>\n",
       "      <th>Bob</th>\n",
       "      <th>Alice</th>\n",
       "    </tr>\n",
       "  </thead>\n",
       "  <tbody>\n",
       "    <tr>\n",
       "      <th>pants</th>\n",
       "      <td>34.0</td>\n",
       "      <td>23</td>\n",
       "    </tr>\n",
       "    <tr>\n",
       "      <th>book</th>\n",
       "      <td>NaN</td>\n",
       "      <td>30</td>\n",
       "    </tr>\n",
       "  </tbody>\n",
       "</table>\n",
       "</div>"
      ],
      "text/plain": [
       "        Bob  Alice\n",
       "pants  34.0     23\n",
       "book    NaN     30"
      ]
     },
     "execution_count": 22,
     "metadata": {},
     "output_type": "execute_result"
    }
   ],
   "source": [
    "sel_shopping_cart"
   ]
  },
  {
   "cell_type": "markdown",
   "id": "2426250f",
   "metadata": {},
   "source": [
    "## Example 5. Selecting specific columns of a DataFrame"
   ]
  },
  {
   "cell_type": "code",
   "execution_count": 23,
   "id": "3bc2e0ad",
   "metadata": {},
   "outputs": [],
   "source": [
    "alice_sel_shopping_cart = pd.DataFrame(items, index = ['glass', 'bike'], columns = ['Alice'])"
   ]
  },
  {
   "cell_type": "code",
   "execution_count": 24,
   "id": "68856839",
   "metadata": {},
   "outputs": [
    {
     "data": {
      "text/html": [
       "<div>\n",
       "<style scoped>\n",
       "    .dataframe tbody tr th:only-of-type {\n",
       "        vertical-align: middle;\n",
       "    }\n",
       "\n",
       "    .dataframe tbody tr th {\n",
       "        vertical-align: top;\n",
       "    }\n",
       "\n",
       "    .dataframe thead th {\n",
       "        text-align: right;\n",
       "    }\n",
       "</style>\n",
       "<table border=\"1\" class=\"dataframe\">\n",
       "  <thead>\n",
       "    <tr style=\"text-align: right;\">\n",
       "      <th></th>\n",
       "      <th>Alice</th>\n",
       "    </tr>\n",
       "  </thead>\n",
       "  <tbody>\n",
       "    <tr>\n",
       "      <th>glass</th>\n",
       "      <td>NaN</td>\n",
       "    </tr>\n",
       "    <tr>\n",
       "      <th>bike</th>\n",
       "      <td>708.0</td>\n",
       "    </tr>\n",
       "  </tbody>\n",
       "</table>\n",
       "</div>"
      ],
      "text/plain": [
       "       Alice\n",
       "glass    NaN\n",
       "bike   708.0"
      ]
     },
     "execution_count": 24,
     "metadata": {},
     "output_type": "execute_result"
    }
   ],
   "source": [
    "alice_sel_shopping_cart"
   ]
  },
  {
   "cell_type": "markdown",
   "id": "53618fa2",
   "metadata": {},
   "source": [
    "## Example 6. Create a DataFrame using a dictionary of lists"
   ]
  },
  {
   "cell_type": "code",
   "execution_count": 25,
   "id": "261d50be",
   "metadata": {},
   "outputs": [],
   "source": [
    "data = {\n",
    "    'Integers' : [1, 2, 3],\n",
    "    'Floats' : [4.5, 8.2, 9.6]\n",
    "}"
   ]
  },
  {
   "cell_type": "code",
   "execution_count": 26,
   "id": "23c63589",
   "metadata": {},
   "outputs": [],
   "source": [
    "df = pd.DataFrame(data)"
   ]
  },
  {
   "cell_type": "code",
   "execution_count": 27,
   "id": "11143cc5",
   "metadata": {},
   "outputs": [
    {
     "data": {
      "text/html": [
       "<div>\n",
       "<style scoped>\n",
       "    .dataframe tbody tr th:only-of-type {\n",
       "        vertical-align: middle;\n",
       "    }\n",
       "\n",
       "    .dataframe tbody tr th {\n",
       "        vertical-align: top;\n",
       "    }\n",
       "\n",
       "    .dataframe thead th {\n",
       "        text-align: right;\n",
       "    }\n",
       "</style>\n",
       "<table border=\"1\" class=\"dataframe\">\n",
       "  <thead>\n",
       "    <tr style=\"text-align: right;\">\n",
       "      <th></th>\n",
       "      <th>Integers</th>\n",
       "      <th>Floats</th>\n",
       "    </tr>\n",
       "  </thead>\n",
       "  <tbody>\n",
       "    <tr>\n",
       "      <th>0</th>\n",
       "      <td>1</td>\n",
       "      <td>4.5</td>\n",
       "    </tr>\n",
       "    <tr>\n",
       "      <th>1</th>\n",
       "      <td>2</td>\n",
       "      <td>8.2</td>\n",
       "    </tr>\n",
       "    <tr>\n",
       "      <th>2</th>\n",
       "      <td>3</td>\n",
       "      <td>9.6</td>\n",
       "    </tr>\n",
       "  </tbody>\n",
       "</table>\n",
       "</div>"
      ],
      "text/plain": [
       "   Integers  Floats\n",
       "0         1     4.5\n",
       "1         2     8.2\n",
       "2         3     9.6"
      ]
     },
     "execution_count": 27,
     "metadata": {},
     "output_type": "execute_result"
    }
   ],
   "source": [
    "df"
   ]
  },
  {
   "cell_type": "markdown",
   "id": "9b8c1b82",
   "metadata": {},
   "source": [
    "## Example 7. Create a DataFrame using a dictionary of lists, and custom row-indexes (labels)"
   ]
  },
  {
   "cell_type": "code",
   "execution_count": 28,
   "id": "7fa419c2",
   "metadata": {},
   "outputs": [],
   "source": [
    "data = {\n",
    "    'Integers' : [1, 2, 3],\n",
    "    'Floats' : [4.5, 8.2, 9.6]\n",
    "}"
   ]
  },
  {
   "cell_type": "code",
   "execution_count": 30,
   "id": "ca9a1a1d",
   "metadata": {},
   "outputs": [],
   "source": [
    "df = pd.DataFrame(data, index = ['lebel1', 'lebel2', 'lebel3'])"
   ]
  },
  {
   "cell_type": "code",
   "execution_count": 31,
   "id": "09500a07",
   "metadata": {},
   "outputs": [
    {
     "data": {
      "text/html": [
       "<div>\n",
       "<style scoped>\n",
       "    .dataframe tbody tr th:only-of-type {\n",
       "        vertical-align: middle;\n",
       "    }\n",
       "\n",
       "    .dataframe tbody tr th {\n",
       "        vertical-align: top;\n",
       "    }\n",
       "\n",
       "    .dataframe thead th {\n",
       "        text-align: right;\n",
       "    }\n",
       "</style>\n",
       "<table border=\"1\" class=\"dataframe\">\n",
       "  <thead>\n",
       "    <tr style=\"text-align: right;\">\n",
       "      <th></th>\n",
       "      <th>Integers</th>\n",
       "      <th>Floats</th>\n",
       "    </tr>\n",
       "  </thead>\n",
       "  <tbody>\n",
       "    <tr>\n",
       "      <th>lebel1</th>\n",
       "      <td>1</td>\n",
       "      <td>4.5</td>\n",
       "    </tr>\n",
       "    <tr>\n",
       "      <th>lebel2</th>\n",
       "      <td>2</td>\n",
       "      <td>8.2</td>\n",
       "    </tr>\n",
       "    <tr>\n",
       "      <th>lebel3</th>\n",
       "      <td>3</td>\n",
       "      <td>9.6</td>\n",
       "    </tr>\n",
       "  </tbody>\n",
       "</table>\n",
       "</div>"
      ],
      "text/plain": [
       "        Integers  Floats\n",
       "lebel1         1     4.5\n",
       "lebel2         2     8.2\n",
       "lebel3         3     9.6"
      ]
     },
     "execution_count": 31,
     "metadata": {},
     "output_type": "execute_result"
    }
   ],
   "source": [
    "df"
   ]
  },
  {
   "cell_type": "markdown",
   "id": "5efe86dc",
   "metadata": {},
   "source": [
    "## Example 8. Create a DataFrame using a list of dictionaries"
   ]
  },
  {
   "cell_type": "code",
   "execution_count": 35,
   "id": "b57b05a0",
   "metadata": {},
   "outputs": [],
   "source": [
    "items2 = [\n",
    "    {'bikes': 20, 'pants': 30, 'watches': 35},\n",
    "    {'watches' : 10, 'glasses': 50, 'bikes': 15, 'pants': 5}\n",
    "]"
   ]
  },
  {
   "cell_type": "code",
   "execution_count": 36,
   "id": "f9aaec88",
   "metadata": {},
   "outputs": [],
   "source": [
    "store_items = pd.DataFrame(items2)"
   ]
  },
  {
   "cell_type": "code",
   "execution_count": 42,
   "id": "7aefd26b",
   "metadata": {},
   "outputs": [
    {
     "data": {
      "text/html": [
       "<div>\n",
       "<style scoped>\n",
       "    .dataframe tbody tr th:only-of-type {\n",
       "        vertical-align: middle;\n",
       "    }\n",
       "\n",
       "    .dataframe tbody tr th {\n",
       "        vertical-align: top;\n",
       "    }\n",
       "\n",
       "    .dataframe thead th {\n",
       "        text-align: right;\n",
       "    }\n",
       "</style>\n",
       "<table border=\"1\" class=\"dataframe\">\n",
       "  <thead>\n",
       "    <tr style=\"text-align: right;\">\n",
       "      <th></th>\n",
       "      <th>bikes</th>\n",
       "      <th>pants</th>\n",
       "      <th>watches</th>\n",
       "      <th>glasses</th>\n",
       "    </tr>\n",
       "  </thead>\n",
       "  <tbody>\n",
       "    <tr>\n",
       "      <th>Store1</th>\n",
       "      <td>20</td>\n",
       "      <td>30</td>\n",
       "      <td>35</td>\n",
       "      <td>NaN</td>\n",
       "    </tr>\n",
       "    <tr>\n",
       "      <th>Store2</th>\n",
       "      <td>15</td>\n",
       "      <td>5</td>\n",
       "      <td>10</td>\n",
       "      <td>50.0</td>\n",
       "    </tr>\n",
       "  </tbody>\n",
       "</table>\n",
       "</div>"
      ],
      "text/plain": [
       "        bikes  pants  watches  glasses\n",
       "Store1     20     30       35      NaN\n",
       "Store2     15      5       10     50.0"
      ]
     },
     "execution_count": 42,
     "metadata": {},
     "output_type": "execute_result"
    }
   ],
   "source": [
    "store_items"
   ]
  },
  {
   "cell_type": "markdown",
   "id": "54c87a9c",
   "metadata": {},
   "source": [
    "## Example 9. Create a DataFrame using a of list of dictionaries, and custom row-indexes (labels)"
   ]
  },
  {
   "cell_type": "code",
   "execution_count": 40,
   "id": "e40457b5",
   "metadata": {},
   "outputs": [],
   "source": [
    "store_items = pd.DataFrame(items2, index = ['Store1', 'Store2'])"
   ]
  },
  {
   "cell_type": "code",
   "execution_count": 41,
   "id": "1748d1ca",
   "metadata": {},
   "outputs": [
    {
     "data": {
      "text/html": [
       "<div>\n",
       "<style scoped>\n",
       "    .dataframe tbody tr th:only-of-type {\n",
       "        vertical-align: middle;\n",
       "    }\n",
       "\n",
       "    .dataframe tbody tr th {\n",
       "        vertical-align: top;\n",
       "    }\n",
       "\n",
       "    .dataframe thead th {\n",
       "        text-align: right;\n",
       "    }\n",
       "</style>\n",
       "<table border=\"1\" class=\"dataframe\">\n",
       "  <thead>\n",
       "    <tr style=\"text-align: right;\">\n",
       "      <th></th>\n",
       "      <th>bikes</th>\n",
       "      <th>pants</th>\n",
       "      <th>watches</th>\n",
       "      <th>glasses</th>\n",
       "    </tr>\n",
       "  </thead>\n",
       "  <tbody>\n",
       "    <tr>\n",
       "      <th>Store1</th>\n",
       "      <td>20</td>\n",
       "      <td>30</td>\n",
       "      <td>35</td>\n",
       "      <td>NaN</td>\n",
       "    </tr>\n",
       "    <tr>\n",
       "      <th>Store2</th>\n",
       "      <td>15</td>\n",
       "      <td>5</td>\n",
       "      <td>10</td>\n",
       "      <td>50.0</td>\n",
       "    </tr>\n",
       "  </tbody>\n",
       "</table>\n",
       "</div>"
      ],
      "text/plain": [
       "        bikes  pants  watches  glasses\n",
       "Store1     20     30       35      NaN\n",
       "Store2     15      5       10     50.0"
      ]
     },
     "execution_count": 41,
     "metadata": {},
     "output_type": "execute_result"
    }
   ],
   "source": [
    "store_items"
   ]
  },
  {
   "cell_type": "markdown",
   "id": "7eaabc4c",
   "metadata": {},
   "source": [
    "## Additional Reading - Pandas Documentation"
   ]
  },
  {
   "cell_type": "markdown",
   "id": "38910a3d",
   "metadata": {},
   "source": [
    "1. Refer to the Intro to data structures for an overview of both the data structures - Series and DataFrame. ---> https://pandas.pydata.org/pandas-docs/stable/user_guide/dsintro.html#intro-to-data-structures \n",
    "\n",
    "2. Refer to the Attributes and underlying data section in the DataFrame documentation."
   ]
  },
  {
   "cell_type": "code",
   "execution_count": null,
   "id": "4da03250",
   "metadata": {},
   "outputs": [],
   "source": []
  }
 ],
 "metadata": {
  "kernelspec": {
   "display_name": "Python 3 (ipykernel)",
   "language": "python",
   "name": "python3"
  },
  "language_info": {
   "codemirror_mode": {
    "name": "ipython",
    "version": 3
   },
   "file_extension": ".py",
   "mimetype": "text/x-python",
   "name": "python",
   "nbconvert_exporter": "python",
   "pygments_lexer": "ipython3",
   "version": "3.11.5"
  }
 },
 "nbformat": 4,
 "nbformat_minor": 5
}
