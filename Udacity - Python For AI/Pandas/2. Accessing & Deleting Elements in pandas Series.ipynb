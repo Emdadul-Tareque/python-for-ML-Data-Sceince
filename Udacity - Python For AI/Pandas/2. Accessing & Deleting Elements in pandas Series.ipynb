{
 "cells": [
  {
   "cell_type": "markdown",
   "id": "d15b58d7",
   "metadata": {},
   "source": [
    "## Example 1. Access elements using index labels"
   ]
  },
  {
   "cell_type": "code",
   "execution_count": 2,
   "id": "21d3bbee",
   "metadata": {},
   "outputs": [],
   "source": [
    "import pandas as pd"
   ]
  },
  {
   "cell_type": "code",
   "execution_count": 6,
   "id": "5bc9c46e",
   "metadata": {},
   "outputs": [],
   "source": [
    "groceries = pd.Series(data = [30, 20, 'Yes', 'No'], index = ['eggs', 'apples', 'milk', 'bread'])"
   ]
  },
  {
   "cell_type": "code",
   "execution_count": 7,
   "id": "e68710a4",
   "metadata": {},
   "outputs": [
    {
     "data": {
      "text/plain": [
       "eggs       30\n",
       "apples     20\n",
       "milk      Yes\n",
       "bread      No\n",
       "dtype: object"
      ]
     },
     "execution_count": 7,
     "metadata": {},
     "output_type": "execute_result"
    }
   ],
   "source": [
    "groceries"
   ]
  },
  {
   "cell_type": "code",
   "execution_count": 8,
   "id": "c4124e85",
   "metadata": {},
   "outputs": [
    {
     "name": "stdout",
     "output_type": "stream",
     "text": [
      "How many eggs do we need to buy: 30\n",
      "\n",
      "Do we need milk and bread:\n",
      " milk     Yes\n",
      "bread     No\n",
      "dtype: object\n",
      "\n",
      "How many eggs and apples do we need to buy:\n",
      " eggs      30\n",
      "apples    20\n",
      "dtype: object\n",
      "\n",
      "How many eggs and apples do we need to buy:\n",
      " eggs      30\n",
      "apples    20\n",
      "dtype: object\n",
      "\n",
      "Do we need bread:\n",
      " bread    No\n",
      "dtype: object\n",
      "\n",
      "How many eggs do we need to buy: 30\n",
      "\n",
      "Do we need milk and bread:\n",
      " milk     Yes\n",
      "bread     No\n",
      "dtype: object\n"
     ]
    }
   ],
   "source": [
    "# We access elements in Groceries using index labels:\n",
    "\n",
    "# We use a single index label\n",
    "print('How many eggs do we need to buy:', groceries['eggs'])\n",
    "print()\n",
    "\n",
    "# we can access multiple index labels\n",
    "print('Do we need milk and bread:\\n', groceries[['milk', 'bread']]) \n",
    "print()\n",
    "\n",
    "# we use loc to access multiple index labels\n",
    "print('How many eggs and apples do we need to buy:\\n', groceries.loc[['eggs', 'apples']]) \n",
    "print()\n",
    "\n",
    "# We access elements in Groceries using numerical indices:\n",
    "\n",
    "# we use multiple numerical indices\n",
    "print('How many eggs and apples do we need to buy:\\n',  groceries[[0, 1]]) \n",
    "print()\n",
    "\n",
    "# We use a negative numerical index\n",
    "print('Do we need bread:\\n', groceries[[-1]]) \n",
    "print()\n",
    "\n",
    "# We use a single numerical index\n",
    "print('How many eggs do we need to buy:', groceries[0]) \n",
    "print()\n",
    "# we use iloc to access multiple numerical indices\n",
    "print('Do we need milk and bread:\\n', groceries.iloc[[2, 3]]) "
   ]
  },
  {
   "cell_type": "code",
   "execution_count": 20,
   "id": "32eeed02",
   "metadata": {},
   "outputs": [
    {
     "data": {
      "text/plain": [
       "milk     Yes\n",
       "bread     No\n",
       "dtype: object"
      ]
     },
     "execution_count": 20,
     "metadata": {},
     "output_type": "execute_result"
    }
   ],
   "source": [
    "groceries[['milk', 'bread']]"
   ]
  },
  {
   "cell_type": "code",
   "execution_count": 21,
   "id": "402e1c17",
   "metadata": {},
   "outputs": [
    {
     "data": {
      "text/plain": [
       "30"
      ]
     },
     "execution_count": 21,
     "metadata": {},
     "output_type": "execute_result"
    }
   ],
   "source": [
    "groceries['eggs']"
   ]
  },
  {
   "cell_type": "code",
   "execution_count": 18,
   "id": "db4d84a9",
   "metadata": {},
   "outputs": [
    {
     "data": {
      "text/plain": [
       "eggs      30\n",
       "apples    20\n",
       "dtype: object"
      ]
     },
     "execution_count": 18,
     "metadata": {},
     "output_type": "execute_result"
    }
   ],
   "source": [
    "groceries.loc[['eggs', 'apples']] # data_frame.loc --> Using for accessing non numerical index "
   ]
  },
  {
   "cell_type": "code",
   "execution_count": 19,
   "id": "325d82f5",
   "metadata": {},
   "outputs": [
    {
     "data": {
      "text/plain": [
       "milk     Yes\n",
       "bread     No\n",
       "dtype: object"
      ]
     },
     "execution_count": 19,
     "metadata": {},
     "output_type": "execute_result"
    }
   ],
   "source": [
    "groceries.iloc[[2,3]] # # data_frame.iloc --> Using for accessing numerical index "
   ]
  },
  {
   "cell_type": "code",
   "execution_count": 23,
   "id": "2d571748",
   "metadata": {},
   "outputs": [
    {
     "data": {
      "text/plain": [
       "apples     20\n",
       "milk      Yes\n",
       "bread      No\n",
       "dtype: object"
      ]
     },
     "execution_count": 23,
     "metadata": {},
     "output_type": "execute_result"
    }
   ],
   "source": [
    "groceries[[1, 2, 3]]"
   ]
  },
  {
   "cell_type": "markdown",
   "id": "97f3f7d2",
   "metadata": {},
   "source": [
    "## Example 2. Mutate elements using index labels\n"
   ]
  },
  {
   "cell_type": "code",
   "execution_count": 24,
   "id": "52adc8e1",
   "metadata": {},
   "outputs": [
    {
     "name": "stdout",
     "output_type": "stream",
     "text": [
      "Original Grocery List:\n",
      " eggs       30\n",
      "apples     20\n",
      "milk      Yes\n",
      "bread      No\n",
      "dtype: object\n"
     ]
    }
   ],
   "source": [
    "print('Original Grocery List:\\n', groceries)"
   ]
  },
  {
   "cell_type": "code",
   "execution_count": 25,
   "id": "5f8a0d5c",
   "metadata": {},
   "outputs": [],
   "source": [
    "groceries['eggs'] = 2"
   ]
  },
  {
   "cell_type": "code",
   "execution_count": 26,
   "id": "1abc356b",
   "metadata": {},
   "outputs": [
    {
     "data": {
      "text/plain": [
       "eggs        2\n",
       "apples     20\n",
       "milk      Yes\n",
       "bread      No\n",
       "dtype: object"
      ]
     },
     "execution_count": 26,
     "metadata": {},
     "output_type": "execute_result"
    }
   ],
   "source": [
    "groceries"
   ]
  },
  {
   "cell_type": "code",
   "execution_count": 27,
   "id": "ce23c1f8",
   "metadata": {},
   "outputs": [],
   "source": [
    "groceries[['eggs', 'apples']] = [10, 20]"
   ]
  },
  {
   "cell_type": "code",
   "execution_count": 28,
   "id": "ba41dda7",
   "metadata": {},
   "outputs": [
    {
     "data": {
      "text/plain": [
       "eggs       10\n",
       "apples     20\n",
       "milk      Yes\n",
       "bread      No\n",
       "dtype: object"
      ]
     },
     "execution_count": 28,
     "metadata": {},
     "output_type": "execute_result"
    }
   ],
   "source": [
    "groceries"
   ]
  },
  {
   "cell_type": "code",
   "execution_count": 29,
   "id": "6c3f6dc6",
   "metadata": {},
   "outputs": [],
   "source": [
    "groceries[['eggs', 'apples']] = 'Yes'"
   ]
  },
  {
   "cell_type": "code",
   "execution_count": 30,
   "id": "57a27bbd",
   "metadata": {},
   "outputs": [
    {
     "data": {
      "text/plain": [
       "eggs      Yes\n",
       "apples    Yes\n",
       "milk      Yes\n",
       "bread      No\n",
       "dtype: object"
      ]
     },
     "execution_count": 30,
     "metadata": {},
     "output_type": "execute_result"
    }
   ],
   "source": [
    "groceries"
   ]
  },
  {
   "cell_type": "code",
   "execution_count": 31,
   "id": "f82fc207",
   "metadata": {},
   "outputs": [],
   "source": [
    "groceries[['eggs', 'apples']] = 100"
   ]
  },
  {
   "cell_type": "code",
   "execution_count": 32,
   "id": "a65e5545",
   "metadata": {},
   "outputs": [
    {
     "data": {
      "text/plain": [
       "eggs      100\n",
       "apples    100\n",
       "milk      Yes\n",
       "bread      No\n",
       "dtype: object"
      ]
     },
     "execution_count": 32,
     "metadata": {},
     "output_type": "execute_result"
    }
   ],
   "source": [
    "groceries"
   ]
  },
  {
   "cell_type": "markdown",
   "id": "6e912151",
   "metadata": {},
   "source": [
    "## Deleting Elements from a pandas Series"
   ]
  },
  {
   "cell_type": "raw",
   "id": "40000588",
   "metadata": {},
   "source": [
    "We can also delete items from a Pandas Series by using the .drop() method. The Series.drop(label) method removes the given label from the given Series. We should note that the Series.drop(label) method drops elements from the Series out-of-place, meaning that it doesn't change the original Series being modified. Let's see how this works:\n",
    "\n"
   ]
  },
  {
   "cell_type": "markdown",
   "id": "93862499",
   "metadata": {},
   "source": [
    "## Example 3. Delete elements out-of-place using drop()"
   ]
  },
  {
   "cell_type": "code",
   "execution_count": 33,
   "id": "d4dc6ec0",
   "metadata": {},
   "outputs": [
    {
     "data": {
      "text/plain": [
       "eggs      100\n",
       "apples    100\n",
       "milk      Yes\n",
       "bread      No\n",
       "dtype: object"
      ]
     },
     "execution_count": 33,
     "metadata": {},
     "output_type": "execute_result"
    }
   ],
   "source": [
    "groceries"
   ]
  },
  {
   "cell_type": "code",
   "execution_count": 34,
   "id": "3a4030d0",
   "metadata": {},
   "outputs": [
    {
     "data": {
      "text/plain": [
       "eggs      100\n",
       "apples    100\n",
       "bread      No\n",
       "dtype: object"
      ]
     },
     "execution_count": 34,
     "metadata": {},
     "output_type": "execute_result"
    }
   ],
   "source": [
    "groceries.drop('milk')"
   ]
  },
  {
   "cell_type": "code",
   "execution_count": 35,
   "id": "abb2b143",
   "metadata": {},
   "outputs": [
    {
     "data": {
      "text/plain": [
       "eggs      100\n",
       "apples    100\n",
       "milk      Yes\n",
       "bread      No\n",
       "dtype: object"
      ]
     },
     "execution_count": 35,
     "metadata": {},
     "output_type": "execute_result"
    }
   ],
   "source": [
    "groceries # pd.drop --> মেইন পাণ্ডা সিরিজ থেকে ডিলেট করে নি  "
   ]
  },
  {
   "cell_type": "markdown",
   "id": "59aa9e7c",
   "metadata": {},
   "source": [
    "## Example 4. Delete elements in-place using drop()"
   ]
  },
  {
   "cell_type": "code",
   "execution_count": 36,
   "id": "a9737d8b",
   "metadata": {},
   "outputs": [],
   "source": [
    "groceries.drop('milk', inplace=True)"
   ]
  },
  {
   "cell_type": "code",
   "execution_count": 37,
   "id": "d8d1e9a5",
   "metadata": {},
   "outputs": [
    {
     "data": {
      "text/plain": [
       "eggs      100\n",
       "apples    100\n",
       "bread      No\n",
       "dtype: object"
      ]
     },
     "execution_count": 37,
     "metadata": {},
     "output_type": "execute_result"
    }
   ],
   "source": [
    "groceries"
   ]
  },
  {
   "cell_type": "markdown",
   "id": "db337f49",
   "metadata": {},
   "source": [
    "## Additional Reading - Pandas Series Documentation"
   ]
  },
  {
   "cell_type": "markdown",
   "id": "658b7da5",
   "metadata": {},
   "source": [
    "Reindexing/ Selection/ Label manipulation ---->  https://pandas.pydata.org/pandas-docs/stable/reference/series.html#reindexing-selection-label-manipulation "
   ]
  },
  {
   "cell_type": "markdown",
   "id": "135ad724",
   "metadata": {},
   "source": [
    "Indexing and Iteration ---->  \n",
    "https://pandas.pydata.org/pandas-docs/stable/reference/series.html#indexing-iteration"
   ]
  },
  {
   "cell_type": "code",
   "execution_count": null,
   "id": "7de2d86d",
   "metadata": {},
   "outputs": [],
   "source": []
  }
 ],
 "metadata": {
  "kernelspec": {
   "display_name": "Python 3 (ipykernel)",
   "language": "python",
   "name": "python3"
  },
  "language_info": {
   "codemirror_mode": {
    "name": "ipython",
    "version": 3
   },
   "file_extension": ".py",
   "mimetype": "text/x-python",
   "name": "python",
   "nbconvert_exporter": "python",
   "pygments_lexer": "ipython3",
   "version": "3.11.5"
  }
 },
 "nbformat": 4,
 "nbformat_minor": 5
}
