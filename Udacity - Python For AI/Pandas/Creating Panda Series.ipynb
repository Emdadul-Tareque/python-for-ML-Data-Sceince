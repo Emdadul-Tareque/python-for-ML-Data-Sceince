{
 "cells": [
  {
   "cell_type": "markdown",
   "id": "4d115473",
   "metadata": {},
   "source": [
    "## Pandas Series\n",
    "A Pandas series is a one-dimensional array-like object that can hold many data types, such as numbers or strings, and has an option to provide axis labels.\n"
   ]
  },
  {
   "cell_type": "markdown",
   "id": "55cd73ae",
   "metadata": {},
   "source": [
    "## Difference between NumPy ndarrays and Pandas Series\n",
    "One of the main differences between Pandas Series and NumPy ndarrays is that you can assign an index label to each element in the Pandas Series. In other words, you can name the indices of your Pandas Series anything you want.\n",
    "Another big difference between Pandas Series and NumPy ndarrays is that Pandas Series can hold data of different data types"
   ]
  },
  {
   "cell_type": "markdown",
   "id": "8570529f",
   "metadata": {},
   "source": [
    "## Example 1 - Create a Series"
   ]
  },
  {
   "cell_type": "code",
   "execution_count": 5,
   "id": "732baf25",
   "metadata": {},
   "outputs": [],
   "source": [
    "import pandas as pd"
   ]
  },
  {
   "cell_type": "code",
   "execution_count": 6,
   "id": "75062c79",
   "metadata": {},
   "outputs": [],
   "source": [
    "groceries = pd.Series(data=[30, 20, 'Yes', 'No'], index = ['egg', 'apples', 'milk', 'bread'])"
   ]
  },
  {
   "cell_type": "code",
   "execution_count": 7,
   "id": "60626cee",
   "metadata": {},
   "outputs": [
    {
     "data": {
      "text/plain": [
       "egg        30\n",
       "apples     20\n",
       "milk      Yes\n",
       "bread      No\n",
       "dtype: object"
      ]
     },
     "execution_count": 7,
     "metadata": {},
     "output_type": "execute_result"
    }
   ],
   "source": [
    "groceries"
   ]
  },
  {
   "cell_type": "markdown",
   "id": "0e5ff1e4",
   "metadata": {},
   "source": [
    "## Example 2 - Print attributes - shape, ndim,and size"
   ]
  },
  {
   "cell_type": "code",
   "execution_count": 11,
   "id": "28c320c9",
   "metadata": {},
   "outputs": [
    {
     "data": {
      "text/plain": [
       "(4,)"
      ]
     },
     "execution_count": 11,
     "metadata": {},
     "output_type": "execute_result"
    }
   ],
   "source": [
    "groceries.shape"
   ]
  },
  {
   "cell_type": "code",
   "execution_count": 12,
   "id": "3f0f5bcc",
   "metadata": {},
   "outputs": [
    {
     "data": {
      "text/plain": [
       "1"
      ]
     },
     "execution_count": 12,
     "metadata": {},
     "output_type": "execute_result"
    }
   ],
   "source": [
    "groceries.ndim"
   ]
  },
  {
   "cell_type": "code",
   "execution_count": 13,
   "id": "923cf49c",
   "metadata": {},
   "outputs": [
    {
     "data": {
      "text/plain": [
       "4"
      ]
     },
     "execution_count": 13,
     "metadata": {},
     "output_type": "execute_result"
    }
   ],
   "source": [
    "groceries.size"
   ]
  },
  {
   "cell_type": "markdown",
   "id": "ca39de19",
   "metadata": {},
   "source": [
    "## Example 3 - Print attributes - values, and index"
   ]
  },
  {
   "cell_type": "code",
   "execution_count": 14,
   "id": "ab68083b",
   "metadata": {},
   "outputs": [
    {
     "data": {
      "text/plain": [
       "array([30, 20, 'Yes', 'No'], dtype=object)"
      ]
     },
     "execution_count": 14,
     "metadata": {},
     "output_type": "execute_result"
    }
   ],
   "source": [
    "groceries.values"
   ]
  },
  {
   "cell_type": "code",
   "execution_count": 15,
   "id": "3ae69af1",
   "metadata": {},
   "outputs": [
    {
     "data": {
      "text/plain": [
       "Index(['egg', 'apples', 'milk', 'bread'], dtype='object')"
      ]
     },
     "execution_count": 15,
     "metadata": {},
     "output_type": "execute_result"
    }
   ],
   "source": [
    "groceries.index"
   ]
  },
  {
   "cell_type": "markdown",
   "id": "e5d1044d",
   "metadata": {},
   "source": [
    "## Example 4 - Check if an index is available in the given Series"
   ]
  },
  {
   "cell_type": "code",
   "execution_count": 16,
   "id": "1f7cedbd",
   "metadata": {},
   "outputs": [],
   "source": [
    "x = 'banans' in groceries"
   ]
  },
  {
   "cell_type": "code",
   "execution_count": 17,
   "id": "0671c31f",
   "metadata": {},
   "outputs": [
    {
     "data": {
      "text/plain": [
       "False"
      ]
     },
     "execution_count": 17,
     "metadata": {},
     "output_type": "execute_result"
    }
   ],
   "source": [
    "x"
   ]
  },
  {
   "cell_type": "code",
   "execution_count": 18,
   "id": "f5116013",
   "metadata": {},
   "outputs": [],
   "source": [
    "y = 'bread' in groceries"
   ]
  },
  {
   "cell_type": "code",
   "execution_count": 19,
   "id": "90e0c9df",
   "metadata": {},
   "outputs": [
    {
     "data": {
      "text/plain": [
       "True"
      ]
     },
     "execution_count": 19,
     "metadata": {},
     "output_type": "execute_result"
    }
   ],
   "source": [
    "y"
   ]
  },
  {
   "cell_type": "code",
   "execution_count": null,
   "id": "ee80fcbd",
   "metadata": {},
   "outputs": [],
   "source": []
  }
 ],
 "metadata": {
  "kernelspec": {
   "display_name": "Python 3 (ipykernel)",
   "language": "python",
   "name": "python3"
  },
  "language_info": {
   "codemirror_mode": {
    "name": "ipython",
    "version": 3
   },
   "file_extension": ".py",
   "mimetype": "text/x-python",
   "name": "python",
   "nbconvert_exporter": "python",
   "pygments_lexer": "ipython3",
   "version": "3.11.5"
  }
 },
 "nbformat": 4,
 "nbformat_minor": 5
}
