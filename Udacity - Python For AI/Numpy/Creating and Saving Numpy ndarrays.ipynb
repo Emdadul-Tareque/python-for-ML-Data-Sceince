{
 "cells": [
  {
   "cell_type": "code",
   "execution_count": 1,
   "id": "affec8ad",
   "metadata": {},
   "outputs": [],
   "source": [
    "import numpy as np"
   ]
  },
  {
   "cell_type": "code",
   "execution_count": 3,
   "id": "d732458b",
   "metadata": {},
   "outputs": [],
   "source": [
    "np_array = np.array([1, 2, 3, 4, 5])"
   ]
  },
  {
   "cell_type": "code",
   "execution_count": 4,
   "id": "4e86707e",
   "metadata": {},
   "outputs": [
    {
     "name": "stdout",
     "output_type": "stream",
     "text": [
      "np_array =  [1 2 3 4 5]\n"
     ]
    }
   ],
   "source": [
    "print('np_array = ', np_array)"
   ]
  },
  {
   "cell_type": "code",
   "execution_count": 5,
   "id": "035c13de",
   "metadata": {},
   "outputs": [
    {
     "data": {
      "text/plain": [
       "1"
      ]
     },
     "execution_count": 5,
     "metadata": {},
     "output_type": "execute_result"
    }
   ],
   "source": [
    "np_array.ndim"
   ]
  },
  {
   "cell_type": "code",
   "execution_count": 6,
   "id": "179b13b3",
   "metadata": {},
   "outputs": [],
   "source": [
    "np_arr_2D = np.array([[1, 2, 3], [4, 5, 6], [10, 11, 12]])"
   ]
  },
  {
   "cell_type": "code",
   "execution_count": 7,
   "id": "d513fd71",
   "metadata": {},
   "outputs": [
    {
     "data": {
      "text/plain": [
       "array([[ 1,  2,  3],\n",
       "       [ 4,  5,  6],\n",
       "       [10, 11, 12]])"
      ]
     },
     "execution_count": 7,
     "metadata": {},
     "output_type": "execute_result"
    }
   ],
   "source": [
    "np_arr_2D"
   ]
  },
  {
   "cell_type": "code",
   "execution_count": 8,
   "id": "b024650a",
   "metadata": {},
   "outputs": [
    {
     "data": {
      "text/plain": [
       "2"
      ]
     },
     "execution_count": 8,
     "metadata": {},
     "output_type": "execute_result"
    }
   ],
   "source": [
    "np_arr_2D.ndim"
   ]
  },
  {
   "cell_type": "code",
   "execution_count": 9,
   "id": "f4c58e25",
   "metadata": {},
   "outputs": [],
   "source": [
    "np_arr_3D = np.zeros((2, 3, 4))"
   ]
  },
  {
   "cell_type": "code",
   "execution_count": 10,
   "id": "6ce9b806",
   "metadata": {},
   "outputs": [
    {
     "data": {
      "text/plain": [
       "array([[[0., 0., 0., 0.],\n",
       "        [0., 0., 0., 0.],\n",
       "        [0., 0., 0., 0.]],\n",
       "\n",
       "       [[0., 0., 0., 0.],\n",
       "        [0., 0., 0., 0.],\n",
       "        [0., 0., 0., 0.]]])"
      ]
     },
     "execution_count": 10,
     "metadata": {},
     "output_type": "execute_result"
    }
   ],
   "source": [
    "np_arr_3D"
   ]
  },
  {
   "cell_type": "code",
   "execution_count": 11,
   "id": "317be14d",
   "metadata": {},
   "outputs": [
    {
     "data": {
      "text/plain": [
       "(3, 3)"
      ]
     },
     "execution_count": 11,
     "metadata": {},
     "output_type": "execute_result"
    }
   ],
   "source": [
    "np_arr_2D.shape"
   ]
  },
  {
   "cell_type": "code",
   "execution_count": 12,
   "id": "b01f4c39",
   "metadata": {},
   "outputs": [
    {
     "data": {
      "text/plain": [
       "(5,)"
      ]
     },
     "execution_count": 12,
     "metadata": {},
     "output_type": "execute_result"
    }
   ],
   "source": [
    "np_array.shape"
   ]
  },
  {
   "cell_type": "code",
   "execution_count": 13,
   "id": "35a69b43",
   "metadata": {},
   "outputs": [
    {
     "data": {
      "text/plain": [
       "(2, 3, 4)"
      ]
     },
     "execution_count": 13,
     "metadata": {},
     "output_type": "execute_result"
    }
   ],
   "source": [
    "np_arr_3D.shape"
   ]
  },
  {
   "cell_type": "code",
   "execution_count": 14,
   "id": "3134911d",
   "metadata": {},
   "outputs": [
    {
     "data": {
      "text/plain": [
       "dtype('int64')"
      ]
     },
     "execution_count": 14,
     "metadata": {},
     "output_type": "execute_result"
    }
   ],
   "source": [
    "np_arr_2D.dtype"
   ]
  },
  {
   "cell_type": "code",
   "execution_count": 15,
   "id": "14b1fa4f",
   "metadata": {},
   "outputs": [
    {
     "data": {
      "text/plain": [
       "dtype('int64')"
      ]
     },
     "execution_count": 15,
     "metadata": {},
     "output_type": "execute_result"
    }
   ],
   "source": [
    "np_array.dtype"
   ]
  },
  {
   "cell_type": "code",
   "execution_count": 20,
   "id": "0ffeb264",
   "metadata": {},
   "outputs": [],
   "source": [
    "np_array_type = np.array([1, 2, 3, True])"
   ]
  },
  {
   "cell_type": "code",
   "execution_count": 21,
   "id": "9f64e324",
   "metadata": {},
   "outputs": [
    {
     "data": {
      "text/plain": [
       "dtype('int64')"
      ]
     },
     "execution_count": 21,
     "metadata": {},
     "output_type": "execute_result"
    }
   ],
   "source": [
    "np_array_type.dtype"
   ]
  },
  {
   "cell_type": "code",
   "execution_count": 22,
   "id": "98cfb98b",
   "metadata": {},
   "outputs": [],
   "source": [
    "np_array_type = np.array([1, 2, 3, True, \"Emdadul\"])"
   ]
  },
  {
   "cell_type": "code",
   "execution_count": 23,
   "id": "74f075a5",
   "metadata": {},
   "outputs": [
    {
     "data": {
      "text/plain": [
       "dtype('<U21')"
      ]
     },
     "execution_count": 23,
     "metadata": {},
     "output_type": "execute_result"
    }
   ],
   "source": [
    "np_array_type.dtype"
   ]
  },
  {
   "cell_type": "code",
   "execution_count": 24,
   "id": "9e2a6ce5",
   "metadata": {},
   "outputs": [],
   "source": [
    "np_array_type = np.array([1, 2, 3, True, \"aaaaaaaaaaaaaaaaaaaaaaaaaaaaaaaaaaaa\"])"
   ]
  },
  {
   "cell_type": "code",
   "execution_count": 25,
   "id": "dc49e971",
   "metadata": {},
   "outputs": [
    {
     "data": {
      "text/plain": [
       "dtype('<U36')"
      ]
     },
     "execution_count": 25,
     "metadata": {},
     "output_type": "execute_result"
    }
   ],
   "source": [
    "np_array_type.dtype"
   ]
  },
  {
   "cell_type": "code",
   "execution_count": 26,
   "id": "92731bd6",
   "metadata": {},
   "outputs": [],
   "source": [
    "np_array_float = np.array([2.0, 3.3, 2.1])"
   ]
  },
  {
   "cell_type": "code",
   "execution_count": 27,
   "id": "f2a307d2",
   "metadata": {},
   "outputs": [
    {
     "data": {
      "text/plain": [
       "dtype('float64')"
      ]
     },
     "execution_count": 27,
     "metadata": {},
     "output_type": "execute_result"
    }
   ],
   "source": [
    "np_array_float.dtype"
   ]
  },
  {
   "cell_type": "code",
   "execution_count": 28,
   "id": "fe3c694b",
   "metadata": {},
   "outputs": [],
   "source": [
    "np_array_mixed = np.array([1, 2.4, 3.5, 4])"
   ]
  },
  {
   "cell_type": "code",
   "execution_count": 29,
   "id": "279a309a",
   "metadata": {},
   "outputs": [
    {
     "data": {
      "text/plain": [
       "dtype('float64')"
      ]
     },
     "execution_count": 29,
     "metadata": {},
     "output_type": "execute_result"
    }
   ],
   "source": [
    "np_array_mixed.dtype"
   ]
  },
  {
   "cell_type": "markdown",
   "id": "0dffb02f",
   "metadata": {},
   "source": [
    "We can see that when we create an ndarray with only floats, NumPy stores the elements in memory as 64-bit floating point numbers (float64). However, notice that when we create an ndarray with both floats and integers, as we did with the np_array_mixed ndarray above, NumPy assigns its elements a float64 dtype as well. This is called upcasting. Since all the elements of an ndarray must be of the same type, in this case NumPy upcasts the integers in np_array_mixed to floats in order to avoid losing precision in numerical computations"
   ]
  },
  {
   "cell_type": "markdown",
   "id": "ba91dab1",
   "metadata": {},
   "source": [
    "### Using a 1-D Array of Float, and specifying the datatype of each element as int64"
   ]
  },
  {
   "cell_type": "code",
   "execution_count": 30,
   "id": "12bd6dd7",
   "metadata": {},
   "outputs": [],
   "source": [
    "np_array = np.array([1.5, 2.2, 2.7, 3.2], dtype='int64')"
   ]
  },
  {
   "cell_type": "code",
   "execution_count": 31,
   "id": "41fcbbdb",
   "metadata": {},
   "outputs": [
    {
     "data": {
      "text/plain": [
       "array([1, 2, 2, 3])"
      ]
     },
     "execution_count": 31,
     "metadata": {},
     "output_type": "execute_result"
    }
   ],
   "source": [
    "np_array"
   ]
  },
  {
   "cell_type": "markdown",
   "id": "b365a1d6",
   "metadata": {},
   "source": [
    "## Save the NumPy array to a File"
   ]
  },
  {
   "cell_type": "markdown",
   "id": "e8e5e1e1",
   "metadata": {},
   "source": [
    "Once you create an ndarray, you may want to save it to a file to be read later or to be used by another program. NumPy provides a way to save the arrays into files for later use - let's see how this is done"
   ]
  },
  {
   "cell_type": "code",
   "execution_count": 32,
   "id": "a829244e",
   "metadata": {},
   "outputs": [],
   "source": [
    "np_array = np.array([1, 2, 3, 4, 5])"
   ]
  },
  {
   "cell_type": "code",
   "execution_count": 33,
   "id": "f88b82ed",
   "metadata": {},
   "outputs": [],
   "source": [
    "np.save('numpy_array', np_array)"
   ]
  },
  {
   "cell_type": "markdown",
   "id": "492fd86d",
   "metadata": {},
   "source": [
    "## Read Numpy Array from save file"
   ]
  },
  {
   "cell_type": "code",
   "execution_count": 34,
   "id": "ff171588",
   "metadata": {},
   "outputs": [],
   "source": [
    "np_array_load = np.load('numpy_array.npy')"
   ]
  },
  {
   "cell_type": "code",
   "execution_count": 35,
   "id": "362f7330",
   "metadata": {},
   "outputs": [
    {
     "data": {
      "text/plain": [
       "array([1, 2, 3, 4, 5])"
      ]
     },
     "execution_count": 35,
     "metadata": {},
     "output_type": "execute_result"
    }
   ],
   "source": [
    "np_array_load"
   ]
  },
  {
   "cell_type": "code",
   "execution_count": null,
   "id": "4047ace5",
   "metadata": {},
   "outputs": [],
   "source": []
  }
 ],
 "metadata": {
  "kernelspec": {
   "display_name": "Python 3 (ipykernel)",
   "language": "python",
   "name": "python3"
  },
  "language_info": {
   "codemirror_mode": {
    "name": "ipython",
    "version": 3
   },
   "file_extension": ".py",
   "mimetype": "text/x-python",
   "name": "python",
   "nbconvert_exporter": "python",
   "pygments_lexer": "ipython3",
   "version": "3.11.5"
  }
 },
 "nbformat": 4,
 "nbformat_minor": 5
}
