{
 "cells": [
  {
   "cell_type": "markdown",
   "metadata": {},
   "source": [
    "# Mean Normalization\n",
    "\n",
    "In machine learning we use large amounts of data to train our models. Some machine learning algorithms may require that the data is *normalized* in order to work correctly. The idea of normalization, also known as *feature scaling*, is to ensure that all the data is on a similar scale, *i.e.* that all the data takes on a similar range of values. For example, we might have a dataset that has values between 0 and 5,000. By normalizing the data we can make the range of values be between 0 and 1.\n",
    "\n",
    "In this lab, you will be performing a different kind of feature scaling known as *mean normalization*. Mean normalization will scale the data, but instead of making the values be between 0 and 1, it will distribute the values evenly in some small interval around zero. For example, if we have a dataset that has values between 0 and 5,000, after mean normalization the range of values will be distributed in some small range around 0, for example between -3 to 3. Because the range of values are distributed evenly around zero, this guarantees that the average (mean) of all elements will be zero. Therefore, when you perform *mean normalization* your data will not only be scaled but it will also have an average of zero. \n",
    "\n",
    "# To Do:\n",
    "\n",
    "You will start by importing NumPy and creating a rank 2 ndarray of random integers between 0 and 5,000 (inclusive) with 1000 rows and 20 columns. This array will simulate a dataset with a wide range of values. Fill in the code below"
   ]
  },
  {
   "cell_type": "code",
   "execution_count": 35,
   "metadata": {},
   "outputs": [
    {
     "name": "stdout",
     "output_type": "stream",
     "text": [
      "(1000, 20)\n"
     ]
    }
   ],
   "source": [
    "# import NumPy into Python\n",
    "import numpy as np\n",
    "\n",
    "# Create a 1000 x 20 ndarray with random integers in the half-open interval [0, 5001).\n",
    "X = np.random.randint(0, 5001, size=(1000, 20))\n",
    "\n",
    "# print the shape of X\n",
    "print(np.shape(X))"
   ]
  },
  {
   "cell_type": "markdown",
   "metadata": {},
   "source": [
    "Now that you created the array we will mean normalize it. We will perform mean normalization using the following equation:\n",
    "\n",
    "$\\mbox{Norm_Col}_i = \\frac{\\mbox{Col}_i - \\mu_i}{\\sigma_i}$\n",
    "\n",
    "where $\\mbox{Col}_i$ is the $i$th column of $X$, $\\mu_i$ is average of the values in the $i$th column of $X$, and $\\sigma_i$ is the standard deviation of the values in the $i$th column of $X$. In other words, mean normalization is performed by subtracting from each column of $X$ the average of its values, and then by dividing by the standard deviation of its values. In the space below, you will first calculate the average and standard deviation of each column of $X$. "
   ]
  },
  {
   "cell_type": "code",
   "execution_count": 36,
   "metadata": {},
   "outputs": [],
   "source": [
    "# Average of the values in each column of X\n",
    "ave_cols = X.mean(axis=0)\n",
    "\n",
    "# Standard Deviation of the values in each column of X\n",
    "std_cols = X.std(axis=0)"
   ]
  },
  {
   "cell_type": "markdown",
   "metadata": {},
   "source": [
    "If you have done the above calculations correctly, then `ave_cols` and `std_cols`, should both be vectors with shape `(20,)` since $X$ has 20 columns. You can verify this by filling the code below:"
   ]
  },
  {
   "cell_type": "code",
   "execution_count": 37,
   "metadata": {},
   "outputs": [
    {
     "name": "stdout",
     "output_type": "stream",
     "text": [
      "(20,)\n",
      "(20,)\n"
     ]
    }
   ],
   "source": [
    "# Print the shape of ave_cols\n",
    "print(np.shape(ave_cols))\n",
    "\n",
    "# Print the shape of std_cols\n",
    "print(np.shape(std_cols))"
   ]
  },
  {
   "cell_type": "markdown",
   "metadata": {},
   "source": [
    "You can now take advantage of Broadcasting to calculate the mean normalized version of $X$ in just one line of code using the equation above. Fill in the code below"
   ]
  },
  {
   "cell_type": "code",
   "execution_count": 38,
   "metadata": {},
   "outputs": [],
   "source": [
    "# Mean normalize X\n",
    "X_norm = (X - ave_cols) / std_cols"
   ]
  },
  {
   "cell_type": "markdown",
   "metadata": {},
   "source": [
    "If you have performed the mean normalization correctly, then the average of all the elements in $X_{\\tiny{\\mbox{norm}}}$ should be close to zero, and they should be evenly distributed in some small interval around zero. You can verify this by filing the code below:"
   ]
  },
  {
   "cell_type": "code",
   "execution_count": 39,
   "metadata": {},
   "outputs": [
    {
     "name": "stdout",
     "output_type": "stream",
     "text": [
      "# Print the average of all the values of X_norm\n",
      "-2.0961010704922955e-17\n",
      "-2.0961010704922955e-17\n",
      "Print the average of the minimum value in each column of X_norm\n",
      "-1.7402738391704695\n",
      "Print the average of the maximum value in each column of X_norm\n",
      "1.7353892056058142\n"
     ]
    }
   ],
   "source": [
    "# Print the average of all the values of X_norm\n",
    "print(\"# Print the average of all the values of X_norm\")\n",
    "print(np.mean(X_norm))\n",
    "print(X_norm.mean())\n",
    "\n",
    "# Print the average of the minimum value in each column of X_norm\n",
    "print(\"Print the average of the minimum value in each column of X_norm\")\n",
    "print(X_norm.min(axis=0).mean())\n",
    "\n",
    "# Print the average of the maximum value in each column of X_norm\n",
    "print(\"Print the average of the maximum value in each column of X_norm\")\n",
    "print(X_norm.max(axis=0).mean())"
   ]
  },
  {
   "cell_type": "markdown",
   "metadata": {},
   "source": [
    "You should note that since $X$ was created using random integers, the above values will vary. \n",
    "\n",
    "# Data Separation\n",
    "\n",
    "After the data has been mean normalized, it is customary in machine learnig to split our dataset into three sets:\n",
    "\n",
    "1. A Training Set\n",
    "2. A Cross Validation Set\n",
    "3. A Test Set\n",
    "\n",
    "The dataset is usually divided such that the Training Set contains 60% of the data, the Cross Validation Set contains 20% of the data, and the Test Set contains 20% of the data. \n",
    "\n",
    "In this part of the lab you will separate `X_norm` into a Training Set, Cross Validation Set, and a Test Set. Each data set will contain rows of `X_norm` chosen at random, making sure that we don't pick the same row twice. This will guarantee that all the rows of `X_norm` are chosen and randomly distributed among the three new sets.\n",
    "\n",
    "You will start by creating a rank 1 ndarray that contains a random permutation of the row indices of `X_norm`. You can do this by using the `np.random.permutation()` function. The `np.random.permutation(N)` function creates a random permutation of integers from 0 to `N - 1`. Let's see an example:"
   ]
  },
  {
   "cell_type": "code",
   "execution_count": 40,
   "metadata": {},
   "outputs": [
    {
     "data": {
      "text/plain": [
       "array([1, 0, 2, 3, 4])"
      ]
     },
     "execution_count": 40,
     "metadata": {},
     "output_type": "execute_result"
    }
   ],
   "source": [
    "# We create a random permutation of integers 0 to 4\n",
    "np.random.permutation(5)"
   ]
  },
  {
   "cell_type": "markdown",
   "metadata": {},
   "source": [
    "# To Do\n",
    "\n",
    "In the space below create a rank 1 ndarray that contains a random permutation of the row indices of `X_norm`. You can do this in one line of code by extracting the number of rows of `X_norm` using the `shape` attribute and then passing it to the  `np.random.permutation()` function. Remember the `shape` attribute returns a tuple with two numbers in the form `(rows,columns)`."
   ]
  },
  {
   "cell_type": "code",
   "execution_count": 50,
   "metadata": {},
   "outputs": [],
   "source": [
    "# Create a rank 1 ndarray that contains a random permutation of the row indices of `X_norm`\n",
    "shape = X_norm.shape\n",
    "row_indices =np.random.permutation(shape[0])"
   ]
  },
  {
   "cell_type": "code",
   "execution_count": 52,
   "metadata": {},
   "outputs": [
    {
     "data": {
      "text/plain": [
       "1000"
      ]
     },
     "execution_count": 52,
     "metadata": {},
     "output_type": "execute_result"
    }
   ],
   "source": [
    "shape[0]"
   ]
  },
  {
   "cell_type": "code",
   "execution_count": 53,
   "metadata": {},
   "outputs": [
    {
     "data": {
      "text/plain": [
       "array([537, 525, 367, 834, 302, 887, 321, 348, 861, 689, 432,  81, 384,\n",
       "       142, 922, 534, 329, 951, 572, 788, 598, 713, 968, 690, 109, 611,\n",
       "       290, 832, 526, 894, 765, 804, 351, 217, 554, 661, 481, 815, 293,\n",
       "       238, 998,   0, 538, 518,  85, 281, 452, 193, 956, 439, 391, 234,\n",
       "       605, 826, 472, 231, 672, 371, 490, 453, 360, 821, 983, 769, 258,\n",
       "       588, 622, 324, 616, 992, 911, 485,  90,  37, 389,  60, 177, 118,\n",
       "       904, 767, 915, 612, 645, 242, 913, 790,  59, 143, 564, 925, 917,\n",
       "       247, 198, 182, 718, 229, 442, 341, 914, 222, 714, 313, 649, 695,\n",
       "       975, 445, 563, 806, 237, 496, 954, 219, 817, 719, 202, 161, 864,\n",
       "       593, 401, 607, 477, 276, 796, 830, 934, 413, 803, 974,  44, 997,\n",
       "       818, 194, 620, 903, 187, 942, 841, 884, 430, 883, 372, 282, 114,\n",
       "       920, 683, 698, 435, 866,  36, 465, 100, 486, 248, 246, 438, 299,\n",
       "       261, 382, 945, 739, 551, 178, 262, 701, 652, 121, 515, 437, 359,\n",
       "       781, 846, 190, 753, 673, 513, 963, 625, 961, 312, 162, 411, 987,\n",
       "       408, 306, 378, 929, 423, 679, 941,  54, 668, 639, 418, 524, 762,\n",
       "       358, 561, 295, 279, 732, 512, 700,  38,  78, 250,   1, 487, 189,\n",
       "       241, 289, 230, 696, 687, 653,  97, 124, 773, 882, 971, 249, 254,\n",
       "       398, 148, 849, 871, 154,  88, 180, 602, 104, 428,  29, 457, 264,\n",
       "        83, 375, 591, 172, 731, 357, 594, 617, 583,  80, 339, 807, 880,\n",
       "       113, 960, 531, 145, 532, 141, 964, 410, 758, 631, 188, 343, 350,\n",
       "       495, 979, 655, 664, 603, 733, 256, 251,  25, 332, 204,  26, 638,\n",
       "       160, 996, 644, 402, 654, 235, 891, 976, 527, 491, 799, 111, 353,\n",
       "       355, 412, 191, 761, 292, 368, 239, 443, 311, 454, 877, 165, 889,\n",
       "       269, 878, 388,  34,  50, 800, 139, 748,  12, 181, 135, 950, 206,\n",
       "        86, 115, 957, 236, 717, 484, 618,  13, 426, 768, 560, 514, 735,\n",
       "       715, 741, 674, 608, 705, 176, 924, 393, 270, 245, 253, 595, 322,\n",
       "       380, 296, 663, 703, 586, 680, 362, 742, 780, 927,  52, 409, 930,\n",
       "       581, 990, 752, 549, 879, 110, 319, 146, 900, 829, 801, 943, 567,\n",
       "       658, 550, 888, 870, 155, 489, 743, 450, 227, 656, 134, 492, 828,\n",
       "       786,  55, 893, 932, 288, 504, 150,  46, 326, 506, 709, 770, 464,\n",
       "       867, 881, 366, 195, 377, 729, 582, 949, 112, 734, 614, 183, 969,\n",
       "       890,  99, 447, 259, 203, 294, 397, 310, 163, 243, 777, 108, 369,\n",
       "       213, 785, 106, 862, 775, 543,  64, 215, 240, 304,  43,   4, 277,\n",
       "       147, 825, 681, 273, 316, 570, 980, 772, 175, 946, 659, 604, 425,\n",
       "       400,  79,  23, 449, 494, 214, 814, 678, 596, 994,  51,  53, 433,\n",
       "       577, 869, 275, 665, 677, 394, 459,  42, 138, 797, 688, 988, 201,\n",
       "       274, 480,  58, 704,  33, 268, 746, 749, 892, 533,   9, 517, 970,\n",
       "       967, 220, 232, 456, 510, 824, 875, 726, 609, 522,  74, 197, 744,\n",
       "       918, 972, 300, 947, 346, 315, 101,  19, 530, 574, 822, 919, 467,\n",
       "       948, 697, 132, 164, 208, 519, 981,  62, 933, 809, 328, 395,  76,\n",
       "       159, 403, 335, 667, 858, 556, 287, 764, 555, 787, 216,  68,  75,\n",
       "       497,   8,  20, 995, 660, 859, 955,  28,  73, 792, 479, 848, 940,\n",
       "       640, 728, 505, 634, 363, 301, 140, 778, 421, 314, 587, 931, 354,\n",
       "       122, 693, 908, 756, 144, 283, 334,  24, 905, 985, 342,  87, 271,\n",
       "       192, 272, 763, 500, 361, 553, 347, 120, 179, 685, 105, 446, 317,\n",
       "       657, 909, 751, 989, 379, 285, 842, 978, 307, 730, 508, 783, 344,\n",
       "       684, 185, 267, 210, 926, 223, 345, 448, 186, 725, 374, 885, 615,\n",
       "       523, 921, 852, 898, 228, 373, 938, 823, 211,  69, 576, 137,  63,\n",
       "       116, 952, 805, 794, 224, 130, 819, 257, 579, 174, 337, 392, 711,\n",
       "       385, 958, 131, 478, 539, 839, 470, 520,  65, 386, 675, 691, 405,\n",
       "       260, 364, 126, 212, 738, 356, 511, 501,   3, 458, 323, 874, 542,\n",
       "       641, 552, 589, 597, 407, 474, 619, 303, 916, 610, 844,  32, 440,\n",
       "       528, 802, 233, 476, 636, 812, 820, 166, 798, 573, 635, 928,  14,\n",
       "       646,  71, 575, 776, 103, 431, 845, 959, 795, 676, 906, 544, 860,\n",
       "       133, 910, 468, 630, 868, 153, 196, 760, 965, 643, 545, 847, 466,\n",
       "       151,  84, 460, 416, 601, 167, 387, 571, 562, 291, 422, 907, 750,\n",
       "       584, 837, 263, 808, 923, 840, 722, 381, 493,  72, 827,  89, 424,\n",
       "       469, 708, 724, 993, 320,  31,  47, 835, 327, 286, 984, 399, 225,\n",
       "       650, 784, 136, 833, 789,   5,  77, 838,  67, 123, 740,  16, 873,\n",
       "       266, 370, 569, 811, 600, 547, 436, 793,  27, 451, 568,  11, 119,\n",
       "        35, 623, 427, 535, 813, 297,  61, 284, 872, 349, 461, 340, 585,\n",
       "       896, 158, 278, 463, 853, 462, 682, 168,  66, 376, 982, 857, 455,\n",
       "       199, 944, 218, 434, 521, 953, 482, 669, 899, 759, 855, 173, 441,\n",
       "       475, 330,  17, 648, 991, 936, 507, 128, 939, 127, 129, 536, 966,\n",
       "       999, 637, 692, 415, 670, 647, 325, 529, 757, 629, 516, 488, 471,\n",
       "       414,  48, 977, 854, 856, 498, 662, 986, 863, 779,  22, 557, 901,\n",
       "       107, 736, 305,  56, 221, 865, 546, 755, 200, 502, 503, 771, 721,\n",
       "       627, 774, 694, 117, 651, 723,  70, 338,  57, 745, 624,  30, 404,\n",
       "        98, 509, 727, 716,  10, 836, 252, 766,  93, 710, 886, 184, 686,\n",
       "       706, 205, 152, 255, 580, 621, 831, 559, 935, 599,  41,  18, 626,\n",
       "       590, 642, 897, 850,  40, 699, 851, 937, 390,  45, 592, 125, 429,\n",
       "       843, 156, 170, 565,  21, 169,   7, 483,   2, 333, 157,  15, 149,\n",
       "        91,  82, 633, 540, 419,  92, 816, 383, 613, 810, 962, 265, 171,\n",
       "       102, 298, 628, 632, 707, 308, 336, 712,  39, 702, 876, 209, 420,\n",
       "       396, 973,  49, 406,  96, 226, 671, 720, 473, 558, 747, 912, 566,\n",
       "       541, 791, 754, 444, 666, 782, 737, 902,  94, 499, 318,   6, 606,\n",
       "       207, 365, 578, 417, 280, 331, 352,  95, 244, 309, 548, 895])"
      ]
     },
     "execution_count": 53,
     "metadata": {},
     "output_type": "execute_result"
    }
   ],
   "source": [
    "row_indices"
   ]
  },
  {
   "cell_type": "markdown",
   "metadata": {},
   "source": [
    "Now you can create the three datasets using the `row_indices` ndarray to select the rows that will go into each dataset. Rememeber that the Training Set contains 60% of the data, the Cross Validation Set contains 20% of the data, and the Test Set contains 20% of the data. Each set requires just one line of code to create. Fill in the code below"
   ]
  },
  {
   "cell_type": "code",
   "execution_count": 64,
   "metadata": {},
   "outputs": [],
   "source": [
    "# Make any necessary calculations.\n",
    "# You can save your calculations into variables to use later.\n",
    "sixty = int(len(X_norm) * 0.6)\n",
    "eighty = int(len(X_norm) * 0.8)\n",
    "\n",
    "# Create a Training Set\n",
    "X_train =  X_norm[row_indices[:sixty], :]\n",
    "\n",
    "# Create a Cross Validation Set\n",
    "X_crossVal = X_norm[row_indices[sixty: eighty], :]\n",
    "\n",
    "# Create a Test Set\n",
    "X_test = X_norm[row_indices[eighty: ], :]"
   ]
  },
  {
   "cell_type": "markdown",
   "metadata": {},
   "source": [
    "If you performed the above calculations correctly, then `X_tain` should have 600 rows and 20 columns, `X_crossVal` should have 200 rows and 20 columns, and `X_test` should have 200 rows and 20 columns. You can verify this by filling the code below:"
   ]
  },
  {
   "cell_type": "code",
   "execution_count": 65,
   "metadata": {},
   "outputs": [
    {
     "name": "stdout",
     "output_type": "stream",
     "text": [
      "(600, 20)\n",
      "(200, 20)\n",
      "(200, 20)\n"
     ]
    }
   ],
   "source": [
    "# Print the shape of X_train\n",
    "print(X_train.shape)\n",
    "\n",
    "# Print the shape of X_crossVal\n",
    "print(X_crossVal.shape)\n",
    "\n",
    "# Print the shape of X_test\n",
    "print(X_test.shape)"
   ]
  },
  {
   "cell_type": "code",
   "execution_count": null,
   "metadata": {},
   "outputs": [],
   "source": []
  }
 ],
 "metadata": {
  "kernelspec": {
   "display_name": "Python 3 (ipykernel)",
   "language": "python",
   "name": "python3"
  },
  "language_info": {
   "codemirror_mode": {
    "name": "ipython",
    "version": 3
   },
   "file_extension": ".py",
   "mimetype": "text/x-python",
   "name": "python",
   "nbconvert_exporter": "python",
   "pygments_lexer": "ipython3",
   "version": "3.11.5"
  }
 },
 "nbformat": 4,
 "nbformat_minor": 2
}
