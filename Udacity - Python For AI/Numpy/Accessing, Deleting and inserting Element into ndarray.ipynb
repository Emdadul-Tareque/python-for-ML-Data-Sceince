{
 "cells": [
  {
   "cell_type": "markdown",
   "id": "803fa57b",
   "metadata": {},
   "source": [
    "## summary"
   ]
  },
  {
   "cell_type": "raw",
   "id": "e1827694",
   "metadata": {},
   "source": [
    "Delete element: np.delete(array, index)\n",
    "insert element: np.insert(array, index, values, axis)\n",
    "append element: np.append(array, values, axis)\n",
    "stack element (row wise): np.vstack((array01, array02, ....)) \n",
    "stack element (column wise): np.hstack((array01, array02, ....)) [Must be same dimenstion]"
   ]
  },
  {
   "cell_type": "markdown",
   "id": "6429aecf",
   "metadata": {},
   "source": [
    "## Example 1. Access individual elements of 1-D array"
   ]
  },
  {
   "cell_type": "code",
   "execution_count": 2,
   "id": "41d61ebd",
   "metadata": {},
   "outputs": [],
   "source": [
    "import numpy as np"
   ]
  },
  {
   "cell_type": "code",
   "execution_count": 4,
   "id": "f7259a29",
   "metadata": {},
   "outputs": [],
   "source": [
    "x = np.array([1, 2, 3, 4, 5])"
   ]
  },
  {
   "cell_type": "code",
   "execution_count": 9,
   "id": "f94134de",
   "metadata": {},
   "outputs": [
    {
     "data": {
      "text/plain": [
       "array([10, 20,  3,  4,  5])"
      ]
     },
     "execution_count": 9,
     "metadata": {},
     "output_type": "execute_result"
    }
   ],
   "source": [
    "x[0: ]"
   ]
  },
  {
   "cell_type": "markdown",
   "id": "0fc8c6fa",
   "metadata": {},
   "source": [
    "## Example 02: Modify element of 1-D array"
   ]
  },
  {
   "cell_type": "code",
   "execution_count": 6,
   "id": "5332a45b",
   "metadata": {},
   "outputs": [
    {
     "data": {
      "text/plain": [
       "array([1, 2])"
      ]
     },
     "execution_count": 6,
     "metadata": {},
     "output_type": "execute_result"
    }
   ],
   "source": [
    "x[0: 2]"
   ]
  },
  {
   "cell_type": "code",
   "execution_count": 7,
   "id": "293c0d78",
   "metadata": {},
   "outputs": [],
   "source": [
    "x[0: 2] = 10, 20"
   ]
  },
  {
   "cell_type": "code",
   "execution_count": 8,
   "id": "fb80d823",
   "metadata": {},
   "outputs": [
    {
     "data": {
      "text/plain": [
       "array([10, 20,  3,  4,  5])"
      ]
     },
     "execution_count": 8,
     "metadata": {},
     "output_type": "execute_result"
    }
   ],
   "source": [
    "x"
   ]
  },
  {
   "cell_type": "code",
   "execution_count": 11,
   "id": "b5b83306",
   "metadata": {},
   "outputs": [
    {
     "ename": "ValueError",
     "evalue": "could not broadcast input array from shape (3,) into shape (5,)",
     "output_type": "error",
     "traceback": [
      "\u001b[0;31m---------------------------------------------------------------------------\u001b[0m",
      "\u001b[0;31mValueError\u001b[0m                                Traceback (most recent call last)",
      "Cell \u001b[0;32mIn[11], line 1\u001b[0m\n\u001b[0;32m----> 1\u001b[0m x[\u001b[38;5;241m0\u001b[39m: ] \u001b[38;5;241m=\u001b[39m \u001b[38;5;241m100\u001b[39m, \u001b[38;5;241m200\u001b[39m, \u001b[38;5;241m300\u001b[39m\n",
      "\u001b[0;31mValueError\u001b[0m: could not broadcast input array from shape (3,) into shape (5,)"
     ]
    }
   ],
   "source": [
    "x[0: ] = 100, 200, 300"
   ]
  },
  {
   "cell_type": "code",
   "execution_count": 12,
   "id": "262bb79d",
   "metadata": {},
   "outputs": [],
   "source": [
    "x[0: ] = 100, 200, 300, 400, 500"
   ]
  },
  {
   "cell_type": "code",
   "execution_count": 13,
   "id": "38e3996d",
   "metadata": {},
   "outputs": [
    {
     "data": {
      "text/plain": [
       "array([100, 200, 300, 400, 500])"
      ]
     },
     "execution_count": 13,
     "metadata": {},
     "output_type": "execute_result"
    }
   ],
   "source": [
    "x"
   ]
  },
  {
   "cell_type": "markdown",
   "id": "2fef3ba8",
   "metadata": {},
   "source": [
    "## Example 3. Access individual elements of 2-D array"
   ]
  },
  {
   "cell_type": "code",
   "execution_count": 20,
   "id": "7f9de26f",
   "metadata": {},
   "outputs": [],
   "source": [
    "x = np.eye(4, 4)"
   ]
  },
  {
   "cell_type": "code",
   "execution_count": 21,
   "id": "d60505ce",
   "metadata": {},
   "outputs": [
    {
     "data": {
      "text/plain": [
       "array([[1., 0., 0., 0.],\n",
       "       [0., 1., 0., 0.],\n",
       "       [0., 0., 1., 0.],\n",
       "       [0., 0., 0., 1.]])"
      ]
     },
     "execution_count": 21,
     "metadata": {},
     "output_type": "execute_result"
    }
   ],
   "source": [
    "x"
   ]
  },
  {
   "cell_type": "code",
   "execution_count": 22,
   "id": "8c524788",
   "metadata": {},
   "outputs": [
    {
     "data": {
      "text/plain": [
       "array([[1., 0., 0., 0.],\n",
       "       [0., 1., 0., 0.],\n",
       "       [0., 0., 1., 0.],\n",
       "       [0., 0., 0., 1.]])"
      ]
     },
     "execution_count": 22,
     "metadata": {},
     "output_type": "execute_result"
    }
   ],
   "source": [
    "x[0: ]"
   ]
  },
  {
   "cell_type": "code",
   "execution_count": 23,
   "id": "6fe82f0c",
   "metadata": {},
   "outputs": [
    {
     "data": {
      "text/plain": [
       "array([[0., 1., 0., 0.],\n",
       "       [0., 0., 1., 0.]])"
      ]
     },
     "execution_count": 23,
     "metadata": {},
     "output_type": "execute_result"
    }
   ],
   "source": [
    "x[1: 3]"
   ]
  },
  {
   "cell_type": "markdown",
   "id": "f0481368",
   "metadata": {},
   "source": [
    "## Example 4. Modify an element of 2-D array"
   ]
  },
  {
   "cell_type": "code",
   "execution_count": 24,
   "id": "2a9c76fd",
   "metadata": {},
   "outputs": [],
   "source": [
    "x[0, 0] = 10"
   ]
  },
  {
   "cell_type": "code",
   "execution_count": 25,
   "id": "be648a4f",
   "metadata": {},
   "outputs": [
    {
     "data": {
      "text/plain": [
       "array([[10.,  0.,  0.,  0.],\n",
       "       [ 0.,  1.,  0.,  0.],\n",
       "       [ 0.,  0.,  1.,  0.],\n",
       "       [ 0.,  0.,  0.,  1.]])"
      ]
     },
     "execution_count": 25,
     "metadata": {},
     "output_type": "execute_result"
    }
   ],
   "source": [
    "x"
   ]
  },
  {
   "cell_type": "code",
   "execution_count": 26,
   "id": "1c8fea00",
   "metadata": {},
   "outputs": [],
   "source": [
    "x[1, 2] = 20"
   ]
  },
  {
   "cell_type": "code",
   "execution_count": 27,
   "id": "e4cb4004",
   "metadata": {},
   "outputs": [
    {
     "data": {
      "text/plain": [
       "array([[10.,  0.,  0.,  0.],\n",
       "       [ 0.,  1., 20.,  0.],\n",
       "       [ 0.,  0.,  1.,  0.],\n",
       "       [ 0.,  0.,  0.,  1.]])"
      ]
     },
     "execution_count": 27,
     "metadata": {},
     "output_type": "execute_result"
    }
   ],
   "source": [
    "x"
   ]
  },
  {
   "cell_type": "markdown",
   "id": "d4c50aae",
   "metadata": {},
   "source": [
    "## Example 05: Delete elements "
   ]
  },
  {
   "cell_type": "code",
   "execution_count": 109,
   "id": "220c16d6",
   "metadata": {},
   "outputs": [],
   "source": [
    "x = np.array([1, 2, 3, 4, 5])"
   ]
  },
  {
   "cell_type": "code",
   "execution_count": 111,
   "id": "258ab165",
   "metadata": {},
   "outputs": [],
   "source": [
    "x = np.delete(x, 0) #syntax: np.delete(array, index)"
   ]
  },
  {
   "cell_type": "code",
   "execution_count": 112,
   "id": "c45b4aea",
   "metadata": {},
   "outputs": [
    {
     "data": {
      "text/plain": [
       "array([3, 4, 5])"
      ]
     },
     "execution_count": 112,
     "metadata": {},
     "output_type": "execute_result"
    }
   ],
   "source": [
    "x"
   ]
  },
  {
   "cell_type": "code",
   "execution_count": 29,
   "id": "7abbf077",
   "metadata": {},
   "outputs": [],
   "source": [
    "x = np.delete(x, [0])"
   ]
  },
  {
   "cell_type": "code",
   "execution_count": 30,
   "id": "9e21d5c3",
   "metadata": {},
   "outputs": [
    {
     "data": {
      "text/plain": [
       "array([2, 3, 4, 5])"
      ]
     },
     "execution_count": 30,
     "metadata": {},
     "output_type": "execute_result"
    }
   ],
   "source": [
    "x"
   ]
  },
  {
   "cell_type": "code",
   "execution_count": 31,
   "id": "c9ec1bf2",
   "metadata": {},
   "outputs": [],
   "source": [
    "x = np.delete(x, [0, 2, 3])"
   ]
  },
  {
   "cell_type": "code",
   "execution_count": 32,
   "id": "0f4f9517",
   "metadata": {},
   "outputs": [
    {
     "data": {
      "text/plain": [
       "array([3])"
      ]
     },
     "execution_count": 32,
     "metadata": {},
     "output_type": "execute_result"
    }
   ],
   "source": [
    "x"
   ]
  },
  {
   "cell_type": "code",
   "execution_count": 34,
   "id": "91f3b614",
   "metadata": {},
   "outputs": [],
   "source": [
    "#syntex: np.delete(array,[index])"
   ]
  },
  {
   "cell_type": "code",
   "execution_count": 43,
   "id": "75088f98",
   "metadata": {},
   "outputs": [],
   "source": [
    "y = np.array([[1,2,3],[4,5,6],[7,8,9]])"
   ]
  },
  {
   "cell_type": "code",
   "execution_count": 44,
   "id": "a35e3451",
   "metadata": {},
   "outputs": [
    {
     "data": {
      "text/plain": [
       "array([[1, 2, 3],\n",
       "       [4, 5, 6],\n",
       "       [7, 8, 9]])"
      ]
     },
     "execution_count": 44,
     "metadata": {},
     "output_type": "execute_result"
    }
   ],
   "source": [
    "y"
   ]
  },
  {
   "cell_type": "code",
   "execution_count": 41,
   "id": "b7117703",
   "metadata": {},
   "outputs": [],
   "source": [
    "y = np.delete(y, [0, 2], axis=0)"
   ]
  },
  {
   "cell_type": "code",
   "execution_count": 42,
   "id": "d3ecd110",
   "metadata": {},
   "outputs": [
    {
     "data": {
      "text/plain": [
       "array([[4, 5, 6]])"
      ]
     },
     "execution_count": 42,
     "metadata": {},
     "output_type": "execute_result"
    }
   ],
   "source": [
    "y"
   ]
  },
  {
   "cell_type": "code",
   "execution_count": 45,
   "id": "54b4b8c5",
   "metadata": {},
   "outputs": [],
   "source": [
    "y = np.delete(y, [0, 2], axis=1)"
   ]
  },
  {
   "cell_type": "code",
   "execution_count": 46,
   "id": "370d86d4",
   "metadata": {},
   "outputs": [
    {
     "data": {
      "text/plain": [
       "array([[2],\n",
       "       [5],\n",
       "       [8]])"
      ]
     },
     "execution_count": 46,
     "metadata": {},
     "output_type": "execute_result"
    }
   ],
   "source": [
    "y"
   ]
  },
  {
   "cell_type": "code",
   "execution_count": 47,
   "id": "f73ab5ce",
   "metadata": {},
   "outputs": [],
   "source": [
    "#axis = 0; row \n",
    "#axis = 1; column"
   ]
  },
  {
   "cell_type": "markdown",
   "id": "3c7e288f",
   "metadata": {},
   "source": [
    "## numpy.append\n",
    "Syntax: numpy.append(array, values, axis=None)"
   ]
  },
  {
   "cell_type": "code",
   "execution_count": 48,
   "id": "34a6fa96",
   "metadata": {},
   "outputs": [],
   "source": [
    "x = np.array([1, 2, 3, 4])"
   ]
  },
  {
   "cell_type": "code",
   "execution_count": 51,
   "id": "3feeb977",
   "metadata": {},
   "outputs": [],
   "source": [
    "x = np.append(x, 6) #syntax: np.append(array, values)"
   ]
  },
  {
   "cell_type": "code",
   "execution_count": 61,
   "id": "529c6bf8",
   "metadata": {},
   "outputs": [
    {
     "data": {
      "text/plain": [
       "array([1, 2, 3, 4, 6])"
      ]
     },
     "execution_count": 61,
     "metadata": {},
     "output_type": "execute_result"
    }
   ],
   "source": [
    "x"
   ]
  },
  {
   "cell_type": "code",
   "execution_count": 62,
   "id": "7b4880fe",
   "metadata": {},
   "outputs": [],
   "source": [
    "x = np.append(x, [10, 11])"
   ]
  },
  {
   "cell_type": "code",
   "execution_count": 63,
   "id": "33e629f7",
   "metadata": {},
   "outputs": [
    {
     "data": {
      "text/plain": [
       "array([ 1,  2,  3,  4,  6, 10, 11])"
      ]
     },
     "execution_count": 63,
     "metadata": {},
     "output_type": "execute_result"
    }
   ],
   "source": [
    "x"
   ]
  },
  {
   "cell_type": "code",
   "execution_count": 53,
   "id": "773b2752",
   "metadata": {},
   "outputs": [],
   "source": [
    "y = np.array([[1, 2, 3], [3, 4, 5], [6, 7, 8]])"
   ]
  },
  {
   "cell_type": "code",
   "execution_count": 54,
   "id": "b80045dc",
   "metadata": {},
   "outputs": [],
   "source": [
    "y = np.append(y, [[7, 8, 9]], axis=0)"
   ]
  },
  {
   "cell_type": "code",
   "execution_count": 55,
   "id": "946d4024",
   "metadata": {},
   "outputs": [
    {
     "data": {
      "text/plain": [
       "array([[1, 2, 3],\n",
       "       [3, 4, 5],\n",
       "       [6, 7, 8],\n",
       "       [7, 8, 9]])"
      ]
     },
     "execution_count": 55,
     "metadata": {},
     "output_type": "execute_result"
    }
   ],
   "source": [
    "y"
   ]
  },
  {
   "cell_type": "code",
   "execution_count": 59,
   "id": "e97bd16a",
   "metadata": {},
   "outputs": [],
   "source": [
    "q = np.append(y, [[9], [10], [11], [12]], axis=1)"
   ]
  },
  {
   "cell_type": "code",
   "execution_count": 60,
   "id": "0b4f4295",
   "metadata": {},
   "outputs": [
    {
     "data": {
      "text/plain": [
       "array([[ 1,  2,  3,  9],\n",
       "       [ 3,  4,  5, 10],\n",
       "       [ 6,  7,  8, 11],\n",
       "       [ 7,  8,  9, 12]])"
      ]
     },
     "execution_count": 60,
     "metadata": {},
     "output_type": "execute_result"
    }
   ],
   "source": [
    "q"
   ]
  },
  {
   "cell_type": "markdown",
   "id": "8f629d27",
   "metadata": {},
   "source": [
    "## Example 7: Insert elements"
   ]
  },
  {
   "cell_type": "code",
   "execution_count": 65,
   "id": "719bf7c4",
   "metadata": {},
   "outputs": [],
   "source": [
    "# We create a rank 1 ndarray \n",
    "x = np.array([1, 2, 5, 6, 7])\n",
    "\n",
    "# We create a rank 2 ndarray \n",
    "y = np.array([[1,2,3],[7,8,9]])"
   ]
  },
  {
   "cell_type": "code",
   "execution_count": 66,
   "id": "f080faff",
   "metadata": {},
   "outputs": [],
   "source": [
    "x = np.insert(x, 2, [3,4]) #syntax: np.insert(array, index, values)"
   ]
  },
  {
   "cell_type": "code",
   "execution_count": 67,
   "id": "7c73b4c3",
   "metadata": {},
   "outputs": [
    {
     "data": {
      "text/plain": [
       "array([1, 2, 3, 4, 5, 6, 7])"
      ]
     },
     "execution_count": 67,
     "metadata": {},
     "output_type": "execute_result"
    }
   ],
   "source": [
    "x"
   ]
  },
  {
   "cell_type": "code",
   "execution_count": 68,
   "id": "3bf241d0",
   "metadata": {},
   "outputs": [],
   "source": [
    "x = np.insert(x, 3, [10, 20])"
   ]
  },
  {
   "cell_type": "code",
   "execution_count": 69,
   "id": "bb28c95c",
   "metadata": {},
   "outputs": [
    {
     "data": {
      "text/plain": [
       "array([ 1,  2,  3, 10, 20,  4,  5,  6,  7])"
      ]
     },
     "execution_count": 69,
     "metadata": {},
     "output_type": "execute_result"
    }
   ],
   "source": [
    "x"
   ]
  },
  {
   "cell_type": "code",
   "execution_count": 70,
   "id": "90f448b0",
   "metadata": {},
   "outputs": [
    {
     "data": {
      "text/plain": [
       "array([[1, 2, 3],\n",
       "       [7, 8, 9]])"
      ]
     },
     "execution_count": 70,
     "metadata": {},
     "output_type": "execute_result"
    }
   ],
   "source": [
    "y"
   ]
  },
  {
   "cell_type": "code",
   "execution_count": 71,
   "id": "668d1c4a",
   "metadata": {},
   "outputs": [],
   "source": [
    "q = np.insert(y,1,[4, 5, 6], axis=0)"
   ]
  },
  {
   "cell_type": "code",
   "execution_count": 72,
   "id": "a2f83bb7",
   "metadata": {},
   "outputs": [
    {
     "data": {
      "text/plain": [
       "array([[1, 2, 3],\n",
       "       [4, 5, 6],\n",
       "       [7, 8, 9]])"
      ]
     },
     "execution_count": 72,
     "metadata": {},
     "output_type": "execute_result"
    }
   ],
   "source": [
    "q"
   ]
  },
  {
   "cell_type": "code",
   "execution_count": 73,
   "id": "68b5baf2",
   "metadata": {},
   "outputs": [],
   "source": [
    "q = np.insert(y,0,[4, 5, 6], axis=0)"
   ]
  },
  {
   "cell_type": "code",
   "execution_count": 74,
   "id": "10114b31",
   "metadata": {},
   "outputs": [
    {
     "data": {
      "text/plain": [
       "array([[4, 5, 6],\n",
       "       [1, 2, 3],\n",
       "       [7, 8, 9]])"
      ]
     },
     "execution_count": 74,
     "metadata": {},
     "output_type": "execute_result"
    }
   ],
   "source": [
    "q"
   ]
  },
  {
   "cell_type": "code",
   "execution_count": 75,
   "id": "a5f421a3",
   "metadata": {},
   "outputs": [],
   "source": [
    "#syntex: np.insert(numpy_array, index,[new values], axis)"
   ]
  },
  {
   "cell_type": "code",
   "execution_count": 82,
   "id": "d4644a5f",
   "metadata": {},
   "outputs": [],
   "source": [
    "w = np.insert(y,1, 5, axis=1)"
   ]
  },
  {
   "cell_type": "code",
   "execution_count": 83,
   "id": "45358a84",
   "metadata": {},
   "outputs": [
    {
     "data": {
      "text/plain": [
       "array([[1, 5, 2, 3],\n",
       "       [7, 5, 8, 9]])"
      ]
     },
     "execution_count": 83,
     "metadata": {},
     "output_type": "execute_result"
    }
   ],
   "source": [
    "w"
   ]
  },
  {
   "cell_type": "code",
   "execution_count": 80,
   "id": "4b6bbd36",
   "metadata": {},
   "outputs": [
    {
     "data": {
      "text/plain": [
       "array([[1, 2, 3],\n",
       "       [7, 8, 9]])"
      ]
     },
     "execution_count": 80,
     "metadata": {},
     "output_type": "execute_result"
    }
   ],
   "source": [
    "y"
   ]
  },
  {
   "cell_type": "code",
   "execution_count": 87,
   "id": "34b2d33a",
   "metadata": {},
   "outputs": [],
   "source": [
    "w = np.insert(y,2, [5,6], axis=1)"
   ]
  },
  {
   "cell_type": "code",
   "execution_count": 88,
   "id": "fd54a0fc",
   "metadata": {},
   "outputs": [
    {
     "data": {
      "text/plain": [
       "array([[1, 2, 5, 3],\n",
       "       [7, 8, 6, 9]])"
      ]
     },
     "execution_count": 88,
     "metadata": {},
     "output_type": "execute_result"
    }
   ],
   "source": [
    "w"
   ]
  },
  {
   "cell_type": "markdown",
   "id": "4fb49859",
   "metadata": {},
   "source": [
    "## numpy.hstack and numpy.vstack\n",
    "Syntax: \n",
    "numpy.hstack(sequence_of_ndarray)\n",
    "numpy.vstack(sequence_of_ndarray)"
   ]
  },
  {
   "cell_type": "code",
   "execution_count": 114,
   "id": "1c51aa11",
   "metadata": {},
   "outputs": [],
   "source": [
    "# We create a rank 1 ndarray \n",
    "x = np.array([1,2])\n",
    "\n",
    "# We create a rank 2 ndarray \n",
    "Y = np.array([[3,4],[5,6]])"
   ]
  },
  {
   "cell_type": "code",
   "execution_count": 115,
   "id": "f99acdff",
   "metadata": {},
   "outputs": [],
   "source": [
    "x1 = np.array([7, 8])"
   ]
  },
  {
   "cell_type": "code",
   "execution_count": 116,
   "id": "ddd95756",
   "metadata": {},
   "outputs": [],
   "source": [
    "z = np.vstack((x,Y,x1)) #syntax: np.vstack((array01, array02, ....))"
   ]
  },
  {
   "cell_type": "code",
   "execution_count": 117,
   "id": "99216871",
   "metadata": {},
   "outputs": [
    {
     "data": {
      "text/plain": [
       "array([[1, 2],\n",
       "       [3, 4],\n",
       "       [5, 6],\n",
       "       [7, 8]])"
      ]
     },
     "execution_count": 117,
     "metadata": {},
     "output_type": "execute_result"
    }
   ],
   "source": [
    "z"
   ]
  },
  {
   "cell_type": "code",
   "execution_count": 92,
   "id": "7c11471e",
   "metadata": {},
   "outputs": [
    {
     "data": {
      "text/plain": [
       "array([1, 2])"
      ]
     },
     "execution_count": 92,
     "metadata": {},
     "output_type": "execute_result"
    }
   ],
   "source": [
    "x"
   ]
  },
  {
   "cell_type": "code",
   "execution_count": 95,
   "id": "a1203101",
   "metadata": {},
   "outputs": [
    {
     "data": {
      "text/plain": [
       "array([[3, 4],\n",
       "       [5, 6]])"
      ]
     },
     "execution_count": 95,
     "metadata": {},
     "output_type": "execute_result"
    }
   ],
   "source": [
    "Y"
   ]
  },
  {
   "cell_type": "code",
   "execution_count": 94,
   "id": "2aea1b12",
   "metadata": {},
   "outputs": [
    {
     "data": {
      "text/plain": [
       "array([[1, 2],\n",
       "       [3, 4],\n",
       "       [5, 6]])"
      ]
     },
     "execution_count": 94,
     "metadata": {},
     "output_type": "execute_result"
    }
   ],
   "source": [
    "z"
   ]
  },
  {
   "cell_type": "code",
   "execution_count": 96,
   "id": "05cb330c",
   "metadata": {},
   "outputs": [],
   "source": [
    "q = np.vstack((Y, x))"
   ]
  },
  {
   "cell_type": "code",
   "execution_count": 99,
   "id": "9375adad",
   "metadata": {},
   "outputs": [
    {
     "data": {
      "text/plain": [
       "array([[3, 4],\n",
       "       [5, 6],\n",
       "       [1, 2]])"
      ]
     },
     "execution_count": 99,
     "metadata": {},
     "output_type": "execute_result"
    }
   ],
   "source": [
    "q"
   ]
  },
  {
   "cell_type": "code",
   "execution_count": 100,
   "id": "7b4d30ea",
   "metadata": {},
   "outputs": [],
   "source": [
    "a = np.array([[10, 20], [30, 40]])"
   ]
  },
  {
   "cell_type": "code",
   "execution_count": 101,
   "id": "c38f7035",
   "metadata": {},
   "outputs": [],
   "source": [
    "q = np.hstack((a, Y)) # must be same dimention "
   ]
  },
  {
   "cell_type": "code",
   "execution_count": 102,
   "id": "f38805c5",
   "metadata": {},
   "outputs": [
    {
     "data": {
      "text/plain": [
       "array([[10, 20,  3,  4],\n",
       "       [30, 40,  5,  6]])"
      ]
     },
     "execution_count": 102,
     "metadata": {},
     "output_type": "execute_result"
    }
   ],
   "source": [
    "q"
   ]
  },
  {
   "cell_type": "code",
   "execution_count": 103,
   "id": "86cccdfb",
   "metadata": {},
   "outputs": [],
   "source": [
    "w = np.hstack((Y,x.reshape(2,1)))"
   ]
  },
  {
   "cell_type": "code",
   "execution_count": 104,
   "id": "3dadcb38",
   "metadata": {},
   "outputs": [
    {
     "data": {
      "text/plain": [
       "array([[3, 4, 1],\n",
       "       [5, 6, 2]])"
      ]
     },
     "execution_count": 104,
     "metadata": {},
     "output_type": "execute_result"
    }
   ],
   "source": [
    "w"
   ]
  },
  {
   "cell_type": "code",
   "execution_count": 105,
   "id": "8f3c0ba1",
   "metadata": {},
   "outputs": [
    {
     "data": {
      "text/plain": [
       "array([1, 2])"
      ]
     },
     "execution_count": 105,
     "metadata": {},
     "output_type": "execute_result"
    }
   ],
   "source": [
    "x"
   ]
  },
  {
   "cell_type": "code",
   "execution_count": 106,
   "id": "b565a964",
   "metadata": {},
   "outputs": [
    {
     "data": {
      "text/plain": [
       "array([[3, 4],\n",
       "       [5, 6]])"
      ]
     },
     "execution_count": 106,
     "metadata": {},
     "output_type": "execute_result"
    }
   ],
   "source": [
    "Y"
   ]
  },
  {
   "cell_type": "code",
   "execution_count": null,
   "id": "0cfa1043",
   "metadata": {},
   "outputs": [],
   "source": []
  }
 ],
 "metadata": {
  "kernelspec": {
   "display_name": "Python 3 (ipykernel)",
   "language": "python",
   "name": "python3"
  },
  "language_info": {
   "codemirror_mode": {
    "name": "ipython",
    "version": 3
   },
   "file_extension": ".py",
   "mimetype": "text/x-python",
   "name": "python",
   "nbconvert_exporter": "python",
   "pygments_lexer": "ipython3",
   "version": "3.11.5"
  }
 },
 "nbformat": 4,
 "nbformat_minor": 5
}
