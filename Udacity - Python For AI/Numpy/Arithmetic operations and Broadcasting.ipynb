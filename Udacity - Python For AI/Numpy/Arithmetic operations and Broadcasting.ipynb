{
 "cells": [
  {
   "cell_type": "markdown",
   "id": "1e648e9e",
   "metadata": {},
   "source": [
    "## Example 1. Element-wise arithmetic operations on 1-D arrays"
   ]
  },
  {
   "cell_type": "code",
   "execution_count": 2,
   "id": "c6089e19",
   "metadata": {},
   "outputs": [],
   "source": [
    "import numpy as np"
   ]
  },
  {
   "cell_type": "code",
   "execution_count": 3,
   "id": "bd888eda",
   "metadata": {},
   "outputs": [],
   "source": [
    "x = np.array([1, 2, 3, 4])\n",
    "y = np.array([5.5, 6.5, 7.5, 8.5])"
   ]
  },
  {
   "cell_type": "code",
   "execution_count": 4,
   "id": "dade1539",
   "metadata": {},
   "outputs": [
    {
     "name": "stdout",
     "output_type": "stream",
     "text": [
      "x + y =  [ 6.5  8.5 10.5 12.5]\n",
      "add(x,y) =  [ 6.5  8.5 10.5 12.5]\n"
     ]
    }
   ],
   "source": [
    "print('x + y = ', x + y)\n",
    "print('add(x,y) = ', np.add(x,y))"
   ]
  },
  {
   "cell_type": "code",
   "execution_count": 5,
   "id": "a6079b8a",
   "metadata": {},
   "outputs": [
    {
     "name": "stdout",
     "output_type": "stream",
     "text": [
      "x - y =  [-4.5 -4.5 -4.5 -4.5]\n",
      "subtract(x,y) =  [-4.5 -4.5 -4.5 -4.5]\n"
     ]
    }
   ],
   "source": [
    "print('x - y = ', x - y)\n",
    "print('subtract(x,y) = ', np.subtract(x,y))"
   ]
  },
  {
   "cell_type": "code",
   "execution_count": 7,
   "id": "648d6afa",
   "metadata": {},
   "outputs": [
    {
     "name": "stdout",
     "output_type": "stream",
     "text": [
      "x * y =  [ 5.5 13.  22.5 34. ]\n",
      "multiply(x,y) =  [ 5.5 13.  22.5 34. ]\n"
     ]
    }
   ],
   "source": [
    "print('x * y = ', x * y)\n",
    "print('multiply(x,y) = ', np.multiply(x,y))"
   ]
  },
  {
   "cell_type": "code",
   "execution_count": 8,
   "id": "649de49d",
   "metadata": {},
   "outputs": [
    {
     "name": "stdout",
     "output_type": "stream",
     "text": [
      "x / y =  [0.18181818 0.30769231 0.4        0.47058824]\n",
      "divide(x,y) =  [0.18181818 0.30769231 0.4        0.47058824]\n"
     ]
    }
   ],
   "source": [
    "print('x / y = ', x / y)\n",
    "print('divide(x,y) = ', np.divide(x,y))"
   ]
  },
  {
   "cell_type": "markdown",
   "id": "bc13ef2e",
   "metadata": {},
   "source": [
    "## Example 2. Element-wise arithmetic operations on a 2-D array (Same shape)"
   ]
  },
  {
   "cell_type": "code",
   "execution_count": 9,
   "id": "7ea58f2f",
   "metadata": {},
   "outputs": [],
   "source": [
    "x = np.array([1, 2, 3, 4]).reshape(2, 2)\n",
    "y = np.array([5.5, 6.5, 7.5, 8.5]).reshape(2,2)"
   ]
  },
  {
   "cell_type": "code",
   "execution_count": 10,
   "id": "171c4aea",
   "metadata": {},
   "outputs": [
    {
     "data": {
      "text/plain": [
       "array([[1, 2],\n",
       "       [3, 4]])"
      ]
     },
     "execution_count": 10,
     "metadata": {},
     "output_type": "execute_result"
    }
   ],
   "source": [
    "x"
   ]
  },
  {
   "cell_type": "code",
   "execution_count": 11,
   "id": "8701e636",
   "metadata": {},
   "outputs": [
    {
     "data": {
      "text/plain": [
       "array([[5.5, 6.5],\n",
       "       [7.5, 8.5]])"
      ]
     },
     "execution_count": 11,
     "metadata": {},
     "output_type": "execute_result"
    }
   ],
   "source": [
    "y"
   ]
  },
  {
   "cell_type": "code",
   "execution_count": 12,
   "id": "2b9468ac",
   "metadata": {},
   "outputs": [
    {
     "name": "stdout",
     "output_type": "stream",
     "text": [
      "x + y =  [[ 6.5  8.5]\n",
      " [10.5 12.5]]\n",
      "add(x,y) =  [[ 6.5  8.5]\n",
      " [10.5 12.5]]\n"
     ]
    }
   ],
   "source": [
    "print('x + y = ', x + y)\n",
    "print('add(x,y) = ', np.add(x,y))"
   ]
  },
  {
   "cell_type": "code",
   "execution_count": 13,
   "id": "0a1f8f1a",
   "metadata": {},
   "outputs": [
    {
     "name": "stdout",
     "output_type": "stream",
     "text": [
      "x - y =  [[-4.5 -4.5]\n",
      " [-4.5 -4.5]]\n",
      "subtract(x,y) =  [[-4.5 -4.5]\n",
      " [-4.5 -4.5]]\n"
     ]
    }
   ],
   "source": [
    "print('x - y = ', x - y)\n",
    "print('subtract(x,y) = ', np.subtract(x,y))"
   ]
  },
  {
   "cell_type": "code",
   "execution_count": 14,
   "id": "fc32c6d1",
   "metadata": {},
   "outputs": [
    {
     "name": "stdout",
     "output_type": "stream",
     "text": [
      "x * y =  [[ 5.5 13. ]\n",
      " [22.5 34. ]]\n",
      "multiply(x,y) =  [[ 5.5 13. ]\n",
      " [22.5 34. ]]\n"
     ]
    }
   ],
   "source": [
    "print('x * y = ', x * y)\n",
    "print('multiply(x,y) = ', np.multiply(x,y))"
   ]
  },
  {
   "cell_type": "code",
   "execution_count": 15,
   "id": "28257067",
   "metadata": {},
   "outputs": [
    {
     "name": "stdout",
     "output_type": "stream",
     "text": [
      "x / y =  [[0.18181818 0.30769231]\n",
      " [0.4        0.47058824]]\n",
      "divide(x,y) =  [[0.18181818 0.30769231]\n",
      " [0.4        0.47058824]]\n"
     ]
    }
   ],
   "source": [
    "print('x / y = ', x / y)\n",
    "print('divide(x,y) = ', np.divide(x,y))"
   ]
  },
  {
   "cell_type": "markdown",
   "id": "c863d44c",
   "metadata": {},
   "source": [
    "## Example 3. Additional mathematical functions"
   ]
  },
  {
   "cell_type": "code",
   "execution_count": 16,
   "id": "4ff2226a",
   "metadata": {},
   "outputs": [],
   "source": [
    "x = np.array([1, 2, 3, 4])"
   ]
  },
  {
   "cell_type": "code",
   "execution_count": 17,
   "id": "492650a8",
   "metadata": {},
   "outputs": [
    {
     "data": {
      "text/plain": [
       "array([ 2.71828183,  7.3890561 , 20.08553692, 54.59815003])"
      ]
     },
     "execution_count": 17,
     "metadata": {},
     "output_type": "execute_result"
    }
   ],
   "source": [
    "np.exp(x)"
   ]
  },
  {
   "cell_type": "code",
   "execution_count": 18,
   "id": "b4029c60",
   "metadata": {},
   "outputs": [
    {
     "data": {
      "text/plain": [
       "array([1.        , 1.41421356, 1.73205081, 2.        ])"
      ]
     },
     "execution_count": 18,
     "metadata": {},
     "output_type": "execute_result"
    }
   ],
   "source": [
    "np.sqrt(x)"
   ]
  },
  {
   "cell_type": "code",
   "execution_count": 19,
   "id": "c273451b",
   "metadata": {},
   "outputs": [
    {
     "data": {
      "text/plain": [
       "array([ 1,  4,  9, 16])"
      ]
     },
     "execution_count": 19,
     "metadata": {},
     "output_type": "execute_result"
    }
   ],
   "source": [
    "np.power(x, 2)"
   ]
  },
  {
   "cell_type": "markdown",
   "id": "687dfceb",
   "metadata": {},
   "source": [
    "## Example 4. Statistical functions"
   ]
  },
  {
   "cell_type": "code",
   "execution_count": 29,
   "id": "f0fac15b",
   "metadata": {},
   "outputs": [],
   "source": [
    "X = np.array([[1, 2], [3, 4]])"
   ]
  },
  {
   "cell_type": "code",
   "execution_count": 30,
   "id": "f81251e2",
   "metadata": {},
   "outputs": [
    {
     "data": {
      "text/plain": [
       "array([[1, 2],\n",
       "       [3, 4]])"
      ]
     },
     "execution_count": 30,
     "metadata": {},
     "output_type": "execute_result"
    }
   ],
   "source": [
    "X"
   ]
  },
  {
   "cell_type": "code",
   "execution_count": 31,
   "id": "f80a91ef",
   "metadata": {},
   "outputs": [
    {
     "data": {
      "text/plain": [
       "2.5"
      ]
     },
     "execution_count": 31,
     "metadata": {},
     "output_type": "execute_result"
    }
   ],
   "source": [
    "X.mean()"
   ]
  },
  {
   "cell_type": "code",
   "execution_count": 32,
   "id": "179dbd4b",
   "metadata": {},
   "outputs": [
    {
     "name": "stdout",
     "output_type": "stream",
     "text": [
      "Average of all elements in the columns of X: [2. 3.]\n",
      "Average of all elements in the rows of X: [1.5 3.5]\n"
     ]
    }
   ],
   "source": [
    "print('Average of all elements in the columns of X:', x.mean(axis=0))\n",
    "print('Average of all elements in the rows of X:', x.mean(axis=1))"
   ]
  },
  {
   "cell_type": "code",
   "execution_count": 33,
   "id": "f5efd7ff",
   "metadata": {},
   "outputs": [
    {
     "data": {
      "text/plain": [
       "10"
      ]
     },
     "execution_count": 33,
     "metadata": {},
     "output_type": "execute_result"
    }
   ],
   "source": [
    "X.sum()"
   ]
  },
  {
   "cell_type": "code",
   "execution_count": 34,
   "id": "2110af7a",
   "metadata": {},
   "outputs": [
    {
     "name": "stdout",
     "output_type": "stream",
     "text": [
      "\n",
      "Sum of all elements in X: 10\n",
      "Sum of all elements in the columns of X: [4 6]\n",
      "Sum of all elements in the rows of X: [3 7]\n",
      "\n",
      "Standard Deviation of all elements in X: 1.118033988749895\n",
      "Standard Deviation of all elements in the columns of X: [1. 1.]\n",
      "Standard Deviation of all elements in the rows of X: [0.5 0.5]\n",
      "\n",
      "Median of all elements in X: 2.5\n",
      "Median of all elements in the columns of X: [2. 3.]\n",
      "Median of all elements in the rows of X: [1.5 3.5]\n",
      "\n",
      "Maximum value of all elements in X: 4\n",
      "Maximum value of all elements in the columns of X: [3 4]\n",
      "Maximum value of all elements in the rows of X: [2 4]\n",
      "\n",
      "Minimum value of all elements in X: 1\n",
      "Minimum value of all elements in the columns of X: [1 2]\n",
      "Minimum value of all elements in the rows of X: [1 3]\n"
     ]
    }
   ],
   "source": [
    "print()\n",
    "print('Sum of all elements in X:', X.sum())\n",
    "print('Sum of all elements in the columns of X:', X.sum(axis=0))\n",
    "print('Sum of all elements in the rows of X:', X.sum(axis=1))\n",
    "print()\n",
    "print('Standard Deviation of all elements in X:', X.std())\n",
    "print('Standard Deviation of all elements in the columns of X:', X.std(axis=0))\n",
    "print('Standard Deviation of all elements in the rows of X:', X.std(axis=1))\n",
    "print()\n",
    "print('Median of all elements in X:', np.median(X))\n",
    "print('Median of all elements in the columns of X:', np.median(X,axis=0))\n",
    "print('Median of all elements in the rows of X:', np.median(X,axis=1))\n",
    "print()\n",
    "print('Maximum value of all elements in X:', X.max())\n",
    "print('Maximum value of all elements in the columns of X:', X.max(axis=0))\n",
    "print('Maximum value of all elements in the rows of X:', X.max(axis=1))\n",
    "print()\n",
    "print('Minimum value of all elements in X:', X.min())\n",
    "print('Minimum value of all elements in the columns of X:', X.min(axis=0))\n",
    "print('Minimum value of all elements in the rows of X:', X.min(axis=1))"
   ]
  },
  {
   "cell_type": "markdown",
   "id": "b6ff43c1",
   "metadata": {},
   "source": [
    "## Example 5. Change value of all elements of an array"
   ]
  },
  {
   "cell_type": "code",
   "execution_count": 37,
   "id": "8e73b2d5",
   "metadata": {},
   "outputs": [],
   "source": [
    "x = np.array([[1,2], [3,4]])"
   ]
  },
  {
   "cell_type": "code",
   "execution_count": 38,
   "id": "b10b6b10",
   "metadata": {},
   "outputs": [
    {
     "data": {
      "text/plain": [
       "array([[1, 2],\n",
       "       [3, 4]])"
      ]
     },
     "execution_count": 38,
     "metadata": {},
     "output_type": "execute_result"
    }
   ],
   "source": [
    "x"
   ]
  },
  {
   "cell_type": "code",
   "execution_count": 36,
   "id": "a3ef03dd",
   "metadata": {},
   "outputs": [
    {
     "data": {
      "text/plain": [
       "array([[ 3,  6],\n",
       "       [ 9, 12]])"
      ]
     },
     "execution_count": 36,
     "metadata": {},
     "output_type": "execute_result"
    }
   ],
   "source": [
    "3 * x"
   ]
  },
  {
   "cell_type": "code",
   "execution_count": 39,
   "id": "9f2c80b1",
   "metadata": {},
   "outputs": [
    {
     "data": {
      "text/plain": [
       "array([[4, 5],\n",
       "       [6, 7]])"
      ]
     },
     "execution_count": 39,
     "metadata": {},
     "output_type": "execute_result"
    }
   ],
   "source": [
    "3+x"
   ]
  },
  {
   "cell_type": "code",
   "execution_count": 40,
   "id": "9773fa01",
   "metadata": {},
   "outputs": [
    {
     "data": {
      "text/plain": [
       "array([[-2, -1],\n",
       "       [ 0,  1]])"
      ]
     },
     "execution_count": 40,
     "metadata": {},
     "output_type": "execute_result"
    }
   ],
   "source": [
    "x - 3"
   ]
  },
  {
   "cell_type": "code",
   "execution_count": 42,
   "id": "8d1f8c1d",
   "metadata": {},
   "outputs": [
    {
     "data": {
      "text/plain": [
       "array([[0.33333333, 0.66666667],\n",
       "       [1.        , 1.33333333]])"
      ]
     },
     "execution_count": 42,
     "metadata": {},
     "output_type": "execute_result"
    }
   ],
   "source": [
    "x/3"
   ]
  },
  {
   "cell_type": "markdown",
   "id": "d1821148",
   "metadata": {},
   "source": [
    "## Example 6. Arithmetic operations on 2-D arrays (Compatible shape)"
   ]
  },
  {
   "cell_type": "code",
   "execution_count": 43,
   "id": "8fbfdc34",
   "metadata": {},
   "outputs": [],
   "source": [
    "x = np.array([1, 2, 3])"
   ]
  },
  {
   "cell_type": "code",
   "execution_count": 44,
   "id": "580ca716",
   "metadata": {},
   "outputs": [],
   "source": [
    "y = np.array([[1, 2, 3], [4, 5, 6], [7, 8, 9]])"
   ]
  },
  {
   "cell_type": "code",
   "execution_count": 46,
   "id": "66ae8906",
   "metadata": {},
   "outputs": [],
   "source": [
    "z = np.array([1, 2, 3]).reshape(3,1)"
   ]
  },
  {
   "cell_type": "code",
   "execution_count": 47,
   "id": "02e99918",
   "metadata": {},
   "outputs": [
    {
     "data": {
      "text/plain": [
       "array([1, 2, 3])"
      ]
     },
     "execution_count": 47,
     "metadata": {},
     "output_type": "execute_result"
    }
   ],
   "source": [
    "x"
   ]
  },
  {
   "cell_type": "code",
   "execution_count": 48,
   "id": "2e30c700",
   "metadata": {},
   "outputs": [
    {
     "data": {
      "text/plain": [
       "array([[1, 2, 3],\n",
       "       [4, 5, 6],\n",
       "       [7, 8, 9]])"
      ]
     },
     "execution_count": 48,
     "metadata": {},
     "output_type": "execute_result"
    }
   ],
   "source": [
    "y"
   ]
  },
  {
   "cell_type": "code",
   "execution_count": 49,
   "id": "bdf8fe6b",
   "metadata": {},
   "outputs": [
    {
     "data": {
      "text/plain": [
       "array([[1],\n",
       "       [2],\n",
       "       [3]])"
      ]
     },
     "execution_count": 49,
     "metadata": {},
     "output_type": "execute_result"
    }
   ],
   "source": [
    "z"
   ]
  },
  {
   "cell_type": "code",
   "execution_count": 50,
   "id": "04f4cefe",
   "metadata": {},
   "outputs": [
    {
     "data": {
      "text/plain": [
       "array([[ 2,  4,  6],\n",
       "       [ 5,  7,  9],\n",
       "       [ 8, 10, 12]])"
      ]
     },
     "execution_count": 50,
     "metadata": {},
     "output_type": "execute_result"
    }
   ],
   "source": [
    "x + y"
   ]
  },
  {
   "cell_type": "code",
   "execution_count": 51,
   "id": "e0f1543f",
   "metadata": {},
   "outputs": [
    {
     "data": {
      "text/plain": [
       "array([[2, 3, 4],\n",
       "       [3, 4, 5],\n",
       "       [4, 5, 6]])"
      ]
     },
     "execution_count": 51,
     "metadata": {},
     "output_type": "execute_result"
    }
   ],
   "source": [
    "x+z"
   ]
  },
  {
   "cell_type": "code",
   "execution_count": null,
   "id": "6537c940",
   "metadata": {},
   "outputs": [],
   "source": []
  }
 ],
 "metadata": {
  "kernelspec": {
   "display_name": "Python 3 (ipykernel)",
   "language": "python",
   "name": "python3"
  },
  "language_info": {
   "codemirror_mode": {
    "name": "ipython",
    "version": 3
   },
   "file_extension": ".py",
   "mimetype": "text/x-python",
   "name": "python",
   "nbconvert_exporter": "python",
   "pygments_lexer": "ipython3",
   "version": "3.11.5"
  }
 },
 "nbformat": 4,
 "nbformat_minor": 5
}
