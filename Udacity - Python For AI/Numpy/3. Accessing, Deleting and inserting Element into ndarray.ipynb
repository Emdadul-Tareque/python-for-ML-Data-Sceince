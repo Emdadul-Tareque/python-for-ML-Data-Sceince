{
 "cells": [
  {
   "cell_type": "markdown",
   "id": "e4a774f7",
   "metadata": {},
   "source": [
    "## Summary"
   ]
  },
  {
   "cell_type": "raw",
   "id": "e871aba3",
   "metadata": {},
   "source": [
    "Delete element: np.delete(array, index)\n",
    "insert element: np.insert(array, index, values, axis)\n",
    "append element: np.append(array, values, axis)\n",
    "stack element (row wise): np.vstack((array01, array02, ....)) \n",
    "stack element (column wise): np.hstack((array01, array02, ....)) [Must be same dimenstion]"
   ]
  },
  {
   "cell_type": "markdown",
   "id": "dc45e3af",
   "metadata": {},
   "source": [
    "## Example 1. Access individual elements of 1-D array"
   ]
  },
  {
   "cell_type": "code",
   "execution_count": 2,
   "id": "ed788200",
   "metadata": {},
   "outputs": [],
   "source": [
    "import numpy as np"
   ]
  },
  {
   "cell_type": "code",
   "execution_count": 4,
   "id": "be4c6f74",
   "metadata": {},
   "outputs": [],
   "source": [
    "x = np.array([1, 2, 3, 4, 5])"
   ]
  },
  {
   "cell_type": "code",
   "execution_count": 9,
   "id": "088d8c3c",
   "metadata": {},
   "outputs": [
    {
     "data": {
      "text/plain": [
       "array([10, 20,  3,  4,  5])"
      ]
     },
     "execution_count": 9,
     "metadata": {},
     "output_type": "execute_result"
    }
   ],
   "source": [
    "x[0: ]"
   ]
  },
  {
   "cell_type": "markdown",
   "id": "d384a4d0",
   "metadata": {},
   "source": [
    "## Example 02: Modify element of 1-D array"
   ]
  },
  {
   "cell_type": "code",
   "execution_count": 6,
   "id": "aad4d524",
   "metadata": {},
   "outputs": [
    {
     "data": {
      "text/plain": [
       "array([1, 2])"
      ]
     },
     "execution_count": 6,
     "metadata": {},
     "output_type": "execute_result"
    }
   ],
   "source": [
    "x[0: 2]"
   ]
  },
  {
   "cell_type": "code",
   "execution_count": 7,
   "id": "cd2bb81c",
   "metadata": {},
   "outputs": [],
   "source": [
    "x[0: 2] = 10, 20"
   ]
  },
  {
   "cell_type": "code",
   "execution_count": 8,
   "id": "1be3d62e",
   "metadata": {},
   "outputs": [
    {
     "data": {
      "text/plain": [
       "array([10, 20,  3,  4,  5])"
      ]
     },
     "execution_count": 8,
     "metadata": {},
     "output_type": "execute_result"
    }
   ],
   "source": [
    "x"
   ]
  },
  {
   "cell_type": "code",
   "execution_count": 11,
   "id": "e0237b27",
   "metadata": {},
   "outputs": [
    {
     "ename": "ValueError",
     "evalue": "could not broadcast input array from shape (3,) into shape (5,)",
     "output_type": "error",
     "traceback": [
      "\u001b[0;31m---------------------------------------------------------------------------\u001b[0m",
      "\u001b[0;31mValueError\u001b[0m                                Traceback (most recent call last)",
      "Cell \u001b[0;32mIn[11], line 1\u001b[0m\n\u001b[0;32m----> 1\u001b[0m x[\u001b[38;5;241m0\u001b[39m: ] \u001b[38;5;241m=\u001b[39m \u001b[38;5;241m100\u001b[39m, \u001b[38;5;241m200\u001b[39m, \u001b[38;5;241m300\u001b[39m\n",
      "\u001b[0;31mValueError\u001b[0m: could not broadcast input array from shape (3,) into shape (5,)"
     ]
    }
   ],
   "source": [
    "x[0: ] = 100, 200, 300"
   ]
  },
  {
   "cell_type": "code",
   "execution_count": 12,
   "id": "3b6c76a4",
   "metadata": {},
   "outputs": [],
   "source": [
    "x[0: ] = 100, 200, 300, 400, 500"
   ]
  },
  {
   "cell_type": "code",
   "execution_count": 13,
   "id": "d3d168b0",
   "metadata": {},
   "outputs": [
    {
     "data": {
      "text/plain": [
       "array([100, 200, 300, 400, 500])"
      ]
     },
     "execution_count": 13,
     "metadata": {},
     "output_type": "execute_result"
    }
   ],
   "source": [
    "x"
   ]
  },
  {
   "cell_type": "markdown",
   "id": "fef00f8a",
   "metadata": {},
   "source": [
    "## Example 3. Access individual elements of 2-D array"
   ]
  },
  {
   "cell_type": "code",
   "execution_count": 20,
   "id": "4ce1436d",
   "metadata": {},
   "outputs": [],
   "source": [
    "x = np.eye(4, 4)"
   ]
  },
  {
   "cell_type": "code",
   "execution_count": 21,
   "id": "3f322d0e",
   "metadata": {},
   "outputs": [
    {
     "data": {
      "text/plain": [
       "array([[1., 0., 0., 0.],\n",
       "       [0., 1., 0., 0.],\n",
       "       [0., 0., 1., 0.],\n",
       "       [0., 0., 0., 1.]])"
      ]
     },
     "execution_count": 21,
     "metadata": {},
     "output_type": "execute_result"
    }
   ],
   "source": [
    "x"
   ]
  },
  {
   "cell_type": "code",
   "execution_count": 22,
   "id": "684b1f83",
   "metadata": {},
   "outputs": [
    {
     "data": {
      "text/plain": [
       "array([[1., 0., 0., 0.],\n",
       "       [0., 1., 0., 0.],\n",
       "       [0., 0., 1., 0.],\n",
       "       [0., 0., 0., 1.]])"
      ]
     },
     "execution_count": 22,
     "metadata": {},
     "output_type": "execute_result"
    }
   ],
   "source": [
    "x[0: ]"
   ]
  },
  {
   "cell_type": "code",
   "execution_count": 23,
   "id": "028f9714",
   "metadata": {},
   "outputs": [
    {
     "data": {
      "text/plain": [
       "array([[0., 1., 0., 0.],\n",
       "       [0., 0., 1., 0.]])"
      ]
     },
     "execution_count": 23,
     "metadata": {},
     "output_type": "execute_result"
    }
   ],
   "source": [
    "x[1: 3]"
   ]
  },
  {
   "cell_type": "markdown",
   "id": "8231085d",
   "metadata": {},
   "source": [
    "## Example 4. Modify an element of 2-D array"
   ]
  },
  {
   "cell_type": "code",
   "execution_count": 24,
   "id": "24ca1672",
   "metadata": {},
   "outputs": [],
   "source": [
    "x[0, 0] = 10"
   ]
  },
  {
   "cell_type": "code",
   "execution_count": 25,
   "id": "b9976fe2",
   "metadata": {},
   "outputs": [
    {
     "data": {
      "text/plain": [
       "array([[10.,  0.,  0.,  0.],\n",
       "       [ 0.,  1.,  0.,  0.],\n",
       "       [ 0.,  0.,  1.,  0.],\n",
       "       [ 0.,  0.,  0.,  1.]])"
      ]
     },
     "execution_count": 25,
     "metadata": {},
     "output_type": "execute_result"
    }
   ],
   "source": [
    "x"
   ]
  },
  {
   "cell_type": "code",
   "execution_count": 26,
   "id": "888b24f1",
   "metadata": {},
   "outputs": [],
   "source": [
    "x[1, 2] = 20"
   ]
  },
  {
   "cell_type": "code",
   "execution_count": 27,
   "id": "6df07d0b",
   "metadata": {},
   "outputs": [
    {
     "data": {
      "text/plain": [
       "array([[10.,  0.,  0.,  0.],\n",
       "       [ 0.,  1., 20.,  0.],\n",
       "       [ 0.,  0.,  1.,  0.],\n",
       "       [ 0.,  0.,  0.,  1.]])"
      ]
     },
     "execution_count": 27,
     "metadata": {},
     "output_type": "execute_result"
    }
   ],
   "source": [
    "x"
   ]
  },
  {
   "cell_type": "markdown",
   "id": "522d1020",
   "metadata": {},
   "source": [
    "## Example 05: Delete elements "
   ]
  },
  {
   "cell_type": "code",
   "execution_count": 109,
   "id": "98ca878b",
   "metadata": {},
   "outputs": [],
   "source": [
    "x = np.array([1, 2, 3, 4, 5])"
   ]
  },
  {
   "cell_type": "code",
   "execution_count": 111,
   "id": "dab783e5",
   "metadata": {},
   "outputs": [],
   "source": [
    "x = np.delete(x, 0) #syntax: np.delete(array, index)"
   ]
  },
  {
   "cell_type": "code",
   "execution_count": 112,
   "id": "613a7fd5",
   "metadata": {},
   "outputs": [
    {
     "data": {
      "text/plain": [
       "array([3, 4, 5])"
      ]
     },
     "execution_count": 112,
     "metadata": {},
     "output_type": "execute_result"
    }
   ],
   "source": [
    "x"
   ]
  },
  {
   "cell_type": "code",
   "execution_count": 29,
   "id": "323d41c7",
   "metadata": {},
   "outputs": [],
   "source": [
    "x = np.delete(x, [0])"
   ]
  },
  {
   "cell_type": "code",
   "execution_count": 30,
   "id": "d29f031c",
   "metadata": {},
   "outputs": [
    {
     "data": {
      "text/plain": [
       "array([2, 3, 4, 5])"
      ]
     },
     "execution_count": 30,
     "metadata": {},
     "output_type": "execute_result"
    }
   ],
   "source": [
    "x"
   ]
  },
  {
   "cell_type": "code",
   "execution_count": 31,
   "id": "d790c156",
   "metadata": {},
   "outputs": [],
   "source": [
    "x = np.delete(x, [0, 2, 3])"
   ]
  },
  {
   "cell_type": "code",
   "execution_count": 32,
   "id": "beb256bc",
   "metadata": {},
   "outputs": [
    {
     "data": {
      "text/plain": [
       "array([3])"
      ]
     },
     "execution_count": 32,
     "metadata": {},
     "output_type": "execute_result"
    }
   ],
   "source": [
    "x"
   ]
  },
  {
   "cell_type": "code",
   "execution_count": 34,
   "id": "24ee710a",
   "metadata": {},
   "outputs": [],
   "source": [
    "#syntex: np.delete(array,[index])"
   ]
  },
  {
   "cell_type": "code",
   "execution_count": 43,
   "id": "b2b2689c",
   "metadata": {},
   "outputs": [],
   "source": [
    "y = np.array([[1,2,3],[4,5,6],[7,8,9]])"
   ]
  },
  {
   "cell_type": "code",
   "execution_count": 44,
   "id": "fe8dd348",
   "metadata": {},
   "outputs": [
    {
     "data": {
      "text/plain": [
       "array([[1, 2, 3],\n",
       "       [4, 5, 6],\n",
       "       [7, 8, 9]])"
      ]
     },
     "execution_count": 44,
     "metadata": {},
     "output_type": "execute_result"
    }
   ],
   "source": [
    "y"
   ]
  },
  {
   "cell_type": "code",
   "execution_count": 41,
   "id": "48189603",
   "metadata": {},
   "outputs": [],
   "source": [
    "y = np.delete(y, [0, 2], axis=0)"
   ]
  },
  {
   "cell_type": "code",
   "execution_count": 42,
   "id": "cd6b1a6b",
   "metadata": {},
   "outputs": [
    {
     "data": {
      "text/plain": [
       "array([[4, 5, 6]])"
      ]
     },
     "execution_count": 42,
     "metadata": {},
     "output_type": "execute_result"
    }
   ],
   "source": [
    "y"
   ]
  },
  {
   "cell_type": "code",
   "execution_count": 45,
   "id": "776648c5",
   "metadata": {},
   "outputs": [],
   "source": [
    "y = np.delete(y, [0, 2], axis=1)"
   ]
  },
  {
   "cell_type": "code",
   "execution_count": 46,
   "id": "318d2f5a",
   "metadata": {},
   "outputs": [
    {
     "data": {
      "text/plain": [
       "array([[2],\n",
       "       [5],\n",
       "       [8]])"
      ]
     },
     "execution_count": 46,
     "metadata": {},
     "output_type": "execute_result"
    }
   ],
   "source": [
    "y"
   ]
  },
  {
   "cell_type": "code",
   "execution_count": 47,
   "id": "01fa1e32",
   "metadata": {},
   "outputs": [],
   "source": [
    "#axis = 0; row \n",
    "#axis = 1; column"
   ]
  },
  {
   "cell_type": "markdown",
   "id": "bab7a9c8",
   "metadata": {},
   "source": [
    "## numpy.append\n",
    "Syntax: numpy.append(array, values, axis=None)"
   ]
  },
  {
   "cell_type": "code",
   "execution_count": 48,
   "id": "3ab61115",
   "metadata": {},
   "outputs": [],
   "source": [
    "x = np.array([1, 2, 3, 4])"
   ]
  },
  {
   "cell_type": "code",
   "execution_count": 51,
   "id": "061f012a",
   "metadata": {},
   "outputs": [],
   "source": [
    "x = np.append(x, 6) #syntax: np.append(array, values)"
   ]
  },
  {
   "cell_type": "code",
   "execution_count": 61,
   "id": "a7837b24",
   "metadata": {},
   "outputs": [
    {
     "data": {
      "text/plain": [
       "array([1, 2, 3, 4, 6])"
      ]
     },
     "execution_count": 61,
     "metadata": {},
     "output_type": "execute_result"
    }
   ],
   "source": [
    "x"
   ]
  },
  {
   "cell_type": "code",
   "execution_count": 62,
   "id": "69c41671",
   "metadata": {},
   "outputs": [],
   "source": [
    "x = np.append(x, [10, 11])"
   ]
  },
  {
   "cell_type": "code",
   "execution_count": 63,
   "id": "ba54ebcf",
   "metadata": {},
   "outputs": [
    {
     "data": {
      "text/plain": [
       "array([ 1,  2,  3,  4,  6, 10, 11])"
      ]
     },
     "execution_count": 63,
     "metadata": {},
     "output_type": "execute_result"
    }
   ],
   "source": [
    "x"
   ]
  },
  {
   "cell_type": "code",
   "execution_count": 53,
   "id": "58ff534c",
   "metadata": {},
   "outputs": [],
   "source": [
    "y = np.array([[1, 2, 3], [3, 4, 5], [6, 7, 8]])"
   ]
  },
  {
   "cell_type": "code",
   "execution_count": 54,
   "id": "21974e69",
   "metadata": {},
   "outputs": [],
   "source": [
    "y = np.append(y, [[7, 8, 9]], axis=0)"
   ]
  },
  {
   "cell_type": "code",
   "execution_count": 55,
   "id": "9b45543d",
   "metadata": {},
   "outputs": [
    {
     "data": {
      "text/plain": [
       "array([[1, 2, 3],\n",
       "       [3, 4, 5],\n",
       "       [6, 7, 8],\n",
       "       [7, 8, 9]])"
      ]
     },
     "execution_count": 55,
     "metadata": {},
     "output_type": "execute_result"
    }
   ],
   "source": [
    "y"
   ]
  },
  {
   "cell_type": "code",
   "execution_count": 59,
   "id": "e62978a3",
   "metadata": {},
   "outputs": [],
   "source": [
    "q = np.append(y, [[9], [10], [11], [12]], axis=1)"
   ]
  },
  {
   "cell_type": "code",
   "execution_count": 60,
   "id": "f58164fa",
   "metadata": {},
   "outputs": [
    {
     "data": {
      "text/plain": [
       "array([[ 1,  2,  3,  9],\n",
       "       [ 3,  4,  5, 10],\n",
       "       [ 6,  7,  8, 11],\n",
       "       [ 7,  8,  9, 12]])"
      ]
     },
     "execution_count": 60,
     "metadata": {},
     "output_type": "execute_result"
    }
   ],
   "source": [
    "q"
   ]
  },
  {
   "cell_type": "markdown",
   "id": "5ad0a478",
   "metadata": {},
   "source": [
    "## Example 7: Insert elements"
   ]
  },
  {
   "cell_type": "code",
   "execution_count": 65,
   "id": "91d7ddc1",
   "metadata": {},
   "outputs": [],
   "source": [
    "# We create a rank 1 ndarray \n",
    "x = np.array([1, 2, 5, 6, 7])\n",
    "\n",
    "# We create a rank 2 ndarray \n",
    "y = np.array([[1,2,3],[7,8,9]])"
   ]
  },
  {
   "cell_type": "code",
   "execution_count": 66,
   "id": "982f7870",
   "metadata": {},
   "outputs": [],
   "source": [
    "x = np.insert(x, 2, [3,4]) #syntax: np.insert(array, index, values)"
   ]
  },
  {
   "cell_type": "code",
   "execution_count": 67,
   "id": "daf52289",
   "metadata": {},
   "outputs": [
    {
     "data": {
      "text/plain": [
       "array([1, 2, 3, 4, 5, 6, 7])"
      ]
     },
     "execution_count": 67,
     "metadata": {},
     "output_type": "execute_result"
    }
   ],
   "source": [
    "x"
   ]
  },
  {
   "cell_type": "code",
   "execution_count": 68,
   "id": "ec146042",
   "metadata": {},
   "outputs": [],
   "source": [
    "x = np.insert(x, 3, [10, 20])"
   ]
  },
  {
   "cell_type": "code",
   "execution_count": 69,
   "id": "fe930f93",
   "metadata": {},
   "outputs": [
    {
     "data": {
      "text/plain": [
       "array([ 1,  2,  3, 10, 20,  4,  5,  6,  7])"
      ]
     },
     "execution_count": 69,
     "metadata": {},
     "output_type": "execute_result"
    }
   ],
   "source": [
    "x"
   ]
  },
  {
   "cell_type": "code",
   "execution_count": 70,
   "id": "2db8fdf8",
   "metadata": {},
   "outputs": [
    {
     "data": {
      "text/plain": [
       "array([[1, 2, 3],\n",
       "       [7, 8, 9]])"
      ]
     },
     "execution_count": 70,
     "metadata": {},
     "output_type": "execute_result"
    }
   ],
   "source": [
    "y"
   ]
  },
  {
   "cell_type": "code",
   "execution_count": 71,
   "id": "e0c22091",
   "metadata": {},
   "outputs": [],
   "source": [
    "q = np.insert(y,1,[4, 5, 6], axis=0)"
   ]
  },
  {
   "cell_type": "code",
   "execution_count": 72,
   "id": "76430e44",
   "metadata": {},
   "outputs": [
    {
     "data": {
      "text/plain": [
       "array([[1, 2, 3],\n",
       "       [4, 5, 6],\n",
       "       [7, 8, 9]])"
      ]
     },
     "execution_count": 72,
     "metadata": {},
     "output_type": "execute_result"
    }
   ],
   "source": [
    "q"
   ]
  },
  {
   "cell_type": "code",
   "execution_count": 73,
   "id": "4b956919",
   "metadata": {},
   "outputs": [],
   "source": [
    "q = np.insert(y,0,[4, 5, 6], axis=0)"
   ]
  },
  {
   "cell_type": "code",
   "execution_count": 74,
   "id": "b2df6048",
   "metadata": {},
   "outputs": [
    {
     "data": {
      "text/plain": [
       "array([[4, 5, 6],\n",
       "       [1, 2, 3],\n",
       "       [7, 8, 9]])"
      ]
     },
     "execution_count": 74,
     "metadata": {},
     "output_type": "execute_result"
    }
   ],
   "source": [
    "q"
   ]
  },
  {
   "cell_type": "code",
   "execution_count": 75,
   "id": "7087baf4",
   "metadata": {},
   "outputs": [],
   "source": [
    "#syntex: np.insert(numpy_array, index,[new values], axis)"
   ]
  },
  {
   "cell_type": "code",
   "execution_count": 82,
   "id": "c2717dad",
   "metadata": {},
   "outputs": [],
   "source": [
    "w = np.insert(y,1, 5, axis=1)"
   ]
  },
  {
   "cell_type": "code",
   "execution_count": 83,
   "id": "b419bbfe",
   "metadata": {},
   "outputs": [
    {
     "data": {
      "text/plain": [
       "array([[1, 5, 2, 3],\n",
       "       [7, 5, 8, 9]])"
      ]
     },
     "execution_count": 83,
     "metadata": {},
     "output_type": "execute_result"
    }
   ],
   "source": [
    "w"
   ]
  },
  {
   "cell_type": "code",
   "execution_count": 80,
   "id": "f50bbfe4",
   "metadata": {},
   "outputs": [
    {
     "data": {
      "text/plain": [
       "array([[1, 2, 3],\n",
       "       [7, 8, 9]])"
      ]
     },
     "execution_count": 80,
     "metadata": {},
     "output_type": "execute_result"
    }
   ],
   "source": [
    "y"
   ]
  },
  {
   "cell_type": "code",
   "execution_count": 87,
   "id": "6b37840b",
   "metadata": {},
   "outputs": [],
   "source": [
    "w = np.insert(y,2, [5,6], axis=1)"
   ]
  },
  {
   "cell_type": "code",
   "execution_count": 88,
   "id": "19ed60cf",
   "metadata": {},
   "outputs": [
    {
     "data": {
      "text/plain": [
       "array([[1, 2, 5, 3],\n",
       "       [7, 8, 6, 9]])"
      ]
     },
     "execution_count": 88,
     "metadata": {},
     "output_type": "execute_result"
    }
   ],
   "source": [
    "w"
   ]
  },
  {
   "cell_type": "markdown",
   "id": "16504a99",
   "metadata": {},
   "source": [
    "## numpy.hstack and numpy.vstack\n",
    "Syntax: \n",
    "numpy.hstack(sequence_of_ndarray)\n",
    "numpy.vstack(sequence_of_ndarray)"
   ]
  },
  {
   "cell_type": "code",
   "execution_count": 114,
   "id": "c215ee82",
   "metadata": {},
   "outputs": [],
   "source": [
    "# We create a rank 1 ndarray \n",
    "x = np.array([1,2])\n",
    "\n",
    "# We create a rank 2 ndarray \n",
    "Y = np.array([[3,4],[5,6]])"
   ]
  },
  {
   "cell_type": "code",
   "execution_count": 115,
   "id": "390e82a4",
   "metadata": {},
   "outputs": [],
   "source": [
    "x1 = np.array([7, 8])"
   ]
  },
  {
   "cell_type": "code",
   "execution_count": 116,
   "id": "3eb67ca9",
   "metadata": {},
   "outputs": [],
   "source": [
    "z = np.vstack((x,Y,x1)) #syntax: np.vstack((array01, array02, ....))"
   ]
  },
  {
   "cell_type": "code",
   "execution_count": 117,
   "id": "e1954f1b",
   "metadata": {},
   "outputs": [
    {
     "data": {
      "text/plain": [
       "array([[1, 2],\n",
       "       [3, 4],\n",
       "       [5, 6],\n",
       "       [7, 8]])"
      ]
     },
     "execution_count": 117,
     "metadata": {},
     "output_type": "execute_result"
    }
   ],
   "source": [
    "z"
   ]
  },
  {
   "cell_type": "code",
   "execution_count": 92,
   "id": "4c6503f1",
   "metadata": {},
   "outputs": [
    {
     "data": {
      "text/plain": [
       "array([1, 2])"
      ]
     },
     "execution_count": 92,
     "metadata": {},
     "output_type": "execute_result"
    }
   ],
   "source": [
    "x"
   ]
  },
  {
   "cell_type": "code",
   "execution_count": 95,
   "id": "08dd3abb",
   "metadata": {},
   "outputs": [
    {
     "data": {
      "text/plain": [
       "array([[3, 4],\n",
       "       [5, 6]])"
      ]
     },
     "execution_count": 95,
     "metadata": {},
     "output_type": "execute_result"
    }
   ],
   "source": [
    "Y"
   ]
  },
  {
   "cell_type": "code",
   "execution_count": 94,
   "id": "396333fa",
   "metadata": {},
   "outputs": [
    {
     "data": {
      "text/plain": [
       "array([[1, 2],\n",
       "       [3, 4],\n",
       "       [5, 6]])"
      ]
     },
     "execution_count": 94,
     "metadata": {},
     "output_type": "execute_result"
    }
   ],
   "source": [
    "z"
   ]
  },
  {
   "cell_type": "code",
   "execution_count": 96,
   "id": "45b1275e",
   "metadata": {},
   "outputs": [],
   "source": [
    "q = np.vstack((Y, x))"
   ]
  },
  {
   "cell_type": "code",
   "execution_count": 99,
   "id": "4dc327f0",
   "metadata": {},
   "outputs": [
    {
     "data": {
      "text/plain": [
       "array([[3, 4],\n",
       "       [5, 6],\n",
       "       [1, 2]])"
      ]
     },
     "execution_count": 99,
     "metadata": {},
     "output_type": "execute_result"
    }
   ],
   "source": [
    "q"
   ]
  },
  {
   "cell_type": "code",
   "execution_count": 100,
   "id": "e4fd9fcc",
   "metadata": {},
   "outputs": [],
   "source": [
    "a = np.array([[10, 20], [30, 40]])"
   ]
  },
  {
   "cell_type": "code",
   "execution_count": 101,
   "id": "c13bfeff",
   "metadata": {},
   "outputs": [],
   "source": [
    "q = np.hstack((a, Y)) # must be same dimention "
   ]
  },
  {
   "cell_type": "code",
   "execution_count": 102,
   "id": "42202a5b",
   "metadata": {},
   "outputs": [
    {
     "data": {
      "text/plain": [
       "array([[10, 20,  3,  4],\n",
       "       [30, 40,  5,  6]])"
      ]
     },
     "execution_count": 102,
     "metadata": {},
     "output_type": "execute_result"
    }
   ],
   "source": [
    "q"
   ]
  },
  {
   "cell_type": "code",
   "execution_count": 103,
   "id": "d4e164ce",
   "metadata": {},
   "outputs": [],
   "source": [
    "w = np.hstack((Y,x.reshape(2,1)))"
   ]
  },
  {
   "cell_type": "code",
   "execution_count": 104,
   "id": "bda2c8a7",
   "metadata": {},
   "outputs": [
    {
     "data": {
      "text/plain": [
       "array([[3, 4, 1],\n",
       "       [5, 6, 2]])"
      ]
     },
     "execution_count": 104,
     "metadata": {},
     "output_type": "execute_result"
    }
   ],
   "source": [
    "w"
   ]
  },
  {
   "cell_type": "code",
   "execution_count": 105,
   "id": "e847451c",
   "metadata": {},
   "outputs": [
    {
     "data": {
      "text/plain": [
       "array([1, 2])"
      ]
     },
     "execution_count": 105,
     "metadata": {},
     "output_type": "execute_result"
    }
   ],
   "source": [
    "x"
   ]
  },
  {
   "cell_type": "code",
   "execution_count": 106,
   "id": "7adb91cb",
   "metadata": {},
   "outputs": [
    {
     "data": {
      "text/plain": [
       "array([[3, 4],\n",
       "       [5, 6]])"
      ]
     },
     "execution_count": 106,
     "metadata": {},
     "output_type": "execute_result"
    }
   ],
   "source": [
    "Y"
   ]
  },
  {
   "cell_type": "code",
   "execution_count": null,
   "id": "c05cf8a3",
   "metadata": {},
   "outputs": [],
   "source": [
    "# We create a 4 x 5 ndarray that contains integers from 0 to 19\n",
    "X = np.arange(20).reshape(4, 5)\n",
    "\n",
    "# We create a rank 1 ndarray that will serve as indices to select elements from X\n",
    "indices = np.array([1,3])\n",
    "\n",
    "# We print X\n",
    "print()\n",
    "print('X = \\n', X)\n",
    "print()\n",
    "\n",
    "# We print indices\n",
    "print('indices = ', indices)\n",
    "print()\n",
    "\n",
    "# We use the indices ndarray to select the 2nd and 4th row of X\n",
    "Y = X[indices,:]\n",
    "\n",
    "# We use the indices ndarray to select the 2nd and 4th column of X\n",
    "Z = X[:, indices]\n",
    "\n",
    "# We print Y\n",
    "print()\n",
    "print('Y = \\n', Y)\n",
    "\n",
    "# We print Z\n",
    "print()\n",
    "print('Z = \\n', Z)"
   ]
  }
 ],
 "metadata": {
  "kernelspec": {
   "display_name": "Python 3 (ipykernel)",
   "language": "python",
   "name": "python3"
  },
  "language_info": {
   "codemirror_mode": {
    "name": "ipython",
    "version": 3
   },
   "file_extension": ".py",
   "mimetype": "text/x-python",
   "name": "python",
   "nbconvert_exporter": "python",
   "pygments_lexer": "ipython3",
   "version": "3.11.5"
  }
 },
 "nbformat": 4,
 "nbformat_minor": 5
}
