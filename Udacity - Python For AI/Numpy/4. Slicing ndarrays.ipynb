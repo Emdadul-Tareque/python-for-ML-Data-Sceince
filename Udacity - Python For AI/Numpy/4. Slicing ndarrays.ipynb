{
 "cells": [
  {
   "cell_type": "markdown",
   "id": "717b0ee4",
   "metadata": {},
   "source": [
    "## Summary\n"
   ]
  },
  {
   "cell_type": "raw",
   "id": "8ceeba39",
   "metadata": {},
   "source": [
    "2-D array slice: array[row_index_slice, column_index_slice]\n",
    "2-D numpy array copy: array[row_index_slice, column_index_slice].copy\n",
    "2-D array row indices: array[[slice], : ]\n",
    "2-D array column indices: array[ : , [slice]]\n",
    "2-D array digonal values: np.diag(array, k)\n",
    "2-D array unique values: np.unique(array)"
   ]
  },
  {
   "cell_type": "markdown",
   "id": "f125bffe",
   "metadata": {},
   "source": [
    " ## Example 1. Slicing in a 2-D ndarray"
   ]
  },
  {
   "cell_type": "code",
   "execution_count": 2,
   "id": "1e26d679",
   "metadata": {},
   "outputs": [],
   "source": [
    "import numpy as np"
   ]
  },
  {
   "cell_type": "code",
   "execution_count": 4,
   "id": "0bca1e8b",
   "metadata": {},
   "outputs": [],
   "source": [
    "#create a 4 X 5 ndarray that contains intergers from 0 to 19\n",
    "\n",
    "x = np.arange(20).reshape(4, 5)"
   ]
  },
  {
   "cell_type": "code",
   "execution_count": 5,
   "id": "3739b945",
   "metadata": {},
   "outputs": [
    {
     "data": {
      "text/plain": [
       "array([[ 0,  1,  2,  3,  4],\n",
       "       [ 5,  6,  7,  8,  9],\n",
       "       [10, 11, 12, 13, 14],\n",
       "       [15, 16, 17, 18, 19]])"
      ]
     },
     "execution_count": 5,
     "metadata": {},
     "output_type": "execute_result"
    }
   ],
   "source": [
    "x"
   ]
  },
  {
   "cell_type": "code",
   "execution_count": 14,
   "id": "7919bf52",
   "metadata": {},
   "outputs": [],
   "source": [
    "y = np.arange(9)"
   ]
  },
  {
   "cell_type": "code",
   "execution_count": 15,
   "id": "d66b578c",
   "metadata": {},
   "outputs": [
    {
     "data": {
      "text/plain": [
       "array([0, 1, 2, 3, 4, 5, 6, 7, 8])"
      ]
     },
     "execution_count": 15,
     "metadata": {},
     "output_type": "execute_result"
    }
   ],
   "source": [
    "y"
   ]
  },
  {
   "cell_type": "code",
   "execution_count": 20,
   "id": "87312287",
   "metadata": {},
   "outputs": [],
   "source": [
    "y = y.reshape(3,3)"
   ]
  },
  {
   "cell_type": "code",
   "execution_count": 21,
   "id": "7c4701dd",
   "metadata": {},
   "outputs": [
    {
     "data": {
      "text/plain": [
       "array([[0, 1, 2],\n",
       "       [3, 4, 5],\n",
       "       [6, 7, 8]])"
      ]
     },
     "execution_count": 21,
     "metadata": {},
     "output_type": "execute_result"
    }
   ],
   "source": [
    "y"
   ]
  },
  {
   "cell_type": "code",
   "execution_count": 22,
   "id": "1f9878a0",
   "metadata": {},
   "outputs": [
    {
     "data": {
      "text/plain": [
       "2"
      ]
     },
     "execution_count": 22,
     "metadata": {},
     "output_type": "execute_result"
    }
   ],
   "source": [
    "y.ndim"
   ]
  },
  {
   "cell_type": "code",
   "execution_count": 23,
   "id": "820d0865",
   "metadata": {},
   "outputs": [
    {
     "data": {
      "text/plain": [
       "array([[ 0,  1,  2,  3,  4],\n",
       "       [ 5,  6,  7,  8,  9],\n",
       "       [10, 11, 12, 13, 14],\n",
       "       [15, 16, 17, 18, 19]])"
      ]
     },
     "execution_count": 23,
     "metadata": {},
     "output_type": "execute_result"
    }
   ],
   "source": [
    "x"
   ]
  },
  {
   "cell_type": "code",
   "execution_count": 24,
   "id": "61f94ee0",
   "metadata": {},
   "outputs": [],
   "source": [
    "# 2-D Array Slice \n",
    "z = x[1:4, 2:5] #syntax: array[row_index, column_index]"
   ]
  },
  {
   "cell_type": "code",
   "execution_count": 25,
   "id": "0359ea3f",
   "metadata": {},
   "outputs": [
    {
     "data": {
      "text/plain": [
       "array([[ 7,  8,  9],\n",
       "       [12, 13, 14],\n",
       "       [17, 18, 19]])"
      ]
     },
     "execution_count": 25,
     "metadata": {},
     "output_type": "execute_result"
    }
   ],
   "source": [
    "z"
   ]
  },
  {
   "cell_type": "code",
   "execution_count": 29,
   "id": "e8cc13b8",
   "metadata": {},
   "outputs": [
    {
     "data": {
      "text/plain": [
       "array([[ 6,  7],\n",
       "       [11, 12]])"
      ]
     },
     "execution_count": 29,
     "metadata": {},
     "output_type": "execute_result"
    }
   ],
   "source": [
    "x[1:3, 1:3]"
   ]
  },
  {
   "cell_type": "code",
   "execution_count": 30,
   "id": "db71acd8",
   "metadata": {},
   "outputs": [
    {
     "data": {
      "text/plain": [
       "array([[ 1,  2,  3,  4],\n",
       "       [ 6,  7,  8,  9],\n",
       "       [11, 12, 13, 14],\n",
       "       [16, 17, 18, 19]])"
      ]
     },
     "execution_count": 30,
     "metadata": {},
     "output_type": "execute_result"
    }
   ],
   "source": [
    "x[:, 1:]"
   ]
  },
  {
   "cell_type": "markdown",
   "id": "e03502b8",
   "metadata": {},
   "source": [
    "## Example 2. editing elements in a 2-D ndarray"
   ]
  },
  {
   "cell_type": "code",
   "execution_count": 31,
   "id": "05a05da9",
   "metadata": {},
   "outputs": [],
   "source": [
    "x = np.arange(20).reshape(4, 5)"
   ]
  },
  {
   "cell_type": "code",
   "execution_count": 32,
   "id": "d7038b76",
   "metadata": {},
   "outputs": [
    {
     "data": {
      "text/plain": [
       "array([[ 0,  1,  2,  3,  4],\n",
       "       [ 5,  6,  7,  8,  9],\n",
       "       [10, 11, 12, 13, 14],\n",
       "       [15, 16, 17, 18, 19]])"
      ]
     },
     "execution_count": 32,
     "metadata": {},
     "output_type": "execute_result"
    }
   ],
   "source": [
    "x"
   ]
  },
  {
   "cell_type": "code",
   "execution_count": 34,
   "id": "631a5e7b",
   "metadata": {},
   "outputs": [],
   "source": [
    "x[0,1] = 10"
   ]
  },
  {
   "cell_type": "code",
   "execution_count": 36,
   "id": "3cc0cb1d",
   "metadata": {},
   "outputs": [
    {
     "data": {
      "text/plain": [
       "array([[ 0, 10,  2,  3,  4],\n",
       "       [ 5,  6,  7,  8,  9],\n",
       "       [10, 11, 12, 13, 14],\n",
       "       [15, 16, 17, 18, 19]])"
      ]
     },
     "execution_count": 36,
     "metadata": {},
     "output_type": "execute_result"
    }
   ],
   "source": [
    "x"
   ]
  },
  {
   "cell_type": "markdown",
   "id": "e4939542",
   "metadata": {},
   "source": [
    "## Example 3. Demonstrate the copy() function"
   ]
  },
  {
   "cell_type": "markdown",
   "id": "5b270c63",
   "metadata": {},
   "source": [
    "### numpy.ndarray.copy\n",
    "Syntax: \n",
    "ndarray.copy(order='C')"
   ]
  },
  {
   "cell_type": "code",
   "execution_count": 37,
   "id": "855dd25a",
   "metadata": {},
   "outputs": [],
   "source": [
    "x = np.arange(20).reshape(4,5)"
   ]
  },
  {
   "cell_type": "code",
   "execution_count": 38,
   "id": "c1745bce",
   "metadata": {},
   "outputs": [
    {
     "data": {
      "text/plain": [
       "array([[ 0,  1,  2,  3,  4],\n",
       "       [ 5,  6,  7,  8,  9],\n",
       "       [10, 11, 12, 13, 14],\n",
       "       [15, 16, 17, 18, 19]])"
      ]
     },
     "execution_count": 38,
     "metadata": {},
     "output_type": "execute_result"
    }
   ],
   "source": [
    "x"
   ]
  },
  {
   "cell_type": "code",
   "execution_count": 39,
   "id": "1b717981",
   "metadata": {},
   "outputs": [],
   "source": [
    "w = x[1:4, 2:5].copy()"
   ]
  },
  {
   "cell_type": "code",
   "execution_count": 40,
   "id": "c3322c93",
   "metadata": {},
   "outputs": [
    {
     "data": {
      "text/plain": [
       "array([[ 7,  8,  9],\n",
       "       [12, 13, 14],\n",
       "       [17, 18, 19]])"
      ]
     },
     "execution_count": 40,
     "metadata": {},
     "output_type": "execute_result"
    }
   ],
   "source": [
    "w"
   ]
  },
  {
   "cell_type": "markdown",
   "id": "0cb90087",
   "metadata": {},
   "source": [
    "## Example 4 a. Use an array as indices to either make slices, select, or change elements"
   ]
  },
  {
   "cell_type": "code",
   "execution_count": 3,
   "id": "e0b5e0f8",
   "metadata": {},
   "outputs": [],
   "source": [
    "x = np.arange(20).reshape(4,5)"
   ]
  },
  {
   "cell_type": "code",
   "execution_count": 5,
   "id": "230334f6",
   "metadata": {},
   "outputs": [],
   "source": [
    "indices = np.array([1, 3]) \n"
   ]
  },
  {
   "cell_type": "code",
   "execution_count": 7,
   "id": "547e7e37",
   "metadata": {},
   "outputs": [
    {
     "data": {
      "text/plain": [
       "array([1, 3])"
      ]
     },
     "execution_count": 7,
     "metadata": {},
     "output_type": "execute_result"
    }
   ],
   "source": [
    "indices"
   ]
  },
  {
   "cell_type": "code",
   "execution_count": 8,
   "id": "1001dcb0",
   "metadata": {},
   "outputs": [
    {
     "data": {
      "text/plain": [
       "array([[ 0,  1,  2,  3,  4],\n",
       "       [ 5,  6,  7,  8,  9],\n",
       "       [10, 11, 12, 13, 14],\n",
       "       [15, 16, 17, 18, 19]])"
      ]
     },
     "execution_count": 8,
     "metadata": {},
     "output_type": "execute_result"
    }
   ],
   "source": [
    "x"
   ]
  },
  {
   "cell_type": "code",
   "execution_count": 43,
   "id": "2f08e3bf",
   "metadata": {},
   "outputs": [],
   "source": [
    "y = x[indices, :]"
   ]
  },
  {
   "cell_type": "code",
   "execution_count": 44,
   "id": "f6201888",
   "metadata": {},
   "outputs": [
    {
     "data": {
      "text/plain": [
       "array([[ 5,  6,  7,  8,  9],\n",
       "       [15, 16, 17, 18, 19]])"
      ]
     },
     "execution_count": 44,
     "metadata": {},
     "output_type": "execute_result"
    }
   ],
   "source": [
    "y"
   ]
  },
  {
   "cell_type": "code",
   "execution_count": 45,
   "id": "a8829878",
   "metadata": {},
   "outputs": [
    {
     "data": {
      "text/plain": [
       "array([[ 0,  1,  2,  3,  4],\n",
       "       [ 5,  6,  7,  8,  9],\n",
       "       [10, 11, 12, 13, 14],\n",
       "       [15, 16, 17, 18, 19]])"
      ]
     },
     "execution_count": 45,
     "metadata": {},
     "output_type": "execute_result"
    }
   ],
   "source": [
    "x"
   ]
  },
  {
   "cell_type": "code",
   "execution_count": 46,
   "id": "3b7a3e33",
   "metadata": {},
   "outputs": [
    {
     "data": {
      "text/plain": [
       "array([1, 3])"
      ]
     },
     "execution_count": 46,
     "metadata": {},
     "output_type": "execute_result"
    }
   ],
   "source": [
    "indices"
   ]
  },
  {
   "cell_type": "code",
   "execution_count": 47,
   "id": "b2da0350",
   "metadata": {},
   "outputs": [],
   "source": [
    "z = x[: , indices]"
   ]
  },
  {
   "cell_type": "code",
   "execution_count": 48,
   "id": "9f61ae52",
   "metadata": {},
   "outputs": [
    {
     "data": {
      "text/plain": [
       "array([[ 1,  3],\n",
       "       [ 6,  8],\n",
       "       [11, 13],\n",
       "       [16, 18]])"
      ]
     },
     "execution_count": 48,
     "metadata": {},
     "output_type": "execute_result"
    }
   ],
   "source": [
    "z"
   ]
  },
  {
   "cell_type": "markdown",
   "id": "af54e9c9",
   "metadata": {},
   "source": [
    "## Example 5. Demonstrate the diag() function"
   ]
  },
  {
   "cell_type": "code",
   "execution_count": 49,
   "id": "05c50561",
   "metadata": {},
   "outputs": [],
   "source": [
    "x = np.arange(25).reshape(5, 5)"
   ]
  },
  {
   "cell_type": "code",
   "execution_count": 50,
   "id": "d01790ac",
   "metadata": {},
   "outputs": [],
   "source": [
    "z = np.diag(x) #2-D এরের কোনাকুনি ভ্যালুগুলো এক্সেস করবে"
   ]
  },
  {
   "cell_type": "code",
   "execution_count": 51,
   "id": "d09d0339",
   "metadata": {},
   "outputs": [
    {
     "data": {
      "text/plain": [
       "array([[ 0,  1,  2,  3,  4],\n",
       "       [ 5,  6,  7,  8,  9],\n",
       "       [10, 11, 12, 13, 14],\n",
       "       [15, 16, 17, 18, 19],\n",
       "       [20, 21, 22, 23, 24]])"
      ]
     },
     "execution_count": 51,
     "metadata": {},
     "output_type": "execute_result"
    }
   ],
   "source": [
    "x"
   ]
  },
  {
   "cell_type": "code",
   "execution_count": 52,
   "id": "3d819043",
   "metadata": {},
   "outputs": [
    {
     "data": {
      "text/plain": [
       "array([ 0,  6, 12, 18, 24])"
      ]
     },
     "execution_count": 52,
     "metadata": {},
     "output_type": "execute_result"
    }
   ],
   "source": [
    "z"
   ]
  },
  {
   "cell_type": "code",
   "execution_count": 53,
   "id": "f9239d12",
   "metadata": {},
   "outputs": [],
   "source": [
    "z = np.diag(x, k=1)"
   ]
  },
  {
   "cell_type": "code",
   "execution_count": 54,
   "id": "e4389a92",
   "metadata": {},
   "outputs": [
    {
     "data": {
      "text/plain": [
       "array([ 1,  7, 13, 19])"
      ]
     },
     "execution_count": 54,
     "metadata": {},
     "output_type": "execute_result"
    }
   ],
   "source": [
    "z"
   ]
  },
  {
   "cell_type": "code",
   "execution_count": 57,
   "id": "2c157f86",
   "metadata": {},
   "outputs": [],
   "source": [
    "z = np.diag(x, k=2)"
   ]
  },
  {
   "cell_type": "code",
   "execution_count": 58,
   "id": "7318b488",
   "metadata": {},
   "outputs": [
    {
     "data": {
      "text/plain": [
       "array([ 2,  8, 14])"
      ]
     },
     "execution_count": 58,
     "metadata": {},
     "output_type": "execute_result"
    }
   ],
   "source": [
    "z"
   ]
  },
  {
   "cell_type": "code",
   "execution_count": 59,
   "id": "399929df",
   "metadata": {},
   "outputs": [],
   "source": [
    "z = np.diag(x, k=3)"
   ]
  },
  {
   "cell_type": "code",
   "execution_count": 60,
   "id": "523fa0f1",
   "metadata": {},
   "outputs": [
    {
     "data": {
      "text/plain": [
       "array([3, 9])"
      ]
     },
     "execution_count": 60,
     "metadata": {},
     "output_type": "execute_result"
    }
   ],
   "source": [
    "z"
   ]
  },
  {
   "cell_type": "markdown",
   "id": "99231587",
   "metadata": {},
   "source": [
    "## Example 6. Demonstrate the unique() function"
   ]
  },
  {
   "cell_type": "markdown",
   "id": "6ff78f5d",
   "metadata": {},
   "source": [
    "### numpy.unique\n",
    "Syntax:\n",
    "numpy.unique(array, return_index=False, return_inverse=False, return_counts=False, axis=None)\n",
    " "
   ]
  },
  {
   "cell_type": "code",
   "execution_count": 61,
   "id": "a8a74773",
   "metadata": {},
   "outputs": [],
   "source": [
    "x = np.array([[1,2,3],[5,2,8],[1,2,3]])"
   ]
  },
  {
   "cell_type": "code",
   "execution_count": 62,
   "id": "24544897",
   "metadata": {},
   "outputs": [],
   "source": [
    "y = np.unique(x)"
   ]
  },
  {
   "cell_type": "code",
   "execution_count": 63,
   "id": "51da8869",
   "metadata": {},
   "outputs": [
    {
     "data": {
      "text/plain": [
       "array([1, 2, 3, 5, 8])"
      ]
     },
     "execution_count": 63,
     "metadata": {},
     "output_type": "execute_result"
    }
   ],
   "source": [
    "y"
   ]
  },
  {
   "cell_type": "code",
   "execution_count": null,
   "id": "55eed238",
   "metadata": {},
   "outputs": [],
   "source": []
  }
 ],
 "metadata": {
  "kernelspec": {
   "display_name": "Python 3 (ipykernel)",
   "language": "python",
   "name": "python3"
  },
  "language_info": {
   "codemirror_mode": {
    "name": "ipython",
    "version": 3
   },
   "file_extension": ".py",
   "mimetype": "text/x-python",
   "name": "python",
   "nbconvert_exporter": "python",
   "pygments_lexer": "ipython3",
   "version": "3.11.5"
  }
 },
 "nbformat": 4,
 "nbformat_minor": 5
}
