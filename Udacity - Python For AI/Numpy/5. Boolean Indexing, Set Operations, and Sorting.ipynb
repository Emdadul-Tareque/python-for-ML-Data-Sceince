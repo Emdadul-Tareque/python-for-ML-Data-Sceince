{
 "cells": [
  {
   "cell_type": "markdown",
   "id": "028ac47f",
   "metadata": {},
   "source": [
    "## Example 1. Boolean indexing\n"
   ]
  },
  {
   "cell_type": "code",
   "execution_count": 2,
   "id": "aa735ae2",
   "metadata": {},
   "outputs": [],
   "source": [
    "import numpy as np"
   ]
  },
  {
   "cell_type": "code",
   "execution_count": 3,
   "id": "9629bf0f",
   "metadata": {},
   "outputs": [],
   "source": [
    "x = np.arange(25).reshape(5, 5)"
   ]
  },
  {
   "cell_type": "code",
   "execution_count": 4,
   "id": "bfe35556",
   "metadata": {},
   "outputs": [
    {
     "data": {
      "text/plain": [
       "array([[ 0,  1,  2,  3,  4],\n",
       "       [ 5,  6,  7,  8,  9],\n",
       "       [10, 11, 12, 13, 14],\n",
       "       [15, 16, 17, 18, 19],\n",
       "       [20, 21, 22, 23, 24]])"
      ]
     },
     "execution_count": 4,
     "metadata": {},
     "output_type": "execute_result"
    }
   ],
   "source": [
    "x"
   ]
  },
  {
   "cell_type": "code",
   "execution_count": 7,
   "id": "172eb3c9",
   "metadata": {},
   "outputs": [
    {
     "name": "stdout",
     "output_type": "stream",
     "text": [
      "[[10 11 12]\n",
      " [13 14 15]\n",
      " [16 17 18]\n",
      " [19 20 21]\n",
      " [22 23 24]]\n"
     ]
    }
   ],
   "source": [
    "print(x[x > 9].reshape(5, 3))"
   ]
  },
  {
   "cell_type": "code",
   "execution_count": 11,
   "id": "ca2079f8",
   "metadata": {},
   "outputs": [
    {
     "name": "stdout",
     "output_type": "stream",
     "text": [
      "[10 11 12 13 14]\n"
     ]
    }
   ],
   "source": [
    "print(x[(x > 9) & (x < 15)])"
   ]
  },
  {
   "cell_type": "markdown",
   "id": "8e30ac77",
   "metadata": {},
   "source": [
    "## Example 2. Set operations"
   ]
  },
  {
   "cell_type": "code",
   "execution_count": 12,
   "id": "aca6730d",
   "metadata": {},
   "outputs": [],
   "source": [
    "x = np.array([1, 2, 3, 4, 5])"
   ]
  },
  {
   "cell_type": "code",
   "execution_count": 13,
   "id": "66c80de8",
   "metadata": {},
   "outputs": [],
   "source": [
    "y = np.array([6, 7, 8, 4, 2])"
   ]
  },
  {
   "cell_type": "code",
   "execution_count": 14,
   "id": "77fa6580",
   "metadata": {},
   "outputs": [
    {
     "name": "stdout",
     "output_type": "stream",
     "text": [
      "[2 4]\n"
     ]
    }
   ],
   "source": [
    "print(np.intersect1d(x,y))"
   ]
  },
  {
   "cell_type": "code",
   "execution_count": 15,
   "id": "e166f1c7",
   "metadata": {},
   "outputs": [
    {
     "name": "stdout",
     "output_type": "stream",
     "text": [
      "[1 2 3 4 5 6 7 8]\n"
     ]
    }
   ],
   "source": [
    "print(np.union1d(x,y))"
   ]
  },
  {
   "cell_type": "code",
   "execution_count": 16,
   "id": "3ba068b2",
   "metadata": {},
   "outputs": [
    {
     "name": "stdout",
     "output_type": "stream",
     "text": [
      "[1 3 5]\n"
     ]
    }
   ],
   "source": [
    "print(np.setdiff1d(x,y))"
   ]
  },
  {
   "cell_type": "markdown",
   "id": "b1e55f6b",
   "metadata": {},
   "source": [
    "## numpy.ndarray.sort method\n",
    "Syntax: ndarray.sort(axis=1, kind=none, order=None)"
   ]
  },
  {
   "cell_type": "markdown",
   "id": "6826e061",
   "metadata": {},
   "source": [
    "## Example 3. Sort arrays using sort() function"
   ]
  },
  {
   "cell_type": "code",
   "execution_count": 17,
   "id": "86aa609a",
   "metadata": {},
   "outputs": [],
   "source": [
    "x = np.random.randint(1, 11, size=(10,))"
   ]
  },
  {
   "cell_type": "code",
   "execution_count": 18,
   "id": "ca144ddf",
   "metadata": {},
   "outputs": [
    {
     "data": {
      "text/plain": [
       "array([6, 4, 1, 7, 5, 6, 2, 1, 7, 1])"
      ]
     },
     "execution_count": 18,
     "metadata": {},
     "output_type": "execute_result"
    }
   ],
   "source": [
    "x"
   ]
  },
  {
   "cell_type": "code",
   "execution_count": 19,
   "id": "c613e5d9",
   "metadata": {},
   "outputs": [
    {
     "data": {
      "text/plain": [
       "array([1, 1, 1, 2, 4, 5, 6, 6, 7, 7])"
      ]
     },
     "execution_count": 19,
     "metadata": {},
     "output_type": "execute_result"
    }
   ],
   "source": [
    "np.sort(x)"
   ]
  },
  {
   "cell_type": "code",
   "execution_count": 21,
   "id": "2f455dcb",
   "metadata": {},
   "outputs": [
    {
     "data": {
      "text/plain": [
       "array([1, 2, 4, 5, 6, 7])"
      ]
     },
     "execution_count": 21,
     "metadata": {},
     "output_type": "execute_result"
    }
   ],
   "source": [
    "np.unique(x) # unique function --> sort value and find unique value"
   ]
  },
  {
   "cell_type": "markdown",
   "id": "1be80124",
   "metadata": {},
   "source": [
    "## Example 4. Sort rank-2 arrays by specific axis"
   ]
  },
  {
   "cell_type": "code",
   "execution_count": 22,
   "id": "8f35f3dc",
   "metadata": {},
   "outputs": [],
   "source": [
    "x = np.random.randint(1,11, size=(5,5))"
   ]
  },
  {
   "cell_type": "code",
   "execution_count": 23,
   "id": "a85d3687",
   "metadata": {},
   "outputs": [
    {
     "data": {
      "text/plain": [
       "array([[ 6,  7,  5,  5, 10],\n",
       "       [ 4,  3,  9,  8,  3],\n",
       "       [ 7,  6,  9,  9,  6],\n",
       "       [ 4,  5,  3,  5,  4],\n",
       "       [ 2, 10,  7,  4,  1]])"
      ]
     },
     "execution_count": 23,
     "metadata": {},
     "output_type": "execute_result"
    }
   ],
   "source": [
    "x"
   ]
  },
  {
   "cell_type": "code",
   "execution_count": 24,
   "id": "65628aab",
   "metadata": {},
   "outputs": [
    {
     "data": {
      "text/plain": [
       "array([[ 5,  5,  6,  7, 10],\n",
       "       [ 3,  3,  4,  8,  9],\n",
       "       [ 6,  6,  7,  9,  9],\n",
       "       [ 3,  4,  4,  5,  5],\n",
       "       [ 1,  2,  4,  7, 10]])"
      ]
     },
     "execution_count": 24,
     "metadata": {},
     "output_type": "execute_result"
    }
   ],
   "source": [
    "np.sort(x, axis=1)"
   ]
  },
  {
   "cell_type": "code",
   "execution_count": 25,
   "id": "0a25b0b6",
   "metadata": {},
   "outputs": [
    {
     "data": {
      "text/plain": [
       "array([[ 2,  3,  3,  4,  1],\n",
       "       [ 4,  5,  5,  5,  3],\n",
       "       [ 4,  6,  7,  5,  4],\n",
       "       [ 6,  7,  9,  8,  6],\n",
       "       [ 7, 10,  9,  9, 10]])"
      ]
     },
     "execution_count": 25,
     "metadata": {},
     "output_type": "execute_result"
    }
   ],
   "source": [
    "np.sort(x, axis=0)"
   ]
  },
  {
   "cell_type": "code",
   "execution_count": null,
   "id": "e485b0fb",
   "metadata": {},
   "outputs": [],
   "source": []
  }
 ],
 "metadata": {
  "kernelspec": {
   "display_name": "Python 3 (ipykernel)",
   "language": "python",
   "name": "python3"
  },
  "language_info": {
   "codemirror_mode": {
    "name": "ipython",
    "version": 3
   },
   "file_extension": ".py",
   "mimetype": "text/x-python",
   "name": "python",
   "nbconvert_exporter": "python",
   "pygments_lexer": "ipython3",
   "version": "3.11.5"
  }
 },
 "nbformat": 4,
 "nbformat_minor": 5
}
