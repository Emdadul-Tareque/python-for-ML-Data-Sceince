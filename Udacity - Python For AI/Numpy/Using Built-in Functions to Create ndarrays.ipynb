{
 "cells": [
  {
   "cell_type": "markdown",
   "id": "045e8ef2",
   "metadata": {},
   "source": [
    "## Example 1. Create a Numpy array of zeros with a desired shap"
   ]
  },
  {
   "cell_type": "code",
   "execution_count": 1,
   "id": "be989ff0",
   "metadata": {},
   "outputs": [],
   "source": [
    "import numpy as np"
   ]
  },
  {
   "cell_type": "code",
   "execution_count": 2,
   "id": "6474a84c",
   "metadata": {},
   "outputs": [],
   "source": [
    "np_array_zeroes = np.zeros((3,4)) # 3 rows, 4 columns"
   ]
  },
  {
   "cell_type": "code",
   "execution_count": 3,
   "id": "ea575c0b",
   "metadata": {},
   "outputs": [
    {
     "data": {
      "text/plain": [
       "array([[0., 0., 0., 0.],\n",
       "       [0., 0., 0., 0.],\n",
       "       [0., 0., 0., 0.]])"
      ]
     },
     "execution_count": 3,
     "metadata": {},
     "output_type": "execute_result"
    }
   ],
   "source": [
    "np_array_zeroes"
   ]
  },
  {
   "cell_type": "code",
   "execution_count": 4,
   "id": "ea34d39b",
   "metadata": {},
   "outputs": [
    {
     "data": {
      "text/plain": [
       "dtype('float64')"
      ]
     },
     "execution_count": 4,
     "metadata": {},
     "output_type": "execute_result"
    }
   ],
   "source": [
    "np_array_zeroes.dtype"
   ]
  },
  {
   "cell_type": "markdown",
   "id": "6792267a",
   "metadata": {},
   "source": [
    "## Example 2. Create a Numpy array of ones"
   ]
  },
  {
   "cell_type": "code",
   "execution_count": 5,
   "id": "694bf1b3",
   "metadata": {},
   "outputs": [],
   "source": [
    "np_array_ones = np.ones((3, 2))"
   ]
  },
  {
   "cell_type": "code",
   "execution_count": 6,
   "id": "bfa0cc6d",
   "metadata": {},
   "outputs": [
    {
     "data": {
      "text/plain": [
       "array([[1., 1.],\n",
       "       [1., 1.],\n",
       "       [1., 1.]])"
      ]
     },
     "execution_count": 6,
     "metadata": {},
     "output_type": "execute_result"
    }
   ],
   "source": [
    "np_array_ones"
   ]
  },
  {
   "cell_type": "markdown",
   "id": "ad53f376",
   "metadata": {},
   "source": [
    "## Example 3. Create a Numpy array of constants\n"
   ]
  },
  {
   "cell_type": "code",
   "execution_count": 7,
   "id": "51930cc6",
   "metadata": {},
   "outputs": [],
   "source": [
    "np_array_constants = np.full((2,3), 5)"
   ]
  },
  {
   "cell_type": "code",
   "execution_count": 8,
   "id": "3001e380",
   "metadata": {},
   "outputs": [
    {
     "data": {
      "text/plain": [
       "array([[5, 5, 5],\n",
       "       [5, 5, 5]])"
      ]
     },
     "execution_count": 8,
     "metadata": {},
     "output_type": "execute_result"
    }
   ],
   "source": [
    "np_array_constants"
   ]
  },
  {
   "cell_type": "markdown",
   "id": "afb816f4",
   "metadata": {},
   "source": [
    "## Example 4 a. Create a Numpy array of an Identity matrix"
   ]
  },
  {
   "cell_type": "markdown",
   "id": "befcb598",
   "metadata": {},
   "source": [
    "A fundamental array in Linear Algebra is the Identity Matrix. An Identity matrix is a square matrix that has only 1s in its main diagonal and zeros everywhere else. The function np.eye(N) creates a square N x N ndarray corresponding to the Identity matrix. Since all Identity Matrices are square, the np.eye() function only takes a single integer as an argument. Let's see an example:"
   ]
  },
  {
   "cell_type": "code",
   "execution_count": 9,
   "id": "6c0098c0",
   "metadata": {},
   "outputs": [],
   "source": [
    "np_array_identity_matrix = np.eye(5)"
   ]
  },
  {
   "cell_type": "code",
   "execution_count": 10,
   "id": "f4324b6f",
   "metadata": {},
   "outputs": [
    {
     "data": {
      "text/plain": [
       "array([[1., 0., 0., 0., 0.],\n",
       "       [0., 1., 0., 0., 0.],\n",
       "       [0., 0., 1., 0., 0.],\n",
       "       [0., 0., 0., 1., 0.],\n",
       "       [0., 0., 0., 0., 1.]])"
      ]
     },
     "execution_count": 10,
     "metadata": {},
     "output_type": "execute_result"
    }
   ],
   "source": [
    "np_array_identity_matrix"
   ]
  },
  {
   "cell_type": "code",
   "execution_count": 11,
   "id": "207eebfb",
   "metadata": {},
   "outputs": [],
   "source": [
    "np_array_diogonal_matrix = np.diag([10, 20, 30, 50])"
   ]
  },
  {
   "cell_type": "code",
   "execution_count": 12,
   "id": "748776a0",
   "metadata": {},
   "outputs": [
    {
     "data": {
      "text/plain": [
       "array([[10,  0,  0,  0],\n",
       "       [ 0, 20,  0,  0],\n",
       "       [ 0,  0, 30,  0],\n",
       "       [ 0,  0,  0, 50]])"
      ]
     },
     "execution_count": 12,
     "metadata": {},
     "output_type": "execute_result"
    }
   ],
   "source": [
    "np_array_diogonal_matrix"
   ]
  },
  {
   "cell_type": "markdown",
   "id": "7d013b28",
   "metadata": {},
   "source": [
    "## numpy.arange\n",
    "syntex: numpy.arange([start, ]stop, [step, ]dtype=None)"
   ]
  },
  {
   "cell_type": "markdown",
   "id": "dd2e090c",
   "metadata": {},
   "source": [
    "arange can be called with a varying number of positional arguments:\n",
    "\n",
    "arange(stop): Values are generated within the half-open interval [0, stop) (in other words, the interval including start but excluding stop).\n",
    "\n",
    "arange(start, stop): Values are generated within the half-open interval [start, stop).\n",
    "\n",
    "arange(start, stop, step) Values are generated within the half-open interval [start, stop), with spacing between values given by step"
   ]
  },
  {
   "cell_type": "markdown",
   "id": "11402050",
   "metadata": {},
   "source": [
    "Parameters:\n",
    "startinteger or real, optional\n",
    "Start of interval. The interval includes this value. The default start value is 0.\n",
    "\n",
    "stopinteger or real\n",
    "End of interval. The interval does not include this value, except in some cases where step is not an integer and floating point round-off affects the length of out.\n",
    "\n",
    "stepinteger or real, optional\n",
    "Spacing between values. For any output out, this is the distance between two adjacent values, out[i+1] - out[i]. The default step size is 1. If step is specified as a position argument, start must also be given.\n",
    "\n",
    "dtypedtype, optional\n",
    "The type of the output array. If dtype is not given, infer the data type from the other input arguments.\n",
    "\n",
    "likearray_like, optional\n",
    "Reference object to allow the creation of arrays which are not NumPy arrays. If an array-like passed in as like supports the __array_function__ protocol, the result will be defined by it. In this case, it ensures the creation of an array object compatible with that passed in via this argument.\n",
    "\n",
    "New in version 1.20.0.\n",
    "\n",
    "Returns:\n",
    "arangendarray\n",
    "Array of evenly spaced values.\n",
    "\n",
    "For floating point arguments, the length of the result is ceil((stop - start)/step). Because of floating point overflow, this rule may result in the last element of out being greater than stop."
   ]
  },
  {
   "cell_type": "code",
   "execution_count": 13,
   "id": "6c18f595",
   "metadata": {},
   "outputs": [],
   "source": [
    "x = np.arange(10)"
   ]
  },
  {
   "cell_type": "code",
   "execution_count": 14,
   "id": "e7d4616d",
   "metadata": {},
   "outputs": [
    {
     "data": {
      "text/plain": [
       "array([0, 1, 2, 3, 4, 5, 6, 7, 8, 9])"
      ]
     },
     "execution_count": 14,
     "metadata": {},
     "output_type": "execute_result"
    }
   ],
   "source": [
    "x"
   ]
  },
  {
   "cell_type": "code",
   "execution_count": 19,
   "id": "890ce412",
   "metadata": {},
   "outputs": [],
   "source": [
    "x = np.arange(4, 10) # arrange(star_value, stop_value)"
   ]
  },
  {
   "cell_type": "code",
   "execution_count": 20,
   "id": "34e8628b",
   "metadata": {},
   "outputs": [
    {
     "data": {
      "text/plain": [
       "array([4, 5, 6, 7, 8, 9])"
      ]
     },
     "execution_count": 20,
     "metadata": {},
     "output_type": "execute_result"
    }
   ],
   "source": [
    "x"
   ]
  },
  {
   "cell_type": "code",
   "execution_count": 23,
   "id": "d26a791a",
   "metadata": {},
   "outputs": [],
   "source": [
    "x = np.arange(1, 10, 2)# arrange(star_value, stop_value, step_size)"
   ]
  },
  {
   "cell_type": "code",
   "execution_count": 24,
   "id": "7af0fe91",
   "metadata": {},
   "outputs": [
    {
     "data": {
      "text/plain": [
       "array([1, 3, 5, 7, 9])"
      ]
     },
     "execution_count": 24,
     "metadata": {},
     "output_type": "execute_result"
    }
   ],
   "source": [
    "x"
   ]
  },
  {
   "cell_type": "code",
   "execution_count": 27,
   "id": "2d1129f8",
   "metadata": {},
   "outputs": [],
   "source": [
    "x = np.arange(1, 10, .3) #arange allows non-integer setps"
   ]
  },
  {
   "cell_type": "code",
   "execution_count": 32,
   "id": "ed2b036b",
   "metadata": {},
   "outputs": [
    {
     "data": {
      "text/plain": [
       "array([ 0. ,  2.5,  5. ,  7.5, 10. ])"
      ]
     },
     "execution_count": 32,
     "metadata": {},
     "output_type": "execute_result"
    }
   ],
   "source": [
    "x"
   ]
  },
  {
   "cell_type": "markdown",
   "id": "4887f7da",
   "metadata": {},
   "source": [
    "## numpy.linspace\n",
    "Syntax: \n",
    "numpy.linspace(start, stop, num=50, endpoint=True, retstep=False, dtype=None, axis=0)\n"
   ]
  },
  {
   "cell_type": "code",
   "execution_count": 28,
   "id": "9ea32596",
   "metadata": {},
   "outputs": [],
   "source": [
    "x = np.linspace(0, 10, 3) #linspace(start, stop, num_of_element)"
   ]
  },
  {
   "cell_type": "code",
   "execution_count": 29,
   "id": "98c52227",
   "metadata": {},
   "outputs": [
    {
     "data": {
      "text/plain": [
       "array([ 0.,  5., 10.])"
      ]
     },
     "execution_count": 29,
     "metadata": {},
     "output_type": "execute_result"
    }
   ],
   "source": [
    "x"
   ]
  },
  {
   "cell_type": "code",
   "execution_count": 30,
   "id": "e1f15d0f",
   "metadata": {},
   "outputs": [],
   "source": [
    "x = np.linspace(0, 10, 5)"
   ]
  },
  {
   "cell_type": "code",
   "execution_count": 31,
   "id": "41cd8b50",
   "metadata": {},
   "outputs": [
    {
     "data": {
      "text/plain": [
       "array([ 0. ,  2.5,  5. ,  7.5, 10. ])"
      ]
     },
     "execution_count": 31,
     "metadata": {},
     "output_type": "execute_result"
    }
   ],
   "source": [
    "x"
   ]
  },
  {
   "cell_type": "markdown",
   "id": "30a19068",
   "metadata": {},
   "source": [
    "## Create a Numpy array using linspace(start, stop, n), with stop excluded"
   ]
  },
  {
   "cell_type": "code",
   "execution_count": 35,
   "id": "cf76615e",
   "metadata": {},
   "outputs": [],
   "source": [
    "x = np.linspace(0, 10, 3, endpoint=False)"
   ]
  },
  {
   "cell_type": "code",
   "execution_count": 36,
   "id": "e68302e0",
   "metadata": {},
   "outputs": [
    {
     "data": {
      "text/plain": [
       "array([0.        , 3.33333333, 6.66666667])"
      ]
     },
     "execution_count": 36,
     "metadata": {},
     "output_type": "execute_result"
    }
   ],
   "source": [
    "x"
   ]
  },
  {
   "cell_type": "markdown",
   "id": "b32a5464",
   "metadata": {},
   "source": [
    "## numpy.reshape\n",
    "Syntax: numpy.reshape(array, newshape, order='C')[source]"
   ]
  },
  {
   "cell_type": "code",
   "execution_count": 37,
   "id": "61b41592",
   "metadata": {},
   "outputs": [],
   "source": [
    "x = np.arange(20)"
   ]
  },
  {
   "cell_type": "code",
   "execution_count": 38,
   "id": "12876971",
   "metadata": {},
   "outputs": [
    {
     "data": {
      "text/plain": [
       "array([ 0,  1,  2,  3,  4,  5,  6,  7,  8,  9, 10, 11, 12, 13, 14, 15, 16,\n",
       "       17, 18, 19])"
      ]
     },
     "execution_count": 38,
     "metadata": {},
     "output_type": "execute_result"
    }
   ],
   "source": [
    "x"
   ]
  },
  {
   "cell_type": "code",
   "execution_count": 39,
   "id": "be2e3155",
   "metadata": {},
   "outputs": [],
   "source": [
    "x = np.reshape(x,(4,5))"
   ]
  },
  {
   "cell_type": "code",
   "execution_count": 40,
   "id": "1efe186f",
   "metadata": {},
   "outputs": [
    {
     "data": {
      "text/plain": [
       "array([[ 0,  1,  2,  3,  4],\n",
       "       [ 5,  6,  7,  8,  9],\n",
       "       [10, 11, 12, 13, 14],\n",
       "       [15, 16, 17, 18, 19]])"
      ]
     },
     "execution_count": 40,
     "metadata": {},
     "output_type": "execute_result"
    }
   ],
   "source": [
    "x"
   ]
  },
  {
   "cell_type": "markdown",
   "id": "e7e485c7",
   "metadata": {},
   "source": [
    "## Example:  Create a Numpy array by calling the reshape() function from the output of arange() function."
   ]
  },
  {
   "cell_type": "code",
   "execution_count": 41,
   "id": "1f521444",
   "metadata": {},
   "outputs": [],
   "source": [
    "y = np.arange(20).reshape(4, 5)"
   ]
  },
  {
   "cell_type": "code",
   "execution_count": 42,
   "id": "ff56a243",
   "metadata": {},
   "outputs": [
    {
     "data": {
      "text/plain": [
       "array([[ 0,  1,  2,  3,  4],\n",
       "       [ 5,  6,  7,  8,  9],\n",
       "       [10, 11, 12, 13, 14],\n",
       "       [15, 16, 17, 18, 19]])"
      ]
     },
     "execution_count": 42,
     "metadata": {},
     "output_type": "execute_result"
    }
   ],
   "source": [
    "y"
   ]
  },
  {
   "cell_type": "markdown",
   "id": "817b8152",
   "metadata": {},
   "source": [
    "## Example: Create a rank 2 Numpy array by using the reshape() function"
   ]
  },
  {
   "cell_type": "code",
   "execution_count": 47,
   "id": "858b284d",
   "metadata": {},
   "outputs": [],
   "source": [
    "x = np.linspace(0, 50, 10).reshape(5,2)"
   ]
  },
  {
   "cell_type": "code",
   "execution_count": 48,
   "id": "283a50ba",
   "metadata": {},
   "outputs": [
    {
     "data": {
      "text/plain": [
       "array([[ 0.        ,  5.55555556],\n",
       "       [11.11111111, 16.66666667],\n",
       "       [22.22222222, 27.77777778],\n",
       "       [33.33333333, 38.88888889],\n",
       "       [44.44444444, 50.        ]])"
      ]
     },
     "execution_count": 48,
     "metadata": {},
     "output_type": "execute_result"
    }
   ],
   "source": [
    "x"
   ]
  },
  {
   "cell_type": "markdown",
   "id": "e9204b64",
   "metadata": {},
   "source": [
    "## Example: Create a Numpy array using the numpy.random.random() function."
   ]
  },
  {
   "cell_type": "code",
   "execution_count": 49,
   "id": "e8c36ee6",
   "metadata": {},
   "outputs": [],
   "source": [
    "x = np.random.random((3,3))"
   ]
  },
  {
   "cell_type": "code",
   "execution_count": 50,
   "id": "fa32edba",
   "metadata": {},
   "outputs": [
    {
     "data": {
      "text/plain": [
       "array([[0.29655507, 0.44052953, 0.07525951],\n",
       "       [0.63691629, 0.72420635, 0.12041126],\n",
       "       [0.97018721, 0.46044724, 0.30605859]])"
      ]
     },
     "execution_count": 50,
     "metadata": {},
     "output_type": "execute_result"
    }
   ],
   "source": [
    "x"
   ]
  },
  {
   "cell_type": "code",
   "execution_count": 57,
   "id": "0cd4aa16",
   "metadata": {},
   "outputs": [],
   "source": [
    "x = np.random.randint(4, 15, size=(3,2))"
   ]
  },
  {
   "cell_type": "code",
   "execution_count": 58,
   "id": "a64f4992",
   "metadata": {},
   "outputs": [
    {
     "data": {
      "text/plain": [
       "array([[ 7, 13],\n",
       "       [ 4,  8],\n",
       "       [11,  7]])"
      ]
     },
     "execution_count": 58,
     "metadata": {},
     "output_type": "execute_result"
    }
   ],
   "source": [
    "x"
   ]
  },
  {
   "cell_type": "code",
   "execution_count": 61,
   "id": "38c0a06d",
   "metadata": {},
   "outputs": [],
   "source": [
    "x = np.random.randint((3,3))"
   ]
  },
  {
   "cell_type": "code",
   "execution_count": 62,
   "id": "5728e73b",
   "metadata": {},
   "outputs": [
    {
     "data": {
      "text/plain": [
       "array([2, 2])"
      ]
     },
     "execution_count": 62,
     "metadata": {},
     "output_type": "execute_result"
    }
   ],
   "source": [
    "x"
   ]
  },
  {
   "cell_type": "code",
   "execution_count": 63,
   "id": "2fdb4c95",
   "metadata": {},
   "outputs": [],
   "source": [
    "x = np.random.normal(0, 0.1, size=(100, 100))"
   ]
  },
  {
   "cell_type": "code",
   "execution_count": 64,
   "id": "05954668",
   "metadata": {},
   "outputs": [
    {
     "data": {
      "text/plain": [
       "array([[ 0.0152183 ,  0.03505633,  0.01726908, ...,  0.12044952,\n",
       "        -0.05706345, -0.0504596 ],\n",
       "       [ 0.17388105,  0.03160736,  0.098841  , ..., -0.09475795,\n",
       "         0.09194676, -0.15503237],\n",
       "       [ 0.06329106, -0.05503617, -0.07196791, ..., -0.0749469 ,\n",
       "         0.11051454,  0.05561515],\n",
       "       ...,\n",
       "       [ 0.06208735, -0.19001879, -0.13383689, ...,  0.07411026,\n",
       "         0.04963319,  0.00064415],\n",
       "       [-0.01724813,  0.01123659, -0.12088325, ..., -0.01191609,\n",
       "        -0.04649114, -0.06430693],\n",
       "       [-0.05618823,  0.08600494, -0.04914988, ..., -0.03279098,\n",
       "         0.00807421, -0.18430585]])"
      ]
     },
     "execution_count": 64,
     "metadata": {},
     "output_type": "execute_result"
    }
   ],
   "source": [
    "x"
   ]
  },
  {
   "cell_type": "code",
   "execution_count": null,
   "id": "9345a918",
   "metadata": {},
   "outputs": [],
   "source": []
  }
 ],
 "metadata": {
  "kernelspec": {
   "display_name": "Python 3 (ipykernel)",
   "language": "python",
   "name": "python3"
  },
  "language_info": {
   "codemirror_mode": {
    "name": "ipython",
    "version": 3
   },
   "file_extension": ".py",
   "mimetype": "text/x-python",
   "name": "python",
   "nbconvert_exporter": "python",
   "pygments_lexer": "ipython3",
   "version": "3.11.5"
  }
 },
 "nbformat": 4,
 "nbformat_minor": 5
}
