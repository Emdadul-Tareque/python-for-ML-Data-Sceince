{
 "cells": [
  {
   "cell_type": "code",
   "execution_count": 53,
   "metadata": {},
   "outputs": [],
   "source": [
    "class Bank:\n",
    "    def __init__(self, balance):\n",
    "        self.balance = balance\n",
    "        self.minimum_withdraw = 100\n",
    "        self.maximum_withdraw = 10000\n",
    "        \n",
    "    def get_balance(self):\n",
    "        return self.balance \n",
    "    \n",
    "    def deposit(self, amount):\n",
    "        if amount > 0:\n",
    "            self.balance += amount\n",
    "            print(f\"Successfully deposite {amount} Tk\")\n",
    "            print(f\"Now your banlance is: {self.balance}\")\n",
    "        else:\n",
    "            print(\"Deposite decline\")\n",
    "            \n",
    "    def withdraw(self, amount):\n",
    "        if self.balance < amount:\n",
    "            print(\"Insufficiant Balance\")\n",
    "        elif self.maximum_withdraw < amount:\n",
    "            print(f\"You can not withdraw more than {self.maximum_withdraw}\")\n",
    "        elif self.minimum_withdraw >= amount:\n",
    "            print(f\"You can not withdraw less than {self.minimum_withdraw}\")\n",
    "            \n",
    "        else:\n",
    "            self.balance -= amount\n",
    "            print(f\"Successfully withdraw {amount} Tk\")\n",
    "            print(f\"Now your banlance is: {self.balance}\")"
   ]
  },
  {
   "cell_type": "code",
   "execution_count": 54,
   "metadata": {},
   "outputs": [],
   "source": [
    "brac = Bank(10000)"
   ]
  },
  {
   "cell_type": "code",
   "execution_count": 55,
   "metadata": {},
   "outputs": [
    {
     "name": "stdout",
     "output_type": "stream",
     "text": [
      "Successfully deposite 200 Tk\n",
      "Now your banlance is: 10200\n"
     ]
    }
   ],
   "source": [
    "brac.deposit(200)"
   ]
  },
  {
   "cell_type": "code",
   "execution_count": 56,
   "metadata": {},
   "outputs": [
    {
     "name": "stdout",
     "output_type": "stream",
     "text": [
      "Deposite decline\n"
     ]
    }
   ],
   "source": [
    "brac.deposit(-20)"
   ]
  },
  {
   "cell_type": "code",
   "execution_count": 57,
   "metadata": {},
   "outputs": [
    {
     "name": "stdout",
     "output_type": "stream",
     "text": [
      "Successfully withdraw 200 Tk\n",
      "Now your banlance is: 10000\n"
     ]
    }
   ],
   "source": [
    "brac.withdraw(200)"
   ]
  },
  {
   "cell_type": "code",
   "execution_count": 58,
   "metadata": {},
   "outputs": [
    {
     "name": "stdout",
     "output_type": "stream",
     "text": [
      "Successfully withdraw 300 Tk\n",
      "Now your banlance is: 9700\n"
     ]
    }
   ],
   "source": [
    "brac.withdraw(300)"
   ]
  },
  {
   "cell_type": "code",
   "execution_count": 59,
   "metadata": {},
   "outputs": [
    {
     "name": "stdout",
     "output_type": "stream",
     "text": [
      "You can not withdraw less than 100\n"
     ]
    }
   ],
   "source": [
    "brac.withdraw(20)"
   ]
  }
 ],
 "metadata": {
  "kernelspec": {
   "display_name": "Python 3",
   "language": "python",
   "name": "python3"
  },
  "language_info": {
   "codemirror_mode": {
    "name": "ipython",
    "version": 3
   },
   "file_extension": ".py",
   "mimetype": "text/x-python",
   "name": "python",
   "nbconvert_exporter": "python",
   "pygments_lexer": "ipython3",
   "version": "3.7.3"
  }
 },
 "nbformat": 4,
 "nbformat_minor": 2
}
