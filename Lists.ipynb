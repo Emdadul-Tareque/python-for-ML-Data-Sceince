{
 "cells": [
  {
   "cell_type": "markdown",
   "id": "f91b4c69",
   "metadata": {},
   "source": [
    "## Creating lists"
   ]
  },
  {
   "cell_type": "markdown",
   "id": "bf0ee0c9",
   "metadata": {},
   "source": [
    "### creating list using constructor of the list class"
   ]
  },
  {
   "cell_type": "code",
   "execution_count": 1,
   "id": "aa696794",
   "metadata": {},
   "outputs": [
    {
     "data": {
      "text/plain": [
       "[]"
      ]
     },
     "execution_count": 1,
     "metadata": {},
     "output_type": "execute_result"
    }
   ],
   "source": [
    "#create an empty list\n",
    "l1 = list()\n",
    "l1"
   ]
  },
  {
   "cell_type": "code",
   "execution_count": 3,
   "id": "a12dd480",
   "metadata": {},
   "outputs": [
    {
     "data": {
      "text/plain": [
       "[10, 20, 30, 40]"
      ]
     },
     "execution_count": 3,
     "metadata": {},
     "output_type": "execute_result"
    }
   ],
   "source": [
    "#create a list with integer elements\n",
    "l2 = list([10, 20, 30, 40])\n",
    "l2"
   ]
  },
  {
   "cell_type": "code",
   "execution_count": 4,
   "id": "37f65744",
   "metadata": {},
   "outputs": [
    {
     "data": {
      "text/plain": [
       "['Banana', 'Apple', 'Grapes']"
      ]
     },
     "execution_count": 4,
     "metadata": {},
     "output_type": "execute_result"
    }
   ],
   "source": [
    "#create a list with string elements\n",
    "l3 = list([\"Banana\", \"Apple\", \"Grapes\"])\n",
    "l3"
   ]
  },
  {
   "cell_type": "code",
   "execution_count": 9,
   "id": "ea56c35c",
   "metadata": {},
   "outputs": [
    {
     "data": {
      "text/plain": [
       "[1, 2, 3, 4, 5, 6, 7, 8, 9, 10]"
      ]
     },
     "execution_count": 9,
     "metadata": {},
     "output_type": "execute_result"
    }
   ],
   "source": [
    "#create a list with inbuilt range() function\n",
    "l4 = list(range(1, 11))\n",
    "l4"
   ]
  },
  {
   "cell_type": "code",
   "execution_count": 10,
   "id": "e3847f40",
   "metadata": {},
   "outputs": [
    {
     "data": {
      "text/plain": [
       "['x', 'y', 'z']"
      ]
     },
     "execution_count": 10,
     "metadata": {},
     "output_type": "execute_result"
    }
   ],
   "source": [
    "l5 = list(\"xyz\")\n",
    "l5"
   ]
  },
  {
   "cell_type": "markdown",
   "id": "7fb3973e",
   "metadata": {},
   "source": [
    "### Creat a list with out using constructor"
   ]
  },
  {
   "cell_type": "code",
   "execution_count": 11,
   "id": "898aa65e",
   "metadata": {},
   "outputs": [
    {
     "data": {
      "text/plain": [
       "[10, 20, 30, 40, 50]"
      ]
     },
     "execution_count": 11,
     "metadata": {},
     "output_type": "execute_result"
    }
   ],
   "source": [
    "#create a list with any integer elements\n",
    "\n",
    "l1 = [10, 20, 30, 40, 50]\n",
    "l1"
   ]
  },
  {
   "cell_type": "code",
   "execution_count": 12,
   "id": "6a0cd933",
   "metadata": {},
   "outputs": [
    {
     "data": {
      "text/plain": [
       "['Apple', 'Banana', 'Mangoes']"
      ]
     },
     "execution_count": 12,
     "metadata": {},
     "output_type": "execute_result"
    }
   ],
   "source": [
    "#create a list with three string elements\n",
    "l2 = [\"Apple\", \"Banana\", \"Mangoes\"]\n",
    "l2"
   ]
  },
  {
   "cell_type": "code",
   "execution_count": 13,
   "id": "e8d4dcf7",
   "metadata": {},
   "outputs": [
    {
     "data": {
      "text/plain": [
       "['Apple', 'Banana', 'Mangoes', 10, 20, 30, 40, 3.58, ['Emdadul', 'Tareque']]"
      ]
     },
     "execution_count": 13,
     "metadata": {},
     "output_type": "execute_result"
    }
   ],
   "source": [
    "#create a list with different kinds of data types\n",
    "\n",
    "l3 = [\"Apple\", \"Banana\", \"Mangoes\", 10, 20, 30, 40, 3.58, [\"Emdadul\", \"Tareque\"]]\n",
    "l3"
   ]
  },
  {
   "cell_type": "markdown",
   "id": "c9d4660f",
   "metadata": {},
   "source": [
    "## Accessing the elements of a list "
   ]
  },
  {
   "cell_type": "code",
   "execution_count": 14,
   "id": "2d743862",
   "metadata": {},
   "outputs": [],
   "source": [
    "l1 = [10, 20 , 30, 40, 50]"
   ]
  },
  {
   "cell_type": "code",
   "execution_count": 16,
   "id": "dfb37f9a",
   "metadata": {},
   "outputs": [
    {
     "data": {
      "text/plain": [
       "10"
      ]
     },
     "execution_count": 16,
     "metadata": {},
     "output_type": "execute_result"
    }
   ],
   "source": [
    "l1[0]"
   ]
  },
  {
   "cell_type": "code",
   "execution_count": 17,
   "id": "f93423dd",
   "metadata": {},
   "outputs": [
    {
     "data": {
      "text/plain": [
       "40"
      ]
     },
     "execution_count": 17,
     "metadata": {},
     "output_type": "execute_result"
    }
   ],
   "source": [
    "l1[3]"
   ]
  },
  {
   "cell_type": "code",
   "execution_count": 23,
   "id": "8ccb14ba",
   "metadata": {},
   "outputs": [
    {
     "name": "stdout",
     "output_type": "stream",
     "text": [
      "[10, 20, 30, 40, 50]\n",
      "50 40 30\n"
     ]
    }
   ],
   "source": [
    "# Access element of a list using negative indexing\n",
    "\n",
    "print(l1)\n",
    "print(l1[-1], l1[-2], l1[-3])"
   ]
  },
  {
   "cell_type": "code",
   "execution_count": 24,
   "id": "ae2965e1",
   "metadata": {},
   "outputs": [
    {
     "name": "stdout",
     "output_type": "stream",
     "text": [
      "1 2 3 4 5 6 7 8 "
     ]
    }
   ],
   "source": [
    "# Access elemnt of list using loop\n",
    "\n",
    "lst = [1, 2, 3, 4, 5, 6, 7, 8]\n",
    "\n",
    "for item in lst:\n",
    "    print(item, end=\" \")"
   ]
  },
  {
   "cell_type": "markdown",
   "id": "e1db15dc",
   "metadata": {},
   "source": [
    "#### Problem 01: Find even number from a list"
   ]
  },
  {
   "cell_type": "code",
   "execution_count": 27,
   "id": "3fb458de",
   "metadata": {},
   "outputs": [
    {
     "name": "stdout",
     "output_type": "stream",
     "text": [
      "Given list:  [1, 2, 3, 4, 5, 6, 7, 8]\n",
      "Even numbers: 2 4 6 8 "
     ]
    }
   ],
   "source": [
    "lst = [1, 2, 3, 4, 5, 6, 7, 8]\n",
    "print(\"Given list: \", lst)\n",
    "print(\"Even numbers:\", end=\" \")\n",
    "for item in lst:\n",
    "    if item % 2 == 0:\n",
    "        print(item, end=\" \")"
   ]
  },
  {
   "cell_type": "markdown",
   "id": "82451c07",
   "metadata": {},
   "source": [
    "## List Slicing"
   ]
  },
  {
   "cell_type": "code",
   "execution_count": 28,
   "id": "b0cfd9c9",
   "metadata": {},
   "outputs": [
    {
     "data": {
      "text/plain": [
       "[20, 30, 40]"
      ]
     },
     "execution_count": 28,
     "metadata": {},
     "output_type": "execute_result"
    }
   ],
   "source": [
    "l1 = [10, 20, 30, 40, 50]\n",
    "l1[1: 4]"
   ]
  },
  {
   "cell_type": "code",
   "execution_count": 29,
   "id": "14935692",
   "metadata": {},
   "outputs": [
    {
     "data": {
      "text/plain": [
       "[20, 40]"
      ]
     },
     "execution_count": 29,
     "metadata": {},
     "output_type": "execute_result"
    }
   ],
   "source": [
    "l1[1::2]"
   ]
  },
  {
   "cell_type": "code",
   "execution_count": 30,
   "id": "b54a92b0",
   "metadata": {},
   "outputs": [
    {
     "data": {
      "text/plain": [
       "[50, 40, 30, 20, 10]"
      ]
     },
     "execution_count": 30,
     "metadata": {},
     "output_type": "execute_result"
    }
   ],
   "source": [
    "# reverse printing \n",
    "l1[::-1]"
   ]
  },
  {
   "cell_type": "code",
   "execution_count": 31,
   "id": "033be331",
   "metadata": {},
   "outputs": [
    {
     "data": {
      "text/plain": [
       "[40, 30, 20, 10]"
      ]
     },
     "execution_count": 31,
     "metadata": {},
     "output_type": "execute_result"
    }
   ],
   "source": [
    "l1[-2::-1]"
   ]
  },
  {
   "cell_type": "markdown",
   "id": "1d03d812",
   "metadata": {},
   "source": [
    "## Python inbuild functions for lists"
   ]
  },
  {
   "cell_type": "raw",
   "id": "515a603d",
   "metadata": {},
   "source": [
    "len() --> Returns the number of elements in a list\n",
    "max() --> Returns the elements with the greatest value\n",
    "min() --> Returns the elements with the lowest value\n",
    "sum() --> Returns the sum of all the elements\n",
    "random.shuffle() --> Shuffles the elements randomly"
   ]
  },
  {
   "cell_type": "code",
   "execution_count": 32,
   "id": "7af6f1e5",
   "metadata": {},
   "outputs": [
    {
     "data": {
      "text/plain": [
       "5"
      ]
     },
     "execution_count": 32,
     "metadata": {},
     "output_type": "execute_result"
    }
   ],
   "source": [
    "l1 = [10, 20, 30, 40, 50]\n",
    "len(l1)"
   ]
  },
  {
   "cell_type": "code",
   "execution_count": 33,
   "id": "1b2c658a",
   "metadata": {},
   "outputs": [
    {
     "data": {
      "text/plain": [
       "50"
      ]
     },
     "execution_count": 33,
     "metadata": {},
     "output_type": "execute_result"
    }
   ],
   "source": [
    "max(l1)"
   ]
  },
  {
   "cell_type": "code",
   "execution_count": 34,
   "id": "8429e36d",
   "metadata": {},
   "outputs": [
    {
     "data": {
      "text/plain": [
       "10"
      ]
     },
     "execution_count": 34,
     "metadata": {},
     "output_type": "execute_result"
    }
   ],
   "source": [
    "min(l1)"
   ]
  },
  {
   "cell_type": "code",
   "execution_count": 35,
   "id": "93978a0d",
   "metadata": {},
   "outputs": [
    {
     "data": {
      "text/plain": [
       "150"
      ]
     },
     "execution_count": 35,
     "metadata": {},
     "output_type": "execute_result"
    }
   ],
   "source": [
    "sum(l1)"
   ]
  },
  {
   "cell_type": "code",
   "execution_count": 38,
   "id": "645dcc03",
   "metadata": {},
   "outputs": [],
   "source": [
    "import random\n",
    "random.shuffle(l1)"
   ]
  },
  {
   "cell_type": "code",
   "execution_count": 39,
   "id": "4dd3eed5",
   "metadata": {},
   "outputs": [
    {
     "data": {
      "text/plain": [
       "[40, 30, 10, 20, 50]"
      ]
     },
     "execution_count": 39,
     "metadata": {},
     "output_type": "execute_result"
    }
   ],
   "source": [
    "l1"
   ]
  },
  {
   "cell_type": "markdown",
   "id": "1b669ac2",
   "metadata": {},
   "source": [
    "## The List Operator"
   ]
  },
  {
   "cell_type": "code",
   "execution_count": 40,
   "id": "25c070e2",
   "metadata": {},
   "outputs": [
    {
     "name": "stdout",
     "output_type": "stream",
     "text": [
      "[1, 2, 3, 4, 5, 6]\n"
     ]
    }
   ],
   "source": [
    "# the + operator: The concatenation operator is used to join two lists\n",
    "\n",
    "a = [1, 2, 3]\n",
    "b = [4, 5, 6]\n",
    "\n",
    "print(a+b)"
   ]
  },
  {
   "cell_type": "code",
   "execution_count": 43,
   "id": "677890da",
   "metadata": {},
   "outputs": [],
   "source": [
    "# the * operator: the multiplication operator is used to replicate the elements of a list\n",
    "\n",
    "list1 = [10, 20, 30]\n",
    "list2 = [20, 30, 40]"
   ]
  },
  {
   "cell_type": "code",
   "execution_count": 45,
   "id": "36b3903f",
   "metadata": {},
   "outputs": [
    {
     "data": {
      "text/plain": [
       "[20, 30, 40, 20, 30, 40]"
      ]
     },
     "execution_count": 45,
     "metadata": {},
     "output_type": "execute_result"
    }
   ],
   "source": [
    "list2*2"
   ]
  },
  {
   "cell_type": "code",
   "execution_count": 46,
   "id": "a22208e6",
   "metadata": {},
   "outputs": [
    {
     "data": {
      "text/plain": [
       "True"
      ]
     },
     "execution_count": 46,
     "metadata": {},
     "output_type": "execute_result"
    }
   ],
   "source": [
    "# The in operator: The in operator used to determine whether an element is in a list. it returns True if the elements is present and False return if the element is absent in the list.\n",
    "\n",
    "list1 = [10, 20 , 30]\n",
    "\n",
    "30 in list1"
   ]
  },
  {
   "cell_type": "code",
   "execution_count": 48,
   "id": "725e7818",
   "metadata": {},
   "outputs": [
    {
     "data": {
      "text/plain": [
       "False"
      ]
     },
     "execution_count": 48,
     "metadata": {},
     "output_type": "execute_result"
    }
   ],
   "source": [
    "40 in list1"
   ]
  },
  {
   "cell_type": "code",
   "execution_count": 49,
   "id": "ee4b617c",
   "metadata": {},
   "outputs": [
    {
     "data": {
      "text/plain": [
       "True"
      ]
     },
     "execution_count": 49,
     "metadata": {},
     "output_type": "execute_result"
    }
   ],
   "source": [
    "# The is operator: is operator used for checking is two variable indocate samne object or not \n",
    "\n",
    "A = \"Emdadul\"\n",
    "B = \"Emdadul\"\n",
    "\n",
    "A is B"
   ]
  },
  {
   "cell_type": "code",
   "execution_count": 50,
   "id": "2fdb8570",
   "metadata": {},
   "outputs": [
    {
     "data": {
      "text/plain": [
       "False"
      ]
     },
     "execution_count": 50,
     "metadata": {},
     "output_type": "execute_result"
    }
   ],
   "source": [
    "A = [10, 20 , 30]\n",
    "B = [10, 20, 30]\n",
    "\n",
    "A is B"
   ]
  },
  {
   "cell_type": "raw",
   "id": "a475e039",
   "metadata": {},
   "source": [
    "The del Operator: The del operator stands for Delete. The del operator is used to remove the elements from a list. To delete the element of a list, the elements of the list are accessed using their index position and the del operator is placed before them."
   ]
  },
  {
   "cell_type": "code",
   "execution_count": 51,
   "id": "ea41e4b2",
   "metadata": {},
   "outputs": [],
   "source": [
    "lst = [10, 20, 30, 40, 50]"
   ]
  },
  {
   "cell_type": "code",
   "execution_count": 52,
   "id": "c32f91a8",
   "metadata": {},
   "outputs": [],
   "source": [
    "del lst[3] #Remove 3rd element from the list"
   ]
  },
  {
   "cell_type": "code",
   "execution_count": 53,
   "id": "bfa2be8d",
   "metadata": {},
   "outputs": [
    {
     "data": {
      "text/plain": [
       "[10, 20, 30, 50]"
      ]
     },
     "execution_count": 53,
     "metadata": {},
     "output_type": "execute_result"
    }
   ],
   "source": [
    "lst"
   ]
  },
  {
   "cell_type": "code",
   "execution_count": 54,
   "id": "25d3fef3",
   "metadata": {},
   "outputs": [],
   "source": [
    "del lst[-1] # Remove lst element from the list"
   ]
  },
  {
   "cell_type": "code",
   "execution_count": 55,
   "id": "7d3b0371",
   "metadata": {},
   "outputs": [
    {
     "data": {
      "text/plain": [
       "[10, 20, 30]"
      ]
     },
     "execution_count": 55,
     "metadata": {},
     "output_type": "execute_result"
    }
   ],
   "source": [
    "lst"
   ]
  },
  {
   "cell_type": "code",
   "execution_count": 56,
   "id": "19dd7305",
   "metadata": {},
   "outputs": [],
   "source": [
    "del lst[1:3]"
   ]
  },
  {
   "cell_type": "code",
   "execution_count": 57,
   "id": "5ad671da",
   "metadata": {},
   "outputs": [
    {
     "data": {
      "text/plain": [
       "[10]"
      ]
     },
     "execution_count": 57,
     "metadata": {},
     "output_type": "execute_result"
    }
   ],
   "source": [
    "lst"
   ]
  },
  {
   "cell_type": "markdown",
   "id": "4d50f914",
   "metadata": {},
   "source": [
    "## List comprehensions"
   ]
  },
  {
   "cell_type": "code",
   "execution_count": 61,
   "id": "802cebd8",
   "metadata": {},
   "outputs": [],
   "source": [
    "#with out list comprehension\n",
    "lst = [10, 20, 30, 40, 50]\n",
    "\n",
    "for i in range(0, len(lst)):\n",
    "    lst[i] += 10"
   ]
  },
  {
   "cell_type": "code",
   "execution_count": 62,
   "id": "1370bf98",
   "metadata": {},
   "outputs": [
    {
     "data": {
      "text/plain": [
       "[20, 30, 40, 50, 60]"
      ]
     },
     "execution_count": 62,
     "metadata": {},
     "output_type": "execute_result"
    }
   ],
   "source": [
    "lst"
   ]
  },
  {
   "cell_type": "code",
   "execution_count": 63,
   "id": "401f464c",
   "metadata": {},
   "outputs": [],
   "source": [
    "#Using list comprehension\n",
    "\n",
    "lst = [10, 20, 30, 40, 50]\n",
    "\n",
    "lst = [x+10 for x in lst]"
   ]
  },
  {
   "cell_type": "code",
   "execution_count": 67,
   "id": "98b4b257",
   "metadata": {},
   "outputs": [
    {
     "data": {
      "text/plain": [
       "[1, 2, 3, 4, 5, 6]"
      ]
     },
     "execution_count": 67,
     "metadata": {},
     "output_type": "execute_result"
    }
   ],
   "source": [
    "lst"
   ]
  },
  {
   "cell_type": "markdown",
   "id": "c6395fe5",
   "metadata": {},
   "source": [
    "#### Problem 02: Write a program to create a list with lements 1,2,3,4,5. Display even elements of the list using list comprehension."
   ]
  },
  {
   "cell_type": "code",
   "execution_count": 72,
   "id": "6a27c939",
   "metadata": {},
   "outputs": [
    {
     "name": "stdout",
     "output_type": "stream",
     "text": [
      "Element of the list:  [1, 2, 3, 4, 5, 6]\n",
      "Even numbers from the list:  [2, 4, 6]\n"
     ]
    }
   ],
   "source": [
    "lst = [1, 2, 3, 4, 5, 6]\n",
    "print(\"Element of the list: \", lst)\n",
    "even = [x for x in lst if x%2 == 0]\n",
    "print(\"Even numbers from the list: \",even)"
   ]
  },
  {
   "cell_type": "markdown",
   "id": "26a79da6",
   "metadata": {},
   "source": [
    "#### Problem 03: Write a program to create a list ‘A’ to generate squares of a number (from 1 to 10), list ‘B’ to generate cubes of a number (from 1 to 10) and list ‘C’ with those elements that are even and present in list ‘A’."
   ]
  },
  {
   "cell_type": "code",
   "execution_count": 79,
   "id": "52d86338",
   "metadata": {},
   "outputs": [
    {
     "name": "stdout",
     "output_type": "stream",
     "text": [
      "list A:  [1, 4, 9, 16, 25, 36, 49, 64, 81, 100]\n",
      "list B:  [1, 8, 27, 64, 125, 216, 343, 512, 729, 1000]\n",
      "Even number for A:  [4, 16, 36, 64, 100]\n"
     ]
    }
   ],
   "source": [
    "lst = [1, 2, 3, 4, 5, 6, 7, 8, 9, 10]\n",
    "A = [x*x for x in lst]\n",
    "print(\"list A: \", A)\n",
    "B = [x*x*x for x in lst]\n",
    "print(\"list B: \", B)\n",
    "c = [x for x in A if x%2==0]\n",
    "print(\"Even number for A: \", c)"
   ]
  },
  {
   "cell_type": "markdown",
   "id": "ea3c9356",
   "metadata": {},
   "source": [
    "## List Methods"
   ]
  },
  {
   "cell_type": "markdown",
   "id": "38c36d57",
   "metadata": {},
   "source": [
    "append() --> Adds an element x to the end of the list. None is the return type of method appended"
   ]
  },
  {
   "cell_type": "code",
   "execution_count": 90,
   "id": "54e8318a",
   "metadata": {},
   "outputs": [],
   "source": [
    "lst = [1, 2, 3, 4]\n",
    "lst.append(5)"
   ]
  },
  {
   "cell_type": "code",
   "execution_count": 91,
   "id": "fecbdde8",
   "metadata": {},
   "outputs": [
    {
     "data": {
      "text/plain": [
       "[1, 2, 3, 4, 5]"
      ]
     },
     "execution_count": 91,
     "metadata": {},
     "output_type": "execute_result"
    }
   ],
   "source": [
    "lst"
   ]
  },
  {
   "cell_type": "markdown",
   "id": "b1d56a34",
   "metadata": {},
   "source": [
    "extend() --> Appends all the elements of list"
   ]
  },
  {
   "cell_type": "code",
   "execution_count": 92,
   "id": "dac1dff3",
   "metadata": {},
   "outputs": [],
   "source": [
    "lst.extend([6, 8, 9]) # যখন একটা লিস্টে শুধুমাত্র একটা ভ্যালু এড করতে হবে তখন append() মেথড ব্যবহার করতে হবে। আর যখন একটা লিস্ট এড করতে হবে তখন extend() মেথড ব্যবহার করতে হবে।"
   ]
  },
  {
   "cell_type": "code",
   "execution_count": 93,
   "id": "ee4d7f57",
   "metadata": {},
   "outputs": [
    {
     "data": {
      "text/plain": [
       "[1, 2, 3, 4, 5, 6, 8, 9]"
      ]
     },
     "execution_count": 93,
     "metadata": {},
     "output_type": "execute_result"
    }
   ],
   "source": [
    "lst"
   ]
  },
  {
   "cell_type": "markdown",
   "id": "34776f7b",
   "metadata": {},
   "source": [
    "clear() --> Removes all the items from the\n",
    "list."
   ]
  },
  {
   "cell_type": "code",
   "execution_count": 94,
   "id": "036bd301",
   "metadata": {},
   "outputs": [],
   "source": [
    "lst = [1, 2, 3, 4]\n",
    "lst.clear()"
   ]
  },
  {
   "cell_type": "code",
   "execution_count": 96,
   "id": "8aa83b9d",
   "metadata": {},
   "outputs": [
    {
     "data": {
      "text/plain": [
       "[]"
      ]
     },
     "execution_count": 96,
     "metadata": {},
     "output_type": "execute_result"
    }
   ],
   "source": [
    "lst"
   ]
  },
  {
   "cell_type": "markdown",
   "id": "945f0323",
   "metadata": {},
   "source": [
    "count() --> Returns the number of times the\n",
    "element x appears in the list."
   ]
  },
  {
   "cell_type": "code",
   "execution_count": 97,
   "id": "ae3b3c2d",
   "metadata": {},
   "outputs": [
    {
     "data": {
      "text/plain": [
       "4"
      ]
     },
     "execution_count": 97,
     "metadata": {},
     "output_type": "execute_result"
    }
   ],
   "source": [
    "lst = [1, 2, 3, 4, 1, 2, 3, 3, 3, 4, 5, 5]\n",
    "lst.count(3)"
   ]
  },
  {
   "cell_type": "markdown",
   "id": "ed3cbe19",
   "metadata": {},
   "source": [
    "copy () --> This method returns a shallow copy of the list."
   ]
  },
  {
   "cell_type": "code",
   "execution_count": 98,
   "id": "4a071d4c",
   "metadata": {},
   "outputs": [],
   "source": [
    "lst = [1, 2 ,4, 3, 4, 5]\n",
    "lst2 = lst.copy()"
   ]
  },
  {
   "cell_type": "code",
   "execution_count": 99,
   "id": "a28c79fd",
   "metadata": {},
   "outputs": [
    {
     "data": {
      "text/plain": [
       "[1, 2, 4, 3, 4, 5]"
      ]
     },
     "execution_count": 99,
     "metadata": {},
     "output_type": "execute_result"
    }
   ],
   "source": [
    "lst2"
   ]
  },
  {
   "cell_type": "code",
   "execution_count": 101,
   "id": "24c8b5dc",
   "metadata": {},
   "outputs": [],
   "source": [
    "#different way \n",
    "lst = [1, 2 ,4, 3, 4, 5]\n",
    "lst2 = lst[:]"
   ]
  },
  {
   "cell_type": "code",
   "execution_count": 102,
   "id": "27bfbc83",
   "metadata": {},
   "outputs": [
    {
     "data": {
      "text/plain": [
       "[1, 2, 4, 3, 4, 5]"
      ]
     },
     "execution_count": 102,
     "metadata": {},
     "output_type": "execute_result"
    }
   ],
   "source": [
    "lst2"
   ]
  },
  {
   "cell_type": "markdown",
   "id": "7c10fa54",
   "metadata": {},
   "source": [
    "index() --> Returns the index of the first occurrence of the element x from the list"
   ]
  },
  {
   "cell_type": "code",
   "execution_count": 104,
   "id": "b2cdf563",
   "metadata": {},
   "outputs": [
    {
     "data": {
      "text/plain": [
       "4"
      ]
     },
     "execution_count": 104,
     "metadata": {},
     "output_type": "execute_result"
    }
   ],
   "source": [
    "lst = [10, 20, 30, 40, 50]\n",
    "lst.index(50)"
   ]
  },
  {
   "cell_type": "markdown",
   "id": "a255d058",
   "metadata": {},
   "source": [
    "insert() --> Insert the element at a given\n",
    "index."
   ]
  },
  {
   "cell_type": "code",
   "execution_count": 133,
   "id": "60a6a04a",
   "metadata": {},
   "outputs": [],
   "source": [
    "lst = [10, 20, 30, 40]\n",
    "lst.insert(3, 100)"
   ]
  },
  {
   "cell_type": "code",
   "execution_count": 134,
   "id": "14587298",
   "metadata": {},
   "outputs": [
    {
     "data": {
      "text/plain": [
       "[10, 20, 30, 100, 40]"
      ]
     },
     "execution_count": 134,
     "metadata": {},
     "output_type": "execute_result"
    }
   ],
   "source": [
    "lst"
   ]
  },
  {
   "cell_type": "code",
   "execution_count": 135,
   "id": "abfbcbbf",
   "metadata": {},
   "outputs": [],
   "source": [
    "import random\n",
    "for i in range(0, 5):\n",
    "    lst.insert(i, random.randint(0,10))"
   ]
  },
  {
   "cell_type": "code",
   "execution_count": 136,
   "id": "222bda4e",
   "metadata": {},
   "outputs": [
    {
     "name": "stdout",
     "output_type": "stream",
     "text": [
      "[1, 7, 7, 4, 2, 10, 20, 30, 100, 40]\n"
     ]
    }
   ],
   "source": [
    "print(lst)"
   ]
  },
  {
   "cell_type": "markdown",
   "id": "20a2b4f2",
   "metadata": {},
   "source": [
    "pop() --> Removes the element from the\n",
    "given position. Also, it returns\n",
    "the removed element."
   ]
  },
  {
   "cell_type": "code",
   "execution_count": 137,
   "id": "80fd1171",
   "metadata": {},
   "outputs": [
    {
     "data": {
      "text/plain": [
       "3"
      ]
     },
     "execution_count": 137,
     "metadata": {},
     "output_type": "execute_result"
    }
   ],
   "source": [
    "lst = [1, 2, 3, 4, 5, 6]\n",
    "lst.pop(2)"
   ]
  },
  {
   "cell_type": "code",
   "execution_count": 138,
   "id": "91bc3f95",
   "metadata": {},
   "outputs": [
    {
     "data": {
      "text/plain": [
       "[1, 2, 4, 5, 6]"
      ]
     },
     "execution_count": 138,
     "metadata": {},
     "output_type": "execute_result"
    }
   ],
   "source": [
    "lst"
   ]
  },
  {
   "cell_type": "markdown",
   "id": "cb0a76a0",
   "metadata": {},
   "source": [
    "remove() --> Removes the first occurrence of element x from the list"
   ]
  },
  {
   "cell_type": "code",
   "execution_count": 139,
   "id": "9fc55780",
   "metadata": {},
   "outputs": [],
   "source": [
    "lst = [1, 2, 3, 4, 5 ,6, 1, 2, 3, 4, 5]\n",
    "lst.remove(3)"
   ]
  },
  {
   "cell_type": "code",
   "execution_count": 140,
   "id": "8d34a943",
   "metadata": {},
   "outputs": [
    {
     "data": {
      "text/plain": [
       "[1, 2, 4, 5, 6, 1, 2, 3, 4, 5]"
      ]
     },
     "execution_count": 140,
     "metadata": {},
     "output_type": "execute_result"
    }
   ],
   "source": [
    "lst"
   ]
  },
  {
   "cell_type": "code",
   "execution_count": 141,
   "id": "8088255a",
   "metadata": {},
   "outputs": [],
   "source": [
    "lst.reverse() #reverse the elements of the list"
   ]
  },
  {
   "cell_type": "code",
   "execution_count": 142,
   "id": "ca063514",
   "metadata": {},
   "outputs": [
    {
     "data": {
      "text/plain": [
       "[5, 4, 3, 2, 1, 6, 5, 4, 2, 1]"
      ]
     },
     "execution_count": 142,
     "metadata": {},
     "output_type": "execute_result"
    }
   ],
   "source": [
    "lst"
   ]
  },
  {
   "cell_type": "code",
   "execution_count": 144,
   "id": "481908c8",
   "metadata": {},
   "outputs": [],
   "source": [
    "lst.sort() #sort the elements of list"
   ]
  },
  {
   "cell_type": "code",
   "execution_count": 145,
   "id": "824809b7",
   "metadata": {},
   "outputs": [
    {
     "data": {
      "text/plain": [
       "[1, 1, 2, 2, 3, 4, 4, 5, 5, 6]"
      ]
     },
     "execution_count": 145,
     "metadata": {},
     "output_type": "execute_result"
    }
   ],
   "source": [
    "lst"
   ]
  },
  {
   "cell_type": "markdown",
   "id": "ce76c3e5",
   "metadata": {},
   "source": [
    "## Lists and Strings"
   ]
  },
  {
   "cell_type": "code",
   "execution_count": 146,
   "id": "7fbd9a40",
   "metadata": {},
   "outputs": [],
   "source": [
    "string = \"python\"\n",
    "lst = list(string)"
   ]
  },
  {
   "cell_type": "code",
   "execution_count": 147,
   "id": "4f4c9e8a",
   "metadata": {},
   "outputs": [
    {
     "data": {
      "text/plain": [
       "['p', 'y', 't', 'h', 'o', 'n']"
      ]
     },
     "execution_count": 147,
     "metadata": {},
     "output_type": "execute_result"
    }
   ],
   "source": [
    "lst"
   ]
  },
  {
   "cell_type": "code",
   "execution_count": 150,
   "id": "d528a8c2",
   "metadata": {},
   "outputs": [
    {
     "data": {
      "text/plain": [
       "['My', 'Data', 'of', 'Birth', '03', 'June', '1991']"
      ]
     },
     "execution_count": 150,
     "metadata": {},
     "output_type": "execute_result"
    }
   ],
   "source": [
    "#string split in a list\n",
    "P=\"My-Data-of-Birth-03-June-1991\"\n",
    "P.split(\"-\")"
   ]
  },
  {
   "cell_type": "code",
   "execution_count": null,
   "id": "a970621c",
   "metadata": {},
   "outputs": [],
   "source": []
  }
 ],
 "metadata": {
  "kernelspec": {
   "display_name": "Python 3 (ipykernel)",
   "language": "python",
   "name": "python3"
  },
  "language_info": {
   "codemirror_mode": {
    "name": "ipython",
    "version": 3
   },
   "file_extension": ".py",
   "mimetype": "text/x-python",
   "name": "python",
   "nbconvert_exporter": "python",
   "pygments_lexer": "ipython3",
   "version": "3.10.6"
  }
 },
 "nbformat": 4,
 "nbformat_minor": 5
}
