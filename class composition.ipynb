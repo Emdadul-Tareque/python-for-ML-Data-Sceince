{
 "cells": [
  {
   "cell_type": "code",
   "execution_count": 4,
   "metadata": {},
   "outputs": [],
   "source": [
    "class CPU:\n",
    "    def __init__(self, cores):\n",
    "        self.cores = cores\n",
    "        \n",
    "    def working(self):\n",
    "        return f\"CPU is working\"\n",
    "class RAM:\n",
    "    def __init__(self, size):\n",
    "        self.size = size"
   ]
  },
  {
   "cell_type": "code",
   "execution_count": 11,
   "metadata": {},
   "outputs": [],
   "source": [
    "#has a relation is compotition\n",
    "#computer has a cpu\n",
    "#computer has a ram\n",
    "class Computer:\n",
    "    def __init__(self, cores, ram_size):\n",
    "        self.cpu = CPU(cores)\n",
    "        self.ram = RAM(ram_size)\n",
    "    def working(self):\n",
    "        return self.cpu.working()"
   ]
  },
  {
   "cell_type": "code",
   "execution_count": 12,
   "metadata": {},
   "outputs": [],
   "source": [
    "pc = Computer(8, 512)"
   ]
  },
  {
   "cell_type": "code",
   "execution_count": 13,
   "metadata": {},
   "outputs": [
    {
     "data": {
      "text/plain": [
       "'CPU is working'"
      ]
     },
     "execution_count": 13,
     "metadata": {},
     "output_type": "execute_result"
    }
   ],
   "source": [
    "pc.working()"
   ]
  },
  {
   "cell_type": "raw",
   "metadata": {},
   "source": [
    "যখন একটা ক্লাসকে ইনহেরিন্ট না করেই সেই ক্লাসের জিনিসগুলো এক্সেস করা লাগে তখন ক্লাস কম্পোজিট কনসেপ্ট ব্যবহার করা হয়। \n",
    "একটা ক্লাসের আমার সকল কিছু ইনহেরিন্ট করা লাগবে না, ঐ ক্লাসের কিছু জিনিস আমার কাজে লাগবে তখন ইনহেরিন্ট না করে ক্লাস কম্পোজিট কনসেপ্ট ব্যবহার করা হয়। "
   ]
  }
 ],
 "metadata": {
  "kernelspec": {
   "display_name": "Python 3",
   "language": "python",
   "name": "python3"
  },
  "language_info": {
   "codemirror_mode": {
    "name": "ipython",
    "version": 3
   },
   "file_extension": ".py",
   "mimetype": "text/x-python",
   "name": "python",
   "nbconvert_exporter": "python",
   "pygments_lexer": "ipython3",
   "version": "3.7.3"
  }
 },
 "nbformat": 4,
 "nbformat_minor": 2
}
